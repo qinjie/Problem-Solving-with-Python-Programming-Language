{
 "cells": [
  {
   "cell_type": "markdown",
   "metadata": {
    "slideshow": {
     "slide_type": "slide"
    }
   },
   "source": [
    "# Control Flow Statements (Part 2)\n",
    "\n",
    "* For-Loops\n",
    "* While-loops"
   ]
  },
  {
   "cell_type": "markdown",
   "metadata": {},
   "source": [
    "## 1. While-Loop\n",
    "\n",
    "Python provides several constructs to repeatedly executes block of statements so long as some conditions remain true.\n",
    "* **`while`** loop\n",
    "* **`for`** loop"
   ]
  },
  {
   "cell_type": "markdown",
   "metadata": {},
   "source": [
    "### 1.1 While-Loop\n",
    "\n",
    "As long as `condition` remains `True`, `statement` will be executed repeatedly, i.e. in infinite loop. \n",
    "* It is important that the condition will eventually become `False`\n",
    "* The statement may not execute at all if condition is `False`\n",
    "\n",
    "```Python\n",
    "while <condition>:\n",
    "    <statement>\n",
    "    <update-condition>\n",
    "```\n",
    "\n",
    "**Try Code:**\n",
    "```python\n",
    "i = 0\n",
    "while i < 3:\n",
    "    print(i)\n",
    "    i = i + 1\n",
    "\n",
    "print('the end')\n",
    "```"
   ]
  },
  {
   "cell_type": "code",
   "execution_count": null,
   "metadata": {},
   "outputs": [],
   "source": []
  },
  {
   "cell_type": "markdown",
   "metadata": {},
   "source": [
    "**Exercise:**\n",
    "\n",
    "Sum up all values in a list `data = [1,2,3,4]` using `while-loop`. Print out the result `Sum of [1, 2, 3, 4] = 10`."
   ]
  },
  {
   "cell_type": "code",
   "execution_count": null,
   "metadata": {},
   "outputs": [],
   "source": []
  },
  {
   "cell_type": "markdown",
   "metadata": {},
   "source": [
    "### 1.2 Break from Loop\n",
    "\n",
    "If we set the `condition` to `True`, the while-loop becomes a infinite loop.\n",
    "\n",
    "```python\n",
    "while True:\n",
    "    <statement_1>\n",
    "```"
   ]
  },
  {
   "cell_type": "markdown",
   "metadata": {},
   "source": [
    "To break out from a while-loop, use `break` clause. It is commonly used together with an `if` statement.   \n",
    "* If `condition` is `True`, execution will break from the while loop and `statement_2` will not be executed.\n",
    "\n",
    "```Python\n",
    "while True:\n",
    "    <statement_1>\n",
    "    if <condition>:\n",
    "        break\n",
    "    <statement_2>\n",
    "```\n",
    "\n",
    "**Try Code:**\n",
    "```\n",
    "i = 0\n",
    "while True:\n",
    "    print(i, end=' ')\n",
    "    if i>=4:\n",
    "        break\n",
    "    i = i + 1\n",
    "```"
   ]
  },
  {
   "cell_type": "code",
   "execution_count": null,
   "metadata": {},
   "outputs": [],
   "source": []
  },
  {
   "cell_type": "markdown",
   "metadata": {},
   "source": [
    "**Exercise:**\n",
    "\n",
    "Ask user to input a list of messages, stop when user enters a entry message. Print out the list of messages.\n",
    "\n",
    "<u>Sample Outputs:</u>\n",
    "```\n",
    "Type multiple lines of messages: (Enter empty string to end)\n",
    "Hello world\n",
    "Hi there\n",
    "\n",
    "['Hello world', 'Hi there']\n",
    "```"
   ]
  },
  {
   "cell_type": "code",
   "execution_count": null,
   "metadata": {},
   "outputs": [],
   "source": []
  },
  {
   "cell_type": "markdown",
   "metadata": {},
   "source": [
    "### 1.3 Skip An Iteration\n",
    "\n",
    "While in the loop, you can use `continue` clause to skip current iteration and continue to the next iteration.\n",
    "\n",
    "```Python\n",
    "while <condition_1>:\n",
    "    <statement_1>\n",
    "    if <condition_2>:\n",
    "        continue # Skip current iteration\n",
    "    <statement_2>\n",
    "```\n",
    "\n",
    "**Try Code:**\n",
    "Print out all odd numbers below 10.\n",
    "```\n",
    "i = 0\n",
    "while i < 10:\n",
    "    i = i + 1\n",
    "    if i % 2 == 0:\n",
    "        continue\n",
    "    print(i, end = ' ')\n",
    "```"
   ]
  },
  {
   "cell_type": "code",
   "execution_count": null,
   "metadata": {},
   "outputs": [],
   "source": []
  },
  {
   "cell_type": "markdown",
   "metadata": {},
   "source": [
    "**Exercise:**\n",
    "\n",
    "Ask user to input 3 positive numbers. Use `while-loop` to collect the numbers, skip if user enter negative number.\n",
    "```\n",
    "Enter 3 positive numbers:\n",
    "10\n",
    "-5\n",
    "Positive value only\n",
    "20\n",
    "30\n",
    "[10, 20, 30]\n",
    "```"
   ]
  },
  {
   "cell_type": "code",
   "execution_count": null,
   "metadata": {},
   "outputs": [],
   "source": []
  },
  {
   "cell_type": "markdown",
   "metadata": {},
   "source": [
    "### 1.4 What Else if Loop Ends *Naturally* (Optional)\n",
    "\n",
    "Use `else` clause to execute some statements when the `while` loop terminates *naturally*.\n",
    "\n",
    "```Python\n",
    "while <condition>:\n",
    "    <statement>\n",
    "else:\n",
    "    <statement> # Execute at the end of the last iteraction\n",
    "```\n",
    "\n",
    "**Try Out:**\n",
    "\n",
    "Try running following code; Uncomment the 3 lines and try again.\n",
    "\n",
    "```python\n",
    "data = [1,2,3,4,5]\n",
    "sum = 0\n",
    "\n",
    "i = 0\n",
    "while i < len(data):\n",
    "    sum = sum + data[i]\n",
    "    i += 1\n",
    "#     if i == 3:\n",
    "#         print('break out of while')\n",
    "#         break\n",
    "else:  # These statements are executed at the end of the loop\n",
    "    print(sum)\n",
    "```"
   ]
  },
  {
   "cell_type": "code",
   "execution_count": null,
   "metadata": {
    "slideshow": {
     "slide_type": "slide"
    }
   },
   "outputs": [],
   "source": []
  },
  {
   "cell_type": "markdown",
   "metadata": {},
   "source": [
    "## 2. For-Loop\n",
    "\n",
    "A `for` loop provides a mean to perform actions for all items in an iterables.  \n",
    "\n",
    "Iterables can be strings, tuples, lists, dictionaries, ranges, etc.\n",
    "\n",
    "```Python\n",
    "for <item> in <iterable>:\n",
    "    statement\n",
    "```\n",
    "\n",
    "**Try Code:**\n",
    "```\n",
    "for x in [1,2,3]:\n",
    "    print(x, end=' ')\n",
    "```"
   ]
  },
  {
   "cell_type": "code",
   "execution_count": null,
   "metadata": {},
   "outputs": [],
   "source": []
  },
  {
   "cell_type": "markdown",
   "metadata": {},
   "source": [
    "Loops can be nested together.\n",
    "\n",
    "```python\n",
    "for <item> in <iterable>:\n",
    "    for <item> in <iterable>:\n",
    "        <statement>\n",
    "```\n",
    "\n",
    "**Exercise:**\n",
    "\n",
    "Use nested loop to print nested list `num = [[1,2,3],[4,5,6,7],[8,9]]`.\n",
    "\n",
    "<u>Output:</u>\n",
    "```\n",
    "1 2 3 \n",
    "4 5 6 7 \n",
    "8 9 \n",
    "```"
   ]
  },
  {
   "cell_type": "code",
   "execution_count": null,
   "metadata": {},
   "outputs": [],
   "source": []
  },
  {
   "cell_type": "markdown",
   "metadata": {},
   "source": [
    "### 2.1 Function `range()`\n",
    "\n",
    "The `range()` function is used to generate a sequence of numbers. It takes in parameter `start`, `stop` and `step`\n",
    "\n",
    "```python\n",
    "range([start,] stop [, step]) -> range object\n",
    "```\n",
    "\n",
    "* The `start` parameter is optional, with default value = 0\n",
    "* The `stop` value is an exclusive bound\n",
    "* The `step` parameter is optional, with default value = 1"
   ]
  },
  {
   "cell_type": "markdown",
   "metadata": {},
   "source": [
    "`range(5)` generates numbers between 0 and 4. \n",
    "* Start value = 0\n",
    "* Stop value = 5\n",
    "* Step value = 1\n",
    "\n",
    "A `range` object can be converted to `list` object using `list()`."
   ]
  },
  {
   "cell_type": "code",
   "execution_count": null,
   "metadata": {},
   "outputs": [],
   "source": [
    "r = range(5)\n",
    "print(type(r))\n",
    "print(list(r))"
   ]
  },
  {
   "cell_type": "markdown",
   "metadata": {},
   "source": [
    "**Exercise:**\n",
    "\n",
    "Generate a list of integer numbers between 5 and 9."
   ]
  },
  {
   "cell_type": "code",
   "execution_count": null,
   "metadata": {},
   "outputs": [],
   "source": []
  },
  {
   "cell_type": "markdown",
   "metadata": {},
   "source": [
    "**Exercise:**\n",
    "\n",
    "Generate a list of even numbers between 20 and 30."
   ]
  },
  {
   "cell_type": "code",
   "execution_count": null,
   "metadata": {},
   "outputs": [],
   "source": []
  },
  {
   "cell_type": "markdown",
   "metadata": {},
   "source": [
    "### 2.2 Use `range()` in For Loop\n",
    "\n",
    "It's common to use range to setup iteration in for-loop. \n",
    "* For-loop automatically convert `range` object to `iterable` object, and iterate through its elements.\n",
    "\n",
    "**Try Code:**\n",
    "```\n",
    "for i in range(5):\n",
    "    print(i, end=' ')\n",
    "```"
   ]
  },
  {
   "cell_type": "code",
   "execution_count": null,
   "metadata": {},
   "outputs": [],
   "source": []
  },
  {
   "cell_type": "markdown",
   "metadata": {},
   "source": [
    "### 2.3 Break from Loop \n",
    "\n",
    "The same `break` clause can be used to break out of `for` loop.  \n",
    "\n",
    "```Python\n",
    "for <item> in <iterable>:\n",
    "    statements\n",
    "    if <condition>:\n",
    "        break  # Break the iteration\n",
    "    statements\n",
    "```"
   ]
  },
  {
   "cell_type": "markdown",
   "metadata": {},
   "source": [
    "**Exercise:**\n",
    "\n",
    "Find first integer can be divided by 2, 3 and 5."
   ]
  },
  {
   "cell_type": "code",
   "execution_count": null,
   "metadata": {},
   "outputs": [],
   "source": []
  },
  {
   "cell_type": "markdown",
   "metadata": {},
   "source": [
    "**Exercise:**\n",
    "\n",
    "Use nested-for loop to print following patterns.\n",
    "```\n",
    "1 \n",
    "1 2 \n",
    "1 2 3 \n",
    "1 2 3 4 \n",
    "1 2 3 4 5 \n",
    "1 2 3 4 5 6 \n",
    "1 2 3 4 5 6 7 \n",
    "1 2 3 4 5 6 7 8 \n",
    "1 2 3 4 5 6 7 8 9 \n",
    "```"
   ]
  },
  {
   "cell_type": "code",
   "execution_count": null,
   "metadata": {},
   "outputs": [],
   "source": []
  },
  {
   "cell_type": "markdown",
   "metadata": {},
   "source": [
    "### 2.4 Skip an Iteration\n",
    "\n",
    "Use `continue` clause to terminate current iteration and continue to the next iteration of the loop.\n",
    "\n",
    "```Python\n",
    "for <item> in <iterable>:\n",
    "    statements\n",
    "    if <condition>:\n",
    "        continue  # Skip current iteration\n",
    "    statements\n",
    "```"
   ]
  },
  {
   "cell_type": "markdown",
   "metadata": {},
   "source": [
    "**Exercise:**\n",
    "\n",
    "Print all numbers between 1 and 99 which can be divided by 2, 3 and 5. "
   ]
  },
  {
   "cell_type": "code",
   "execution_count": null,
   "metadata": {},
   "outputs": [],
   "source": []
  },
  {
   "cell_type": "markdown",
   "metadata": {},
   "source": [
    "### 2.5 What Else if Loop Ends *Naturally* (Optional)\n",
    "\n",
    "Use `else` clause to execute some statements when the `for` loop terminates *naturally*.\n",
    "\n",
    "```Python\n",
    "for <item> in <iterable>:\n",
    "    statements\n",
    "else:\n",
    "    statements # Execute after last iteraction\n",
    "```\n"
   ]
  },
  {
   "cell_type": "markdown",
   "metadata": {},
   "source": [
    "**Try Code:**\n",
    "\n",
    "Try following code. Uncomment 3 lines and try again. Is the sum still printed out?\n",
    "\n",
    "```\n",
    "data = [1,2,3,4,5,6,7,8,9,10]\n",
    "sum = 0\n",
    "\n",
    "for n in data:\n",
    "    sum += n\n",
    "#     if n > 5:\n",
    "#         print('Break out of loop')\n",
    "#         break\n",
    "else:\n",
    "    print(sum)\n",
    "```"
   ]
  },
  {
   "cell_type": "code",
   "execution_count": null,
   "metadata": {},
   "outputs": [],
   "source": []
  }
 ],
 "metadata": {
  "kernelspec": {
   "display_name": "Python 3",
   "language": "python",
   "name": "python3"
  },
  "language_info": {
   "codemirror_mode": {
    "name": "ipython",
    "version": 3
   },
   "file_extension": ".py",
   "mimetype": "text/x-python",
   "name": "python",
   "nbconvert_exporter": "python",
   "pygments_lexer": "ipython3",
   "version": "3.7.3"
  }
 },
 "nbformat": 4,
 "nbformat_minor": 2
}
