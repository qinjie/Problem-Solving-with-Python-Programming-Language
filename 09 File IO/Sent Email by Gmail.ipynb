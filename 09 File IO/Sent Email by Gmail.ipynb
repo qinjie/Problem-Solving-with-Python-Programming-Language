{
 "cells": [
  {
   "cell_type": "markdown",
   "metadata": {},
   "source": [
    "# Send Email"
   ]
  },
  {
   "cell_type": "markdown",
   "metadata": {},
   "source": [
    "## 1. Functions for Sending Gmail"
   ]
  },
  {
   "cell_type": "code",
   "execution_count": 22,
   "metadata": {},
   "outputs": [],
   "source": [
    "import smtplib\n",
    "import os\n",
    "from email.mime.multipart import MIMEMultipart\n",
    "from email.mime.text import MIMEText\n",
    "from email.mime.base import MIMEBase\n",
    "from email import encoders\n",
    "\n",
    "def compose_email(from_address, to_address, subject='Testing Mail', \n",
    "                  content='', content_type='plain', attach_file=None):\n",
    "    #header\n",
    "    message = MIMEMultipart()\n",
    "    message['From'] = from_address\n",
    "    message['To'] = to_address\n",
    "    message['Subject'] = subject\n",
    "\n",
    "    #body\n",
    "    message.attach(MIMEText(content, content_type))\n",
    "    \n",
    "    if attach_file is not None:\n",
    "        #prepare attachment\n",
    "        attach_file_name = attach_file\n",
    "        attach_file = open(attach_file_name, 'rb') # Open the file as binary mode\n",
    "        payload = MIMEBase('application', 'octate-stream')\n",
    "        payload.set_payload((attach_file).read())\n",
    "        encoders.encode_base64(payload) #encode the attachment\n",
    "\n",
    "        #add payload header with filename\n",
    "        payload.add_header('Content-Disposition', 'attachment', filename=os.path.basename(attach_file_name))\n",
    "        message.attach(payload)\n",
    "\n",
    "    return message\n",
    "\n",
    "def send_email(message, receiver_address, sender_address, sender_pass):\n",
    "    try:\n",
    "        #Create SMTP session for sending the mail\n",
    "        session = smtplib.SMTP('smtp.gmail.com', 587) #use gmail with port\n",
    "        session.starttls() #enable security\n",
    "        session.login(sender_address, sender_pass) #login with mail_id and password\n",
    "        text = message.as_string()\n",
    "        session.sendmail(sender_address, receiver_address, text)\n",
    "        session.quit()\n",
    "        print('Mail Sent')\n",
    "        return True\n",
    "    except Exception as e:\n",
    "        print(e)\n",
    "        print('Mail sending failed')\n",
    "        return False\n"
   ]
  },
  {
   "cell_type": "markdown",
   "metadata": {},
   "source": [
    "## 2. Test Send Email"
   ]
  },
  {
   "cell_type": "code",
   "execution_count": 36,
   "metadata": {},
   "outputs": [
    {
     "name": "stdout",
     "output_type": "stream",
     "text": [
      "Mail Server Password: qwer1234asdf\n",
      "Mail Sent\n"
     ]
    },
    {
     "data": {
      "text/plain": [
       "True"
      ]
     },
     "execution_count": 36,
     "metadata": {},
     "output_type": "execute_result"
    }
   ],
   "source": [
    "#The mail addresses and password\n",
    "sender_address = 'npsoesmarties@gmail.com'\n",
    "sender_pass = input('Mail Server Password: ')\n",
    "\n",
    "receiver_address = 'mark.qj@gmail.com'\n",
    "mail_content = '''Testing'''\n",
    "\n",
    "message = compose_email(from_address=sender_address, to_address=receiver_address,\n",
    "                       content=mail_content, attach_file='Zhang Qinjie.pdf')\n",
    "\n",
    "send_email(message, receiver_address = receiver_address, \n",
    "            sender_address=sender_address, sender_pass=sender_pass)"
   ]
  },
  {
   "cell_type": "markdown",
   "metadata": {},
   "source": [
    "## 3. Send Batch Emails"
   ]
  },
  {
   "cell_type": "markdown",
   "metadata": {},
   "source": [
    "Read from tab-delimited file"
   ]
  },
  {
   "cell_type": "code",
   "execution_count": 32,
   "metadata": {
    "scrolled": true
   },
   "outputs": [
    {
     "name": "stdout",
     "output_type": "stream",
     "text": [
      "Ong Eldwen ong_eldwen@schools.gov.sg\n",
      "Ling Hwee Cheng ling_hwee_cheng@moe.edu.sg\n",
      "Kwek Yuan Chia kwek_yuan_chia@schools.gov.sg\n",
      "Wang Muran wang_muran@schools.gov.sg\n",
      "Beertino Romerow Woe beertino_romerow_woe@schools.gov.sg\n",
      "Chew Yi Yang chew_yi_yang@schools.gov.sg\n",
      "Fong Shi Ning fong_shi_ning@moe.edu.sg\n",
      "Phua Yong Bin phua_yong_bin@moe.edu.sg\n",
      "Jean Foo Min jean.foo@pathlight.org.sg\n",
      "Cheng Shing Kim cheng_shing_kim@schools.gov.sg\n",
      "Syed Salleh Syed_salleh@schools.gov.sg\n",
      "Tan Tat Hock Tan_tat_hock@schools.gov.sg\n",
      "Ng Jenn Yang ng_jenn_yang@schools.gov.sg\n",
      "Chin Zhi Hao chin_zhi_hao@moe.edu.sg\n",
      "Wong Wei Kit Derrick wong.weikit.derrick@vjc.sg\n"
     ]
    }
   ],
   "source": [
    "import csv\n",
    "from collections import namedtuple\n",
    "\n",
    "Teacher = namedtuple('Teacher', ['name', 'email'])\n",
    "\n",
    "with open('name_list.tsv') as file:\n",
    "    reader = csv.reader(file, delimiter='\\t')\n",
    "#     data = [r for r in reader]\n",
    "    data = [Teacher(r[0].strip(), r[1].strip()) for r in reader]\n",
    "\n",
    "# print(data)\n",
    "for r in data:\n",
    "    print(r.name, r.email)\n",
    "    "
   ]
  },
  {
   "cell_type": "code",
   "execution_count": 31,
   "metadata": {},
   "outputs": [
    {
     "name": "stdout",
     "output_type": "stream",
     "text": [
      "True Ong Eldwen\n",
      "True Ling Hwee Cheng\n",
      "True Kwek Yuan Chia\n",
      "True Wang Muran\n",
      "True Beertino Romerow Woe\n",
      "True Chew Yi Yang\n",
      "True Fong Shi Ning\n",
      "True Phua Yong Bin\n",
      "True Jean Foo Min\n",
      "True Cheng Shing Kim\n",
      "True Syed Salleh\n",
      "True Tan Tat Hock\n",
      "True Ng Jenn Yang\n",
      "True Chin Zhi Hao\n",
      "True Wong Wei Kit Derrick\n"
     ]
    }
   ],
   "source": [
    "import os\n",
    "\n",
    "for r in data:\n",
    "    x = os.path.exists(r.name + '.pdf')\n",
    "    print(x, r.name)"
   ]
  },
  {
   "cell_type": "markdown",
   "metadata": {},
   "source": [
    "Send email by batch"
   ]
  },
  {
   "cell_type": "code",
   "execution_count": 33,
   "metadata": {},
   "outputs": [
    {
     "name": "stdout",
     "output_type": "stream",
     "text": [
      "Mail Sent\n",
      "Mail Sent\n",
      "Mail Sent\n",
      "Mail Sent\n",
      "Mail Sent\n",
      "Mail Sent\n",
      "Mail Sent\n",
      "Mail Sent\n",
      "Mail Sent\n",
      "Mail Sent\n",
      "Mail Sent\n",
      "Mail Sent\n",
      "Mail Sent\n",
      "Mail Sent\n",
      "Mail Sent\n"
     ]
    }
   ],
   "source": [
    "#The mail addresses and password\n",
    "sender_address = 'npsoesmarties@gmail.com'\n",
    "sender_pass = input('Mail Server Password: ')\n",
    "\n",
    "for r in data:\n",
    "    subject = 'Python Test 1'\n",
    "    mail_content = r.name\n",
    "\n",
    "    message = compose_email(from_address=sender_address, to_address=r.email, \n",
    "                            subject=subject, content=mail_content, \n",
    "                            attach_file=r.name + '.pdf')\n",
    "\n",
    "    send_email(message, receiver_address=r.email, \n",
    "               sender_address=sender_address, sender_pass=sender_pass)\n"
   ]
  }
 ],
 "metadata": {
  "kernelspec": {
   "display_name": "Python 3",
   "language": "python",
   "name": "python3"
  },
  "language_info": {
   "codemirror_mode": {
    "name": "ipython",
    "version": 3
   },
   "file_extension": ".py",
   "mimetype": "text/x-python",
   "name": "python",
   "nbconvert_exporter": "python",
   "pygments_lexer": "ipython3",
   "version": "3.7.3"
  }
 },
 "nbformat": 4,
 "nbformat_minor": 2
}
