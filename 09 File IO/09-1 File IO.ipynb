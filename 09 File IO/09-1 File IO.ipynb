{
 "cells": [
  {
   "cell_type": "markdown",
   "metadata": {},
   "source": [
    "# File IO\n",
    "\n",
    "You will learn about Python file operations. More specifically, opening a file, reading from it, writing into it, closing it and various file methods."
   ]
  },
  {
   "cell_type": "markdown",
   "metadata": {},
   "source": [
    "#### Write a Cell to File in Jupytor Notebook\n",
    "\n",
    "Jupyter Notebook provides a magic function `%%file` to export the content in a cell to a file.\n",
    "* <u>Note:</u> Any magic function staring with `%%` must be at first line of the cell, and it is applied to all lines below it. "
   ]
  },
  {
   "cell_type": "markdown",
   "metadata": {},
   "source": [
    "**Try Code:**\n",
    "\n",
    "Create a file `quote.txt` by running following code.\n",
    "\n",
    "```\n",
    "%%file 'quote.txt'\n",
    "Give a man a program, frustrate him for a day.\n",
    "Teach a man to program, frustrate him for a lifetime.\n",
    "```"
   ]
  },
  {
   "cell_type": "code",
   "execution_count": null,
   "metadata": {},
   "outputs": [],
   "source": []
  },
  {
   "cell_type": "markdown",
   "metadata": {},
   "source": [
    "## 1. Introduction\n",
    "\n",
    "### What is File?\n",
    "\n",
    "File is a named location on disk to store related information. \n",
    "* It uses non-volatile memory, e.g. hard disk, to store data permanently.\n",
    "\n",
    "A file operation takes place in following order:\n",
    "* Open a file\n",
    "* Read or Write (perform operations)\n",
    "* Close the file\n",
    "\n",
    "A file can be **text** or **binary** format."
   ]
  },
  {
   "cell_type": "markdown",
   "metadata": {},
   "source": [
    "### Open File\n",
    "\n",
    "Python has a built-in function `open(file_path)` to open a file. \n",
    "* The `open()` function returns a file object, also called a file handler, as it is used to read or modify the file accordingly.\n",
    "\n",
    "To read data from a file object, use its `read()` method.\n",
    "\n",
    "To close a file object, uses its `close()` method."
   ]
  },
  {
   "cell_type": "markdown",
   "metadata": {},
   "source": [
    "**Exercise:**\n",
    "\n",
    "Read and print out content in file `quote.txt`, which is created in previous step."
   ]
  },
  {
   "cell_type": "code",
   "execution_count": null,
   "metadata": {
    "scrolled": true
   },
   "outputs": [],
   "source": []
  },
  {
   "cell_type": "markdown",
   "metadata": {},
   "source": [
    "**Question:**\n",
    "\n",
    "What is the object type of a file handler, e.g. object `f`?"
   ]
  },
  {
   "cell_type": "code",
   "execution_count": null,
   "metadata": {},
   "outputs": [],
   "source": []
  },
  {
   "cell_type": "markdown",
   "metadata": {},
   "source": [
    "**Question:**\n",
    "\n",
    "What will be the returned value of `read()` function when the function is called second time?"
   ]
  },
  {
   "cell_type": "code",
   "execution_count": null,
   "metadata": {},
   "outputs": [],
   "source": []
  },
  {
   "cell_type": "markdown",
   "metadata": {},
   "source": [
    "#### Filepath\n",
    "The `filepath` can be a relative or absolute path. \n",
    "* If only file name is specified, Python assume the file is in the same folder as current Python kernel\n",
    "* When specifying full path, use `/` instead of `\\`, which is used as escape character in string"
   ]
  },
  {
   "cell_type": "code",
   "execution_count": null,
   "metadata": {
    "scrolled": false
   },
   "outputs": [],
   "source": []
  },
  {
   "cell_type": "markdown",
   "metadata": {},
   "source": [
    "**Question:** \n",
    "\n",
    "What if I foget to close the file?  \n"
   ]
  },
  {
   "cell_type": "raw",
   "metadata": {},
   "source": []
  },
  {
   "cell_type": "markdown",
   "metadata": {},
   "source": [
    "## 2. Context Manager (Optional)\n",
    "\n",
    "### What is Context Manger?\n",
    "\n",
    "Programming commonly involves usage of resources, e.g. file operations, network and database connections etc. It's important to release these resources after usage because they may be limited in supply.\n",
    "* **Context manager** is a mechanism in Python for the automatic setup and teardown of resources.\n",
    "* When an object (function or class) is implemented as a Context Manager, it can be used by **`with`** operator. \n",
    "\n",
    "The file `open()` method is implemented as a Context Manager.\n",
    "* With context manager, `f.close()` will be automatically called when `with` code block exits.\n",
    "* You can use `f.closed` attribute to check if a file object is closed."
   ]
  },
  {
   "cell_type": "markdown",
   "metadata": {},
   "source": [
    "**Try Code:**\n",
    "\n",
    "Use `with` code block to read and print out the content of file `quote.txt`.\n",
    "\n",
    "```python\n",
    "with open('quote.txt') as f:\n",
    "    print(f.read())\n",
    "\n",
    "# check if the file is closed\n",
    "print(f.closed)\n",
    "```"
   ]
  },
  {
   "cell_type": "code",
   "execution_count": null,
   "metadata": {},
   "outputs": [],
   "source": []
  },
  {
   "cell_type": "markdown",
   "metadata": {},
   "source": [
    "### Custom Context Manager\n",
    "\n",
    "You can make your function to work with context manager using decorator `@contextmanager`, which is from built-in module `contextlib`.\n",
    "* Add `@contextmanager` decorator to the function\n",
    "* Add `yield` statement to a position in the function\n",
    "* Statements before `yield` will be run before the `with` code block \n",
    "* Statements after `yield` will be run after the `with` code block"
   ]
  },
  {
   "cell_type": "markdown",
   "metadata": {},
   "source": [
    "**Exercise:**\n",
    "\n",
    "Imagine you would like to have a meal in harker center. You need to reserve a seat first before your meal. You also need to return the seat after your meal.\n",
    "\n",
    "Define a function `chope_seat()` which implements context manager. It will \n",
    "* Reserve a seat by printing `Chope a seat...` before `with` code block exection\n",
    "* Release the seat by printing `Give up the seat...` after `with` code block execution\n",
    "\n",
    "<u>Sample Output:</u>\n",
    "```\n",
    "Chope a seat...\n",
    "Enjoy my meal\n",
    "Give up the seat...\n",
    "```"
   ]
  },
  {
   "cell_type": "code",
   "execution_count": null,
   "metadata": {},
   "outputs": [],
   "source": []
  },
  {
   "cell_type": "markdown",
   "metadata": {},
   "source": [
    "### Custom Context Manager with Return Object\n",
    "\n",
    "The `yield` function can return an object to the `with` statement\n",
    "\n",
    "\n",
    "**Try Code:**\n",
    "\n",
    "Following function `my_open()` is mimicking the `open()` function. It is implemented using `@contextmanager` decorator.\n",
    "\n",
    "```python\n",
    "from contextlib import contextmanager\n",
    "\n",
    "@contextmanager\n",
    "def my_open(filename, mode):\n",
    "    print('openning')\n",
    "    f = open(filename, mode)\n",
    "    yield f\n",
    "    print('closing')\n",
    "    f.close()\n",
    "    \n",
    "with my_open('test.txt', 'w') as f:\n",
    "    print('using file')\n",
    "    f.write('Test context manager')\n",
    "```"
   ]
  },
  {
   "cell_type": "code",
   "execution_count": null,
   "metadata": {},
   "outputs": [],
   "source": []
  },
  {
   "cell_type": "markdown",
   "metadata": {},
   "source": [
    "## 3. Operation Mode\n",
    "\n",
    "You can specify the mode used to open a file by applying a second argument to the open function.\n",
    "* `r`/`w`/`a`: Are you reading, writing or appending a file?\n",
    "* `t`/`b`: Is it a text or binary file?\n",
    "\n",
    "```python\n",
    "f = open(filepath, mode)\n",
    "```\n",
    "\n",
    "### Read / Write / Append\n",
    "The `mode` specifies how you want to work with the file.\n",
    "* `'r'`: read mode, which is the default. \n",
    "* `'w'`: write mode, for overwriting the contents of a file. Existing file content will be lost.\n",
    "* `'a'`: append mode, for appending new content to the end of the file. Existing content in the file will not be lost."
   ]
  },
  {
   "cell_type": "markdown",
   "metadata": {},
   "source": [
    "**Exercise:**\n",
    "\n",
    "Complete following operations using `with` code block:\n",
    "* Write `\"Alexa, \"` to a file `test.txt`. This operator will overwrite any content in the file.\n",
    "* Append `\"Good morning!\\n\"` to the file `test.txt`.\n",
    "* Append `\"What time is it?\"` to the file `test.txt`.\n",
    "* Read and print out content from the file `test.txt`."
   ]
  },
  {
   "cell_type": "code",
   "execution_count": null,
   "metadata": {},
   "outputs": [],
   "source": []
  },
  {
   "cell_type": "markdown",
   "metadata": {},
   "source": [
    "### Read by Characters\n",
    "\n",
    "The `read()` method also accepts an argument which specifies the number of character to read.\n",
    "* Without this argument, it will read till EOF.\n",
    "\n",
    "Check out the documentation of of `read()`.\n",
    "\n",
    "```\n",
    "f.read?\n",
    "```"
   ]
  },
  {
   "cell_type": "code",
   "execution_count": null,
   "metadata": {},
   "outputs": [],
   "source": []
  },
  {
   "cell_type": "markdown",
   "metadata": {},
   "source": [
    "**Try Code:**\n",
    "\n",
    "```python\n",
    "with open('test.txt', 'r') as f:\n",
    "    print(repr(f.read(10)))\n",
    "    print(repr(f.read(10)))\n",
    "    print(repr(f.read()))\n",
    "```\n",
    "\n",
    "The `repr()` function will represent special characters as symbols in a string. It helps to print string unambigously.\n"
   ]
  },
  {
   "cell_type": "code",
   "execution_count": null,
   "metadata": {},
   "outputs": [],
   "source": []
  },
  {
   "cell_type": "markdown",
   "metadata": {},
   "source": [
    "### Write a String\n",
    "The `write()` method returns number of characters written to the file.\n",
    "* <u>Note:</u> It counts special characters too.\n",
    "\n",
    "**Try Code:**\n",
    "```python\n",
    "s = \"Alexa\\tGood morning!\\nWhat time is it?\"\n",
    "print(len(s))\n",
    "with open(\"test.txt\", \"w\") as f:\n",
    "    x = f.write(s)\n",
    "    print(x)\n",
    "```"
   ]
  },
  {
   "cell_type": "code",
   "execution_count": null,
   "metadata": {},
   "outputs": [],
   "source": []
  },
  {
   "cell_type": "markdown",
   "metadata": {},
   "source": [
    "Open the file `test.txt` and examine text inside it. All special characters are handled properly.\n",
    "\n",
    "**Try Code:**\n",
    "```bash\n",
    "!notepad test.txt\n",
    "```"
   ]
  },
  {
   "cell_type": "code",
   "execution_count": null,
   "metadata": {},
   "outputs": [],
   "source": []
  },
  {
   "cell_type": "markdown",
   "metadata": {},
   "source": [
    "**Question:**\n",
    "* What happens if you open a non-existing file in `read` mode?\n",
    "* What happens if you open a non-existing file in `write` mode?\n",
    "* What happens if you open a non-existing file in `append` mode?\n",
    "* What happens if you open an existing file with mode `write` and close immediately?"
   ]
  },
  {
   "cell_type": "raw",
   "metadata": {},
   "source": []
  },
  {
   "cell_type": "markdown",
   "metadata": {},
   "source": [
    "### Read by Lines"
   ]
  },
  {
   "cell_type": "markdown",
   "metadata": {},
   "source": [
    "Compared to `read()` function, which return all content in a single string, the `readlines()` function returns a list, where each item contains a line.\n",
    "\n",
    "**NOTE:** No character is removed, e.g. new line character `\\n` at the end of a line.\n",
    "\n",
    "**Try Code:**\n",
    "\n",
    "```python\n",
    "with open('test.txt') as f:\n",
    "    s = f.read()\n",
    "    print(repr(s))\n",
    "\n",
    "with open('test.txt', 'r') as f:\n",
    "    s = f.readlines()\n",
    "    print(s)\n",
    "```\n"
   ]
  },
  {
   "cell_type": "code",
   "execution_count": null,
   "metadata": {
    "scrolled": false
   },
   "outputs": [],
   "source": []
  },
  {
   "cell_type": "markdown",
   "metadata": {},
   "source": [
    "In fact, file object can be passed directly to `for-loop`, which will iterate through the file line by line.\n",
    "\n",
    "**Try Code:**\n",
    "\n",
    "```python\n",
    "f = open('test.txt')\n",
    "\n",
    "for i in f:\n",
    "    print(i)\n",
    "```"
   ]
  },
  {
   "cell_type": "code",
   "execution_count": null,
   "metadata": {
    "scrolled": true
   },
   "outputs": [],
   "source": []
  },
  {
   "cell_type": "markdown",
   "metadata": {},
   "source": [
    "#### Question:\n",
    "* Why above there is an empty line between `'Alexa\tGood morning!'` and `'What time is it?'`?\n",
    "* How to remove trailing `\\n` from each line?"
   ]
  },
  {
   "cell_type": "raw",
   "metadata": {},
   "source": []
  },
  {
   "cell_type": "markdown",
   "metadata": {},
   "source": [
    "### Write Multiple Lines\n",
    "\n",
    "To write a list of stirngs to a file, method `writelines()` can be used.\n",
    "\n",
    "**NOTE:** No character, e.g. `\\n`, will be added or removed.\n",
    "\n",
    "**Try Code:**\n",
    "\n",
    "```python\n",
    "s = ['Hello', 'World', '\\nfrom', '\\nSingapore']\n",
    "with open('test.txt', 'w') as f:\n",
    "    f.writelines(s)\n",
    "```\n",
    "\n",
    "Use `!notepad test.txt` to examine the content in the file."
   ]
  },
  {
   "cell_type": "code",
   "execution_count": null,
   "metadata": {},
   "outputs": [],
   "source": []
  },
  {
   "cell_type": "code",
   "execution_count": null,
   "metadata": {},
   "outputs": [],
   "source": []
  },
  {
   "cell_type": "markdown",
   "metadata": {},
   "source": [
    "### Hybrid Mode (Optional)\n",
    "\n",
    "When a file is opened with mode `r`, it only supports read operation. Likewise, if a file is open with `w`, it only supports write operation.\n",
    "\n",
    "Following mode supports both read and write. But it is **not recommended** because you may need to use f.seek() to move cursor to correct position between read and write operation.\n",
    "* `'r+'`:  Open for reading and writing. Cause exception if file does not exists.\n",
    "* `'w+'`:  Open for reading and writing. The file is created if it does not exist, otherwise it is truncated.\n",
    "* `'a+'`:  Open for reading and appending. The file is created if it does not exist."
   ]
  },
  {
   "cell_type": "markdown",
   "metadata": {},
   "source": [
    "## 4. Text File / Binary File\n",
    "\n",
    "By default, `open()` assumes the file is a **text** file. To work with **binary** files, e.g. images and sound files, adding `\"b\"` to the `mode`.\n",
    "* Use `rb` to read a binary file\n",
    "* Use `wb` to write binary content to a file\n",
    "\n",
    "**Excercise:**\n",
    "\n",
    "Write code to copy an image file `test.jpg` in `./images/` folder to current folder with name `dup.jpg`."
   ]
  },
  {
   "cell_type": "code",
   "execution_count": null,
   "metadata": {},
   "outputs": [],
   "source": []
  },
  {
   "cell_type": "markdown",
   "metadata": {},
   "source": [
    "## 5. Basic CSV File Processing\n",
    "\n",
    "Comma-Separated Values (CSV) is a common text file format to store tabular data.\n",
    "* It has simple structure where each row contains one record\n",
    "* A record may have multiple attributes delimited by common `,`\n",
    "\n",
    "Sample CSV data:\n",
    "```csv\n",
    "Name,Email,Phone Number,Address\n",
    "Bob Smith,bob@example.com,123-456-7890,123 Fake Street\n",
    "Mike Jones,mike@example.com,098-765-4321,321 Fake Avenue\n",
    "```"
   ]
  },
  {
   "cell_type": "markdown",
   "metadata": {},
   "source": [
    "### Read File into List\n",
    "\n",
    "* Read the csv file using `readlines()` method, which returns data in a list.\n",
    "* Use list slicing to remove header row\n",
    "* Use `strip()` method to remove any surrounding white spaces (space, tab, new line characters)\n",
    "\n",
    "\n",
    "**Exercise:**\n",
    "* Read `sample-sales-data.csv` file into a list.\n",
    "* Discard header row\n",
    "* Strip any leading & trailing white space from each line\n",
    "* Print out first 3 items of the list"
   ]
  },
  {
   "cell_type": "code",
   "execution_count": null,
   "metadata": {},
   "outputs": [],
   "source": []
  },
  {
   "cell_type": "markdown",
   "metadata": {},
   "source": [
    "### Split a Record into a Tuple\n",
    "\n",
    "Each a row in csv file is a record. The record is delimited by `comma (,)`.\n",
    "* Use `split(delimiter)` method to split the record into a list or a tuple.\n",
    "* Use multi-level indexing to get a cell value\n",
    "\n",
    "**Exercise:**\n",
    "* Read the file into a list such that each record is represented as a tuple\n",
    "* Print out first 2 records in the list\n",
    "* Print out company name of 1st record"
   ]
  },
  {
   "cell_type": "code",
   "execution_count": null,
   "metadata": {
    "scrolled": false
   },
   "outputs": [],
   "source": []
  }
 ],
 "metadata": {
  "kernelspec": {
   "display_name": "Python 3",
   "language": "python",
   "name": "python3"
  },
  "language_info": {
   "codemirror_mode": {
    "name": "ipython",
    "version": 3
   },
   "file_extension": ".py",
   "mimetype": "text/x-python",
   "name": "python",
   "nbconvert_exporter": "python",
   "pygments_lexer": "ipython3",
   "version": "3.7.3"
  }
 },
 "nbformat": 4,
 "nbformat_minor": 2
}
