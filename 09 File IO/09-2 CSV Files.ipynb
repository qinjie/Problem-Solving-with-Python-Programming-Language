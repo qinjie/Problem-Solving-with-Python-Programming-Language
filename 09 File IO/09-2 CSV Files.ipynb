{
 "cells": [
  {
   "cell_type": "markdown",
   "metadata": {},
   "source": [
    "# CSV Files"
   ]
  },
  {
   "cell_type": "markdown",
   "metadata": {},
   "source": [
    "## 1. Introduction\n",
    "\n",
    "### What is a CSV File?\n",
    "\n",
    "CSV files are plain text files which use specific format to store tabular data. CSV stands for \"Comma Separated Values\".\n",
    "\n",
    "* Each line of the file is a data record. \n",
    "* Each record consists of one or more fields, separated by commas.\n",
    "* Normally first line of the file gives table header.\n",
    "\n",
    "```\n",
    "year,sex,type_of_course,no_of_graduates\n",
    "1993,Males,Humanities & Social Sciences,481\n",
    "1993,Males,Mass Communication,na\n",
    "1993,Males,Accountancy,295\n",
    "1993,Males,Business & Administration,282\n",
    "```\n",
    "\n",
    "### Why Uses CSV?\n",
    "\n",
    "* CSV is a common format for data exchange because it is simple and compact.\n",
    "* Most relational databases provides tools to import and export CSV files.\n",
    "* CSV files can be easily opened in Excel.\n",
    "\n"
   ]
  },
  {
   "cell_type": "markdown",
   "metadata": {},
   "source": [
    "### Python CSV Module\n",
    "\n",
    "While we could use the built-in `open()` function to work with CSV files in Python, there is a dedicated `csv` module that makes working with CSV files much easier. It contains following built-in functions:\n",
    "\n",
    "* csv.reader\n",
    "* csv.writer\n",
    "* writerow()"
   ]
  },
  {
   "cell_type": "code",
   "execution_count": null,
   "metadata": {},
   "outputs": [],
   "source": []
  },
  {
   "cell_type": "markdown",
   "metadata": {},
   "source": [
    "## 2. Read CSV Files\n",
    "\n",
    "### Using `csv.reader`\n",
    "\n",
    "After opening a CSV file, create a `csv.reader` object which returns a iterable object to process CSV data.\n",
    "* Each record is represented as a list.\n",
    "* All fields are `string` type.\n",
    "\n",
    "**Exercise:**\n",
    "\n",
    "* Use `csv.reader` to read and print out all rows in `'olympics-medals-sample.csv'`"
   ]
  },
  {
   "cell_type": "code",
   "execution_count": null,
   "metadata": {
    "scrolled": true
   },
   "outputs": [],
   "source": []
  },
  {
   "cell_type": "markdown",
   "metadata": {},
   "source": [
    "**Question:**\n",
    "\n",
    "Instead of printing out, how do you save all rows in `'olympics-medals-sample.csv'` into a list `data`?"
   ]
  },
  {
   "cell_type": "code",
   "execution_count": null,
   "metadata": {},
   "outputs": [],
   "source": []
  },
  {
   "cell_type": "markdown",
   "metadata": {},
   "source": [
    "#### Iterable Objector\n",
    "\n",
    "For any iterator object, you can use `next()` function to retrieve its next item.\n",
    "\n",
    "**Try Code:**\n",
    "\n",
    "```python\n",
    "obj = iter([1,3,5,7])\n",
    "print(next(obj))\n",
    "print(next(obj))\n",
    "```"
   ]
  },
  {
   "cell_type": "code",
   "execution_count": null,
   "metadata": {},
   "outputs": [],
   "source": []
  },
  {
   "cell_type": "markdown",
   "metadata": {},
   "source": [
    "#### Skip Header Row\n",
    "\n",
    "Besides using list slicing, you can also use `next()` function to get first row, which is commonly its header.\n",
    "\n",
    "**Exercise:**\n",
    "* From file `'olympics-medals-sample.csv'`, retrieve header and data in separate lists."
   ]
  },
  {
   "cell_type": "code",
   "execution_count": null,
   "metadata": {},
   "outputs": [],
   "source": []
  },
  {
   "cell_type": "markdown",
   "metadata": {},
   "source": [
    "### Optional Keyword Arguments\n",
    "\n",
    "The `csv.reader()` function only has one required argument, which is the file object, but it has a couple of other optional arguments:\n",
    "\n",
    "* **delimiter:** This argument specifies which delimiter the writer will use. It defaults to `','`, but you can set it to any other character.\n",
    "* **quotechar:** This specifies which character will be used for quoting. It defaults to `'\"'`\n",
    "* **escapechar:** This specifies the character that will be used to escape the delimiter if quoting is not being used. It defaults to nothing."
   ]
  },
  {
   "cell_type": "markdown",
   "metadata": {},
   "source": [
    "**Exercise:**\n",
    "\n",
    "Check out documentation of `csv.reader` function."
   ]
  },
  {
   "cell_type": "code",
   "execution_count": null,
   "metadata": {},
   "outputs": [],
   "source": []
  },
  {
   "cell_type": "markdown",
   "metadata": {},
   "source": [
    "### Delimiter\n",
    "\n",
    "The character used to separate values is called a **delimiter**. Apart from comma (`,`), other delimiters include the tab (`\\t`), colon (`:`) and semi-colon (`;`) characters.\n",
    "\n",
    "For tab separated values, it is common to save it with extension `*.tsv`.\n",
    "\n",
    "**Exercise:**\n",
    "* Use `csv.reader` to read file `'olympics-medals-sample.tsv'`; save both header and data in list."
   ]
  },
  {
   "cell_type": "code",
   "execution_count": null,
   "metadata": {},
   "outputs": [],
   "source": []
  },
  {
   "cell_type": "markdown",
   "metadata": {},
   "source": [
    "### Using csv.DictReader\n",
    "\n",
    "Rather than deal with a list of individual String elements, `csvDictReader` read CSV data directly into an `OrderedDict` (Ordered Dictionary).\n",
    "\n",
    "An **`OrderedDict`** is a dictionary subclass that preserves the order that keys were inserted. A regular dict doesn’t track the insertion order, and iterating it gives the values in an arbitrary order.\n",
    "\n",
    "**Exercise:**\n",
    "* Use `csv.DictReader()` to read `'olympics-medals-sample.csv'` file\n",
    "* Save header into a list and data into a list of OrderedDict objects. "
   ]
  },
  {
   "cell_type": "code",
   "execution_count": null,
   "metadata": {},
   "outputs": [],
   "source": [
    "\n"
   ]
  },
  {
   "cell_type": "markdown",
   "metadata": {},
   "source": [
    "## 3. Write CSV Files\n",
    "\n",
    "### Using `csv.writer`\n",
    "\n",
    "A `csv.writer` can be used to write a CSV file. The `csv.writer()` function returns a `writer` object that converts the user's data into a delimited string and write to file using its `writerow()` function.\n",
    "\n",
    "The `newline` argument is set to '' when opening a file which the `csv.writer` will write each row in a line.\n",
    "\n",
    "**Exercise:**\n",
    "* Use `csv.writer` to save following data into a csv file `'sample.csv'`.\n",
    "\n",
    "```\n",
    "[\"Symbol\", \"Name\", \"Price (Intraday)\"]\n",
    "[\"TMVWY\", \"TeamViewer AG\", 21.05]\n",
    "[\"AXSM\", \"Axsome Therapeutics, Inc.\", 88.87]\n",
    "[\"SAGE\", \"Sage Therapeutics, Inc.\",\t53.36]\n",
    "```"
   ]
  },
  {
   "cell_type": "code",
   "execution_count": null,
   "metadata": {},
   "outputs": [],
   "source": []
  },
  {
   "cell_type": "code",
   "execution_count": null,
   "metadata": {},
   "outputs": [],
   "source": []
  },
  {
   "cell_type": "markdown",
   "metadata": {},
   "source": [
    "### Optional Keyword Arguments\n",
    "\n",
    "The `csv.writer()` function has only 1 required parameter, the file object. You can also add following optional keyword arguments:\n",
    "\n",
    "* `delimiter`: This argument specifies which delimiter the writer will use. It defaults to ',', but you can set it to any other character.\n",
    "* `quotechar`: This specifies which character will be used for quoting. It defaults to '\"'\n",
    "* `escapechar`: This specifies the character that will be used to escape the delimiter if quoting is not being used. It defaults to nothing.\n",
    "\n",
    "The `quoting` argument: this specifies which fields should be quoted, there are a few options:\n",
    "* `csv.QUOTE_ALL`: All fields will be quoted\n",
    "* `csv.QUOTE_MINIMAL`: Only fields containing the delimiter or quotechar will be quoted.\n",
    "* `csv.QUOTE_NONNUMERIC`: The writer will quote all fields containing text and it converts all numbers to float values\n",
    "* `csv.QUOTE_NONE`: No fields will be quoted, the writer instead escapes delimiters. If you use this value, you also need to provide the escapechar argument."
   ]
  },
  {
   "cell_type": "markdown",
   "metadata": {},
   "source": [
    "**Try Code:**\n",
    "\n",
    "```python\n",
    "import csv\n",
    "with open('stock_sample.tsv', 'w', newline='') as file:\n",
    "    writer = csv.writer(\n",
    "        file,\n",
    "        delimiter='\\t',\n",
    "        quotechar='|',\n",
    "        quoting=csv.QUOTE_ALL\n",
    "    )\n",
    "    writer.writerow(['stock', 'price', 'cost', 'profit'])\n",
    "    writer.writerow(['21', '121.34', '45.34', '76'])\n",
    "```"
   ]
  },
  {
   "cell_type": "code",
   "execution_count": null,
   "metadata": {},
   "outputs": [],
   "source": []
  },
  {
   "cell_type": "code",
   "execution_count": null,
   "metadata": {},
   "outputs": [],
   "source": []
  },
  {
   "cell_type": "markdown",
   "metadata": {},
   "source": [
    "### Write Multiple Rows\n",
    "\n",
    "The `writerows()` function of writer allow you to write 2-dimensional list to a CSV file.\n",
    "\n",
    "**Exercise:**\n",
    "\n",
    "Save following data to a csv file `stock_sample.csv` using `csv.writer`.\n",
    "\n",
    "```\n",
    "[['stock', 'price', 'cost', 'profit'], ['21', '121.34', '45.34', '76']]\n",
    "```"
   ]
  },
  {
   "cell_type": "code",
   "execution_count": null,
   "metadata": {},
   "outputs": [],
   "source": []
  },
  {
   "cell_type": "code",
   "execution_count": null,
   "metadata": {},
   "outputs": [],
   "source": []
  },
  {
   "cell_type": "markdown",
   "metadata": {},
   "source": [
    "## 4. Basic CSV File Processing"
   ]
  },
  {
   "cell_type": "markdown",
   "metadata": {},
   "source": [
    "### Load Data into List"
   ]
  },
  {
   "cell_type": "markdown",
   "metadata": {},
   "source": [
    "**Exercise:**\n",
    "\n",
    "Read `'sample-sales-data.csv'` file; save its header into variable `header` and its data into variable `data`."
   ]
  },
  {
   "cell_type": "code",
   "execution_count": null,
   "metadata": {},
   "outputs": [],
   "source": []
  },
  {
   "cell_type": "markdown",
   "metadata": {},
   "source": [
    "### Find Distinct Values\n",
    "\n",
    "You can use `Set()` to find distinct value of a column.\n",
    "\n",
    "**Exercise:**\n",
    "\n",
    "* List all the companies contained in the file."
   ]
  },
  {
   "cell_type": "code",
   "execution_count": null,
   "metadata": {},
   "outputs": [],
   "source": []
  },
  {
   "cell_type": "markdown",
   "metadata": {},
   "source": [
    "**Exercise:**\n",
    "\n",
    "* List all dates which have sale recorded by any company."
   ]
  },
  {
   "cell_type": "code",
   "execution_count": null,
   "metadata": {},
   "outputs": [],
   "source": []
  },
  {
   "cell_type": "markdown",
   "metadata": {},
   "source": [
    "### Filter Data\n",
    "\n",
    "The list can be filtered based on condition(s). \n",
    "* Use `for-loop`\n",
    "* Use list comprehension"
   ]
  },
  {
   "cell_type": "markdown",
   "metadata": {},
   "source": [
    "**Exercise:**\n",
    "* Find all sales records by company `Initech`\n",
    "* Print out first 3 records"
   ]
  },
  {
   "cell_type": "code",
   "execution_count": null,
   "metadata": {},
   "outputs": [],
   "source": []
  },
  {
   "cell_type": "markdown",
   "metadata": {},
   "source": [
    "#### Exercise:\n",
    "* Find all sales done on date '2015-01-06'"
   ]
  },
  {
   "cell_type": "code",
   "execution_count": null,
   "metadata": {},
   "outputs": [],
   "source": []
  },
  {
   "cell_type": "markdown",
   "metadata": {},
   "source": [
    "### Validate Numeric Data\n",
    "\n",
    "Both `isdigit()` and `isnumeric()` can be used to check a string which can be converted to **a positive integer**, e.g. `'1234'`.\n",
    "* But it will return `False` for either `'-1234'` or `'12.34'`\n",
    "\n",
    "**Try Code:**\n",
    "\n",
    "```python\n",
    "print('1234'.isdigit())\n",
    "print('-1234'.isdigit())\n",
    "print('12.34'.isdigit())\n",
    "```"
   ]
  },
  {
   "cell_type": "code",
   "execution_count": null,
   "metadata": {},
   "outputs": [],
   "source": []
  },
  {
   "cell_type": "markdown",
   "metadata": {},
   "source": [
    "To test check if a string can be converted to a float or integer, we can use `float()` function with `try-except`.\n",
    "\n",
    "**Try Code:**\n",
    "\n",
    "```python\n",
    "def is_numeric(num):\n",
    "    try:\n",
    "        float(num)\n",
    "        return True\n",
    "    except ValueError:\n",
    "        return False\n",
    "    \n",
    "is_numeric('-123.2323')\n",
    "```"
   ]
  },
  {
   "cell_type": "code",
   "execution_count": null,
   "metadata": {},
   "outputs": [],
   "source": []
  },
  {
   "cell_type": "markdown",
   "metadata": {},
   "source": [
    "### Compute on Records\n",
    "\n",
    "You can perform simple data analysis on the data:\n",
    "* `sum()`, `count()`, `min()`, `max()` etc\n",
    "* Remember to convert data to numerical value for computation or comparision\n",
    "\n",
    "#### Exercise:\n",
    "* Remove records with invalid Units value\n",
    "* Find total units of sales on \"Hardware\""
   ]
  },
  {
   "cell_type": "code",
   "execution_count": null,
   "metadata": {
    "scrolled": true
   },
   "outputs": [],
   "source": []
  },
  {
   "cell_type": "markdown",
   "metadata": {},
   "source": [
    "## 5. Open Data\n",
    "\n",
    "###  Data.gov.sg\n",
    "\n",
    "The Singapore government's one-stop portal to publicly-available datasets from 70 public agencies. It is an open repository of data captured by the public sector. It helps people understand the data using visualizations and articles, and provides realtime APIs for developers to use.\n",
    "\n",
    "https://data.gov.sg/\n",
    "\n",
    "<img src=\"./images/data_gov_sg.png\" width=500 />"
   ]
  }
 ],
 "metadata": {
  "kernelspec": {
   "display_name": "Python 3",
   "language": "python",
   "name": "python3"
  },
  "language_info": {
   "codemirror_mode": {
    "name": "ipython",
    "version": 3
   },
   "file_extension": ".py",
   "mimetype": "text/x-python",
   "name": "python",
   "nbconvert_exporter": "python",
   "pygments_lexer": "ipython3",
   "version": "3.7.3"
  }
 },
 "nbformat": 4,
 "nbformat_minor": 2
}
