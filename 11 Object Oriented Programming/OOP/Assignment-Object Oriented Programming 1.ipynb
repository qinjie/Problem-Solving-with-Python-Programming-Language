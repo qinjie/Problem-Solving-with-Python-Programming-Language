{
 "cells": [
  {
   "cell_type": "markdown",
   "metadata": {},
   "source": [
    "# Object Oriented Programming 1 - Assignment"
   ]
  },
  {
   "cell_type": "markdown",
   "metadata": {},
   "source": [
    "## a)\n",
    "\n",
    "Create a class `Person` which contains 2 properties, `_name` and `_age`. \n",
    "* Implement its initializer method which initialize `_name` and `_age`.\n",
    "* Implement its `__str__()` method which return string in the format of `\"Person: name={_name}, age={_age}\"`\n",
    "* Define a class variable `MIN_ADULT_AGE` with value `18`. \n",
    "* Implement an instance method `is_adult()` which returns `True` if the age is equal or above `MIN_ADULT_AGE`, else returns `False`.\n",
    "\n",
    "**Sample Output:**\n",
    "```\n",
    "Person: name=Alan, age=20\n",
    "Is adult: True\n",
    "```"
   ]
  },
  {
   "cell_type": "code",
   "execution_count": null,
   "metadata": {},
   "outputs": [],
   "source": [
    "# YOUR CODE HERE\n",
    "\n",
    "\n",
    "\n",
    "# TEST\n",
    "p = Person('Alan', 20)\n",
    "print(p)\n",
    "print('Is adult:', p.is_adult())"
   ]
  },
  {
   "cell_type": "markdown",
   "metadata": {},
   "source": [
    "## b) \n",
    "\n",
    "Create a class `Shape` which contains following attributes:\n",
    "* Define a class variable `PI` with value `3.14`.\n",
    "* Define a class method `area_circle()` which takes in a `radius` value and returns area of the circle.\n",
    "* Define a static method `area_rectangle()` which takes in `width` and `length` values, and returns area of the rectangle. \n",
    "\n",
    "**Sample Output:**\n",
    "```\n",
    "Area of Circle: 12.56\n",
    "Area of Rectangle: 8\n",
    "```"
   ]
  },
  {
   "cell_type": "code",
   "execution_count": null,
   "metadata": {},
   "outputs": [],
   "source": [
    "# YOUR CODE HERE\n",
    "\n",
    "\n",
    "\n",
    "\n",
    "\n",
    "# TEST\n",
    "print('Area of Circle:', Shape.area_circle(2))\n",
    "print('Area of Rectangle:', Shape.area_rectangle(2,4))"
   ]
  }
 ],
 "metadata": {
  "kernelspec": {
   "display_name": "Python 3",
   "language": "python",
   "name": "python3"
  },
  "language_info": {
   "codemirror_mode": {
    "name": "ipython",
    "version": 3
   },
   "file_extension": ".py",
   "mimetype": "text/x-python",
   "name": "python",
   "nbconvert_exporter": "python",
   "pygments_lexer": "ipython3",
   "version": "3.7.3"
  }
 },
 "nbformat": 4,
 "nbformat_minor": 2
}
