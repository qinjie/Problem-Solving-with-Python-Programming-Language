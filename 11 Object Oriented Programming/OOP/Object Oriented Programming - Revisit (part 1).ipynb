{
 "cells": [
  {
   "cell_type": "markdown",
   "metadata": {},
   "source": [
    "# Object Oriented Programming - Revisit (part 1)\n",
    "\n",
    "**Scope:**\n",
    "* Class and Instance\n",
    "* Instnace Methods\n",
    "* The `self` Object\n",
    "* Instance Variables & Class Variables\n",
    "* Class Methods and Static Methods"
   ]
  },
  {
   "cell_type": "markdown",
   "metadata": {},
   "source": [
    "## 1. Introduction to OOP \n",
    "\n",
    "\n",
    "### Procedural Programming\n",
    "\n",
    "We used to group blocks of statements together into `functions`. We call these functions in sequential order. Such way of structuring a program is called **Procedural Programming**.\n",
    "\n",
    "Generally states of the program is defined outside of the function as variables.\n",
    "\n",
    "Such programming paradigm works well for small programs, which is easy to understand and maintain."
   ]
  },
  {
   "cell_type": "code",
   "execution_count": null,
   "metadata": {},
   "outputs": [],
   "source": []
  },
  {
   "cell_type": "markdown",
   "metadata": {},
   "source": [
    "**Another Example**\n",
    "\n",
    "We would like to keep track of a list of Students and lessons taken by respective student. \n",
    "\n",
    "We can use list to keep multiple properties of each student. The code is simple but not very readable. And the code will become more ugly when as the number of students grow."
   ]
  },
  {
   "cell_type": "code",
   "execution_count": null,
   "metadata": {},
   "outputs": [],
   "source": []
  },
  {
   "cell_type": "markdown",
   "metadata": {},
   "source": [
    "### Object Oriented Programming\n",
    "\n",
    "**Object Oriented Programming** is another paradigm which bundles properties and behaviors together. It models real-world entities as software object."
   ]
  },
  {
   "cell_type": "code",
   "execution_count": null,
   "metadata": {},
   "outputs": [],
   "source": []
  },
  {
   "cell_type": "markdown",
   "metadata": {},
   "source": [
    "The example on students and lessons can be rewriten as following:"
   ]
  },
  {
   "cell_type": "code",
   "execution_count": null,
   "metadata": {},
   "outputs": [],
   "source": []
  },
  {
   "cell_type": "markdown",
   "metadata": {},
   "source": [
    "## 2. Class and Instance"
   ]
  },
  {
   "cell_type": "markdown",
   "metadata": {},
   "source": [
    "### Classes\n",
    "\n",
    "A class is a blueprint for the object. \n",
    "* It contains all the details about such a object, e.g. properties and behaviors.\n",
    "* To define a class, `class` keyword is used.\n",
    "\n",
    "The simplest form of Class is a class without any property or method."
   ]
  },
  {
   "cell_type": "code",
   "execution_count": null,
   "metadata": {},
   "outputs": [],
   "source": []
  },
  {
   "cell_type": "markdown",
   "metadata": {},
   "source": [
    "### Instances\n",
    "\n",
    "A class creates a new type where objects are instances of the class."
   ]
  },
  {
   "cell_type": "markdown",
   "metadata": {},
   "source": [
    "Recall that an integer can be created from its constructor function. "
   ]
  },
  {
   "cell_type": "code",
   "execution_count": null,
   "metadata": {},
   "outputs": [],
   "source": []
  },
  {
   "cell_type": "markdown",
   "metadata": {},
   "source": [
    "Rectangle objects can also be constructed in similar way."
   ]
  },
  {
   "cell_type": "code",
   "execution_count": null,
   "metadata": {
    "scrolled": true
   },
   "outputs": [],
   "source": []
  },
  {
   "cell_type": "markdown",
   "metadata": {},
   "source": [
    "### Methods\n",
    "\n",
    "Methods are functions which are added to a class to define its behaviors.  "
   ]
  },
  {
   "cell_type": "code",
   "execution_count": null,
   "metadata": {},
   "outputs": [],
   "source": []
  },
  {
   "cell_type": "markdown",
   "metadata": {},
   "source": [
    "### The `self`\n",
    "\n",
    "The `self` parameter is a variable refers to the object itself. By convention, it is always given the name `self`.\n",
    "* Parameter `self` must be the 1st parameter. \n",
    "* Using `self`, you can access other attributes in the object.\n",
    "\n",
    "**Passing Arguments to Method**\n",
    "* When you call the method, you do NOT need to give a value for `self` parameter. Python provides it automatically."
   ]
  },
  {
   "cell_type": "code",
   "execution_count": null,
   "metadata": {},
   "outputs": [],
   "source": []
  },
  {
   "cell_type": "markdown",
   "metadata": {},
   "source": [
    "### The `__init__()` Method"
   ]
  },
  {
   "cell_type": "markdown",
   "metadata": {},
   "source": [
    "Remember that attributes can be dynamically added to Python object.\n",
    "* Attributes added to one instance does not exists in another instance."
   ]
  },
  {
   "cell_type": "code",
   "execution_count": null,
   "metadata": {},
   "outputs": [],
   "source": []
  },
  {
   "cell_type": "markdown",
   "metadata": {},
   "source": [
    "Python class can implement a `__init__()` method to initialize a common set of variables for all instances.\n",
    "* The `__init__()` takes in a `self` parameter too."
   ]
  },
  {
   "cell_type": "code",
   "execution_count": null,
   "metadata": {},
   "outputs": [],
   "source": []
  },
  {
   "cell_type": "markdown",
   "metadata": {},
   "source": [
    "### Instance Variables\n",
    "\n",
    "Instance variables are owned by each individual object/instance of the class. In this case, each object has its own copy of the fields.\n",
    "* Instance variables are not shared among instances although they have same name.\n",
    "\n",
    "In above exmaple, the `name` and `age` variables contains different value in `p1` and `p2`."
   ]
  },
  {
   "cell_type": "markdown",
   "metadata": {},
   "source": [
    "### Class Variable\n",
    "\n",
    "Class variables are shared by all instances of that class.\n",
    "* There is only one copy of the class variable\n",
    "* When any one object makes a change to a class variable, all the other instances all see the change"
   ]
  },
  {
   "cell_type": "code",
   "execution_count": null,
   "metadata": {},
   "outputs": [],
   "source": []
  },
  {
   "cell_type": "markdown",
   "metadata": {},
   "source": [
    "### Class Variable vs Instance Variable (confusing)"
   ]
  },
  {
   "cell_type": "markdown",
   "metadata": {},
   "source": [
    "Class variables and instance variables belong to different namespaces, i.e. they are different variable objects. "
   ]
  },
  {
   "cell_type": "code",
   "execution_count": null,
   "metadata": {},
   "outputs": [],
   "source": []
  },
  {
   "cell_type": "markdown",
   "metadata": {},
   "source": [
    "A class variable can be access by class or by its instance, provided there is no instance variable of same name."
   ]
  },
  {
   "cell_type": "code",
   "execution_count": null,
   "metadata": {},
   "outputs": [],
   "source": []
  },
  {
   "cell_type": "markdown",
   "metadata": {},
   "source": [
    "When a value is assigned to a non-existence instance variable, such instance variable will be created immediately."
   ]
  },
  {
   "cell_type": "code",
   "execution_count": null,
   "metadata": {},
   "outputs": [],
   "source": []
  },
  {
   "cell_type": "markdown",
   "metadata": {},
   "source": [
    "## 3. Class Methods and Static Methods"
   ]
  },
  {
   "cell_type": "markdown",
   "metadata": {},
   "source": [
    "### Instance Methods\n",
    "\n",
    "We have seen instance methods, they are the methods with 1st parameter `self`, which will be passed in by Python automatically. "
   ]
  },
  {
   "cell_type": "markdown",
   "metadata": {},
   "source": [
    "**Example: BMI Calculator**\n",
    "\n",
    "Considering following class `BMI` which is used to calculate BMI value.\n",
    "* It initializes its `height` and `weight` values in `__init__()` function.\n",
    "* Its `get_bmi()` function returns BMI value calculated from `height` and `weight`.\n",
    "\n",
    "In this example, `get_bmi()` must be an instance method because it needs to access to `self` object.\n",
    "* Instance methods are accessed from instance object."
   ]
  },
  {
   "cell_type": "code",
   "execution_count": null,
   "metadata": {},
   "outputs": [],
   "source": []
  },
  {
   "cell_type": "markdown",
   "metadata": {},
   "source": [
    "### Static Methods\n",
    "\n",
    "**BMI Calculator Version 2**\n",
    "\n",
    "If we modify the `get_bmi()` method to take in `weight` and `height` as parameters, then the function doesn't need to access to `self` object anymore.\n",
    "\n",
    "In fact, it doesn't need to use any other data from class `BMI`. Such a method is called **static method**."
   ]
  },
  {
   "cell_type": "code",
   "execution_count": null,
   "metadata": {},
   "outputs": [],
   "source": []
  },
  {
   "cell_type": "markdown",
   "metadata": {},
   "source": [
    "### Class Methods\n",
    "\n",
    "We would like to add another method `analyze()`, which take a BMI value as input and give simple analysis.  \n",
    "\n",
    "We defined 2 class variables, `LOWER` and `UPPER`, representing lower bound and upper bound of healthy BMI value.\n",
    "\n",
    "For `analyze()` method to access to the 2 class variables, it needs to be defined as **class method**.\n",
    "* A class method has `class` object as its 1st parameter, which is passed in automatically by Python."
   ]
  },
  {
   "cell_type": "code",
   "execution_count": null,
   "metadata": {},
   "outputs": [],
   "source": []
  }
 ],
 "metadata": {
  "kernelspec": {
   "display_name": "Python 3",
   "language": "python",
   "name": "python3"
  },
  "language_info": {
   "codemirror_mode": {
    "name": "ipython",
    "version": 3
   },
   "file_extension": ".py",
   "mimetype": "text/x-python",
   "name": "python",
   "nbconvert_exporter": "python",
   "pygments_lexer": "ipython3",
   "version": "3.7.3"
  }
 },
 "nbformat": 4,
 "nbformat_minor": 2
}
