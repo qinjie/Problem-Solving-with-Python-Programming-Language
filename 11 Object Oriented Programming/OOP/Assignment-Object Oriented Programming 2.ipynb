{
 "cells": [
  {
   "cell_type": "markdown",
   "metadata": {},
   "source": [
    "# Object Oriented Programming 2 - Assignment"
   ]
  },
  {
   "cell_type": "markdown",
   "metadata": {},
   "source": [
    "## a)\n",
    "\n",
    "Create a class `Employee` which has a variable, `_name`. \n",
    "* Implement its initializer method which initialize `_name`.\n",
    "\n",
    "Create another class `SalaryEmployee` whose payroll is by monthly salary. It has instance variables `_name`, `_salary`.\n",
    "* Extend `SalaryEmployee` from `Employee`. \n",
    "* Implement its initializer method to initialize both `_name` and `_salary`.\n",
    "* Implement an instance method `get_payroll()` which returns its `_salary` value.\n",
    "\n",
    "Create another class `CommissionEmployee` whose payroll is by salary+commission. It has instance variables `_name`, `_salary` and `_commission`.\n",
    "* Extend `CommissionEmployee` from `SalaryEmployee`.\n",
    "* Implement its initializer method to initialize `_name`, `_salary` and `_commission`.\n",
    "    * Make use of `__init__()` method in parent class.\n",
    "* Implement an instance method `complete_project()` which will increase `_commission` by 100.\n",
    "* Implement an instance method `get_payroll()` which returns `_salary + _commission`.\n",
    "    * Make use of `get_payroll()` method in parent class.\n",
    "\n",
    "\n",
    "**Sample Output:**\n",
    "```\n",
    "Payroll: 1200\n",
    "```"
   ]
  },
  {
   "cell_type": "code",
   "execution_count": null,
   "metadata": {},
   "outputs": [],
   "source": [
    "# YOUR CODE HERE\n",
    "\n",
    "\n",
    "# TEST\n",
    "ce = CommissionEmployee('Alan', 1000, 100)\n",
    "ce.complete_project()\n",
    "\n",
    "print('Payroll:', ce.get_payroll())"
   ]
  },
  {
   "cell_type": "markdown",
   "metadata": {},
   "source": [
    "## b) \n",
    "\n",
    "Create a class `Celsius` with following attributes:\n",
    "* It contains an instance variable `_value`, which contains its temperature value.\n",
    "* Implement its `__init__()` method which initialize its instance variable `_value`.\n",
    "* implement a property `value` for its variable `_value`. \n",
    "* implement a read-only property `fahrenheit` which returns temperature value in Fahrenheit.\n",
    "    * `Fahrenheit = Celsius * 1.8 + 32`\n",
    "\n",
    "**Sample Output:**\n",
    "```\n",
    "Temperature: 25 Celsius, 77.0 Fahrenheit\n",
    "```"
   ]
  },
  {
   "cell_type": "code",
   "execution_count": null,
   "metadata": {},
   "outputs": [],
   "source": [
    "# YOUR CODE HERE\n",
    "\n",
    "\n",
    "# TEST\n",
    "c = Celsius(25)\n",
    "print('Temperature: {} Celsius, {} Fahrenheit'.format(c.value, c.fahrenheit))"
   ]
  }
 ],
 "metadata": {
  "kernelspec": {
   "display_name": "Python 3",
   "language": "python",
   "name": "python3"
  },
  "language_info": {
   "codemirror_mode": {
    "name": "ipython",
    "version": 3
   },
   "file_extension": ".py",
   "mimetype": "text/x-python",
   "name": "python",
   "nbconvert_exporter": "python",
   "pygments_lexer": "ipython3",
   "version": "3.7.3"
  }
 },
 "nbformat": 4,
 "nbformat_minor": 2
}
