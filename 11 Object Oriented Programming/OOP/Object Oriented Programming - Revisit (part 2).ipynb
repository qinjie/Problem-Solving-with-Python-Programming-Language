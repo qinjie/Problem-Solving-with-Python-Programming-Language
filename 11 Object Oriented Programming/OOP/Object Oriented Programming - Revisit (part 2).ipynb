{
 "cells": [
  {
   "cell_type": "markdown",
   "metadata": {},
   "source": [
    "# Object Oriented Programming - Revisit (part 2)\n",
    "\n",
    "**Scope:**\n",
    "* Inheritance\n",
    "* Properties\n",
    "* Name Mangling"
   ]
  },
  {
   "cell_type": "markdown",
   "metadata": {},
   "source": [
    "## 1. Inheritance\n",
    "\n",
    "Inheritance allows one class to inherit all attributes and methods of another class. This is one of the major benefits of object oriented programming. \n",
    "\n",
    "* **Parent Class** is the class being inherited from, also called **base class**.\n",
    "* **Child class** is the class that inherits from another class, also called **derived class**. \n",
    "\n",
    "**Benefits:**\n",
    "\n",
    "* <u>Reuse Quality Code:</u> Reuse existing code which is already tested.\n",
    "* <u>Improve Code Readability:</u> Program structure is short and concise.\n",
    "* <u>Improve Code Reliability:</u> Avoid code duplication and easier to debug.\n",
    "* <u>Save Time and Effort</u> "
   ]
  },
  {
   "cell_type": "markdown",
   "metadata": {},
   "source": [
    "### Basic Syntax\n",
    "\n",
    "* Without specifying parent class, the class inherits from `object` class.\n",
    "* The `__base__` attribute of a class returns its base class.\n",
    "* `issubclass()` function checks whether a class is a subclass of another."
   ]
  },
  {
   "cell_type": "code",
   "execution_count": null,
   "metadata": {},
   "outputs": [],
   "source": []
  },
  {
   "cell_type": "markdown",
   "metadata": {},
   "source": [
    "### Inheritance\n",
    "\n",
    "<u>**Base Class**</u>\n",
    "\n",
    "Define a class `Circle`, which has property `radius`, and a method `get_area()` which calculates area of the circle. \n",
    "* Initialize its property in its constructor function, i.e. `__init__()` function.\n",
    "* Implement its `__str__()` function which returns string `Circle: radius=x`."
   ]
  },
  {
   "cell_type": "code",
   "execution_count": null,
   "metadata": {},
   "outputs": [],
   "source": []
  },
  {
   "cell_type": "markdown",
   "metadata": {},
   "source": [
    "<u>**Derived Class**</u>\n",
    "\n",
    "Implement another class `Cylinder` which extends from `Circle`.\n",
    "* Without any coding, `Cylinder` class is able to access to all attributes in `Circle` class."
   ]
  },
  {
   "cell_type": "code",
   "execution_count": null,
   "metadata": {},
   "outputs": [],
   "source": []
  },
  {
   "cell_type": "markdown",
   "metadata": {},
   "source": [
    "### Method Overriding"
   ]
  },
  {
   "cell_type": "markdown",
   "metadata": {},
   "source": [
    "In above `Cyclinder` example, the `get_area()` method doesn't return the correct value. To calculate are of a Cyclinder, we need its `height` property too."
   ]
  },
  {
   "cell_type": "markdown",
   "metadata": {},
   "source": [
    "<u>**Override `__init__()`**</u>\n",
    "\n",
    "The cyclinder constructor `__init__()` function needs to take in 2 parameters, `radius` and `height`. \n",
    "* After implementation, you can no longer use call constructor with `Cyclinder(2)` because it expects 2 positional arguments. "
   ]
  },
  {
   "cell_type": "code",
   "execution_count": null,
   "metadata": {},
   "outputs": [],
   "source": []
  },
  {
   "cell_type": "markdown",
   "metadata": {},
   "source": [
    "<u>**Override `__str__()`**</u>\n",
    "\n",
    "We need to override `__str__()` function so that its returned string include `height` value too."
   ]
  },
  {
   "cell_type": "code",
   "execution_count": null,
   "metadata": {},
   "outputs": [],
   "source": []
  },
  {
   "cell_type": "markdown",
   "metadata": {},
   "source": [
    "### The `super()`\n",
    "\n",
    "The `Circle.get_area()` method returns area of circle. We still need to override the `get_area()` function in `Cylinder` class to return `2 * circle + 2 * pi * radius * height`.\n",
    "\n",
    "The `get_area()` function in base class `Circle` is stil useful to get the area of circle. To access it, we can use `super()` object.\n",
    "\n",
    "The `super()` returns object of parent class. Through it, we can access parent version of overriden attribute(s)."
   ]
  },
  {
   "cell_type": "code",
   "execution_count": null,
   "metadata": {},
   "outputs": [],
   "source": []
  },
  {
   "cell_type": "markdown",
   "metadata": {},
   "source": [
    "### Method Overloading? Not Supported\n",
    "\n",
    "What is method overloading?\n",
    "* Multiple methods of same name, same return data type, but different input parameters.\n",
    "\n",
    "Python does **NOT** support method overloading. "
   ]
  },
  {
   "cell_type": "code",
   "execution_count": null,
   "metadata": {},
   "outputs": [],
   "source": []
  },
  {
   "cell_type": "markdown",
   "metadata": {},
   "source": [
    "The 2nd definition of `add()` method overwrites 1st definition. Thus following code will cause a Error. "
   ]
  },
  {
   "cell_type": "code",
   "execution_count": null,
   "metadata": {},
   "outputs": [],
   "source": []
  },
  {
   "cell_type": "markdown",
   "metadata": {},
   "source": [
    "## 2. Properties (optional)\n",
    "\n",
    "In object oriented programming, it is common practice to use `setter` and `getter` function to encapsulate a variable in class."
   ]
  },
  {
   "cell_type": "code",
   "execution_count": null,
   "metadata": {},
   "outputs": [],
   "source": []
  },
  {
   "cell_type": "markdown",
   "metadata": {},
   "source": [
    "**Property** is a simple method to decorate the class's setter and getter.\n",
    "* It makes getter and setters look like a normal attribute.  "
   ]
  },
  {
   "cell_type": "code",
   "execution_count": null,
   "metadata": {},
   "outputs": [],
   "source": []
  },
  {
   "cell_type": "markdown",
   "metadata": {},
   "source": [
    "An alternative way is to use `@property` decorator. \n",
    "* The `@property` decorator marks the getter method\n",
    "* The `@attr.setter` decorator marks the setter method for attribute `attr`"
   ]
  },
  {
   "cell_type": "code",
   "execution_count": null,
   "metadata": {},
   "outputs": [],
   "source": []
  },
  {
   "cell_type": "markdown",
   "metadata": {},
   "source": [
    "### Read-only Attributes\n",
    "\n",
    "It is common to use `@property` to implement a read-only computed attribute.\n",
    "\n",
    "For example, following `Circle` class defines 2 read-only computed properties `area` and `perimeter`."
   ]
  },
  {
   "cell_type": "code",
   "execution_count": null,
   "metadata": {},
   "outputs": [],
   "source": []
  },
  {
   "cell_type": "markdown",
   "metadata": {},
   "source": [
    "## 3. Private/Public Attributes (optional)\n",
    "\n",
    "All methods and variables in a Python class or object are public, i.e. they can be accessed by users.\n",
    "* Python has NO access modifier, i.e. like `public` & `protected` & `private` in C# or Java.\n",
    "* It uses a convention to indicate whether an attribute is for system use or class-internal use.\n",
    "* Such methods and attributes should not be used directly by users of the class. But you can still access them directly, which is useful for debugging purpose.\n",
    "\n",
    "<div align='center'><b><i>In Python, we are all consenting adults.</i></b></div>"
   ]
  },
  {
   "cell_type": "markdown",
   "metadata": {},
   "source": [
    "### a) System Attribute `__attr__`\n",
    "\n",
    "Attributes with **double-leading and double-trailing underscores** are defined by Python. They are called `magic attributes` or `system attributes`. Such attributes should not be used. \n",
    "\n",
    "For example, the `__class__`, `__name__` property, the `__init__()` and `__str__()` methods."
   ]
  },
  {
   "cell_type": "markdown",
   "metadata": {},
   "source": [
    "### b) Class/Module Attribute `_attr`\n",
    "\n",
    "Attributes with **single-leading underscores** are for internal use in the class or module. \n",
    "* This is just a **convention** which has no effect to Python interpretor.\n",
    "\n",
    "**Note:** When a moudle is imported, method and variable with single-leading-underscore will NOT be imported."
   ]
  },
  {
   "cell_type": "markdown",
   "metadata": {},
   "source": [
    "### c) Name Mangling Attribute `__attr`\n",
    "\n",
    "When a class attribute is defined with **double-leading-underscore**, it invokes **name mangling**.\n",
    "\n",
    "#### Name Mangling\n",
    "\n",
    "Python interpretor will prefix such attributes with `_classname`, e.g. `__foo` in class `Bar` will become `_Bar__foo`. "
   ]
  },
  {
   "cell_type": "code",
   "execution_count": null,
   "metadata": {},
   "outputs": [],
   "source": []
  },
  {
   "cell_type": "markdown",
   "metadata": {},
   "source": [
    "#### Avoid Accidental Method Overriding\n",
    "\n",
    "Name mangling is used to avoid accidental overriding of attributes in the subclass. \n",
    "\n",
    "In following example, class `B` inherits `test()` method from `A`. "
   ]
  },
  {
   "cell_type": "code",
   "execution_count": null,
   "metadata": {
    "scrolled": true
   },
   "outputs": [],
   "source": []
  },
  {
   "cell_type": "markdown",
   "metadata": {},
   "source": [
    "Unintentionally, class `B` may implement another method `_test()` which may overrides `_test()` method in A. This will break the `test()` method inherited from class `A`.\n"
   ]
  },
  {
   "cell_type": "code",
   "execution_count": null,
   "metadata": {},
   "outputs": [],
   "source": []
  },
  {
   "cell_type": "markdown",
   "metadata": {},
   "source": [
    "To avoid such accident, we can rename `_test()` to `__test()`."
   ]
  },
  {
   "cell_type": "code",
   "execution_count": null,
   "metadata": {},
   "outputs": [],
   "source": []
  }
 ],
 "metadata": {
  "kernelspec": {
   "display_name": "Python 3",
   "language": "python",
   "name": "python3"
  },
  "language_info": {
   "codemirror_mode": {
    "name": "ipython",
    "version": 3
   },
   "file_extension": ".py",
   "mimetype": "text/x-python",
   "name": "python",
   "nbconvert_exporter": "python",
   "pygments_lexer": "ipython3",
   "version": "3.7.3"
  }
 },
 "nbformat": 4,
 "nbformat_minor": 2
}
