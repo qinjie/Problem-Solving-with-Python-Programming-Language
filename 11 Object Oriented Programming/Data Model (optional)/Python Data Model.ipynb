{
 "cells": [
  {
   "cell_type": "markdown",
   "metadata": {},
   "source": [
    "# Python Data Model\n"
   ]
  },
  {
   "cell_type": "markdown",
   "metadata": {},
   "source": [
    "## 1. Object Attributes\n",
    "\n",
    "By default, attributes (including functions) can be added dynamically to an object.\n",
    "\n",
    "**Exmaple:** A function can be dynamically added to another function as an attribute."
   ]
  },
  {
   "cell_type": "code",
   "execution_count": null,
   "metadata": {},
   "outputs": [],
   "source": []
  },
  {
   "cell_type": "markdown",
   "metadata": {},
   "source": [
    "**Example:** Class `Mine` is added with attribute `abc` and function `fun()` after class definition."
   ]
  },
  {
   "cell_type": "code",
   "execution_count": null,
   "metadata": {
    "scrolled": true
   },
   "outputs": [],
   "source": []
  },
  {
   "cell_type": "markdown",
   "metadata": {},
   "source": [
    "## 2. Duck Typing\n",
    "\n",
    "Python only check if an object fits for a purpose at the time of use. \n",
    "* During execution, Python will simply accept any object which has a particular method.\n",
    "* This is called **Duck Typing**.\n",
    "\n",
    "```\n",
    "\"When I see a bird that walks like a duck and swim like a duck and quacks like a duck, I call that bird a duck\"\n",
    "```"
   ]
  },
  {
   "cell_type": "code",
   "execution_count": null,
   "metadata": {},
   "outputs": [],
   "source": []
  },
  {
   "cell_type": "markdown",
   "metadata": {},
   "source": [
    "## 3. Introduction to Protocols\n"
   ]
  },
  {
   "cell_type": "markdown",
   "metadata": {},
   "source": [
    "Recall that a list object supports following operations:\n",
    "* slicing - return subset of list\n",
    "* del() - delete an item\n",
    "* print() - return string\n",
    "* len() - return length\n"
   ]
  },
  {
   "cell_type": "code",
   "execution_count": null,
   "metadata": {},
   "outputs": [],
   "source": []
  },
  {
   "cell_type": "markdown",
   "metadata": {},
   "source": [
    "Above methods are not built-in in the List object. In fact, these methods are available to many other object types, e.g. dictionary, set etc.\n",
    "\n",
    "How does Python achieve it?"
   ]
  },
  {
   "cell_type": "markdown",
   "metadata": {},
   "source": [
    "### Python Protocols\n",
    "\n",
    "**Python Protocols** are similar to **interfaces** in other programming languages.\n",
    "* They pre-define a collection of methods an object must support to implement that protocol.\n",
    "* These collection of methods are in the form of magic methods.\n",
    "\n",
    "Python interpreter invokes these magic methods to perform basic object operations. \n",
    "* Magic methods are dunder methods with leading and trailing double undscores. For example, the `__init__()` method.\n"
   ]
  },
  {
   "cell_type": "markdown",
   "metadata": {},
   "source": [
    "#### Example:\n",
    "\n",
    "Considering a class `Team` which represents a collection of members. \n",
    "* Its initializer method `__init__()` initialize some members representing by string of \"M0000X\"."
   ]
  },
  {
   "cell_type": "code",
   "execution_count": null,
   "metadata": {},
   "outputs": [],
   "source": []
  },
  {
   "cell_type": "markdown",
   "metadata": {},
   "source": [
    "### 3.1 String Representation Protocol\n",
    "\n",
    "The `str()` or `repr()` functions to get string representation of an object."
   ]
  },
  {
   "cell_type": "code",
   "execution_count": null,
   "metadata": {},
   "outputs": [],
   "source": []
  },
  {
   "cell_type": "markdown",
   "metadata": {},
   "source": [
    "But how can we get the string in the form of `['M00000', 'M00001', 'M00002', 'M00003', 'M00004']`?\n",
    "\n",
    "Let's extend `Team` class to a `Team1` class. \n",
    "* Implements `__repr__()` & `__str__()` methods to return string representation of an object."
   ]
  },
  {
   "cell_type": "code",
   "execution_count": null,
   "metadata": {},
   "outputs": [],
   "source": []
  },
  {
   "cell_type": "markdown",
   "metadata": {},
   "source": [
    "### 3.2 Container Protocol\n",
    "\n",
    "The `len()` function is used to check the size of a collection type, e.g. list and dictionary.\n",
    "\n",
    "But it does not work on object of `Team1`. Following code will cause an Error."
   ]
  },
  {
   "cell_type": "code",
   "execution_count": null,
   "metadata": {},
   "outputs": [],
   "source": []
  },
  {
   "cell_type": "markdown",
   "metadata": {},
   "source": [
    "How to make `Team1` object supports `len()` function to return member count?\n",
    "* Implement a `__len__()` method which returns size of the member. "
   ]
  },
  {
   "cell_type": "code",
   "execution_count": null,
   "metadata": {},
   "outputs": [],
   "source": []
  },
  {
   "cell_type": "markdown",
   "metadata": {},
   "source": [
    "Recall that a list object supports following operations:\n",
    "* slicing - return subset of list\n",
    "* `del` - delete an item\n",
    "* `for-loop` - Use as an iterable, e.g. in `for` loop\n",
    "* `in` operator - Check wheather a member exists\n"
   ]
  },
  {
   "cell_type": "code",
   "execution_count": null,
   "metadata": {},
   "outputs": [],
   "source": []
  },
  {
   "cell_type": "markdown",
   "metadata": {},
   "source": [
    "To add above features to our class `Team1`, implement a `__getitem__()` method.\n",
    "\n",
    "**Note:** Pyton also has `__contains__()` method and `__iter__()` & `__next__()` magic methods. But `__getitem__()` method is the fallback when those methods are not implemented.  "
   ]
  },
  {
   "cell_type": "code",
   "execution_count": null,
   "metadata": {
    "scrolled": true
   },
   "outputs": [],
   "source": []
  },
  {
   "cell_type": "markdown",
   "metadata": {},
   "source": [
    "### 3.3 Mutable Container\n",
    "\n",
    "To support update item using indexing and modification of collection, we need to implmeent the `__setitem__()` & `__delitem__()` methods."
   ]
  },
  {
   "cell_type": "code",
   "execution_count": null,
   "metadata": {},
   "outputs": [],
   "source": []
  },
  {
   "cell_type": "markdown",
   "metadata": {},
   "source": [
    "### 3.4 Comparison Operators\n",
    "\n",
    "Python provides following methods for implementing of comparison operations.\n",
    "\n",
    "\n",
    "|Operator\t|Method |\n",
    "|:---    |:--- |\n",
    "|<\t|`object.__lt__(self, other)` |\n",
    "|<=\t|`object.__le__(self, other)` |\n",
    "|==\t|`object.__eq__(self, other)` |\n",
    "|!=\t|`object.__ne__(self, other)` |\n",
    "|>=\t|`object.__ge__(self, other)` |\n",
    "|>\t|`object.__gt__(self, other)` |\n",
    "\n",
    "#### Example:\n",
    "\n",
    "We would like to compare two teams by its number of members, where the team with larger number of member is considered to be greater.\n",
    "\n",
    "We only need to implement `__lt__()`, `__le__()` and `__eq__()`. Other methods are optional."
   ]
  },
  {
   "cell_type": "code",
   "execution_count": null,
   "metadata": {},
   "outputs": [],
   "source": []
  },
  {
   "cell_type": "markdown",
   "metadata": {},
   "source": [
    "### 3.5 Arithmetic Operators\n",
    "\n",
    "Python also provides a set of magic methods to override arithmetic operators.\n",
    "\n",
    "|Operator\t|Method\n",
    "|-----|----\n",
    "|+|\t`object.__add__(self, other)`\n",
    "|-|\t`object.__sub__(self, other)`\n",
    "|+=| `object.__iadd__(self, other)`\n",
    "|-=| `object.__isub__(self, other)`\n",
    "\n",
    "#### Example:\n",
    "\n",
    "We would like to implement following features for `Team` class. \n",
    "* C = A + B: Addition of team A and B creates a new team by combining members from both team.\n",
    "* A += B: Add members in team B to A. \n",
    "\n",
    "We will need to implement `__add__()` and `__iadd__()`."
   ]
  },
  {
   "cell_type": "code",
   "execution_count": null,
   "metadata": {},
   "outputs": [],
   "source": []
  },
  {
   "cell_type": "markdown",
   "metadata": {},
   "source": [
    "## Reference\n",
    "\n",
    "* [Magic Methods and Operator Overloading](https://www.python-course.eu/python3_magic_methods.php)\n",
    "* https://mypy.readthedocs.io/en/latest/protocols.html#predefined-protocols\n",
    "* https://docs.python.org/3/library/collections.abc.html\n",
    "* https://realpython.com/operator-function-overloading/\n"
   ]
  }
 ],
 "metadata": {
  "kernelspec": {
   "display_name": "Python 3",
   "language": "python",
   "name": "python3"
  },
  "language_info": {
   "codemirror_mode": {
    "name": "ipython",
    "version": 3
   },
   "file_extension": ".py",
   "mimetype": "text/x-python",
   "name": "python",
   "nbconvert_exporter": "python",
   "pygments_lexer": "ipython3",
   "version": "3.7.3"
  }
 },
 "nbformat": 4,
 "nbformat_minor": 2
}
