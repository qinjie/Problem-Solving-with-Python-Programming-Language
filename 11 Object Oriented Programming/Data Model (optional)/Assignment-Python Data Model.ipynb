{
 "cells": [
  {
   "cell_type": "markdown",
   "metadata": {},
   "source": [
    "# Python Data Model - Assignment"
   ]
  },
  {
   "cell_type": "markdown",
   "metadata": {},
   "source": [
    "## 1. Scoreboard Class\n",
    "\n",
    "We would like to implement a `Scoreboard` class to keep track of scores of a team. \n",
    "\n",
    "### 1.1. Basic Class\n",
    "\n",
    "Implement `Scoreboard` class as following:\n",
    "* Implement its initializer method which access a string `name` and a list `scores`. Copy them to intance attributes `_name` and `_scores`.\n",
    "* If `scores` is None, assign empty list to `_scores`.\n",
    "    \n",
    "**Sample Output:**\n",
    "```\n",
    "SG Team []\n",
    "SG Team [1, 2, 3]\n",
    "```"
   ]
  },
  {
   "cell_type": "code",
   "execution_count": 1,
   "metadata": {},
   "outputs": [
    {
     "name": "stdout",
     "output_type": "stream",
     "text": [
      "SG Team []\n",
      "SG Team [1, 2, 3]\n"
     ]
    }
   ],
   "source": [
    "class Scoreboard:\n",
    "    # YOUR CODE HERE\n",
    "    pass\n",
    "\n",
    "\n",
    "\n",
    "# Testing \n",
    "s1 = Scoreboard('SG Team')\n",
    "s2 = Scoreboard('SG Team', [1,2,3])\n",
    "print(s1._name, s1._scores)\n",
    "print(s2._name, s2._scores)"
   ]
  },
  {
   "cell_type": "markdown",
   "metadata": {},
   "source": [
    "### 1.2 String Representations\n",
    "\n",
    "Implement `Scoreboard2` as a derived class of `Scoreboard`.\n",
    "* Implement `__str__()` method to return a string `name: scores`. E.g. `Team SG: [1, 2, 3]`\n",
    "* Implement `__repr__()` method such that its returned string can be `eval()` to create an object of same value.\n",
    "\n",
    "**Sample Ouptput:**\n",
    "```\n",
    "Team SG: [30, 40, 50]\n",
    "Team SG: [30, 40, 50]\n",
    "```"
   ]
  },
  {
   "cell_type": "code",
   "execution_count": 2,
   "metadata": {},
   "outputs": [
    {
     "name": "stdout",
     "output_type": "stream",
     "text": [
      "Team SG: [30, 40, 50]\n",
      "Team SG: [30, 40, 50]\n"
     ]
    }
   ],
   "source": [
    "class Scoreboard2(Scoreboard):\n",
    "    # YOUR CODE HERE\n",
    "    pass\n",
    "    \n",
    "\n",
    "# Testing \n",
    "s1 = Scoreboard2('Team SG', [30, 40, 50])\n",
    "print(s1)\n",
    "s2 = eval(repr(s1))\n",
    "print(s2)"
   ]
  },
  {
   "cell_type": "markdown",
   "metadata": {},
   "source": [
    "### 1.3 Container Protocols\n",
    "\n",
    "Implement subclass `Scoreboard3` from class `Scoreboard2`. Make it behave like a container type by implementing `__len__()`, `__getitem__()`, `__setitem__()` and `__delitem__()` methods. \n",
    "* Score(s) can be access by indexing and slicing.\n",
    "* Individual score can be updated using indexing and assignment statement.\n",
    "* A score by be deleted using `del` statement.\n",
    "\n",
    "**Sample Output:**\n",
    "```\n",
    "SG Team: [10, 20, 30]\n",
    "SG Team: [50, 20, 30]\n",
    "SG Team: [50, 20]\n",
    "```"
   ]
  },
  {
   "cell_type": "code",
   "execution_count": 3,
   "metadata": {},
   "outputs": [
    {
     "name": "stdout",
     "output_type": "stream",
     "text": [
      "SG Team: [10, 20, 30]\n",
      "SG Team: [50, 20, 30]\n",
      "SG Team: [50, 20]\n"
     ]
    }
   ],
   "source": [
    "class Scoreboard3(Scoreboard2):\n",
    "    # YOUR CODE HERE\n",
    "    pass\n",
    "\n",
    "\n",
    "\n",
    "\n",
    "# Testing\n",
    "s = Scoreboard3('SG Team', [10,20,30])\n",
    "print(s)\n",
    "\n",
    "s[0] = 50\n",
    "print(s)\n",
    "\n",
    "del s[-1]\n",
    "print(s)"
   ]
  },
  {
   "cell_type": "markdown",
   "metadata": {},
   "source": [
    "### 1.4 Comparison Operators\n",
    "\n",
    "Derive class `Scoreboard4` from class `Scoreboard3`. \n",
    "* Implement `__lt__()`, `__le__()` and `__eq__()` methods so that any 2 instances of `Scoreboard4` can compare with each other. \n",
    "* The scoreboard instance with larger sum of scores is considered greater. \n",
    "\n",
    "**Sample Output:**\n",
    "```\n",
    "s1>s2: False\n",
    "s1<=s2: True\n",
    "s1==s2: False\n",
    "```"
   ]
  },
  {
   "cell_type": "code",
   "execution_count": 4,
   "metadata": {},
   "outputs": [
    {
     "name": "stdout",
     "output_type": "stream",
     "text": [
      "s1>s2: False\n",
      "s1<=s2: True\n",
      "s1==s2: False\n"
     ]
    }
   ],
   "source": [
    "class Scoreboard4(Scoreboard3):\n",
    "    # YOUR CODE HERE\n",
    "    pass\n",
    "\n",
    "\n",
    "\n",
    "\n",
    "# Testing\n",
    "s1 = Scoreboard4('Team A', [10, 15, 20])\n",
    "s2 = Scoreboard4('Team B', [15, 15, 25])\n",
    "print('s1>s2:', s1>s2)\n",
    "print('s1<=s2:', s1<=s2)\n",
    "print('s1==s2:', s1==s2)"
   ]
  },
  {
   "cell_type": "markdown",
   "metadata": {},
   "source": [
    "### 1.5 Arithmetic Operators\n",
    "\n",
    "Derive a subclass `Scoreboard5` from `Scoreboard4`. Implement `__iadd__()` method which will combine the scores from the other team if both teams are having same name. \n",
    "\n",
    "#### Sample Output\n",
    "```\n",
    "Team A: [5, 10, 15, 20, 25, 30]\n",
    "Cannot combine scores from different teams: Team A and Team B\n",
    "```"
   ]
  },
  {
   "cell_type": "code",
   "execution_count": 5,
   "metadata": {},
   "outputs": [
    {
     "name": "stdout",
     "output_type": "stream",
     "text": [
      "Team A: [5, 10, 15, 20, 25, 30]\n",
      "Cannot combine scores from different teams: Team A and Team B\n"
     ]
    }
   ],
   "source": [
    "class Scoreboard5(Scoreboard4):\n",
    "    # YOUR CODE HERE\n",
    "    pass\n",
    "\n",
    "            \n",
    "# Testing\n",
    "s1 = Scoreboard5('Team A', [5, 10, 15])\n",
    "s2 = Scoreboard5('Team A', [20, 25, 30])\n",
    "s3 = Scoreboard5('Team B', [20, 25, 30])\n",
    "\n",
    "s1 += s2\n",
    "print(s1)\n",
    "s1 += s3"
   ]
  }
 ],
 "metadata": {
  "kernelspec": {
   "display_name": "Python 3",
   "language": "python",
   "name": "python3"
  },
  "language_info": {
   "codemirror_mode": {
    "name": "ipython",
    "version": 3
   },
   "file_extension": ".py",
   "mimetype": "text/x-python",
   "name": "python",
   "nbconvert_exporter": "python",
   "pygments_lexer": "ipython3",
   "version": "3.7.3"
  }
 },
 "nbformat": 4,
 "nbformat_minor": 2
}
