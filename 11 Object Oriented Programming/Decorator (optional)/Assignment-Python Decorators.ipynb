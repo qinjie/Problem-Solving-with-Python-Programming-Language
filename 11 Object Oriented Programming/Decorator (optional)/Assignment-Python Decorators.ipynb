{
 "cells": [
  {
   "cell_type": "markdown",
   "metadata": {},
   "source": [
    "# Python Decorators - Assignment"
   ]
  },
  {
   "cell_type": "markdown",
   "metadata": {},
   "source": [
    "## a) \n",
    "\n",
    "Create a decorator `do_twice` which will perofrm a function twice.\n",
    "\n",
    "**Sample Output:**\n",
    "```\n",
    "Hello Singapore\n",
    "Hello Singapore\n",
    "```"
   ]
  },
  {
   "cell_type": "code",
   "execution_count": 1,
   "metadata": {},
   "outputs": [
    {
     "name": "stdout",
     "output_type": "stream",
     "text": [
      "Hello Singapore\n",
      "Hello Singapore\n"
     ]
    }
   ],
   "source": [
    "import functools\n",
    "\n",
    "# YOUR CODE HERE\n",
    "\n",
    "\n",
    "@do_twice\n",
    "def greet(whom):\n",
    "    print('Hello', whom)\n",
    "    \n",
    "greet('Singapore')"
   ]
  },
  {
   "cell_type": "markdown",
   "metadata": {},
   "source": [
    "## b)\n",
    "Create a decorator `log` which will save messages to a log file `log.txt` before and after running a function.\n",
    "* Name of funciton `f()` can be obtained with `f.__name__`\n",
    "\n",
    "**Sample Output:**\n",
    "```\n",
    "Start function greet\n",
    "End function greet\n",
    "```"
   ]
  },
  {
   "cell_type": "code",
   "execution_count": 2,
   "metadata": {},
   "outputs": [
    {
     "name": "stdout",
     "output_type": "stream",
     "text": [
      "Hello Singapore\n"
     ]
    }
   ],
   "source": [
    "import functools\n",
    "\n",
    "# YOUR CODE HERE\n",
    "\n",
    "\n",
    "\n",
    "@log\n",
    "def greet(whom):\n",
    "    print('Hello', whom)\n",
    "\n",
    "#!del log.txt\n",
    "greet('Singapore')"
   ]
  },
  {
   "cell_type": "code",
   "execution_count": 3,
   "metadata": {},
   "outputs": [
    {
     "name": "stdout",
     "output_type": "stream",
     "text": [
      "Start function greet\n",
      "End function greet\n",
      "Start function greet\n",
      "End function greet\n",
      "Start function greet\n",
      "End function greet\n"
     ]
    }
   ],
   "source": [
    "!more log.txt"
   ]
  }
 ],
 "metadata": {
  "kernelspec": {
   "display_name": "Python 3",
   "language": "python",
   "name": "python3"
  },
  "language_info": {
   "codemirror_mode": {
    "name": "ipython",
    "version": 3
   },
   "file_extension": ".py",
   "mimetype": "text/x-python",
   "name": "python",
   "nbconvert_exporter": "python",
   "pygments_lexer": "ipython3",
   "version": "3.7.3"
  }
 },
 "nbformat": 4,
 "nbformat_minor": 2
}
