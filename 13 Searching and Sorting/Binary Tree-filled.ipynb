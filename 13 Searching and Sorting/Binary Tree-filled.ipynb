{
 "cells": [
  {
   "cell_type": "markdown",
   "metadata": {},
   "source": [
    "# Binary Tree"
   ]
  },
  {
   "cell_type": "markdown",
   "metadata": {},
   "source": [
    "## 1. Introduction\n",
    "\n",
    "Binary Tree is a tree that each node has at most 2 children.\n",
    "* The two children are typically named `left child` and `right child`.\n",
    "* The top most node in the tree is the `root node`.\n",
    "* All nodes have one parent except root node, which has no parent. \n",
    "\n",
    "<img src=\"./images/binary_tree.jpg\" alt=\"ADT Tree\" style=\"width: 500px;\"/>\n",
    "<center>https://www.tutorialspoint.com/data_structures_algorithms/images/binary_tree.jpg</center>\n",
    "\n",
    "#### Some Important Terms\n",
    "* `Levels`: Level of a node represents the generation of a node.\n",
    "    * If the root node is at level 0, then its next child node is at level 1, its grandchild is at level 2, and so on.\n",
    "* `keys`: Key represents a value of a node based on which a search operation is to be carried out for a node.\n",
    "* `Traversing`: Traversing means passing through nodes in a specific order.\n"
   ]
  },
  {
   "cell_type": "markdown",
   "metadata": {},
   "source": [
    "### Node Object\n",
    "\n",
    "Each **node** in binary tree contains following parts:\n",
    "* data\n",
    "* pointer to left child\n",
    "* pointer to right child\n",
    "\n",
    "<img src=\"./images/tree-node.jpg\" alt=\"Tree Node\" style=\"width: 200px;\"/>\n",
    "<center>https://cdn.programiz.com/sites/tutorial2program/files/tree-concept.jpg</center>\n"
   ]
  },
  {
   "cell_type": "markdown",
   "metadata": {},
   "source": [
    "### Exercise 1\n",
    "\n",
    "Implement a `Node` class which has instance attributes `data`, `left` and `right`.\n",
    "* Initialize `data`, `left` and `right` in initializer. Both `left` and `right` has default value of `None`.\n",
    "* Implement `__str__()` method to return string with format `data(left.data,right.data)`\n"
   ]
  },
  {
   "cell_type": "code",
   "execution_count": 45,
   "metadata": {
    "scrolled": true
   },
   "outputs": [
    {
     "name": "stdout",
     "output_type": "stream",
     "text": [
      "10(5,15)\n"
     ]
    }
   ],
   "source": [
    "class Node:\n",
    "    \n",
    "    def __init__(self, data=None, left=None, right=None):\n",
    "        self.data = data\n",
    "        self.left = left\n",
    "        self.right = right\n",
    "    \n",
    "    def __str__(self):\n",
    "        return '{}({},{})'.format(self.data, \n",
    "                                 self.left.data if self.left else '', \n",
    "                                 self.right.data if self.right else '')\n",
    "    \n",
    "if __name__ == '__main__':\n",
    "    left = Node(5)\n",
    "    right = Node(15)\n",
    "    n1 = Node(10, left, right)\n",
    "    print(n1)"
   ]
  },
  {
   "cell_type": "markdown",
   "metadata": {},
   "source": [
    "### Exercise 2\n",
    "\n",
    "Considering following binary tree, \n",
    "```\n",
    "             A\n",
    "           /   \\\n",
    "          /     \\\n",
    "         D       G \n",
    "       /   \\    /  \\\n",
    "      H     K  M    C\n",
    "     /   \n",
    "    W       \n",
    "```\n",
    "\n",
    "How do you use `Node` class to construct above tree with root node pointed by variable `root`?"
   ]
  },
  {
   "cell_type": "code",
   "execution_count": 46,
   "metadata": {},
   "outputs": [],
   "source": [
    "root = Node('A', Node('D', Node('H',Node('W')),Node('K')), Node('G', Node('M'), Node('C')))"
   ]
  },
  {
   "cell_type": "markdown",
   "metadata": {},
   "source": [
    "### Exercise 3\n",
    "\n",
    "Implement a <u>recursive function</u> `_print_tree()`, which prints a tree <u>layer by layer from the top</u>.\n",
    "* It receives a list of nodes as input.\n",
    "* It prints the current layer of nodes, and continue to print next layer of nodes until it finish printing all nodes."
   ]
  },
  {
   "cell_type": "code",
   "execution_count": 1,
   "metadata": {},
   "outputs": [],
   "source": [
    "def _print_tree(node_list):\n",
    "    # Stop recursion if the list is empty\n",
    "    if len(node_list)==0:\n",
    "        return\n",
    "    # define a list to collect nodes in next layer\n",
    "    next_layer = []\n",
    "    while node_list:\n",
    "        node = node_list.pop()\n",
    "        print(node, end=' ')\n",
    "        if node.left:\n",
    "            next_layer.insert(0, node.left)\n",
    "        if node.right:\n",
    "            next_layer.insert(0, node.right)\n",
    "    print()\n",
    "    _print_tree(next_layer)"
   ]
  },
  {
   "cell_type": "code",
   "execution_count": 48,
   "metadata": {},
   "outputs": [
    {
     "name": "stdout",
     "output_type": "stream",
     "text": [
      "A(D,G) \n",
      "D(H,K) G(M,C) \n",
      "H(W,) K(,) M(,) C(,) \n",
      "W(,) \n"
     ]
    }
   ],
   "source": [
    "_print_tree([root])"
   ]
  },
  {
   "cell_type": "markdown",
   "metadata": {},
   "source": [
    "### Exercise 4\n",
    "\n",
    "Defines a `BinaryTree` class. \n",
    "* It initialize `root` instance variable with an input parameter. The input parameter has a default value of `None`.\n",
    "* Implement recursive function `_print_tree()` as an instance method of `BinaryTree`.\n",
    "* Use `_print_tree()` to implement another instance method `print_tree()`, which prints nodes in each level, starting from root level."
   ]
  },
  {
   "cell_type": "code",
   "execution_count": 52,
   "metadata": {
    "scrolled": false
   },
   "outputs": [
    {
     "name": "stdout",
     "output_type": "stream",
     "text": [
      "27(14,35) \n",
      "14(10,19) 35(31,42) \n",
      "10(,) 19(,) 31(,) 42(,) \n"
     ]
    }
   ],
   "source": [
    "class BinaryTree:\n",
    "\n",
    "    def __init__(self, root=None):\n",
    "        self.root = root\n",
    "\n",
    "    def print_tree(self):\n",
    "        self._print_tree([self.root])\n",
    "\n",
    "    def _print_tree(self, node_list):\n",
    "        # Convert node_list to a list if it is not\n",
    "        if not isinstance(node_list, list):\n",
    "            node_list = [node_list]\n",
    "        # Stop recursion if the list is empty\n",
    "        if not node_list:\n",
    "            return\n",
    "        # define a list to collect nodes in next layer\n",
    "        next_layer = []\n",
    "        while node_list:\n",
    "            node = node_list.pop()\n",
    "            print(node, end=' ')\n",
    "            if node.left:\n",
    "                next_layer.insert(0, node.left)\n",
    "            if node.right:\n",
    "                next_layer.insert(0, node.right)\n",
    "        print()\n",
    "        self._print_tree(next_layer)\n",
    "\n",
    "\n",
    "if __name__ == '__main__':\n",
    "    root = Node(27, Node(14, Node(10),Node(19)), Node(35, Node(31), Node(42)))\n",
    "    tree = BinaryTree(root)\n",
    "    tree.print_tree()"
   ]
  },
  {
   "cell_type": "markdown",
   "metadata": {},
   "source": [
    "## 2. Binary Tree Traversals\n",
    "\n",
    "<b>Traversal</b> is the process of visiting all nodes in a tree in some order. \n",
    "* While visiting each node, we perform some actions on the node, e.g. print value of the node\n",
    "\n",
    "There are 3 common orders for traversal, `pre-order`, `post-order` and `in-order`.\n"
   ]
  },
  {
   "cell_type": "markdown",
   "metadata": {},
   "source": [
    "### Pre-order\n",
    "In pre-order traversal, we follow the order of `node-left-right`:\n",
    "* visit a given node first\n",
    "* visit its left child \n",
    "* followed by visiting its right child\n",
    "\n",
    "<img src=\"./images/binary_tree_traversal_preorder.gif\" width=300/>\n",
    "\n",
    "Translate it into recursive function:\n",
    "```python\n",
    "def _preorder(node):\n",
    "    if node is not None:\n",
    "        visitNode(node)\n",
    "        _preorder(node.left_child)\n",
    "        _preorder(node.right_child)\n",
    "```"
   ]
  },
  {
   "cell_type": "markdown",
   "metadata": {},
   "source": [
    "### In-order\n",
    "In in-order traversal, we follow the order of `left-node-right`:\n",
    "* visit left child of a given node\n",
    "* visit the given node\n",
    "* finally right child of the given node\n",
    "\n",
    "<img src=\"./images/binary_tree_traversal_inorder.gif\" width=300/>\n",
    "\n",
    "Translate it into recursive function:\n",
    "```python\n",
    "def _inorder(node):\n",
    "    if node is not None:\n",
    "        _inorder(node.left_child)\n",
    "        visitNode(node)\n",
    "        _inorder(node.right_child)\n",
    "```\n"
   ]
  },
  {
   "cell_type": "markdown",
   "metadata": {},
   "source": [
    "### Post-order\n",
    "In post-order traversal, we follow the order of `left-right-node`: \n",
    "* visit left child of a given node, \n",
    "* right child of a given node, \n",
    "* visit given node itself\n",
    "\n",
    "<img src=\"./images/binary_tree_traversal_postorder.gif\" width=300/>\n",
    "\n",
    "\n",
    "Translate it into recursive function:\n",
    "\n",
    "```python\n",
    "def _postorder(node):\n",
    "    if node is not None:\n",
    "        _postorder(node.left_child)\n",
    "        _postorder(node.right_child)\n",
    "        visitNode(node)\n",
    "```\n"
   ]
  },
  {
   "cell_type": "markdown",
   "metadata": {},
   "source": [
    "## 3. Traversal Example\n",
    "\n",
    "Considering the same binary tree in above example, \n",
    "```\n",
    "             A\n",
    "           /   \\\n",
    "          /     \\\n",
    "         D       G \n",
    "       /   \\    /  \\\n",
    "      H     K  M    C\n",
    "     /   \n",
    "    W       \n",
    "```"
   ]
  },
  {
   "cell_type": "markdown",
   "metadata": {},
   "source": [
    "**Question:**\n",
    "\n",
    "Assume of action of visiting each node is to print the node value, what is the value printed for `pre-order`, `in-order` and `poster-oder` respectively?"
   ]
  },
  {
   "cell_type": "raw",
   "metadata": {},
   "source": [
    "Pre-order : A D H W K G M C\n",
    "In-order: W H D K A M G C\n",
    "Post-order : W H K D M C G A"
   ]
  },
  {
   "cell_type": "markdown",
   "metadata": {},
   "source": [
    "### Exercise: Pre-Order\n",
    "\n",
    "With pre-order traversal, following tree will traverse nodes in such order: A D H W K G M C"
   ]
  },
  {
   "cell_type": "markdown",
   "metadata": {},
   "source": [
    "Implement a class `BinaryTree2` which inherits from `BinaryTree`.\n",
    "* Implement its `inorder()` instance method which prints nodes using `in-order` traversal.\n",
    "* Make use of the recursive function `_inorder()`."
   ]
  },
  {
   "cell_type": "code",
   "execution_count": 54,
   "metadata": {},
   "outputs": [],
   "source": [
    "class BinaryTree2(BinaryTree):\n",
    "    \n",
    "    def preorder(self):\n",
    "        self._preorder(self.root)\n",
    "\n",
    "    def _preorder(self, node=None):\n",
    "        if node is not None:\n",
    "            print(node.data, end=' ')\n",
    "            self._preorder(node.left)\n",
    "            self._preorder(node.right)"
   ]
  },
  {
   "cell_type": "code",
   "execution_count": 55,
   "metadata": {},
   "outputs": [
    {
     "name": "stdout",
     "output_type": "stream",
     "text": [
      "A D H W K G M C "
     ]
    }
   ],
   "source": [
    "if __name__ == '__main__':\n",
    "    root = Node('A', Node('D', Node('H',Node('W')),Node('K')), Node('G', Node('M'), Node('C')))\n",
    "    t = BinaryTree2(root)    \n",
    "    t.preorder()"
   ]
  },
  {
   "cell_type": "markdown",
   "metadata": {},
   "source": [
    "### Exercise: In-Order\n",
    "\n",
    "With in-order traversal, following tree will traverse nodes in such order: W H D K A M G C"
   ]
  },
  {
   "cell_type": "markdown",
   "metadata": {},
   "source": [
    "Implement a class `BinaryTree2` which inherits from `BinaryTree`.\n",
    "* Implement its `inorder()` instance method which prints nodes using `in-order` traversal.\n",
    "* Make use of the recursive function `_inorder()`."
   ]
  },
  {
   "cell_type": "code",
   "execution_count": 58,
   "metadata": {},
   "outputs": [],
   "source": [
    "class BinaryTree2(BinaryTree):\n",
    "    \n",
    "    def inorder(self):\n",
    "        self._inorder(self.root)\n",
    "\n",
    "    def _inorder(self, node=None):\n",
    "        if node is not None:\n",
    "            self._inorder(node.left)\n",
    "            print(node.data, end=' ')\n",
    "            self._inorder(node.right)\n",
    "    "
   ]
  },
  {
   "cell_type": "code",
   "execution_count": 59,
   "metadata": {},
   "outputs": [
    {
     "name": "stdout",
     "output_type": "stream",
     "text": [
      "W H D K A M G C "
     ]
    }
   ],
   "source": [
    "if __name__ == '__main__':\n",
    "    root = Node('A', Node('D', Node('H',Node('W')),Node('K')), Node('G', Node('M'), Node('C')))\n",
    "    t = BinaryTree2(root)    \n",
    "    t.inorder()"
   ]
  },
  {
   "cell_type": "markdown",
   "metadata": {},
   "source": [
    "### Exercise: Post-Order\n",
    "\n",
    "With post-order traversal, following tree will traverse nodes in such order: W H K D M C G A"
   ]
  },
  {
   "cell_type": "markdown",
   "metadata": {},
   "source": [
    "Implement a class `BinaryTree2` which inherits from `BinaryTree`.\n",
    "* Implement its `inorder()` method which prints nodes using `in-order` traversal.\n",
    "* Make use of the recursive function `_inorder()`."
   ]
  },
  {
   "cell_type": "code",
   "execution_count": 60,
   "metadata": {},
   "outputs": [
    {
     "name": "stdout",
     "output_type": "stream",
     "text": [
      "W H K D M C G A "
     ]
    }
   ],
   "source": [
    "class BinaryTree2(BinaryTree):\n",
    "    \n",
    "    def postorder(self):\n",
    "        self._postorder(self.root)\n",
    "\n",
    "    def _postorder(self, node=None):\n",
    "        if node is not None:\n",
    "            self._postorder(node.left)\n",
    "            self._postorder(node.right)\n",
    "            print(node.data, end=' ')\n"
   ]
  },
  {
   "cell_type": "code",
   "execution_count": 61,
   "metadata": {},
   "outputs": [
    {
     "name": "stdout",
     "output_type": "stream",
     "text": [
      "W H K D M C G A "
     ]
    }
   ],
   "source": [
    "if __name__ == '__main__':\n",
    "    root = Node('A', Node('D', Node('H',Node('W')),Node('K')), Node('G', Node('M'), Node('C')))\n",
    "    t = BinaryTree2(root)    \n",
    "    t.postorder()"
   ]
  },
  {
   "cell_type": "markdown",
   "metadata": {},
   "source": [
    "## Reference\n",
    "\n",
    "Traversal in-order, pre-order, post-order\n",
    "* https://opendsa-server.cs.vt.edu/ODSA/Books/Everything/html/BinaryTreeTraversal.html\n",
    "* https://www.programiz.com/dsa/tree-traversal\n",
    "* https://www.tutorialspoint.com/data_structures_algorithms/tree_traversal.htm\n",
    "* https://www.geeksforgeeks.org/tree-traversals-inorder-preorder-and-postorder/"
   ]
  }
 ],
 "metadata": {
  "kernelspec": {
   "display_name": "Python 3",
   "language": "python",
   "name": "python3"
  },
  "language_info": {
   "codemirror_mode": {
    "name": "ipython",
    "version": 3
   },
   "file_extension": ".py",
   "mimetype": "text/x-python",
   "name": "python",
   "nbconvert_exporter": "python",
   "pygments_lexer": "ipython3",
   "version": "3.7.3"
  }
 },
 "nbformat": 4,
 "nbformat_minor": 2
}
