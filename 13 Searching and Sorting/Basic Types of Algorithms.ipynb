{
 "cells": [
  {
   "cell_type": "markdown",
   "metadata": {},
   "source": [
    "# Basic Types of Algorithms\n",
    "\n",
    "* Divide-and-Conquer Algorithms\n",
    "* Greedy Algorithms\n",
    "* Learn from pygorithm "
   ]
  },
  {
   "cell_type": "markdown",
   "metadata": {},
   "source": [
    "## 1. Divide and Conquer\n",
    "\n",
    "A `divide-and-conquer` algorithm solves a problem by breaking it into subproblems, recursively solves the subproblems, and finally combines the solutions to the subproblems to solve the original problem.\n",
    "* **divide** into subproblems\n",
    "* **conquer** by solving the subproblems\n",
    "* **combine** the answers to solve the original problem\n",
    "\n",
    "<img src=\"./images/divide-and-conquer1.png\" alt=\"Divide and Conquer\" style=\"width: 500px;\"/>\n",
    "<center>Reference http://bigdata.ices.utexas.edu/project/divide-conquer-methods-for-big-data-analytics/</center>\n",
    "\n",
    "#### Benefits\n",
    "Some key benefits of using a divide and conquer approach:\n",
    "* Speed – A well constructed divide and conquer algorithm is typically very fast.\n",
    "* Simplifies Complexity - It breaks a complex topic down into small and easy to manage chunks, which is most likely easy to solve.\n",
    "\n",
    "#### Applications\n",
    "* Binary search\n",
    "* Quick sort\n",
    "* Merge sort"
   ]
  },
  {
   "cell_type": "markdown",
   "metadata": {},
   "source": [
    "### Binary Search\n",
    "\n",
    "Binary Search is a technique used to search element in a **sorted list**. The 2nd and 3rd case are repeating of main process and we can do it using recursive function. \n",
    "* If k = array[mid], the key k is found and we can return index.\n",
    "* If k < array[mid], then the key k can appear only in the first half of the array.\n",
    "* If k > array[mid], then the key k can appear only in the second half of the array.\n",
    "* If array[] is empty, we have search all elements, so return -1 (not found).\n",
    "\n",
    "<img src=\"./images/binary-search.jpg\" alt=\"Divide and Conquer\" style=\"width: 400px;\"/>\n",
    "<center>Reference https://algorithms.cs.aalto.fi/Teaching/CS-A1120/2018/notes/round-efficiency--binarysearch.html</center>"
   ]
  },
  {
   "cell_type": "markdown",
   "metadata": {},
   "source": [
    "#### Approach 1: Return True/False"
   ]
  },
  {
   "cell_type": "code",
   "execution_count": null,
   "metadata": {},
   "outputs": [],
   "source": []
  },
  {
   "cell_type": "code",
   "execution_count": null,
   "metadata": {},
   "outputs": [],
   "source": []
  },
  {
   "cell_type": "markdown",
   "metadata": {},
   "source": [
    "#### Approach 2: Return Index\n",
    "\n",
    "If we need to return the index value of found item, we cannot slice the original array in each recursion. We make use of `start` and `end` index to guide our search space."
   ]
  },
  {
   "cell_type": "code",
   "execution_count": null,
   "metadata": {},
   "outputs": [],
   "source": [
    "\n"
   ]
  },
  {
   "cell_type": "code",
   "execution_count": null,
   "metadata": {},
   "outputs": [],
   "source": []
  },
  {
   "cell_type": "markdown",
   "metadata": {},
   "source": [
    "### Quick Sort\n",
    "\n",
    "Quick Sort uses `divide-and-conquer` approach. \n",
    "* Select a 'pivot' element from the array, e.g. 1st element or middle element.\n",
    "* Partition other elements into 3 sub-lists, according to whether they are less than, equal or greater than the pivot.\n",
    "* The less-than and greater-than sub-lists are then sorted recursively.\n",
    "* This can be done in-place, requiring small additional amounts of memory to perform the sorting.\n",
    "\n",
    "<img src=\"images/quick_sort.png\" width=240 />\n"
   ]
  },
  {
   "cell_type": "markdown",
   "metadata": {},
   "source": [
    "#### Implementation"
   ]
  },
  {
   "cell_type": "code",
   "execution_count": null,
   "metadata": {},
   "outputs": [],
   "source": []
  },
  {
   "cell_type": "code",
   "execution_count": null,
   "metadata": {},
   "outputs": [],
   "source": []
  },
  {
   "cell_type": "markdown",
   "metadata": {},
   "source": [
    "### Merge Sort\n",
    "\n",
    "Like Quick Sort, Merge Sort is a Divide and Conquer algorithm too.\n",
    "\n",
    "* Divide the unsorted list into n sublists, each containing one element (a list of one element is considered sorted).\n",
    "* Repeatedly merge sublists to produce new sorted sublists until there is only one sublist remaining. This will be the sorted list.\n",
    "\n",
    "<img src=\"images/merge_sort.png\" width=400 />"
   ]
  },
  {
   "cell_type": "code",
   "execution_count": null,
   "metadata": {},
   "outputs": [],
   "source": [
    "from IPython.display import YouTubeVideo\n",
    "YouTubeVideo(id='JSceec-wEyw', start=23, width=600, height=400)"
   ]
  },
  {
   "cell_type": "markdown",
   "metadata": {},
   "source": [
    "#### Function to Merge Sorted Lists\n",
    "\n",
    "Second phase of Merge Sort is to merge 2 sorted sublists into a single list. Let's implement a function `merge_sorted_lists()` for this purpose.\n",
    "\n",
    "<table><tr>\n",
    "<td> <img src=\"images/merge_sorted_lists_1.jpg\" alt=\"Drawing\" style=\"width: 250px;\"/> </td>\n",
    "<td> <img src=\"images/merge_sorted_lists_2.jpg\" alt=\"Drawing\" style=\"width: 250px;\"/> </td>\n",
    "</tr></table>\n"
   ]
  },
  {
   "cell_type": "code",
   "execution_count": null,
   "metadata": {},
   "outputs": [],
   "source": []
  },
  {
   "cell_type": "markdown",
   "metadata": {},
   "source": [
    "Test `merge_sorted_lists()` function."
   ]
  },
  {
   "cell_type": "code",
   "execution_count": null,
   "metadata": {},
   "outputs": [],
   "source": []
  },
  {
   "cell_type": "markdown",
   "metadata": {},
   "source": [
    "#### Recursive Function for Merge Sort\n",
    "\n",
    "In each recursion in Merge Sort, a large list is divided into 2 smaller sub-lists. Merge Sort is applied to both smaller sub-lists.\n",
    "* Recursion ends when there is only 1 or 0 item in the list.\n",
    "* Each call returns a sorted list.\n",
    "* Result is obtained by merging 2 sorted sub-lists. "
   ]
  },
  {
   "cell_type": "code",
   "execution_count": null,
   "metadata": {},
   "outputs": [],
   "source": []
  },
  {
   "cell_type": "code",
   "execution_count": null,
   "metadata": {},
   "outputs": [],
   "source": []
  },
  {
   "cell_type": "markdown",
   "metadata": {},
   "source": [
    "## 2. Greedy Algorithms (Optional)"
   ]
  },
  {
   "cell_type": "markdown",
   "metadata": {},
   "source": [
    "### What is Greedy Algorithm?\n",
    "\n",
    "Optimization problem is a problem of finding the best solution from all feasible solutions. \n",
    "There are 2 common techniques in solving optimization problems:\n",
    "* Greedy Algorithms\n",
    "* Dynamic Programming\n",
    "\n",
    "Greedy Algorithm is a strategy to make a choice which seems the best at each step, and hopefully these steps will end up with an overall best solution to a problem.\n",
    "* In each step, it always makes the choice that seems to be the best at that moment, i.e. **local optimal choice** or **greedy choice**.\n",
    "\n",
    "Greedy Algorithms typically consist of:\n",
    "* A set of choices\n",
    "* A **selection function** which decides the most benefiting choice\n",
    "* A function to check if selected choices constitute a solution\n",
    "\n",
    "#### Approaches\n",
    "Greedy algorithm considers all choices in a particular problem, and set a rule to decide which choice to choose to maximize benefit at each step. It iterates through the choices till problem solved.\n",
    "* Understand problem and the set of choices\n",
    "* Set the selection function to make choice which will bring maximum benefit\n",
    "* At each step, add a choice for sub-problem based on the rule\n",
    "    * Check if current set of choices provide a solution to the problem\n",
    "    * Repeat until it reaches a solution\n",
    "\n",
    "#### Examples\n",
    "* [Largest Number from Digits](https://towardsdatascience.com/course-1-algorithmic-toolbox-part-2-big-o-and-greedy-6265d9065f05)\n",
    "* [Minimum Coin Change problem](https://www.algoskills.com/g_coinchange.php)\n",
    "* [Activity Selection problem](https://www.algoskills.com/activityselection.php)\n",
    "* [Fractional Knapsack problem](https://www.algoskills.com/f_knapsack.php)"
   ]
  },
  {
   "cell_type": "markdown",
   "metadata": {},
   "source": [
    "### Example 1: Largest Number from Digits\n",
    "\n",
    "Find the largest integer number can be formed by a given set of digits.\n",
    "* Reference: https://towardsdatascience.com/course-1-algorithmic-toolbox-part-2-big-o-and-greedy-6265d9065f05\n",
    "\n",
    "**<u>Question</u>:** What is the largest number that consists of digits 3, 9, 5, 9, 7, 1? \n",
    "\n",
    "#### Analysis:\n",
    "* The choice space are all digits: 3, 9, 5, 9, 7, 1\n",
    "* Selection function is to select largest digit to be MSD (Most Significant Digit) so that final number is largest\n",
    "* Solution will be found once all digits are utilized"
   ]
  },
  {
   "cell_type": "code",
   "execution_count": null,
   "metadata": {
    "scrolled": true
   },
   "outputs": [],
   "source": []
  },
  {
   "cell_type": "markdown",
   "metadata": {},
   "source": [
    "#### A Simpler Solution?"
   ]
  },
  {
   "cell_type": "code",
   "execution_count": null,
   "metadata": {},
   "outputs": [],
   "source": []
  },
  {
   "cell_type": "markdown",
   "metadata": {},
   "source": [
    "### Example 2: Minimum Coin Change\n",
    "\n",
    "Find the minimum number of coins whose values are added up to a given amount of money.\n",
    "* Reference: https://www.algoskills.com/g_coinchange.php\n",
    "\n",
    "**<u>Question</u>:** Given unlimited number of coins of value 1, 5, 10, 20 and 50 cents. Find the minimum number of coins to pay `87` cents.\n",
    "\n",
    "#### Analysis:\n",
    "* The choice space are coins of all values: 1, 5, 10, 20, 50\n",
    "* Selection function is to select coin of largest value first to minimize the number of coins required\n",
    "* Solution will be found if total value of selected coins equals required amount\n"
   ]
  },
  {
   "cell_type": "code",
   "execution_count": null,
   "metadata": {},
   "outputs": [],
   "source": []
  },
  {
   "cell_type": "markdown",
   "metadata": {},
   "source": [
    "#### Does greedy algorithms always give optimal result?\n",
    "\n",
    "If the coins available are of values `[5, 30, 50]`, what is the minimum number of coins to get amount of `60`? Does above greedy algorithm still give minimum number of coins?\n"
   ]
  },
  {
   "cell_type": "code",
   "execution_count": null,
   "metadata": {},
   "outputs": [],
   "source": []
  },
  {
   "cell_type": "markdown",
   "metadata": {},
   "source": [
    "### Example 3: Activity Selection\n",
    "\n",
    "Assume a meeting room can only hold one activity at a time, find the maximum number of meetings that can be hold in the meeting room for a period of time.\n",
    "* Reference: https://www.algoskills.com/activityselection.php\n",
    "\n",
    "**<u>Question</u>:** Given following meetings in the format of [meeting-name, start-time, end-time], schedule the meeting room with maximum number of meetings.\n",
    "\n",
    "```\n",
    "meetings = [['A',1,4],['C',2,3],['E',11,12],['D',7,12],['B',4,6]]\n",
    "```\n",
    "\n",
    "#### Analysis:\n",
    "* The choice space are all potential meetings\n",
    "* Selection function is to maximize the number of meetings for the meeting room, i.e. select meeting which has earlier end time so that there are more free time to pack more meetings\n",
    "* Solution will be found when all meetings are processed"
   ]
  },
  {
   "cell_type": "code",
   "execution_count": null,
   "metadata": {},
   "outputs": [],
   "source": []
  },
  {
   "cell_type": "markdown",
   "metadata": {},
   "source": [
    "#### How are the meetings sorted?\n",
    "\n",
    "In above example, we sort the meetings by end-time then start-time. \n",
    "* Objective is to pack as many meetings as possible.\n",
    "* Earlier end time will get more free time to pack other meetings.\n",
    "* No need to further sort by start-time if utilization of meeting room is not a concern."
   ]
  },
  {
   "cell_type": "markdown",
   "metadata": {},
   "source": [
    "#### What if the objective is to have highest meeting room utilization?"
   ]
  },
  {
   "cell_type": "markdown",
   "metadata": {},
   "source": [
    "* Priority given to meetings with earlier start-time and longer duration."
   ]
  },
  {
   "cell_type": "markdown",
   "metadata": {},
   "source": [
    "### Example 4: Fractional Knapsack (Backpack) Problem\n",
    "\n",
    "Given a bag with limited capacity and few objects with different weight and value, find the list of items which gives max value and can be fit into bag.\n",
    "* Reference: https://algoskills.com/f_knapsack.php\n",
    "\n",
    "**<u>Question</u>:** A thief robbing a store finds following items in the format of ['name', 'weight', 'value']. Each item has an associated value in dollars and a weight in kg. His backpack can only carry maximum 20 kg. What items should he take?\n",
    "\n",
    "```\n",
    "items = [['A',2,3],['B',5,2],['C',4,8],['D',7,3],['E',4,6]]\n",
    "```\n",
    "\n",
    "#### Analysis:\n",
    "* The choise space are the list of items found\n",
    "* Selection function is to select item is most worth to carry, i.e. dollar-per-kg is the highest \n",
    "* Solution will be found till it reach bag's capacity"
   ]
  },
  {
   "cell_type": "code",
   "execution_count": null,
   "metadata": {},
   "outputs": [],
   "source": []
  },
  {
   "cell_type": "markdown",
   "metadata": {},
   "source": [
    "#### Why use `continue` instead of `break` in `for-loop`?\n",
    "\n",
    "* What will be the problem if `continue` is replaced by `break`?"
   ]
  },
  {
   "cell_type": "markdown",
   "metadata": {},
   "source": [
    "### Other Applications\n",
    "\n",
    "There are many other applications of greedy algorithms, especially algorithm for networking.\n",
    "\n",
    "* [Huffman encoding](https://en.wikipedia.org/wiki/Huffman_coding), which is used to compress data\n",
    "* [Dijkstra's algorithm](https://en.wikipedia.org/wiki/Dijkstra%27s_algorithm), which is used to find the shortest path through a graph.\n",
    "* Travelling Salesman Problem\n",
    "* Prim's Minimal Spanning Tree Algorithm\n",
    "* Kruskal's Minimal Spanning Tree Algorithm\n",
    "\n",
    "### Summary\n",
    "\n",
    "* Greedy Algorithm makes the choice which seems the best at that moment and consequently solves the subproblems.\n",
    "* It iteratively makes one greedy choice after another, reducing each given problem into a smaller one.\n",
    "* It may NOT give an overall opital solution for problems, "
   ]
  },
  {
   "cell_type": "markdown",
   "metadata": {},
   "source": [
    "## 3. Learn from pygorithm (Optional)\n",
    "\n",
    "The **[pygorithm](https://pygorithm.readthedocs.io/en/latest/)** is a open-source python module on [GitHub](https://github.com/OmkarPathak/pygorithm). \n",
    "* It helps you learn implementation of all major algorithms in Python. \n",
    "* You can get the code, time complexities and much more by just importing the required algorithm. \n",
    "* It covers implementation of all major algorithms in Python."
   ]
  },
  {
   "cell_type": "markdown",
   "metadata": {},
   "source": [
    "### Installation\n",
    "\n",
    "Run following command to install `pygorithm`."
   ]
  },
  {
   "cell_type": "code",
   "execution_count": null,
   "metadata": {},
   "outputs": [],
   "source": []
  },
  {
   "cell_type": "markdown",
   "metadata": {},
   "source": [
    "### Using an Algorithm\n",
    "\n",
    "Import sorting module and check the algorithms implemented in the module\n"
   ]
  },
  {
   "cell_type": "code",
   "execution_count": null,
   "metadata": {},
   "outputs": [],
   "source": []
  },
  {
   "cell_type": "markdown",
   "metadata": {},
   "source": [
    "Try out `bubble_sort()` function."
   ]
  },
  {
   "cell_type": "code",
   "execution_count": null,
   "metadata": {},
   "outputs": [],
   "source": []
  },
  {
   "cell_type": "markdown",
   "metadata": {},
   "source": [
    "### Get Source Code\n",
    "\n",
    "Each algorithm comes with `get_code()` function, which returns implemented python code. "
   ]
  },
  {
   "cell_type": "code",
   "execution_count": null,
   "metadata": {},
   "outputs": [],
   "source": []
  },
  {
   "cell_type": "markdown",
   "metadata": {},
   "source": [
    "### Check Time Complexity\n",
    "\n",
    "You can also find **time complexity** of each algorithm using its `time_complexities()` function."
   ]
  },
  {
   "cell_type": "code",
   "execution_count": null,
   "metadata": {},
   "outputs": [],
   "source": []
  },
  {
   "cell_type": "markdown",
   "metadata": {},
   "source": [
    "## Reference\n",
    "* [algoskills](https://www.algoskills.com/home.php)\n",
    "* [Khan Academy: Computer science Algorithms](https://www.khanacademy.org/computing/computer-science/algorithms)\n",
    "* [Problem Solving with Algorithms and Data Structures](http://interactivepython.org/runestone/static/pythonds/index.html)\n",
    "* [pygorithm](https://pygorithm.readthedocs.io/en/latest/)"
   ]
  }
 ],
 "metadata": {
  "kernelspec": {
   "display_name": "Python 3",
   "language": "python",
   "name": "python3"
  },
  "language_info": {
   "codemirror_mode": {
    "name": "ipython",
    "version": 3
   },
   "file_extension": ".py",
   "mimetype": "text/x-python",
   "name": "python",
   "nbconvert_exporter": "python",
   "pygments_lexer": "ipython3",
   "version": "3.7.3"
  }
 },
 "nbformat": 4,
 "nbformat_minor": 2
}
