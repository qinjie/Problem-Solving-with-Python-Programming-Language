{
 "cells": [
  {
   "cell_type": "markdown",
   "metadata": {},
   "source": [
    "# Merge Sort - Assignments"
   ]
  },
  {
   "cell_type": "markdown",
   "metadata": {},
   "source": [
    "Download the zip file from https://data.gov.sg/dataset/number-of-mrt-lrt-stations. In the zip file, find a csv file `number-of-mrt-and-lrt-stations.csv` which contains the year, number of MRT and LRT stations when there are new stations open. The data is already sorted by year.\n",
    "\n",
    "Sample of the file.\n",
    "```\n",
    "year,mrt,lrt\n",
    "2004,65,20\n",
    "2005,65,31\n",
    "```"
   ]
  },
  {
   "cell_type": "markdown",
   "metadata": {},
   "source": [
    "### 1. Read Data from File\n",
    "\n",
    "Implement a function `read_csv()` which reads above csv file and returns list of records. \n",
    "* It takes in a parameter `file_path` which points to the csv file.\n",
    "* It returns a nested-list of records. Each record is a list with the format of `[year, mrt_count, lrt_count]`, where `mrt_count` and `lrt_count` are integers."
   ]
  },
  {
   "cell_type": "code",
   "execution_count": 66,
   "metadata": {},
   "outputs": [],
   "source": [
    "import csv\n",
    "\n",
    "def read_csv(file_path):\n",
    "    \n",
    "    with open(file_path) as f:<u>Test:</u>\n",
    "        reader = csv.reader(f)\n",
    "        header = next(reader)\n",
    "        data = [x for x in reader]\n",
    "    return data"
   ]
  },
  {
   "cell_type": "markdown",
   "metadata": {},
   "source": [
    "<u>Test:</u>"
   ]
  },
  {
   "cell_type": "code",
   "execution_count": 68,
   "metadata": {
    "scrolled": true
   },
   "outputs": [
    {
     "name": "stdout",
     "output_type": "stream",
     "text": [
      "[['2004', '65', '20'], ['2005', '65', '31'], ['2006', '66', '31'], ['2007', '66', '33'], ['2008', '68', '33'], ['2009', '73', '33'], ['2010', '84', '33'], ['2011', '97', '34'], ['2012', '99', '34'], ['2013', '105', '35'], ['2014', '106', '38'], ['2017', '138', '42']]\n"
     ]
    }
   ],
   "source": [
    "data = read_csv('./data/number-of-mrt-and-lrt-stations.csv')\n",
    "print(data)\n",
    "assert(data == [\n",
    "    ['2004', '65', '20'], \n",
    "    ['2005', '65', '31'], \n",
    "    ['2006', '66', '31'], \n",
    "    ['2007', '66', '33'], \n",
    "    ['2008', '68', '33'], \n",
    "    ['2009', '73', '33'], \n",
    "    ['2010', '84', '33'], \n",
    "    ['2011', '97', '34'], \n",
    "    ['2012', '99', '34'], \n",
    "    ['2013', '105', '35'], \n",
    "    ['2014', '106', '38'], \n",
    "    ['2017', '138', '42']\n",
    "])"
   ]
  },
  {
   "cell_type": "markdown",
   "metadata": {},
   "source": [
    "### 2. Define Class `NewStations`\n",
    "\n",
    "Define a class `NewStations` which contains information of the additional MRT and LRT stations over two consecutive published years. \n",
    "* It contains 3 attributes, `period`, `added_mrt`, and `added_lrt`.\n",
    "* Sample attribute values: `period = \"2004-2005\", added_mrt = 0, added_lrt = 11`.\n",
    "* Implement its `__init__()` function to initialize its 3 attributes.\n",
    "* Implement its `__str__()` function to print string in the format of `NewStations(2014-2015, mrt=0, lrt=11)`.\n"
   ]
  },
  {
   "cell_type": "code",
   "execution_count": 69,
   "metadata": {},
   "outputs": [],
   "source": [
    "class NewStations:\n",
    "    \n",
    "    def __init__(self, period, added_mrt, added_lrt):\n",
    "        self.period = period\n",
    "        self.added_mrt = added_mrt\n",
    "        self.added_lrt = added_lrt\n",
    "    \n",
    "    def __str__(self):\n",
    "        return '{}({},{},{})'.format(self.__class__.__name__, self.period, self.added_mrt, self.added_lrt)"
   ]
  },
  {
   "cell_type": "markdown",
   "metadata": {},
   "source": [
    "<u>Test:</u>"
   ]
  },
  {
   "cell_type": "code",
   "execution_count": 70,
   "metadata": {},
   "outputs": [
    {
     "name": "stdout",
     "output_type": "stream",
     "text": [
      "NewStations(2004-2005,0,11)\n"
     ]
    }
   ],
   "source": [
    "s = NewStations(period=\"2004-2005\", added_mrt=0, added_lrt=11)\n",
    "print(s)\n",
    "assert(str(s) == 'NewStations(2004-2005,0,11)')"
   ]
  },
  {
   "cell_type": "markdown",
   "metadata": {},
   "source": [
    "### 3. List of NewStations Objects\n",
    "\n",
    "Implement a function `gen_newstations_list()` which takes in the output from `read_csv()` function, and returns a list of NewStations objects."
   ]
  },
  {
   "cell_type": "code",
   "execution_count": 71,
   "metadata": {},
   "outputs": [],
   "source": [
    "def gen_newstations_list(arr):\n",
    "    result = []\n",
    "    for i in range(len(arr)-1):\n",
    "        period = '{}-{}'.format(arr[i][0], arr[i+1][0])\n",
    "        added_mrt = int(arr[i+1][1]) - int(arr[i][1])\n",
    "        added_lrt = int(arr[i+1][2]) - int(arr[i][2])\n",
    "        obj = NewStations(period, added_mrt, added_lrt)\n",
    "        result.append(obj)\n",
    "    return result\n"
   ]
  },
  {
   "cell_type": "markdown",
   "metadata": {},
   "source": [
    "<u>Test:</u>"
   ]
  },
  {
   "cell_type": "code",
   "execution_count": 73,
   "metadata": {},
   "outputs": [
    {
     "name": "stdout",
     "output_type": "stream",
     "text": [
      "['NewStations(2004-2005,0,11)', 'NewStations(2005-2006,1,0)', 'NewStations(2006-2007,0,2)', 'NewStations(2007-2008,2,0)', 'NewStations(2008-2009,5,0)', 'NewStations(2009-2010,11,0)', 'NewStations(2010-2011,13,1)', 'NewStations(2011-2012,2,0)', 'NewStations(2012-2013,6,1)', 'NewStations(2013-2014,1,3)', 'NewStations(2014-2017,32,4)']\n"
     ]
    }
   ],
   "source": [
    "newstations_list = gen_newstations_list(data)\n",
    "print([str(x) for x in newstations_list])\n",
    "assert([str(x) for x in newstations_list] == [\n",
    "    'NewStations(2004-2005,0,11)', \n",
    "    'NewStations(2005-2006,1,0)', \n",
    "    'NewStations(2006-2007,0,2)', \n",
    "    'NewStations(2007-2008,2,0)', \n",
    "    'NewStations(2008-2009,5,0)', \n",
    "    'NewStations(2009-2010,11,0)', \n",
    "    'NewStations(2010-2011,13,1)', \n",
    "    'NewStations(2011-2012,2,0)', \n",
    "    'NewStations(2012-2013,6,1)', \n",
    "    'NewStations(2013-2014,1,3)', \n",
    "    'NewStations(2014-2017,32<u>Test:</u>,4)'])"
   ]
  },
  {
   "cell_type": "markdown",
   "metadata": {},
   "source": [
    "### 4. Merge Sort\n",
    "\n",
    "Implement a function `sort_by_mrt()` which sorts the list by number of added MRT stations using Merge Sort algorithm.\n",
    "* If you are implementing supporting function to merge sorted lists, name it as `merge_sorted_lists()`. "
   ]
  },
  {
   "cell_type": "code",
   "execution_count": 74,
   "metadata": {},
   "outputs": [],
   "source": [
    "def merge_sorted_lists(arr1, arr2):\n",
    "    '''Merge 2 sorted lists'''\n",
    "    result = []\n",
    "    \n",
    "    size1 = len(arr1) \n",
    "    size2 = len(arr2) \n",
    "    i, j = 0, 0\n",
    "\n",
    "    while i < size1 and j < size2: \n",
    "        if arr1[i].added_mrt < arr2[j].added_mrt: \n",
    "            result.append(arr1[i]) \n",
    "            i = i + 1\n",
    "        else: \n",
    "            result.append(arr2[j]) \n",
    "            j = j + 1\n",
    "\n",
    "    return result + arr1[i:] + arr2[j:]"
   ]
  },
  {
   "cell_type": "code",
   "execution_count": 75,
   "metadata": {},
   "outputs": [],
   "source": [
    "def merge_sort(arr):\n",
    "    if len(arr) <= 1:\n",
    "        return arr\n",
    "\n",
    "#     print(arr)\n",
    "    mid = len(arr)//2\n",
    "    arr1 = merge_sort(arr[:mid])\n",
    "    arr2 = merge_sort(arr[mid:])\n",
    "    return merge_sorted_lists(arr1, arr2)"
   ]
  },
  {
   "cell_type": "markdown",
   "metadata": {},
   "source": [
    "<u>Test:</u>"
   ]
  },
  {
   "cell_type": "code",
   "execution_count": 89,
   "metadata": {},
   "outputs": [
    {
     "name": "stdout",
     "output_type": "stream",
     "text": [
      "['NewStations(2006-2007,0,2)', 'NewStations(2004-2005,0,11)', 'NewStations(2013-2014,1,3)', 'NewStations(2005-2006,1,0)', 'NewStations(2011-2012,2,0)', 'NewStations(2007-2008,2,0)', 'NewStations(2008-2009,5,0)', 'NewStations(2012-2013,6,1)', 'NewStations(2009-2010,11,0)', 'NewStations(2010-2011,13,1)', 'NewStations(2014-2017,32,4)']\n"
     ]
    }
   ],
   "source": [
    "sorted_list = merge_sort(newstations_list)\n",
    "print([str(x) for x in sorted_list])\n",
    "assert([str(x) for x in sorted_list] == [\n",
    "    'NewStations(2006-2007,0,2)', \n",
    "    'NewStations(2004-2005,0,11)', \n",
    "    'NewStations(2013-2014,1,3)', \n",
    "    'NewStations(2005-2006,1,0)', \n",
    "    'NewStations(2011-2012,2,0)', \n",
    "    'NewStations(2007-2008,2,0)', \n",
    "    'NewStations(2008-2009,5,0)', \n",
    "    'NewStations(2012-2013,6,1)', \n",
    "    'NewStations(2009-2010,11,0)', \n",
    "    'NewStations(2010-2011,13,1)', \n",
    "    'NewStations(2014-2017,32,4)'\n",
    "])"
   ]
  },
  {
   "cell_type": "markdown",
   "metadata": {},
   "source": [
    "### 5. Find the Median Number of New MRT Stations \n",
    "\n",
    "Using value from the sorted list, find the median of the new MRT stations added in the list. Assign the value to `n`.\n",
    "* If length of list is an odd number, the median is the middle value. If length of list is an even number, the median is the mean of the two middle values."
   ]
  },
  {
   "cell_type": "code",
   "execution_count": 96,
   "metadata": {},
   "outputs": [
    {
     "name": "stdout",
     "output_type": "stream",
     "text": [
      "2\n"
     ]
    }
   ],
   "source": [
    "if len(sorted_list) % 2 == 1:\n",
    "    i = len(sorted_list)//2\n",
    "    n = sorted_list[i].added_mrt\n",
    "else:\n",
    "    i = len(sorted_list)//2-1\n",
    "    n = sorted_list[i].added_mrt + sorted_list[i+1]\n",
    "    n = n/2\n",
    "print(n)"
   ]
  },
  {
   "cell_type": "markdown",
   "metadata": {},
   "source": [
    "<u>Test:</u>"
   ]
  },
  {
   "cell_type": "code",
   "execution_count": 97,
   "metadata": {},
   "outputs": [],
   "source": [
    "assert(n==2)"
   ]
  }
 ],
 "metadata": {
  "kernelspec": {
   "display_name": "Python 3",
   "language": "python",
   "name": "python3"
  },
  "language_info": {
   "codemirror_mode": {
    "name": "ipython",
    "version": 3
   },
   "file_extension": ".py",
   "mimetype": "text/x-python",
   "name": "python",
   "nbconvert_exporter": "python",
   "pygments_lexer": "ipython3",
   "version": "3.7.3"
  }
 },
 "nbformat": 4,
 "nbformat_minor": 2
}
