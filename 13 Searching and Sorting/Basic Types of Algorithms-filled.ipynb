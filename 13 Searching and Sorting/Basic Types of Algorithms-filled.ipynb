{
 "cells": [
  {
   "cell_type": "markdown",
   "metadata": {},
   "source": [
    "# Basic Types of Algorithms\n",
    "\n",
    "* Divide-and-Conquer Algorithms\n",
    "* Greedy Algorithms\n",
    "* Learn from pygorithm "
   ]
  },
  {
   "cell_type": "markdown",
   "metadata": {},
   "source": [
    "## 1. Divide and Conquer\n",
    "\n",
    "A `divide-and-conquer` algorithm solves a problem by breaking it into subproblems, recursively solves the subproblems, and finally combines the solutions to the subproblems to solve the original problem.\n",
    "* **divide** into subproblems\n",
    "* **conquer** by solving the subproblems\n",
    "* **combine** the answers to solve the original problem\n",
    "\n",
    "<img src=\"./images/divide-and-conquer1.png\" alt=\"Divide and Conquer\" style=\"width: 450px;\"/>\n",
    "<center>Reference http://bigdata.ices.utexas.edu/project/divide-conquer-methods-for-big-data-analytics/</center>\n",
    "\n",
    "#### Benefits\n",
    "Some key benefits of using a divide and conquer approach:\n",
    "* Speed – A well constructed divide and conquer algorithm is typically very fast.\n",
    "* Simplifies Complexity - It breaks a complex topic down into small and easy to manage chunks, which is most likely easy to solve.\n",
    "\n",
    "#### Applications\n",
    "* Binary search\n",
    "* Quick sort\n",
    "* Merge sort"
   ]
  },
  {
   "cell_type": "markdown",
   "metadata": {},
   "source": [
    "### Binary Search\n",
    "\n",
    "Binary Search is a technique used to search element in a **sorted list**. The 2nd and 3rd case are repeating of main process and we can do it using recursive function. \n",
    "* If k = array[mid], the key k is found and we can return index.\n",
    "* If k < array[mid], then the key k can appear only in the first half of the array.\n",
    "* If k > array[mid], then the key k can appear only in the second half of the array.\n",
    "* If array[] is empty, we have search all elements, so return -1 (not found).\n",
    "\n",
    "<img src=\"./images/binary-search.jpg\" alt=\"Divide and Conquer\" style=\"width: 400px;\"/>\n",
    "<center>Reference https://algorithms.cs.aalto.fi/Teaching/CS-A1120/2018/notes/round-efficiency--binarysearch.html</center>"
   ]
  },
  {
   "cell_type": "markdown",
   "metadata": {},
   "source": [
    "#### Approach 1: Return True/False"
   ]
  },
  {
   "cell_type": "code",
   "execution_count": 1,
   "metadata": {},
   "outputs": [],
   "source": [
    "def binary_search(arr,item):\n",
    "    if len(arr) == 0:\n",
    "        return False\n",
    "    m = len(arr)//2\n",
    "    if item < arr[m]:\n",
    "        return binary_search(arr[:m],item)\n",
    "    elif item > arr[m]:\n",
    "        return binary_search(arr[m+1:],item)\n",
    "    else:\n",
    "        return True"
   ]
  },
  {
   "cell_type": "code",
   "execution_count": 2,
   "metadata": {},
   "outputs": [
    {
     "name": "stdout",
     "output_type": "stream",
     "text": [
      "[2, 3, 4, 4, 4, 5, 5, 6, 7, 7, 9, 9, 9, 9, 10, 11, 12, 20, 20, 20]\n"
     ]
    },
    {
     "data": {
      "text/plain": [
       "True"
      ]
     },
     "execution_count": 2,
     "metadata": {},
     "output_type": "execute_result"
    }
   ],
   "source": [
    "import random\n",
    "\n",
    "arr = [random.randint(1,20) for i in range(20)]\n",
    "arr.sort()\n",
    "print(arr)\n",
    "\n",
    "binary_search(arr, 10)"
   ]
  },
  {
   "cell_type": "markdown",
   "metadata": {},
   "source": [
    "#### Approach 2: Return Index\n",
    "\n",
    "If we need to return the index value of found item, we cannot slice the original array in each recursion. We make use of `start` and `end` index to guide our search space."
   ]
  },
  {
   "cell_type": "code",
   "execution_count": 3,
   "metadata": {},
   "outputs": [],
   "source": [
    "def binary_search(arr, item, start=0, end=-1):\n",
    "    if end == -1:\n",
    "        end = len(arr) -1\n",
    "\n",
    "    if start >= end:\n",
    "        return -1\n",
    "\n",
    "    mid = (start + end) // 2\n",
    "    if item < arr[mid]:\n",
    "        return binary_search(arr, item, start, mid)\n",
    "    elif item > arr[mid]:\n",
    "        return binary_search(arr, item, mid+1, end)\n",
    "    else:\n",
    "        return mid\n"
   ]
  },
  {
   "cell_type": "code",
   "execution_count": 4,
   "metadata": {},
   "outputs": [
    {
     "name": "stdout",
     "output_type": "stream",
     "text": [
      "[3, 4, 7, 9, 10, 10, 12, 12, 12, 14, 14, 15, 15, 15, 17, 17, 17, 19, 19, 20]\n"
     ]
    },
    {
     "data": {
      "text/plain": [
       "4"
      ]
     },
     "execution_count": 4,
     "metadata": {},
     "output_type": "execute_result"
    }
   ],
   "source": [
    "import random\n",
    "\n",
    "arr = [random.randint(1,20) for i in range(20)]\n",
    "arr.sort()\n",
    "print(arr)\n",
    "\n",
    "binary_search(arr, 10)"
   ]
  },
  {
   "cell_type": "markdown",
   "metadata": {},
   "source": [
    "### Quick Sort\n",
    "\n",
    "Quick Sort uses `divide-and-conquer` approach. \n",
    "* Select a 'pivot' element from the array, e.g. 1st element or middle element.\n",
    "* Partition other elements into 3 sub-lists, according to whether they are less than, equal or greater than the pivot.\n",
    "* The less-than and greater-than sub-lists are then sorted recursively.\n",
    "* This can be done in-place, requiring small additional amounts of memory to perform the sorting.\n",
    "\n",
    "<img src=\"images/quick_sort.png\" width=240 />\n"
   ]
  },
  {
   "cell_type": "markdown",
   "metadata": {},
   "source": [
    "#### Implementation"
   ]
  },
  {
   "cell_type": "code",
   "execution_count": 5,
   "metadata": {},
   "outputs": [],
   "source": [
    "def quick_sort(unsorted):\n",
    "    if len(unsorted) <= 1:\n",
    "        return unsorted\n",
    "    \n",
    "    pivot = unsorted[0]\n",
    "    \n",
    "    equal  = [x for x in unsorted if x == pivot]\n",
    "    lesser  = [x for x in unsorted if x < pivot]\n",
    "    greater = [x for x in unsorted if x > pivot]\n",
    "#     print('{}, {}, {}'.format(lesser, equal, greater))\n",
    "    return quick_sort(lesser) + equal + quick_sort(greater)"
   ]
  },
  {
   "cell_type": "code",
   "execution_count": 6,
   "metadata": {},
   "outputs": [
    {
     "name": "stdout",
     "output_type": "stream",
     "text": [
      "[19, 13, 11, 6, 9, 6, 11, 18, 5, 10, 17, 5, 18, 18, 17, 17, 14, 1, 19, 15]\n"
     ]
    },
    {
     "data": {
      "text/plain": [
       "[1, 5, 5, 6, 6, 9, 10, 11, 11, 13, 14, 15, 17, 17, 17, 18, 18, 18, 19, 19]"
      ]
     },
     "execution_count": 6,
     "metadata": {},
     "output_type": "execute_result"
    }
   ],
   "source": [
    "import random\n",
    "\n",
    "arr = [random.randint(1,20) for i in range(20)]\n",
    "print(arr)\n",
    "quick_sort(arr)"
   ]
  },
  {
   "cell_type": "markdown",
   "metadata": {},
   "source": [
    "### Merge Sort\n",
    "\n",
    "Like Quick Sort, Merge Sort is a Divide and Conquer algorithm too.\n",
    "\n",
    "* Divide the unsorted list into n sublists, each containing one element (a list of one element is considered sorted).\n",
    "* Repeatedly merge sublists to produce new sorted sublists until there is only one sublist remaining. This will be the sorted list.\n",
    "\n",
    "<img src=\"images/merge_sort.png\" width=400 />"
   ]
  },
  {
   "cell_type": "code",
   "execution_count": 7,
   "metadata": {},
   "outputs": [
    {
     "data": {
      "image/jpeg": "[encoded data removed]",
      "text/html": [
       "\n",
       "        <iframe\n",
       "            width=\"600\"\n",
       "            height=\"400\"\n",
       "            src=\"https://www.youtube.com/embed/JSceec-wEyw?start=23\"\n",
       "            frameborder=\"0\"\n",
       "            allowfullscreen\n",
       "        ></iframe>\n",
       "        "
      ],
      "text/plain": [
       "<IPython.lib.display.YouTubeVideo at 0x1fa451906a0>"
      ]
     },
     "execution_count": 7,
     "metadata": {},
     "output_type": "execute_result"
    }
   ],
   "source": [
    "from IPython.display import YouTubeVideo\n",
    "YouTubeVideo(id='JSceec-wEyw', start=23, width=600, height=400)"
   ]
  },
  {
   "cell_type": "markdown",
   "metadata": {},
   "source": [
    "#### Function to Merge Sorted Lists\n",
    "\n",
    "Second phase of Merge Sort is to merge 2 sorted sublists into a single list. Let's implement a function `merge_sorted_lists()` for this purpose.\n",
    "\n",
    "<table><tr>\n",
    "<td> <img src=\"images/merge_sorted_lists_1.jpg\" alt=\"Drawing\" style=\"width: 250px;\"/> </td>\n",
    "<td> <img src=\"images/merge_sorted_lists_2.jpg\" alt=\"Drawing\" style=\"width: 250px;\"/> </td>\n",
    "</tr></table>\n"
   ]
  },
  {
   "cell_type": "code",
   "execution_count": 8,
   "metadata": {},
   "outputs": [],
   "source": [
    "def merge_sorted_lists(arr1, arr2):\n",
    "    '''Merge 2 sorted lists'''\n",
    "    result = []\n",
    "    \n",
    "    size1 = len(arr1) \n",
    "    size2 = len(arr2) \n",
    "    i, j = 0, 0\n",
    "\n",
    "    while i < size1 and j < size2: \n",
    "        if arr1[i] < arr2[j]: \n",
    "            result.append(arr1[i]) \n",
    "            i = i + 1\n",
    "        else: \n",
    "            result.append(arr2[j]) \n",
    "            j = j + 1\n",
    "\n",
    "    return result + arr1[i:] + arr2[j:]"
   ]
  },
  {
   "cell_type": "markdown",
   "metadata": {},
   "source": [
    "Test `merge_sorted_lists()` function."
   ]
  },
  {
   "cell_type": "code",
   "execution_count": 9,
   "metadata": {},
   "outputs": [
    {
     "name": "stdout",
     "output_type": "stream",
     "text": [
      "[0, 2, 4, 6, 8]\n",
      "[5, 7, 9, 11, 13]\n"
     ]
    },
    {
     "data": {
      "text/plain": [
       "[0, 2, 4, 5, 6, 7, 8, 9, 11, 13]"
      ]
     },
     "execution_count": 9,
     "metadata": {},
     "output_type": "execute_result"
    }
   ],
   "source": [
    "arr1 = list(range(0,10,2))\n",
    "arr2 = list(range(5,15,2))\n",
    "print(arr1)\n",
    "print(arr2)\n",
    "\n",
    "merge_sorted_lists(arr1, arr2)"
   ]
  },
  {
   "cell_type": "markdown",
   "metadata": {},
   "source": [
    "#### Recursive Function for Merge Sort\n",
    "\n",
    "In each recursion in Merge Sort, a large list is divided into 2 smaller sub-lists. Merge Sort is applied to both smaller sub-lists.\n",
    "* Recursion ends when there is only 1 or 0 item in the list.\n",
    "* Each call returns a sorted list.\n",
    "* Result is obtained by merging 2 sorted sub-lists. "
   ]
  },
  {
   "cell_type": "code",
   "execution_count": 10,
   "metadata": {},
   "outputs": [],
   "source": [
    "def merge_sort(arr):\n",
    "    if len(arr) <= 1:\n",
    "        return arr\n",
    "\n",
    "#     print(arr)\n",
    "    mid = len(arr)//2\n",
    "    arr1 = merge_sort(arr[:mid])\n",
    "    arr2 = merge_sort(arr[mid:])\n",
    "    return merge_sorted_lists(arr1, arr2)"
   ]
  },
  {
   "cell_type": "code",
   "execution_count": 11,
   "metadata": {},
   "outputs": [
    {
     "name": "stdout",
     "output_type": "stream",
     "text": [
      "[7, 9, 4, 6, 1, 2, 8, 3, 5, 0]\n"
     ]
    },
    {
     "data": {
      "text/plain": [
       "[0, 1, 2, 3, 4, 5, 6, 7, 8, 9]"
      ]
     },
     "execution_count": 11,
     "metadata": {},
     "output_type": "execute_result"
    }
   ],
   "source": [
    "import random\n",
    "arr = list(range(10))\n",
    "random.shuffle(arr)\n",
    "print(arr)\n",
    "\n",
    "merge_sort(arr)"
   ]
  },
  {
   "cell_type": "markdown",
   "metadata": {},
   "source": [
    "## 2. Greedy Algorithms (Optional)"
   ]
  },
  {
   "cell_type": "markdown",
   "metadata": {},
   "source": [
    "### What is Greedy Algorithm?\n",
    "\n",
    "Optimization problem is a problem of finding the best solution from all feasible solutions. \n",
    "There are 2 common techniques in solving optimization problems:\n",
    "* Greedy Algorithms\n",
    "* Dynamic Programming\n",
    "\n",
    "Greedy Algorithm is a strategy to make a choice which seems the best at each step, and hopefully these steps will end up with an overall best solution to a problem.\n",
    "* In each step, it always makes the choice that seems to be the best at that moment, i.e. **local optimal choice** or **greedy choice**.\n",
    "\n",
    "Greedy Algorithms typically consist of:\n",
    "* A set of choices\n",
    "* A **selection function** which decides the most benefiting choice\n",
    "* A function to check if selected choices constitute a solution\n",
    "\n",
    "#### Approaches\n",
    "Greedy algorithm considers all choices in a particular problem, and set a rule to decide which choice to choose to maximize benefit at each step. It iterates through the choices till problem solved.\n",
    "* Understand problem and the set of choices\n",
    "* Set the selection function to make choice which will bring maximum benefit\n",
    "* At each step, add a choice for sub-problem based on the rule\n",
    "    * Check if current set of choices provide a solution to the problem\n",
    "    * Repeat until it reaches a solution\n",
    "\n",
    "#### Examples\n",
    "* [Largest Number from Digits](https://towardsdatascience.com/course-1-algorithmic-toolbox-part-2-big-o-and-greedy-6265d9065f05)\n",
    "* [Minimum Coin Change problem](https://www.algoskills.com/g_coinchange.php)\n",
    "* [Activity Selection problem](https://www.algoskills.com/activityselection.php)\n",
    "* [Fractional Knapsack problem](https://www.algoskills.com/f_knapsack.php)"
   ]
  },
  {
   "cell_type": "markdown",
   "metadata": {},
   "source": [
    "### Example 1: Largest Number from Digits\n",
    "\n",
    "Find the largest integer number can be formed by a given set of digits.\n",
    "* Reference: https://towardsdatascience.com/course-1-algorithmic-toolbox-part-2-big-o-and-greedy-6265d9065f05\n",
    "\n",
    "**<u>Question</u>:** What is the largest number that consists of digits 3, 9, 5, 9, 7, 1? \n",
    "\n",
    "#### Analysis:\n",
    "* The choice space are all digits: 3, 9, 5, 9, 7, 1\n",
    "* Selection function is to select largest digit to be MSD (Most Significant Digit) so that final number is largest\n",
    "* Solution will be found once all digits are utilized"
   ]
  },
  {
   "cell_type": "code",
   "execution_count": 12,
   "metadata": {
    "scrolled": true
   },
   "outputs": [
    {
     "name": "stdout",
     "output_type": "stream",
     "text": [
      "[9]\n",
      "[9, 9]\n",
      "[9, 9, 7]\n",
      "[9, 9, 7, 5]\n",
      "[9, 9, 7, 5, 3]\n",
      "[9, 9, 7, 5, 3, 1]\n",
      "997531\n"
     ]
    }
   ],
   "source": [
    "digits = [3, 9, 5, 9, 7, 1]\n",
    "choices = []\n",
    "\n",
    "while len(digits)>0:\n",
    "    x = max(digits)\n",
    "    digits.remove(x)\n",
    "    choices.append(x)\n",
    "    print(choices)\n",
    "\n",
    "result = int(''.join(str(c) for c in choices))\n",
    "print(result)"
   ]
  },
  {
   "cell_type": "markdown",
   "metadata": {},
   "source": [
    "#### A Simpler Solution?"
   ]
  },
  {
   "cell_type": "code",
   "execution_count": 13,
   "metadata": {},
   "outputs": [
    {
     "name": "stdout",
     "output_type": "stream",
     "text": [
      "997531\n"
     ]
    }
   ],
   "source": [
    "digits = [3, 9, 5, 9, 7, 1]\n",
    "result = ''.join(str(c) for c in sorted(digits,reverse=True))\n",
    "result = int(result)\n",
    "print(result)"
   ]
  },
  {
   "cell_type": "markdown",
   "metadata": {},
   "source": [
    "### Example 2: Minimum Coin Change\n",
    "\n",
    "Find the minimum number of coins whose values are added up to a given amount of money.\n",
    "* Reference: https://www.algoskills.com/g_coinchange.php\n",
    "\n",
    "**<u>Question</u>:** Given unlimited number of coins of value 1, 5, 10, 20 and 50 cents. Find the minimum number of coins to pay `87` cents.\n",
    "\n",
    "#### Analysis:\n",
    "* The choice space are coins of all values: 1, 5, 10, 20, 50\n",
    "* Selection function is to select coin of largest value first to minimize the number of coins required\n",
    "* Solution will be found if total value of selected coins equals required amount\n"
   ]
  },
  {
   "cell_type": "code",
   "execution_count": 14,
   "metadata": {},
   "outputs": [
    {
     "data": {
      "text/plain": [
       "[50, 20, 10, 5, 1, 1]"
      ]
     },
     "execution_count": 14,
     "metadata": {},
     "output_type": "execute_result"
    }
   ],
   "source": [
    "def min_coins(coins, amount):\n",
    "    coins.sort(reverse=True)\n",
    "    result = []\n",
    "    for coin in coins:\n",
    "        while amount >= coin:\n",
    "            #while loop is needed since one coin can be used multiple times\n",
    "            result.append(coin)\n",
    "            amount = amount - coin\n",
    "    return result\n",
    "\n",
    "amount = 87\n",
    "coins = [1,5,10,20,50]\n",
    "min_coins(coins, amount)"
   ]
  },
  {
   "cell_type": "markdown",
   "metadata": {},
   "source": [
    "#### Does greedy algorithms always give optimal result?\n",
    "\n",
    "If the coins available are of values `[5, 30, 50]`, what is the minimum number of coins to get amount of `60`? Does above greedy algorithm still give minimum number of coins?\n"
   ]
  },
  {
   "cell_type": "code",
   "execution_count": 15,
   "metadata": {},
   "outputs": [
    {
     "data": {
      "text/plain": [
       "[50, 5, 5]"
      ]
     },
     "execution_count": 15,
     "metadata": {},
     "output_type": "execute_result"
    }
   ],
   "source": [
    "amount = 60\n",
    "coins = [5, 30, 50]\n",
    "min_coins(coins, amount)"
   ]
  },
  {
   "cell_type": "markdown",
   "metadata": {},
   "source": [
    "### Example 3: Activity Selection\n",
    "\n",
    "Assume a meeting room can only hold one activity at a time, find the maximum number of meetings that can be hold in the meeting room for a period of time.\n",
    "* Reference: https://www.algoskills.com/activityselection.php\n",
    "\n",
    "**<u>Question</u>:** Given following meetings in the format of [meeting-name, start-time, end-time], schedule the meeting room with maximum number of meetings.\n",
    "\n",
    "```\n",
    "meetings = [['A',1,4],['C',2,3],['E',11,12],['D',7,12],['B',4,6]]\n",
    "```\n",
    "\n",
    "#### Analysis:\n",
    "* The choice space are all potential meetings\n",
    "* Selection function is to maximize the number of meetings for the meeting room, i.e. select meeting which has earlier end time so that there are more free time to pack more meetings\n",
    "* Solution will be found when all meetings are processed"
   ]
  },
  {
   "cell_type": "code",
   "execution_count": 16,
   "metadata": {},
   "outputs": [
    {
     "name": "stdout",
     "output_type": "stream",
     "text": [
      "[['A', 1, 4], ['C', 2, 3], ['E', 11, 12], ['D', 7, 12], ['B', 4, 6]]\n",
      "[['C', 2, 3], ['A', 1, 4], ['B', 4, 6], ['D', 7, 12], ['E', 11, 12]]\n",
      "['C', 'B', 'D']\n"
     ]
    }
   ],
   "source": [
    "def activity_selection(events):\n",
    "    ordered = sorted(events, key=lambda x: (x[2], x[1]))\n",
    "    print(ordered)\n",
    "    names = [x[0] for x in ordered]\n",
    "    start = [x[1] for x in ordered]\n",
    "    end = [x[2] for x in ordered]\n",
    "    \n",
    "    # index of selected activity; first activity is always selected\n",
    "    i=0\n",
    "    result = [names[i]]\n",
    "    for j in range(1,len(names)):\n",
    "        if(start[j] >= end[i]):\n",
    "            result.append(names[j])\n",
    "            i=j\n",
    "    return result\n",
    "\n",
    "meetings = [['A',1,4],['C',2,3],['E',11,12],['D',7,12],['B',4,6]]\n",
    "print(meetings)\n",
    "result = activity_selection(meetings);\n",
    "print(result)"
   ]
  },
  {
   "cell_type": "markdown",
   "metadata": {},
   "source": [
    "#### How are the meetings sorted?\n",
    "\n",
    "In above example, we sort the meetings by end-time then start-time. \n",
    "* Objective is to pack as many meetings as possible.\n",
    "* Earlier end time will get more free time to pack other meetings.\n",
    "* No need to further sort by start-time if utilization of meeting room is not a concern."
   ]
  },
  {
   "cell_type": "markdown",
   "metadata": {},
   "source": [
    "#### What if the objective is to have highest meeting room utilization?"
   ]
  },
  {
   "cell_type": "markdown",
   "metadata": {},
   "source": [
    "* Priority given to meetings with earlier start-time and longer duration."
   ]
  },
  {
   "cell_type": "markdown",
   "metadata": {},
   "source": [
    "### Example 4: Fractional Knapsack (Backpack) Problem\n",
    "\n",
    "Given a bag with limited capacity and few objects with different weight and value, find the list of items which gives max value and can be fit into bag.\n",
    "* Reference: https://algoskills.com/f_knapsack.php\n",
    "\n",
    "**<u>Question</u>:** A thief robbing a store finds following items in the format of ['name', 'weight', 'value']. Each item has an associated value in dollars and a weight in kg. His backpack can only carry maximum 20 kg. What items should he take?\n",
    "\n",
    "```\n",
    "items = [['A',2,3],['B',5,2],['C',4,8],['D',7,3],['E',4,6]]\n",
    "```\n",
    "\n",
    "#### Analysis:\n",
    "* The choise space are the list of items found\n",
    "* Selection function is to select item is most worth to carry, i.e. dollar-per-kg is the highest \n",
    "* Solution will be found till it reach bag's capacity"
   ]
  },
  {
   "cell_type": "code",
   "execution_count": 17,
   "metadata": {},
   "outputs": [
    {
     "name": "stdout",
     "output_type": "stream",
     "text": [
      "[['C', 4, 8], ['E', 4, 6], ['A', 2, 3], ['F', 6, 3], ['B', 5, 2], ['D', 8, 2]]\n",
      "C, E, A, F, Total value = 20, total weight = 16\n"
     ]
    }
   ],
   "source": [
    "items = [['A',2,3],['B',5,2],['C',4,8],['E',4,6],['D',8,2], ['F', 6,3]]\n",
    "ordered = sorted(items, key=lambda x: (x[2]/x[1], x[1]), reverse=True)\n",
    "print(ordered)\n",
    "\n",
    "capacity = 20\n",
    "weights = 0\n",
    "values = 0\n",
    "for i in ordered:\n",
    "    if weights + i[1] > capacity:\n",
    "        continue\n",
    "    print(i[0], end=', ')\n",
    "    weights = weights + i[1]\n",
    "    values = values + i[2]\n",
    "\n",
    "print('Total value = {}, total weight = {}'.format(values, weights))"
   ]
  },
  {
   "cell_type": "markdown",
   "metadata": {},
   "source": [
    "#### Why use `continue` instead of `break` in `for-loop`?\n",
    "\n",
    "* What will be the problem if `continue` is replaced by `break`?"
   ]
  },
  {
   "cell_type": "markdown",
   "metadata": {},
   "source": [
    "### Other Applications\n",
    "\n",
    "There are many other applications of greedy algorithms, especially algorithm for networking.\n",
    "\n",
    "* [Huffman encoding](https://en.wikipedia.org/wiki/Huffman_coding), which is used to compress data\n",
    "* [Dijkstra's algorithm](https://en.wikipedia.org/wiki/Dijkstra%27s_algorithm), which is used to find the shortest path through a graph.\n",
    "* Travelling Salesman Problem\n",
    "* Prim's Minimal Spanning Tree Algorithm\n",
    "* Kruskal's Minimal Spanning Tree Algorithm\n",
    "\n",
    "### Summary\n",
    "\n",
    "* Greedy Algorithm makes the choice which seems the best at that moment and consequently solves the subproblems.\n",
    "* It iteratively makes one greedy choice after another, reducing each given problem into a smaller one.\n",
    "* It may NOT give an overall opital solution for problems, "
   ]
  },
  {
   "cell_type": "markdown",
   "metadata": {},
   "source": [
    "## 3. Learn from pygorithm (Optional)\n",
    "\n",
    "The **[pygorithm](https://pygorithm.readthedocs.io/en/latest/)** is a open-source python module on [GitHub](https://github.com/OmkarPathak/pygorithm). \n",
    "* It helps you learn implementation of all major algorithms in Python. \n",
    "* You can get the code, time complexities and much more by just importing the required algorithm. \n",
    "* It covers implementation of all major algorithms in Python."
   ]
  },
  {
   "cell_type": "markdown",
   "metadata": {},
   "source": [
    "### Installation\n",
    "\n",
    "Run following command to install `pygorithm`."
   ]
  },
  {
   "cell_type": "code",
   "execution_count": 18,
   "metadata": {},
   "outputs": [
    {
     "name": "stdout",
     "output_type": "stream",
     "text": [
      "Requirement already satisfied: pygorithm in c:\\users\\zqi2\\appdata\\local\\continuum\\anaconda3\\lib\\site-packages (1.0.4)\n"
     ]
    }
   ],
   "source": [
    "!pip install pygorithm"
   ]
  },
  {
   "cell_type": "markdown",
   "metadata": {},
   "source": [
    "### Using an Algorithm\n",
    "\n",
    "Import sorting module and check the algorithms implemented in the module\n"
   ]
  },
  {
   "cell_type": "code",
   "execution_count": 19,
   "metadata": {},
   "outputs": [
    {
     "name": "stdout",
     "output_type": "stream",
     "text": [
      "Help on package pygorithm.sorting in pygorithm:\n",
      "\n",
      "NAME\n",
      "    pygorithm.sorting - Collection of sorting methods\n",
      "\n",
      "PACKAGE CONTENTS\n",
      "    bubble_sort\n",
      "    bucket_sort\n",
      "    counting_sort\n",
      "    heap_sort\n",
      "    insertion_sort\n",
      "    merge_sort\n",
      "    quick_sort\n",
      "    selection_sort\n",
      "    shell_sort\n",
      "\n",
      "DATA\n",
      "    __all__ = ['bubble_sort', 'bucket_sort', 'counting_sort', 'heap_sort',...\n",
      "\n",
      "FILE\n",
      "    c:\\users\\zqi2\\appdata\\local\\continuum\\anaconda3\\lib\\site-packages\\pygorithm\\sorting\\__init__.py\n",
      "\n",
      "\n"
     ]
    }
   ],
   "source": [
    "from pygorithm import sorting\n",
    "help(sorting)"
   ]
  },
  {
   "cell_type": "markdown",
   "metadata": {},
   "source": [
    "Try out `bubble_sort()` function."
   ]
  },
  {
   "cell_type": "code",
   "execution_count": 20,
   "metadata": {},
   "outputs": [
    {
     "name": "stdout",
     "output_type": "stream",
     "text": [
      "[64, 97, 54, 46, 65, 25, 78, 55, 52, 73]\n"
     ]
    },
    {
     "data": {
      "text/plain": [
       "[25, 46, 52, 54, 55, 64, 65, 73, 78, 97]"
      ]
     },
     "execution_count": 20,
     "metadata": {},
     "output_type": "execute_result"
    }
   ],
   "source": [
    "import random\n",
    "arr = random.sample(range(100),10)\n",
    "print(arr)\n",
    "\n",
    "sorting.bubble_sort.sort(arr)"
   ]
  },
  {
   "cell_type": "markdown",
   "metadata": {},
   "source": [
    "### Get Source Code\n",
    "\n",
    "Each algorithm comes with `get_code()` function, which returns implemented python code. "
   ]
  },
  {
   "cell_type": "code",
   "execution_count": 21,
   "metadata": {},
   "outputs": [
    {
     "name": "stdout",
     "output_type": "stream",
     "text": [
      "def sort(_list):\n",
      "    \"\"\"\n",
      "    Bubble Sorting algorithm\n",
      "\n",
      "    :param _list: list of values to sort\n",
      "    :return: sorted values\n",
      "    \"\"\"\n",
      "    for i in range(len(_list)):\n",
      "        for j in range(len(_list) - 1, i, -1):\n",
      "            if _list[j] < _list[j - 1]:\n",
      "                _list[j], _list[j - 1] = _list[j - 1], _list[j]\n",
      "    return _list\n",
      "\n"
     ]
    }
   ],
   "source": [
    "code = sorting.bubble_sort.get_code()\n",
    "print(code)"
   ]
  },
  {
   "cell_type": "markdown",
   "metadata": {},
   "source": [
    "### Check Time Complexity\n",
    "\n",
    "You can also find **time complexity** of each algorithm using its `time_complexities()` function."
   ]
  },
  {
   "cell_type": "code",
   "execution_count": 22,
   "metadata": {},
   "outputs": [
    {
     "name": "stdout",
     "output_type": "stream",
     "text": [
      "Best Case: O(n), Average Case: O(n ^ 2), Worst Case: O(n ^ 2).\n",
      "\n",
      "For Improved Bubble Sort:\n",
      "Best Case: O(n); Average Case: O(n * (n - 1) / 4); Worst Case: O(n ^ 2)\n"
     ]
    }
   ],
   "source": [
    "info = sorting.bubble_sort.time_complexities()\n",
    "print(info)"
   ]
  },
  {
   "cell_type": "markdown",
   "metadata": {},
   "source": [
    "## Reference\n",
    "* [algoskills](https://www.algoskills.com/home.php)\n",
    "* [Khan Academy: Computer science Algorithms](https://www.khanacademy.org/computing/computer-science/algorithms)\n",
    "* [Problem Solving with Algorithms and Data Structures](http://interactivepython.org/runestone/static/pythonds/index.html)\n",
    "* [pygorithm](https://pygorithm.readthedocs.io/en/latest/)"
   ]
  }
 ],
 "metadata": {
  "kernelspec": {
   "display_name": "Python 3",
   "language": "python",
   "name": "python3"
  },
  "language_info": {
   "codemirror_mode": {
    "name": "ipython",
    "version": 3
   },
   "file_extension": ".py",
   "mimetype": "text/x-python",
   "name": "python",
   "nbconvert_exporter": "python",
   "pygments_lexer": "ipython3",
   "version": "3.7.3"
  }
 },
 "nbformat": 4,
 "nbformat_minor": 2
}
