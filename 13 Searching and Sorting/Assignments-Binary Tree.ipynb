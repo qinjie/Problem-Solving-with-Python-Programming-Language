{
 "cells": [
  {
   "cell_type": "markdown",
   "metadata": {},
   "source": [
    "# Binary Tree - Assignments"
   ]
  },
  {
   "cell_type": "markdown",
   "metadata": {},
   "source": [
    "In this assignment, we will store a list of students in a Binary Tree structure .  "
   ]
  },
  {
   "cell_type": "markdown",
   "metadata": {},
   "source": [
    "### 1. Define Class `Student`\n",
    "\n",
    "For the `Student` class to support binary tree structure, derive `Student` class from `Node` class. Define class `Student` with following requirements. \n",
    "* `Student` has another 2 instance attributes `first_name` and `last_name`. \n",
    "* Implement its `__init__()` function to initialize its 2 attributes.\n",
    "* Implement its `__str__()` function to print string in the format of `Student('Alan', 'Goh')`.\n",
    "* Implement a `fullname` property which returns students full name in `first_name last_name` format."
   ]
  },
  {
   "cell_type": "code",
   "execution_count": 14,
   "metadata": {},
   "outputs": [],
   "source": [
    "class Node:\n",
    "    \n",
    "    def __init__(self, data=None, left=None, right=None):\n",
    "        self.data = data\n",
    "        self.left = left\n",
    "        self.right = right\n",
    "    \n",
    "    def __str__(self):\n",
    "        return '{}({},{})'.format(self.data, \n",
    "                                 self.left.data if self.left else '', \n",
    "                                 self.right.data if self.right else '')\n"
   ]
  },
  {
   "cell_type": "code",
   "execution_count": 15,
   "metadata": {
    "scrolled": true
   },
   "outputs": [],
   "source": [
    "# YOUR CODE HERE\n"
   ]
  },
  {
   "cell_type": "markdown",
   "metadata": {},
   "source": [
    "<u>Test:</u>"
   ]
  },
  {
   "cell_type": "code",
   "execution_count": 16,
   "metadata": {
    "scrolled": true
   },
   "outputs": [
    {
     "name": "stdout",
     "output_type": "stream",
     "text": [
      "Student('Alan', 'Goh')\n"
     ]
    }
   ],
   "source": [
    "s = Student('Alan', 'Goh')\n",
    "print(s)"
   ]
  },
  {
   "cell_type": "markdown",
   "metadata": {},
   "source": [
    "### 2. Tree of Students"
   ]
  },
  {
   "cell_type": "markdown",
   "metadata": {},
   "source": [
    "Create following student objects and form them into a binary tree structure. Its root node, i.e. Alan Goh, is pointed by variable `root`.\n",
    "\n",
    "```\n",
    "           Alan Goh\n",
    "          /        \\\n",
    "         /          \\\n",
    "     Peter Tan     Genny Chen \n",
    "       /     \\              \\\n",
    "Henry Poh   Kelly Beh      Denny Mok\n",
    "```"
   ]
  },
  {
   "cell_type": "code",
   "execution_count": 17,
   "metadata": {
    "scrolled": true
   },
   "outputs": [],
   "source": [
    "# YOUR CODE HERE"
   ]
  },
  {
   "cell_type": "markdown",
   "metadata": {},
   "source": [
    "Define a binary tree class `StudentTree` to supports printing of binary tree. \n",
    "* You can derive `StudentTree` from `BinaryTree` class.\n",
    "* Such tree will print above student tree as following:\n",
    "\n",
    "```\n",
    "Student('Alan', 'Goh') \n",
    "Student('Peter', 'Tan') Student('Genny', 'Chen') \n",
    "Student('Henry', 'Poh') Student('Kelly', 'Beh') Student('Denny', 'Mok') \n",
    "```"
   ]
  },
  {
   "cell_type": "code",
   "execution_count": 7,
   "metadata": {},
   "outputs": [],
   "source": [
    "class BinaryTree:\n",
    "\n",
    "    def __init__(self, root=None):\n",
    "        self.root = root\n",
    "\n",
    "    def print_tree(self):\n",
    "        self._print_tree([self.root])\n",
    "\n",
    "    def _print_tree(self, node_list):\n",
    "        # Convert node_list to a list if it is not\n",
    "        if not isinstance(node_list, list):\n",
    "            node_list = [node_list]\n",
    "        # Stop recursion if the list is empty\n",
    "        if not node_list:\n",
    "            return\n",
    "        # define a list to collect nodes in next layer\n",
    "        next_layer = []\n",
    "        while node_list:\n",
    "            node = node_list.pop()\n",
    "            print(node, end=' ')\n",
    "            if node.left:\n",
    "                next_layer.insert(0, node.left)\n",
    "            if node.right:\n",
    "                next_layer.insert(0, node.right)\n",
    "        print()\n",
    "        self._print_tree(next_layer)"
   ]
  },
  {
   "cell_type": "code",
   "execution_count": 11,
   "metadata": {},
   "outputs": [],
   "source": [
    "# YOUR CODE HERE"
   ]
  },
  {
   "cell_type": "markdown",
   "metadata": {},
   "source": [
    "<u>Test:</u>"
   ]
  },
  {
   "cell_type": "code",
   "execution_count": 18,
   "metadata": {},
   "outputs": [
    {
     "name": "stdout",
     "output_type": "stream",
     "text": [
      "Student('Alan', 'Goh') \n",
      "Student('Peter', 'Tan') Student('Genny', 'Chen') \n",
      "Student('Henry', 'Poh') Student('Kelly', 'Beh') Student('Denny', 'Mok') \n"
     ]
    }
   ],
   "source": [
    "students = StudentTree(root)\n",
    "students.print_tree()"
   ]
  },
  {
   "cell_type": "markdown",
   "metadata": {},
   "source": [
    "### 3. Traverse the Tree in Pre-Order\n",
    "\n",
    "Define an enhanced version of the `StudentTree` class by adding a `preorder()` instance function. \n",
    "* The `preorder()` function traverse through the tree and print out student's fullname in each node.\n",
    "* The printout is of following format for above tree.\n",
    "```\n",
    "Alan Goh; Peter Tan; Henry Poh; Kelly Beh; Genny Chen; Denny Mok; \n",
    "```"
   ]
  },
  {
   "cell_type": "code",
   "execution_count": 25,
   "metadata": {},
   "outputs": [],
   "source": [
    "# YOUR CODE HERE\n"
   ]
  },
  {
   "cell_type": "markdown",
   "metadata": {},
   "source": [
    "<u>Tree:</u>"
   ]
  },
  {
   "cell_type": "code",
   "execution_count": 26,
   "metadata": {},
   "outputs": [
    {
     "name": "stdout",
     "output_type": "stream",
     "text": [
      "Alan Goh; Peter Tan; Henry Poh; Kelly Beh; Genny Chen; Denny Mok; "
     ]
    }
   ],
   "source": [
    "students = StudentTree(root)\n",
    "students.preorder()"
   ]
  }
 ],
 "metadata": {
  "kernelspec": {
   "display_name": "Python 3",
   "language": "python",
   "name": "python3"
  },
  "language_info": {
   "codemirror_mode": {
    "name": "ipython",
    "version": 3
   },
   "file_extension": ".py",
   "mimetype": "text/x-python",
   "name": "python",
   "nbconvert_exporter": "python",
   "pygments_lexer": "ipython3",
   "version": "3.7.3"
  }
 },
 "nbformat": 4,
 "nbformat_minor": 2
}
