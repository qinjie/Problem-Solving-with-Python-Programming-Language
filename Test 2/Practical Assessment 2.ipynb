{
 "cells": [
  {
   "cell_type": "markdown",
   "metadata": {},
   "source": [
    "Ministry of Education, Singapore <br>\n",
    "**Computing Teachers’ Content Upgrading Course 2020**\n",
    "\n",
    "<h1><center>Practical Assessment 2</center></h1>\n",
    "\n",
    "<center>17 June 2020</center>\n",
    "\n",
    "**Time allowed**: 3 hours\n",
    "\n",
    "<br>\n",
    "<u>Instructions to candidates:</u>\n",
    "\n",
    "1. This is an **open-book** exam.\n",
    "2. Answer all <u><b>three</b></u> questions.\n",
    "3. You may complete your solutions in any IDE first before copying them into this Jupyter Notebook for submission. \n",
    "4. Input validation is not required\n",
    "5. Submit this Jupyter Notebook online before the test ends. You may submit multiple times, but only last submission before test end time will be accepted. [https://driveuploader.com/upload/JDtXaQiUmX/](https://driveuploader.com/upload/JDtXaQiUmX/)\n",
    "6. Please note that the sample test cases may not be enough to test your program. Your programs will be tested with other inputs and they should exhibit the required behaviours to get full credit."
   ]
  },
  {
   "cell_type": "markdown",
   "metadata": {},
   "source": [
    "#### Name & Email\n",
    "\n",
    "* Rename your jupyter notebook to \"YourName\" using menu `File > Rename`\n",
    "* Enter your name and your email address in following cell"
   ]
  },
  {
   "cell_type": "raw",
   "metadata": {},
   "source": [
    "# YOUR NAME\n",
    "# YOUR EMAIL"
   ]
  },
  {
   "cell_type": "markdown",
   "metadata": {},
   "source": [
    "### Question 1: Processing CSV File\n",
    "\n",
    "The `\"graduates.csv\"` file in the `\"data\"` folder contains the number of university degree graduates by year, sex and type of course.\n",
    "\n",
    "```\n",
    "year,sex,type_of_course,no_of_graduates\n",
    "1993,Males,Education,na\n",
    "1993,Males,Applied Arts,na\n",
    "1993,Males,Humanities & Social Sciences,481\n",
    "1993,Males,Mass Communication,na\n",
    "1993,Males,Accountancy,295\n",
    "1993,Males,Business & Administration,282\n",
    "```\n",
    "\n",
    "(reference: [https://data.gov.sg/dataset/graduates-from-university-first-degree-courses-by-type-of-course](https://data.gov.sg/dataset/graduates-from-university-first-degree-courses-by-type-of-course))"
   ]
  },
  {
   "cell_type": "markdown",
   "metadata": {},
   "source": [
    "----\n",
    "**A)** Write a function `load_graduate_data(file)`, where `file` is the path to the CSV file, to read the file and return a list of records.\n",
    "\n",
    "* Each record (data point) in the list is a tuple, e.g. `(1993,'Males','Humanities & Social Sciences',481)`.\n",
    "* The `year` and `no_of_graduates` are converted to integer values.\n",
    "* Exclude header row in the returned list.\n",
    "* Exclude records whose `no_of_graduates` column are non-numeric values, e.g. `na`.  \n",
    "\n",
    "Note: Use `str.isnumeric()` function to check if a string is of numeric values."
   ]
  },
  {
   "cell_type": "code",
   "execution_count": 1,
   "metadata": {},
   "outputs": [],
   "source": [
    "# WRITE YOUR CODE HERE\n"
   ]
  },
  {
   "cell_type": "markdown",
   "metadata": {},
   "source": [
    "<u>*Test Case*</u>"
   ]
  },
  {
   "cell_type": "code",
   "execution_count": 2,
   "metadata": {
    "scrolled": true
   },
   "outputs": [],
   "source": [
    "file_name = 'data/graduates.csv'\n",
    "table = load_graduate_data(file_name)\n",
    "\n",
    "print(\"Record count: \", len(table))\n",
    "print(table[:2])\n",
    "print(table[-2:])"
   ]
  },
  {
   "cell_type": "markdown",
   "metadata": {},
   "source": [
    "Expected output:\n",
    "\n",
    "```\n",
    "Record count:  600\n",
    "[(1993, 'Males', 'Humanities & Social Sciences', 481), (1993, 'Males', 'Accountancy', 295)]\n",
    "[(2014, 'Females', 'Engineering Sciences', 1251), (2014, 'Females', 'Services', 219)]\n",
    "```"
   ]
  },
  {
   "cell_type": "markdown",
   "metadata": {},
   "source": [
    "----\n",
    "**B)** Write a function `graduates_by_course(table, start_year, end_year)` to find the total number of graduates from `table` between `start_year` and `end_year` (both inclusive) for all courses.\n",
    "* The `table` data is the same data returned from `load_graduate_data()` function.\n",
    "* It returns a dictionary whose key is the course type, and value is the total graduate number between the years. "
   ]
  },
  {
   "cell_type": "code",
   "execution_count": 3,
   "metadata": {},
   "outputs": [],
   "source": [
    "# WRITE YOUR CODE HERE\n"
   ]
  },
  {
   "cell_type": "markdown",
   "metadata": {},
   "source": [
    "<u>*Test Case*</u>"
   ]
  },
  {
   "cell_type": "code",
   "execution_count": 4,
   "metadata": {
    "scrolled": true
   },
   "outputs": [],
   "source": [
    "# The following 3 lines are needed if you have not completed 1(A).\n",
    "import pickle\n",
    "with open('raw/graduates.pickle', 'rb') as handle:\n",
    "    table = pickle.load(handle)\n",
    "\n",
    "result = graduates_by_course(table, 2000, 2004)\n",
    "print(len(result))\n",
    "print(result)"
   ]
  },
  {
   "cell_type": "markdown",
   "metadata": {},
   "source": [
    "Expected output:\n",
    "\n",
    "```\n",
    "14\n",
    "{'Education': 1359, 'Humanities & Social Sciences': 9264, 'Mass Communication': 609, 'Accountancy': 3620, 'Business & Administration': 5502, 'Law': 744, 'Natural, Physical & Mathematical Sciences': 5423, 'Medicine': 870, 'Dentistry': 165, 'Health Sciences': 325, 'Information Technology': 2821, 'Architecture & Building': 1706, 'Engineering Sciences': 17931, 'Applied Arts': 46}\n",
    "```"
   ]
  },
  {
   "cell_type": "markdown",
   "metadata": {},
   "source": [
    "----\n",
    "**C)** Write a function `save_graduates_by_course(data, file)` to save data to a CSV file, where `data` is a dictionary returned from function `graduates_by_course()`, and `file` is the output file path.\n",
    "* Each row in the CSV file is in `course, count` format. There is no header row."
   ]
  },
  {
   "cell_type": "code",
   "execution_count": 5,
   "metadata": {},
   "outputs": [],
   "source": [
    "# WRITE YOUR CODE HERE\n"
   ]
  },
  {
   "cell_type": "markdown",
   "metadata": {},
   "source": [
    "<u>*Test Case*</u>"
   ]
  },
  {
   "cell_type": "code",
   "execution_count": 6,
   "metadata": {
    "scrolled": true
   },
   "outputs": [],
   "source": [
    "# The following 3 lines are needed if you have not completed 1(A).\n",
    "import pickle\n",
    "with open('raw/graduates.pickle', 'rb') as handle:\n",
    "    table = pickle.load(handle)\n",
    "\n",
    "result = graduates_by_course(table, 2000, 2004)\n",
    "save_graduates_by_course(result, 'data/result.csv')\n",
    "\n",
    "with open('data/result.csv') as f:\n",
    "    data = [r.strip() for r in f.readlines()]\n",
    "    data.sort()\n",
    "    print(len(data))\n",
    "    print(data)"
   ]
  },
  {
   "cell_type": "markdown",
   "metadata": {},
   "source": [
    "Expected output:\n",
    "\n",
    "```\n",
    "14\n",
    "['\"Natural, Physical & Mathematical Sciences\",5423', 'Accountancy,3620', 'Applied Arts,46', 'Architecture & Building,1706', 'Business & Administration,5502', 'Dentistry,165', 'Education,1359', 'Engineering Sciences,17931', 'Health Sciences,325', 'Humanities & Social Sciences,9264', 'Information Technology,2821', 'Law,744', 'Mass Communication,609', 'Medicine,870']\n",
    "```"
   ]
  },
  {
   "cell_type": "markdown",
   "metadata": {},
   "source": [
    "### Question 2: Sorting and Searching\n",
    "\n",
    "The file \"hdb_flats_constructed.csv\" provides annual number of flats constructed by Housing And Development Board (HDB) from 1977 to 2017. "
   ]
  },
  {
   "cell_type": "markdown",
   "metadata": {},
   "source": [
    "**A)** Implement the class `FlatData` which meets following requirements:\n",
    "* It has 2 instance attributes, `_year` and `_num`, representing a year and the number of flats constructed in that year.\n",
    "* Its `__init__()` function takes in 2 parameters `_year` and `_num` to initialize the above two instance variable.\n",
    "* Its `__repr__()` function returns a string in the format of `_year:_num`, e.g. `\"1977:30498\"`.\n",
    "\n",
    "Note: It is OK if your class implements other additional functions which may be useful in solving part C and part D questions. "
   ]
  },
  {
   "cell_type": "code",
   "execution_count": 7,
   "metadata": {},
   "outputs": [],
   "source": [
    "# WRITE YOUR CODE HERE\n"
   ]
  },
  {
   "cell_type": "markdown",
   "metadata": {},
   "source": [
    "<u>*Test Case 1*</u>"
   ]
  },
  {
   "cell_type": "code",
   "execution_count": 8,
   "metadata": {
    "scrolled": true
   },
   "outputs": [],
   "source": [
    "i1 = FlatData(1977, 30498)\n",
    "print(i1)\n",
    "i2 = FlatData(1978, 29742)\n",
    "print(i1._num == i2._num)\n",
    "print(i1._num < i2._num)\n",
    "print(i1._num > i2._num)"
   ]
  },
  {
   "cell_type": "markdown",
   "metadata": {},
   "source": [
    "Expected output:\n",
    "\n",
    "```\n",
    "1977:30498\n",
    "False\n",
    "False\n",
    "True\n",
    "```"
   ]
  },
  {
   "cell_type": "markdown",
   "metadata": {},
   "source": [
    "**B)** Implement a function `load_flat_data(file)`, where `file` is the path to the CSV file \"hdb_flats_constructed.csv\", to read the file and returns list of `FlatData` objects.\n",
    "\n",
    "* Upon reading a record, a `FlatData` object is created and added to a list.\n",
    "* Convert `_year` and `_num` to integer values.\n",
    "* Exclude header row in the returned list.\n",
    "\n",
    "Note: You may assume all records in the file are valid. No data validation is required."
   ]
  },
  {
   "cell_type": "code",
   "execution_count": 9,
   "metadata": {},
   "outputs": [],
   "source": [
    "# WRITE YOUR CODE HERE\n"
   ]
  },
  {
   "cell_type": "markdown",
   "metadata": {},
   "source": [
    "<u>*Test Case 1*</u>"
   ]
  },
  {
   "cell_type": "code",
   "execution_count": 10,
   "metadata": {
    "scrolled": true
   },
   "outputs": [],
   "source": [
    "file_name = 'data/hdb_flats_constructed.csv'\n",
    "table = load_flat_data(file_name)\n",
    "\n",
    "print(\"Record count: \", len(table))\n",
    "print(table[:2])\n",
    "print(table[-2:])"
   ]
  },
  {
   "cell_type": "markdown",
   "metadata": {},
   "source": [
    "Expected output:\n",
    "\n",
    "```\n",
    "Record count:  41\n",
    "[1977:30498, 1978:29742]\n",
    "[2016:26025, 2017:35210]\n",
    "```"
   ]
  },
  {
   "cell_type": "markdown",
   "metadata": {},
   "source": [
    "**C)** Implement a function `find_flat_by_year(data, year)` which find a `FlatData` object by year using **BinarySearch** algorithm.\n",
    "\n",
    "* The list returned by `load_flat_data()` is already in ascending order by year because the data in the CSV file is sorted by year."
   ]
  },
  {
   "cell_type": "code",
   "execution_count": 11,
   "metadata": {},
   "outputs": [],
   "source": [
    "# WRITE YOUR CODE HERE\n"
   ]
  },
  {
   "cell_type": "markdown",
   "metadata": {},
   "source": [
    "<u>*Test Case 1*</u>"
   ]
  },
  {
   "cell_type": "code",
   "execution_count": 12,
   "metadata": {
    "scrolled": true
   },
   "outputs": [],
   "source": [
    "# The following 3 lines are needed if you have not completed 2(B).\n",
    "import pickle\n",
    "with open('raw/hdb_flats.pickle', 'rb') as handle:\n",
    "    table = pickle.load(handle)\n",
    "\n",
    "print(find_flat_by_year(table, 1977))\n",
    "print(find_flat_by_year(table, 2000))\n",
    "print(find_flat_by_year(table, 2017))\n",
    "print(find_flat_by_year(table, 2020))\n"
   ]
  },
  {
   "cell_type": "markdown",
   "metadata": {},
   "source": [
    "Expected output:\n",
    "\n",
    "```\n",
    "1977:30498\n",
    "2000:27678\n",
    "2017:35210\n",
    "None\n",
    "```"
   ]
  },
  {
   "cell_type": "markdown",
   "metadata": {},
   "source": [
    "**D)** Implement a function `sort_flat_data(data)` which sorts a list of `Flat` objects in **descending** order by its `_num` using **QuickSort** algorithm.  "
   ]
  },
  {
   "cell_type": "code",
   "execution_count": 13,
   "metadata": {},
   "outputs": [],
   "source": [
    "# WRITE YOUR CODE HERE\n"
   ]
  },
  {
   "cell_type": "markdown",
   "metadata": {},
   "source": [
    "<u>*Test Case 1*</u>"
   ]
  },
  {
   "cell_type": "code",
   "execution_count": 14,
   "metadata": {
    "scrolled": false
   },
   "outputs": [],
   "source": [
    "# The following 3 lines are needed if you have not completed 2(B).\n",
    "import pickle\n",
    "with open('raw/hdb_flats.pickle', 'rb') as handle:\n",
    "    table = pickle.load(handle)\n",
    "\n",
    "result = sort_flat_data(table)\n",
    "print('Years with most constructed flats:', result[:2])\n",
    "print('Years with least constructed flats:', result[-2:])"
   ]
  },
  {
   "cell_type": "markdown",
   "metadata": {},
   "source": [
    "Expected output:\n",
    "\n",
    "```\n",
    "Years with most constructed flats: [1984:67017, 1985:46370]\n",
    "Years with least constructed flats: [2008:3154, 2006:2733]\n",
    "```"
   ]
  },
  {
   "cell_type": "markdown",
   "metadata": {},
   "source": [
    "### Question 3: Card Game\n",
    "\n",
    "A standard 52-card deck includes 13 ranks in each of the four suits: clubs, diamonds, hearts and spades. In the game for this question, only **ranks** are used, whereas **suits** are ignored. You will defines two classes `Game` and `Player` to simulate this game. \n",
    "\n",
    "<u>How the Game Works:</u>\n",
    "\n",
    "1. At the beginning of the game, each player receives the same number of random cards from the deck in a particular order. Players are not allowed to change the order of cards in their hand from left to right.\n",
    "\n",
    "\n",
    "2. When it is a player's turn, he plays his **right-most** card onto the table. Newly played cards are stacked on top of existing cards on the table. \n",
    "\n",
    "    * Cards on the table are kept in a single stack with older cards at the bottom and newer ones on top.\n",
    "\n",
    "\n",
    "3. In either of following scenarios, the player takes some or all of the cards from the table.\n",
    "\n",
    "    * If the player plays a card with rank \"J\", the player takes all the cards on the table.\n",
    "    * If the player plays a card with rank equal to another card on the table, the player takes all the cards between the two cards, including the two cards of same rank. \n",
    "\n",
    "\n",
    "4. When player takes cards from the table, those cards are added to the **left** of player's existing cards. The order of the added cards must not be changed (i.e., the bottom-most card that was taken becomes the player's new left-most card).\n",
    "\n",
    "\n",
    "5. The game ends when one player has no more cards. The player with the most cards wins.\n",
    "\n",
    "\n",
    "<u>Game Example:</u>\n",
    "\n",
    "Suppose the existing cards on the table are `[2, 6, 'A', 4, 9]`, where `2` is the oldest card and `9` is the most recently played card. \n",
    "* <u>Example 1:</u> Player A plays card `7`. He doesn't get to take any cards off the table. \n",
    "\n",
    "<img src=\"raw/eg1.png\" width=\"70%\" />\n",
    "\n",
    "* <u>Example 2:</u> Player B then plays card `9`. He gets to take three cards `[9, 7, 9]` and adds them to the left of his existing cards. Remaining cards on table are `[2, 6, 'A', 4]`.\n",
    "\n",
    "<img src=\"raw/eg2.png\" width=\"70%\" />\n",
    "\n",
    "* <u>Example 3:</u> Player C then plays card `6`. He gets to take four cards `[6, 'A', 4, 6]`. Remaining card on table is `[2]`.\n",
    "\n",
    "<img src=\"raw/eg3.png\" width=\"70%\" />\n",
    "\n",
    "* <u>Example 4:</u> Player D then plays card `J`, which is a special card. He takes all cards on the table, i.e. `[2, 'J']`. There are no more cards on the table.\n",
    "\n",
    "<img src=\"raw/eg4.png\" width=\"70%\" />\n",
    "\n",
    "<u>Player Example:</u>\n",
    "\n",
    "When a player plays a card, he removes his *right-most* card from the card list. \n",
    "* For example, if player has cards `[3, 4, 2]`, card `2` will be the next card to be played. \n",
    "\n",
    "When a player takes cards from the table, he adds them to the *left* side of his card list.\n",
    "* For example, if the cards he takes from the table are `[6, 'A', 4, 9, 6]` and his existing cards are `[3, 4, 2]`, the combined cards will be `[6, 'A', 4, 9, 6, 3, 4, 2]`\n"
   ]
  },
  {
   "cell_type": "markdown",
   "metadata": {},
   "source": [
    "---- \n",
    "**A)** Define the `Game` class as follows:\n",
    "* Implement its `__init__(table_cards=None)` function to initialize an attribute `_table_cards` using the parameter `table_cards`. The `_table_cards` attribute is used to keep track of which cards are on the table. If the parameter `table_Cards` is `None`, then there are initially no cards on the table.\n",
    "* Implement its `__str__()` function to return a string representation of the Game, for example, `Game([2, 5, 3])` where `[2, 5, 3]` is the value of `_table_cards`. \n",
    "* Implement a method `play(card)` which simulates a player playing the card `card`.\n",
    "    * It returns a list of cards removed from the table. If there is no card to be returned, it returns an empty list.\n",
    "    * It prints a message `\"Play card <card>\"`, e.g. `\"Play card 9\"`\n",
    "    * It also modifies `_table_cards` to correctly reflect the remaining cards on the table."
   ]
  },
  {
   "cell_type": "code",
   "execution_count": 15,
   "metadata": {},
   "outputs": [],
   "source": [
    "# WRITE YOUR CODE HERE\n"
   ]
  },
  {
   "cell_type": "markdown",
   "metadata": {},
   "source": [
    "<u>*Test Case 1*</u>"
   ]
  },
  {
   "cell_type": "code",
   "execution_count": 16,
   "metadata": {},
   "outputs": [],
   "source": [
    "game = Game()\n",
    "game.play('A')\n",
    "game.play(2)\n",
    "game.play(3)\n",
    "game.play(8)\n",
    "print(game)\n",
    "cards = game.play(8)\n",
    "print(\"Remove cards:\", cards)\n",
    "print(game)"
   ]
  },
  {
   "cell_type": "markdown",
   "metadata": {},
   "source": [
    "Expected output:\n",
    "```\n",
    "Play card A\n",
    "Play card 2\n",
    "Play card 3\n",
    "Play card 8\n",
    "Game(['A', 2, 3, 8])\n",
    "Play card 8\n",
    "Remove cards: [8, 8]\n",
    "Game(['A', 2, 3])\n",
    "```"
   ]
  },
  {
   "cell_type": "markdown",
   "metadata": {},
   "source": [
    "<u>*Test Case 2*</u>"
   ]
  },
  {
   "cell_type": "code",
   "execution_count": 17,
   "metadata": {},
   "outputs": [],
   "source": [
    "game = Game()\n",
    "game.play('A')\n",
    "game.play(2)\n",
    "game.play(3)\n",
    "print(game)\n",
    "cards = game.play(2)\n",
    "print(\"Remove cards:\", cards)\n",
    "print(game)"
   ]
  },
  {
   "cell_type": "markdown",
   "metadata": {},
   "source": [
    "Expected output:\n",
    "\n",
    "```\n",
    "Play card A\n",
    "Play card 2\n",
    "Play card 3\n",
    "Game(['A', 2, 3])\n",
    "Play card 2\n",
    "Remove cards: [2, 3, 2]\n",
    "Game(['A'])\n",
    "```"
   ]
  },
  {
   "cell_type": "markdown",
   "metadata": {},
   "source": [
    "<u>*Test Case 3*</u>"
   ]
  },
  {
   "cell_type": "code",
   "execution_count": 18,
   "metadata": {},
   "outputs": [],
   "source": [
    "game = Game()\n",
    "game.play('A')\n",
    "game.play(2)\n",
    "game.play(3)\n",
    "cards = game.play('J')\n",
    "print(\"Remove cards:\", cards)\n",
    "print(game)"
   ]
  },
  {
   "cell_type": "markdown",
   "metadata": {},
   "source": [
    "Expected output:\n",
    "\n",
    "```\n",
    "Play card A\n",
    "Play card 2\n",
    "Play card 3\n",
    "Play card J\n",
    "Remove cards: ['A', 2, 3, 'J']\n",
    "Game([])\n",
    "```"
   ]
  },
  {
   "cell_type": "markdown",
   "metadata": {},
   "source": [
    "<u>*Test Case 4*</u>"
   ]
  },
  {
   "cell_type": "code",
   "execution_count": 19,
   "metadata": {
    "scrolled": true
   },
   "outputs": [],
   "source": [
    "game = Game([2, 6, 'A', 4, 9])\n",
    "print(game)\n",
    "    \n",
    "for card in [7, 9, 6, 'J']:\n",
    "    cards = game.play(card)\n",
    "    print(\"Remove cards:\", cards)\n",
    "    print(game)"
   ]
  },
  {
   "cell_type": "markdown",
   "metadata": {},
   "source": [
    "Expected output:\n",
    "\n",
    "```\n",
    "Game([2, 6, 'A', 4, 9])\n",
    "Play card 7\n",
    "Remove cards: []\n",
    "Game([2, 6, 'A', 4, 9, 7])\n",
    "Play card 9\n",
    "Remove cards: [9, 7, 9]\n",
    "Game([2, 6, 'A', 4])\n",
    "Play card 6\n",
    "Remove cards: [6, 'A', 4, 6]\n",
    "Game([2])\n",
    "Play card J\n",
    "Remove cards: [2, 'J']\n",
    "Game([])\n",
    "```"
   ]
  },
  {
   "cell_type": "markdown",
   "metadata": {},
   "source": [
    "----\n",
    "**B)** Define a class `Player` as follows:\n",
    "* Implement its `__init__(name, cards=None)` function to initialize attributes `_name` and `_cards` using the parameters `name` and `cards`. If `cards` is `None`, the player initially has no cards.\n",
    "* Implement its `__str__()` function to returns a string representation of the Player in the format of `\"Player(<name>, <cards>)\"`, e.g. `\"Player(Mark, [1,2,3])\"`. \n",
    "* Implement its `dequeue()` function which removes last item in the `_cards` list. It returns `None` if player has no more cards.\n",
    "* Implement its `enqueue_all(cards)` function which inserts `cards` to the front of the `_cards` list. For example, if `cards = [4,5]` and `_cards = [1,2,3]`, then the updated `_cards` will be `[4,5,1,2,3]`. \n"
   ]
  },
  {
   "cell_type": "code",
   "execution_count": 20,
   "metadata": {},
   "outputs": [],
   "source": [
    "# WRITE YOUR CODE HERE\n"
   ]
  },
  {
   "cell_type": "markdown",
   "metadata": {},
   "source": [
    "<u>*Test Case 1*</u>"
   ]
  },
  {
   "cell_type": "code",
   "execution_count": 21,
   "metadata": {
    "scrolled": true
   },
   "outputs": [],
   "source": [
    "player = Player('X', [1,2,3])\n",
    "print(player)\n",
    "print(player.dequeue())"
   ]
  },
  {
   "cell_type": "markdown",
   "metadata": {},
   "source": [
    "Expected output:\n",
    "\n",
    "```\n",
    "Player(X, [1, 2, 3])\n",
    "3\n",
    "```"
   ]
  },
  {
   "cell_type": "markdown",
   "metadata": {},
   "source": [
    "<u>*Test Case 2*</u>"
   ]
  },
  {
   "cell_type": "code",
   "execution_count": 22,
   "metadata": {
    "scrolled": true
   },
   "outputs": [],
   "source": [
    "player = Player('X', [1,2,3])\n",
    "player.enqueue_all([4,5])\n",
    "print(player)"
   ]
  },
  {
   "cell_type": "markdown",
   "metadata": {},
   "source": [
    "Expected output:\n",
    "\n",
    "```\n",
    "Player(X, [4, 5, 1, 2, 3])\n",
    "```"
   ]
  },
  {
   "cell_type": "markdown",
   "metadata": {},
   "source": [
    "<u>*Test Case 3*</u>"
   ]
  },
  {
   "cell_type": "code",
   "execution_count": 23,
   "metadata": {
    "scrolled": true
   },
   "outputs": [],
   "source": [
    "player = Player('X')\n",
    "print(player.dequeue())\n",
    "player.enqueue_all([6,7,8,9])\n",
    "print(player)\n",
    "print(player.dequeue())"
   ]
  },
  {
   "cell_type": "markdown",
   "metadata": {},
   "source": [
    "Expected output:\n",
    "\n",
    "```\n",
    "None\n",
    "Player(X, [6, 7, 8, 9])\n",
    "9\n",
    "```"
   ]
  },
  {
   "cell_type": "markdown",
   "metadata": {},
   "source": [
    "----\n",
    "**C)** Define a class `Game2` which inherits from `Game` class and adds the following functions.\n",
    "* Implement a property `card_count` which returns the current number of cards on the table.\n",
    "* Add a class attribute `RANKS` whose value is `['A', 2, 3, 4, 5, 6, 7, 8, 9, 10, 'J', 'Q', 'K']`.\n",
    "* Implement a class method `distribute_cards(player_count)` which simulates shuffling a full deck of cards and dividing it evenly between the given number of players. \n",
    "    * The function returns a list of sublists, where each sublist contains the cards for one player. Number of sublists equals to the total number of players. \n",
    "    * The `player_count` is the total number of players. \n",
    "    * For example, when `player_count = 2`, it returns a list of 2 sublists, where each sublist contains 26 cards; when `player_count = 3`, it returns 17 cards for each player with one card not used in the output.\n",
    "    * Use class attribute `RANKS` to generate full deck (with ranks and without suits).\n",
    "    * Use following code to shuffle the deck before distribution.\n",
    "        ```python\n",
    "        random.seed(0)\n",
    "        random.shuffle(cards)\n",
    "        ```"
   ]
  },
  {
   "cell_type": "code",
   "execution_count": 24,
   "metadata": {},
   "outputs": [],
   "source": [
    "# WRITE YOUR CODE HERE\n"
   ]
  },
  {
   "cell_type": "markdown",
   "metadata": {},
   "source": [
    "<u>*Test Case 1*</u>"
   ]
  },
  {
   "cell_type": "code",
   "execution_count": 25,
   "metadata": {
    "scrolled": true
   },
   "outputs": [],
   "source": [
    "game = Game2()\n",
    "game.play('A')\n",
    "game.play(2)\n",
    "print('Total cards on table:', game.card_count)"
   ]
  },
  {
   "cell_type": "markdown",
   "metadata": {},
   "source": [
    "Expected output:\n",
    "\n",
    "```\n",
    "Play card A\n",
    "Play card 2\n",
    "Total cards on table: 2\n",
    "```"
   ]
  },
  {
   "cell_type": "markdown",
   "metadata": {},
   "source": [
    "<u>*Test Case 2*</u>"
   ]
  },
  {
   "cell_type": "code",
   "execution_count": 26,
   "metadata": {
    "scrolled": true
   },
   "outputs": [],
   "source": [
    "game = Game2()\n",
    "game.distribute_cards(10)"
   ]
  },
  {
   "cell_type": "markdown",
   "metadata": {},
   "source": [
    "Expected output:\n",
    "\n",
    "```\n",
    "[[3, 'K', 7, 3, 'K'],\n",
    " [8, 6, 'J', 2, 'J'],\n",
    " [8, 'A', 5, 10, 8],\n",
    " [2, 'K', 4, 9, 6],\n",
    " ['A', 'Q', 4, 5, 3],\n",
    " ['J', 9, 2, 'Q', 'J'],\n",
    " [4, 5, 10, 9, 7],\n",
    " [2, 6, 9, 8, 'A'],\n",
    " ['Q', 10, 5, 7, 'K'],\n",
    " [6, 7, 4, 3, 'A']]\n",
    "```"
   ]
  }
 ],
 "metadata": {
  "kernelspec": {
   "display_name": "Python 3",
   "language": "python",
   "name": "python3"
  },
  "language_info": {
   "codemirror_mode": {
    "name": "ipython",
    "version": 3
   },
   "file_extension": ".py",
   "mimetype": "text/x-python",
   "name": "python",
   "nbconvert_exporter": "python",
   "pygments_lexer": "ipython3",
   "version": "3.7.3"
  }
 },
 "nbformat": 4,
 "nbformat_minor": 2
}
