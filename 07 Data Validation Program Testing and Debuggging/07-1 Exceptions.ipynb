{
 "cells": [
  {
   "cell_type": "markdown",
   "metadata": {},
   "source": [
    "# Exceptions\n",
    "\n",
    "## What is Exception?\n",
    "\n",
    "Exception is an event happened during code execution. It is most likely due to incorrect code or input. \n",
    "\n",
    "Once an exception occurs, the <u>code execution will stop</u> if the exception is not handled. \n",
    "\n",
    "#### Example:\n",
    "\n",
    "Following code `result = 100 / 0` causes a `ZeroDivisionError`, and statement(s) following that line is not executed."
   ]
  },
  {
   "cell_type": "code",
   "execution_count": null,
   "metadata": {},
   "outputs": [],
   "source": [
    "# result = 100 / 0\n",
    "# print('This line will not be executed')"
   ]
  },
  {
   "cell_type": "markdown",
   "metadata": {},
   "source": [
    "## Common Exception Types\n",
    "\n",
    "Python provides several built-in Exceptions. You can also define your own Exception subclass.\n",
    "\n",
    "Different exception are raised for diffent reasons."
   ]
  },
  {
   "cell_type": "markdown",
   "metadata": {},
   "source": [
    "#### Syntax Error"
   ]
  },
  {
   "cell_type": "code",
   "execution_count": null,
   "metadata": {},
   "outputs": [],
   "source": [
    "# x = int('123'"
   ]
  },
  {
   "cell_type": "markdown",
   "metadata": {},
   "source": [
    "#### Module Not Found\n",
    "\n",
    "The `ModuleNotFoundError` occurs when an import statement fails."
   ]
  },
  {
   "cell_type": "code",
   "execution_count": null,
   "metadata": {},
   "outputs": [],
   "source": [
    "# import abc123"
   ]
  },
  {
   "cell_type": "markdown",
   "metadata": {},
   "source": [
    "#### Unkown Object\n",
    "\n",
    "The `NameError` will occur if an unknown variable/object is used, i.e. using an object before creating it."
   ]
  },
  {
   "cell_type": "code",
   "execution_count": null,
   "metadata": {},
   "outputs": [],
   "source": [
    "# print(my_invisible_var)"
   ]
  },
  {
   "cell_type": "markdown",
   "metadata": {},
   "source": [
    "#### Index Out of Range\n",
    "\n",
    "The `IndexError` occurs if you try to access an item by index which is outside the range of the list."
   ]
  },
  {
   "cell_type": "code",
   "execution_count": null,
   "metadata": {},
   "outputs": [],
   "source": [
    "# arr = [1,2,3]\n",
    "# arr[3]"
   ]
  },
  {
   "cell_type": "markdown",
   "metadata": {},
   "source": [
    "#### Wrong Data Type\n",
    "\n",
    "The `TypeError` occurs when a function is called on a value of an inappropriate type."
   ]
  },
  {
   "cell_type": "code",
   "execution_count": null,
   "metadata": {},
   "outputs": [],
   "source": [
    "# x = 'a' + 2"
   ]
  },
  {
   "cell_type": "markdown",
   "metadata": {},
   "source": [
    "#### ValueError\n",
    "\n",
    "The `ValueError` occurs when a function is called on a value of the correct type, but with an inappropriate value.\n",
    "\n",
    "For example, `int()` function is expecting its input to be a string of numerical type."
   ]
  },
  {
   "cell_type": "code",
   "execution_count": null,
   "metadata": {},
   "outputs": [],
   "source": [
    "# x = int('a')"
   ]
  },
  {
   "cell_type": "markdown",
   "metadata": {},
   "source": [
    "#### AttributeError\n",
    "\n",
    "Functions and variables of an object are collectly called `attributes`. When you try to access a non-existent attribute, e.g. due to typo mistake, an AttributeError will occur."
   ]
  },
  {
   "cell_type": "code",
   "execution_count": null,
   "metadata": {},
   "outputs": [],
   "source": [
    "# s = list(range(9))\n",
    "# s.sort1()"
   ]
  },
  {
   "cell_type": "markdown",
   "metadata": {},
   "source": [
    "**Question:**\n",
    "\n",
    "How to you find the list of Error classes in Python, e.g. you forgot how to spell a type of Error?"
   ]
  },
  {
   "cell_type": "code",
   "execution_count": null,
   "metadata": {},
   "outputs": [],
   "source": []
  },
  {
   "cell_type": "markdown",
   "metadata": {},
   "source": [
    "## Exception Handling"
   ]
  },
  {
   "cell_type": "markdown",
   "metadata": {},
   "source": [
    "Handling of exception in important and common in Python code. This is because python believes in `\"Ask for forgiveness not permission\"`.\n",
    "\n",
    "To handle exceptions, use a `try/except` statement.\n",
    "* The `try` block contains code that might throw an exception. \n",
    "* If that exception occurs, the remaining code in the `try` block will be **skipped**, and the code in the `except` block is run. \n",
    "* If no error occurs, the code in the `except` block doesn't run."
   ]
  },
  {
   "cell_type": "markdown",
   "metadata": {},
   "source": [
    "**Exercise:**\n",
    "\n",
    "Use `try-except` to make sure `result = 100/0` statement doesn't cause program to fail. \n",
    "* Print out `No division by zero` when exception occurs."
   ]
  },
  {
   "cell_type": "code",
   "execution_count": null,
   "metadata": {
    "scrolled": true
   },
   "outputs": [],
   "source": []
  },
  {
   "cell_type": "markdown",
   "metadata": {},
   "source": [
    "**Try Code:**\n",
    "\n",
    "Run following code; Change `x = int('a')` to `x = int('999')` and try again.\n",
    "\n",
    "```python\n",
    "try:\n",
    "    print('point 1')\n",
    "    x = int('a')\n",
    "#    x = int('999')\n",
    "    print(\"point 2\")\n",
    "except ValueError:\n",
    "    print(\"point 3\")\n",
    "```"
   ]
  },
  {
   "cell_type": "code",
   "execution_count": null,
   "metadata": {},
   "outputs": [],
   "source": []
  },
  {
   "cell_type": "markdown",
   "metadata": {},
   "source": [
    "An `except` statement without any exception specified will catch all errors. \n",
    "* A bad practice as it may catch unexpected errors and hide programming mistakes.\n",
    "\n",
    "**Try Code:**\n",
    "\n",
    "```python\n",
    "try:\n",
    "    x = 10/ 0\n",
    "except:\n",
    "    print('An error occurred')\n",
    "```"
   ]
  },
  {
   "cell_type": "code",
   "execution_count": null,
   "metadata": {},
   "outputs": [],
   "source": []
  },
  {
   "cell_type": "markdown",
   "metadata": {},
   "source": [
    "### Multiple Exceptions\n",
    "\n",
    "A `try` statement can have multiple different `except` blocks to handle different exceptions.\n",
    "* Multiple exceptions can also be put into a single except block using parentheses, to have the except block handle all of them."
   ]
  },
  {
   "cell_type": "markdown",
   "metadata": {},
   "source": [
    "**Try Code:**\n",
    "\n",
    "Run following code. Comment/uncomment `y` assignment statement(s) and try again to see different exceptions.\n",
    "\n",
    "```python\n",
    "try:\n",
    "    x = 10\n",
    "#   y = int('abc')\n",
    "#   y = x / 0\n",
    "    y = x + \"hello\")\n",
    "    print('No exception')\n",
    "except ZeroDivisionError:\n",
    "    print(\"Divided by zero\")\n",
    "except (ValueError, TypeError):\n",
    "    print(\"ValueError or TypeError occurred\")\n",
    "```"
   ]
  },
  {
   "cell_type": "code",
   "execution_count": null,
   "metadata": {},
   "outputs": [],
   "source": []
  },
  {
   "cell_type": "markdown",
   "metadata": {},
   "source": [
    "### Print Error Message\n",
    "\n",
    "You can print out the exception object, e.g. in log file, to find out more information about the error.\n",
    "\n",
    "**Try Code:**\n",
    "Run following code; Comment/uncomment `y` assignment statement(s) to see different exceptions.\n",
    "\n",
    "```python\n",
    "try:\n",
    "    x = 10\n",
    "#   y = int('abc')\n",
    "#   y = x / 0\n",
    "    y = x + \"hello\"\n",
    "    print('No exception')\n",
    "except Exception as e:\n",
    "    print(e)\n",
    "    print(repr(e))\n",
    "```"
   ]
  },
  {
   "cell_type": "code",
   "execution_count": null,
   "metadata": {},
   "outputs": [],
   "source": []
  },
  {
   "cell_type": "markdown",
   "metadata": {},
   "source": [
    "### Traceback\n",
    "\n",
    "The `traceback` module provides methods for formatting and printing exceptions and their calling stacks, which is helpful in identifying the cause of error.\n",
    "\n",
    "**Try Code:**\n",
    "\n",
    "```python\n",
    "import traceback\n",
    "\n",
    "try:\n",
    "    x = 10\n",
    "#   y = int('abc')\n",
    "#   y = x / 0\n",
    "    y = x + \"hello\"\n",
    "    print('No exception')\n",
    "except Exception:\n",
    "    traceback.print_exc()\n",
    "```"
   ]
  },
  {
   "cell_type": "code",
   "execution_count": null,
   "metadata": {},
   "outputs": [],
   "source": []
  },
  {
   "cell_type": "markdown",
   "metadata": {},
   "source": [
    "## Else and Finally\n",
    "\n",
    "#### Except\n",
    "The `except` code block is placed after `try/except` statements.\n",
    "\n",
    "If error does not occur, i.e. `except` code block is not executed, `else` code block will run.\n",
    "\n",
    "#### Finally\n",
    "\n",
    "The `finally` code block is placed at the bottom of a `try/except/else` statement. \n",
    "\n",
    "Code within a `finally` statement always runs regardless whether an exception happens. \n",
    "\n",
    "This is good place to put some code which always need to run, e.g. clean up or release resource."
   ]
  },
  {
   "cell_type": "markdown",
   "metadata": {},
   "source": [
    "**Try Code:**\n",
    "\n",
    "Comment/uncomment statement `print(1 / 0)` and examine the printouts.\n",
    "\n",
    "```python\n",
    "try:\n",
    "    print(\"try\")\n",
    "#     print(1 / 0)\n",
    "except ZeroDivisionError:    # execute if exeption\n",
    "    print(\"except\")\n",
    "else:     # execute if no exception\n",
    "    print(\"else\")\n",
    "finally:  # always execute\n",
    "    print(\"finally\")\n",
    "```"
   ]
  },
  {
   "cell_type": "code",
   "execution_count": null,
   "metadata": {},
   "outputs": [],
   "source": []
  },
  {
   "cell_type": "markdown",
   "metadata": {},
   "source": [
    "#### Example\n",
    "Close file regardless whether file operation is successful or not. \n",
    "\n",
    "**Try Code:**\n",
    "\n",
    "When a file is open in binary mode, its `write()` function expects content of binary data type, else a `TypeError` will occur.\n",
    "\n",
    "```python\n",
    "try:\n",
    "    f = open('abc', 'wb')\n",
    "    f.write('abc')    # Error occurs\n",
    "except Exception as e:\n",
    "    print(repr(e))\n",
    "finally:\n",
    "    print('Close file')\n",
    "    f.close()\n",
    "```"
   ]
  },
  {
   "cell_type": "code",
   "execution_count": null,
   "metadata": {},
   "outputs": [],
   "source": []
  }
 ],
 "metadata": {
  "kernelspec": {
   "display_name": "Python 3",
   "language": "python",
   "name": "python3"
  },
  "language_info": {
   "codemirror_mode": {
    "name": "ipython",
    "version": 3
   },
   "file_extension": ".py",
   "mimetype": "text/x-python",
   "name": "python",
   "nbconvert_exporter": "python",
   "pygments_lexer": "ipython3",
   "version": "3.7.3"
  }
 },
 "nbformat": 4,
 "nbformat_minor": 2
}
