{
 "cells": [
  {
   "cell_type": "markdown",
   "metadata": {},
   "source": [
    "# Debugging using pdb\n",
    "\n",
    "Code debugging is an important skill for software developer. Python provides an interactive source code debugger `pdb`. It is part of Python’s standard library, which is always there and available for use.Such debugger is useful to track down hard-to-find bugs and make code fix more quickly and reliably.\n",
    "\n",
    "**Objectives:**\n",
    "* Use the debugger to view state of any variable in your code\n",
    "* Able to stop and resume execution of your code\n"
   ]
  },
  {
   "cell_type": "markdown",
   "metadata": {},
   "source": [
    "## Breakpoints\n",
    "\n",
    "### What is Breakpoint?\n",
    "\n",
    "A **breakpoint** is an intentional stopping or pausing place in a program. You set breakpoints at wherever you want to pause program or debugger execution.\n",
    "\n",
    "To set a breakpoint, insert the following code at the location where you want to break into the debugger.\n",
    "\n",
    "```python\n",
    "import pdb; pdb.set_trace()\n",
    "```\n",
    "\n",
    "Starting from Python 3.7, a new built-in function `breakpoint()` is introduced as replacement. \n",
    "* It will import pdb and call pdb.set_trace().\n",
    "* It provides more control in debugging behavior. For example, setting `PYTHONBREAKPOINT=0` will disable all `breakpoint()`, thus disabling debugging.\n",
    "\n",
    "```python\n",
    "breakpoint()\n",
    "```"
   ]
  },
  {
   "cell_type": "markdown",
   "metadata": {},
   "source": [
    "### Using Breakpoint\n",
    "\n",
    "Run following code; at each `(Pdb)` prompt, enter following statements and ENTER; observe its output.\n",
    "* `p x,y`\n",
    "* `c`\n",
    "* `p x,y`\n",
    "* `c`\n",
    "\n",
    "**Try Code:**\n",
    "```python \n",
    "x, y = 10, 20\n",
    "# breakpoint()\n",
    "import pdb; pdb.set_trace()\n",
    "x, y = x**2, y**2\n",
    "# breakpoint()\n",
    "import pdb; pdb.set_trace()\n",
    "print('end of script')\n",
    "```\n",
    "\n",
    "**Observe Output:**\n",
    "* Line 1 with `>` shows source file name `ipython-input-12-b88594695ee0` and line number `(2)`\n",
    "* Line 3 with `(Pdb)` is a prompt waiting for a command.\n",
    "    * `p x,y` is to print `x` and `y` values using `p` command\n",
    "    * `c` is to continue execution until next breakpoint\n",
    "\n",
    "```\n",
    "--Return--\n",
    "> <ipython-input-12-b88594695ee0>(2)<module>()->None\n",
    "-> import pdb; pdb.set_trace()\n",
    "(Pdb) p x,y\n",
    "(10, 20)\n",
    "(Pdb) c\n",
    "```"
   ]
  },
  {
   "cell_type": "code",
   "execution_count": null,
   "metadata": {},
   "outputs": [],
   "source": []
  },
  {
   "cell_type": "markdown",
   "metadata": {},
   "source": [
    "**Exercise:**\n",
    "\n",
    "Run following code; use breakpoint to examine `n` and `x` value in each call to `recur_factorial()` function.\n",
    "\n",
    "```python\n",
    "def recur_factorial(n, x):\n",
    "    if n == x:\n",
    "        return n\n",
    "    else:\n",
    "        return n*recur_factorial(n-1, x)\n",
    "\n",
    "recur_factorial(10,8)\n",
    "```"
   ]
  },
  {
   "cell_type": "code",
   "execution_count": null,
   "metadata": {},
   "outputs": [],
   "source": []
  },
  {
   "cell_type": "markdown",
   "metadata": {},
   "source": [
    "## Useful `pdb` Commands\n",
    "\n",
    "Apart from `p` and `c`, `pdb` offers other useful commands. You can get list of functions using `help` or `h` in Pdb prompt.\n",
    "\n",
    "\n",
    "| Command         | Description                                                                                                                        |\n",
    "|:----------------|:-----------------------------------------------------------------------------------------------------------------------------------|\n",
    "| p               | Print the value of an expression.                                                                                                  |\n",
    "| c               | Continue execution and only stop when a breakpoint is encountered.                                                                 |\n",
    "| h               | See a list of available commands.                                                                                                  |\n",
    "| h &lt;topic&gt; | Show help for a command or topic.                                                                                                  |\n",
    "\n",
    "### Get Help\n",
    "\n",
    "**Try Code:**\n",
    "\n",
    "```python\n",
    "import pdb; pdb.set_trace()\n",
    "```\n",
    "\n",
    "* Enter `h` or `help` in `Pdb` prompt.\n",
    "* Enter `h p` in prompt\n",
    "* Enter `h c` in prompt"
   ]
  },
  {
   "cell_type": "code",
   "execution_count": null,
   "metadata": {},
   "outputs": [],
   "source": []
  },
  {
   "cell_type": "markdown",
   "metadata": {},
   "source": [
    "### Step Over and Step In\n",
    "\n",
    "`Step Over` or `Next Line` means execute current line and pause at next line in current function. \n",
    "\n",
    "`Step Into` is to goes into the function appeared in current line. \n",
    "\n",
    "`Quit` is to end current debugging session.\n",
    "\n",
    "`Pdb` also provides `ll` to diplay code of current function where execution is in.\n",
    "\n",
    "\n",
    "| Command         | Description                                                                                                                        |\n",
    "|:----------------|:-----------------------------------------------------------------------------------------------------------------------------------|\n",
    "| n               | Continue execution until the next line in the current function is reached or it returns.                                           |\n",
    "| s               | Execute the current line and stop at the first possible occasion (either in a function that is called or in the current function). |\n",
    "| q               | Quit the debugger and exit.                                                                                                        |\n",
    "| ll              | List the whole source code for the current function or frame.                                                                      |"
   ]
  },
  {
   "cell_type": "markdown",
   "metadata": {},
   "source": [
    "**Try Code:**\n",
    "\n",
    "* Run following code\n",
    "\n",
    "```python\n",
    "def recur_factorial(n, x):\n",
    "    print('In recur_factorial({},{})'.format(n,x))\n",
    "    if n == x:\n",
    "        return n\n",
    "    else:\n",
    "        return n*recur_factorial(n-1, x)\n",
    "\n",
    "for i in range(10,15):\n",
    "    import pdb; pdb.set_trace()\n",
    "    print('In for-loop: ', i)\n",
    "    recur_factorial(i,i-2)\n",
    "```\n",
    "\n",
    "* Enter `n` + ENTER a few times. Observe that the code execution is always within `for-loop`\n",
    "* Enter `s` + ENTER when the execution is at `recur_factorial(i,i-2)`. Observe that the code execution is now in `recur_factorial()` function.\n",
    "* Enter `ll` + ENTER to display code of current function, i.e. `recur_factorial()`\n",
    "* Continue to enter `n` + ENTER a few times.\n",
    "* Enter `q` + ENTER to quit current debugging session.\n"
   ]
  },
  {
   "cell_type": "code",
   "execution_count": null,
   "metadata": {},
   "outputs": [],
   "source": []
  }
 ],
 "metadata": {
  "kernelspec": {
   "display_name": "Python 3",
   "language": "python",
   "name": "python3"
  },
  "language_info": {
   "codemirror_mode": {
    "name": "ipython",
    "version": 3
   },
   "file_extension": ".py",
   "mimetype": "text/x-python",
   "name": "python",
   "nbconvert_exporter": "python",
   "pygments_lexer": "ipython3",
   "version": "3.7.3"
  }
 },
 "nbformat": 4,
 "nbformat_minor": 2
}
