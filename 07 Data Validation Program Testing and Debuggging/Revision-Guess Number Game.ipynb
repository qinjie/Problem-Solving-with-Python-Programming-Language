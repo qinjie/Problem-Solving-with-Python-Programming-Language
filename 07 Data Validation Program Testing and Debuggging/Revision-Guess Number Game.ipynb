{
 "cells": [
  {
   "cell_type": "markdown",
   "metadata": {},
   "source": [
    "# Revision - Guess Number Game"
   ]
  },
  {
   "cell_type": "markdown",
   "metadata": {},
   "source": [
    "### Generate random number\n",
    "\n",
    "Following code uses `random.randint(x, y)` generates a random integer between x and y (inclusive). \n",
    "\n",
    "```\n",
    "import random\n",
    "\n",
    "r = random.randint(1,10000)\n",
    "```"
   ]
  },
  {
   "cell_type": "markdown",
   "metadata": {},
   "source": [
    "### if...elif..else\n",
    "\n",
    "Implement your programe which performs following:\n",
    "\n",
    "* Generate a random integer between 1 and 10 (inclusive)\n",
    "* Ask user to input an integer value\n",
    "* Use `if...elif...else` to compare the two integers, and produce prompt for user, e.g. `It's higher.`, `It's lower.` or `Bingo!`.\n",
    "\n",
    "**Sample Output:**\n",
    "\n",
    "```\n",
    "Guess a number(1,10000): 5\n",
    "It's higher.\n",
    "```"
   ]
  },
  {
   "cell_type": "code",
   "execution_count": null,
   "metadata": {},
   "outputs": [],
   "source": []
  },
  {
   "cell_type": "markdown",
   "metadata": {},
   "source": [
    "### while-loop\n",
    "\n",
    "Modify your code above using `while-loop` so that user can try continously until he guesses the correct number.\n",
    "\n",
    "**Sample Output:**\n",
    "```\n",
    "Guess a number(1,10): 5\n",
    "It's higher.\n",
    "Guess a number(1,10): 8\n",
    "It's lower.\n",
    "Guess a number(1,10): 7\n",
    "It's lower.\n",
    "Guess a number(1,10): 6\n",
    "Bingo!\n",
    "```"
   ]
  },
  {
   "cell_type": "code",
   "execution_count": null,
   "metadata": {},
   "outputs": [],
   "source": []
  },
  {
   "cell_type": "markdown",
   "metadata": {},
   "source": [
    "### Handle Invalid Input\n",
    "\n",
    "Sometimes user may enter an alphabet instead of integer. The `int()` function will raise an Exception when it parse non-number value. \n",
    "\n",
    "**Question:**\n",
    "\n",
    "What exception type will `int()` raise? "
   ]
  },
  {
   "cell_type": "code",
   "execution_count": null,
   "metadata": {},
   "outputs": [],
   "source": []
  },
  {
   "cell_type": "markdown",
   "metadata": {},
   "source": [
    "Use `try-except` to handle invalid input gracefully. \n",
    "\n",
    "**Sample Output:**\n",
    "```\n",
    "Guess a number(1,10): 4\n",
    "It's lower.\n",
    "Guess a number(1,10): a\n",
    "Enter only numeric number.\n",
    "Guess a number(1,10): 2\n",
    "Bingo!\n",
    "```"
   ]
  },
  {
   "cell_type": "code",
   "execution_count": null,
   "metadata": {},
   "outputs": [],
   "source": []
  },
  {
   "cell_type": "markdown",
   "metadata": {},
   "source": [
    "### Generic Exception Type\n",
    "\n",
    "Although it is optional to specify Exception type in `except:` statement, such practice is discouraged. \n",
    "\n",
    "**Try Following:**\n",
    "\n",
    "* Replace `except ValueError:` with `except:`?\n",
    "* Save your code in a file `ignore_keyboard_interrupt.py`\n",
    "* Run the file in command line `python ignore_keyboard_interrupt.py`\n",
    "* Press `CTRL+C` to cancel execution. \n",
    "\n",
    "Are you able to cancel the execution? \n"
   ]
  }
 ],
 "metadata": {
  "kernelspec": {
   "display_name": "Python 3",
   "language": "python",
   "name": "python3"
  },
  "language_info": {
   "codemirror_mode": {
    "name": "ipython",
    "version": 3
   },
   "file_extension": ".py",
   "mimetype": "text/x-python",
   "name": "python",
   "nbconvert_exporter": "python",
   "pygments_lexer": "ipython3",
   "version": "3.7.3"
  }
 },
 "nbformat": 4,
 "nbformat_minor": 2
}
