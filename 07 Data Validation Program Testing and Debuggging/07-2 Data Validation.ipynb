{
 "cells": [
  {
   "cell_type": "markdown",
   "metadata": {},
   "source": [
    "# Assertion\n",
    "\n",
    "**Objectives:**\n",
    "* Understand what is assertion\n",
    "* Learn how to use assertion in your program"
   ]
  },
  {
   "cell_type": "markdown",
   "metadata": {},
   "source": [
    "## 1. What is Assertion\n",
    "\n",
    "Assertion is a programming concept which exists in almost every programming language. \n",
    "\n",
    "Assertion statement tests whether a condition to be true prior to running following statements. \n",
    "* If the condition is `True`, the control simply moves to the next line of code.\n",
    "* In case if it is `False` the program stops running and returns `AssertionError` Exception.\n",
    "\n",
    "<img src=\"./images/assertion.png\" width=380/>\n",
    "\n",
    "<p style=\"text-align: center\"> Reference: https://media.geeksforgeeks.org/wp-content/uploads/20190816162037/dsa.png </p>\n"
   ]
  },
  {
   "cell_type": "markdown",
   "metadata": {},
   "source": [
    "**Try Code:**\n",
    "\n",
    "```python\n",
    "assert True\n",
    "assert False\n",
    "```"
   ]
  },
  {
   "cell_type": "code",
   "execution_count": null,
   "metadata": {},
   "outputs": [],
   "source": []
  },
  {
   "cell_type": "markdown",
   "metadata": {},
   "source": [
    "## 2. Using Assertion\n",
    "\n",
    "Python has built-in `assert` statement. It takes an boolean condition and an optional message. The condition is supposed to be always True. If the condition is False, the program terminates and an AssertionError is raised.\n",
    "\n",
    "**Syntax:**\n",
    "```\n",
    "assert <condition>\n",
    "assert <condition>,<error message>\n",
    "```\n",
    "\n",
    "**Try Code:**\n",
    "```python\n",
    "x = ' '\n",
    "assert bool(x) == False\n",
    "# assert bool(x) == False, 'String cannot be empty'\n",
    "```"
   ]
  },
  {
   "cell_type": "code",
   "execution_count": null,
   "metadata": {},
   "outputs": [],
   "source": []
  },
  {
   "cell_type": "markdown",
   "metadata": {},
   "source": [
    "For example, Assume `add_gst()` function contains very complex logic to add GST to an amount. You are certain that amount with GST is larger than original value.\n",
    "* The assertion statement can be applied in either `add_gst()` or `apply_gst()`.\n",
    "\n",
    "**Try Code:**\n",
    "\n",
    "```python\n",
    "def add_gst(amount):\n",
    "    amount -= amount * 0.07\n",
    "    return amount\n",
    "\n",
    "def apply_gst(amount):\n",
    "    result = add_gst(amount)\n",
    "    assert result > amount, 'Amoutn with GST must be larger'\n",
    "    return reuslt\n",
    "\n",
    "amount = 10\n",
    "apply_gst(amount)\n",
    "```"
   ]
  },
  {
   "cell_type": "code",
   "execution_count": null,
   "metadata": {},
   "outputs": [],
   "source": []
  },
  {
   "cell_type": "markdown",
   "metadata": {},
   "source": [
    "**Note:** Do not use parenthesis to call assert like a function. It is a statement. If you do `assert(condition, message)` you'll be running the assert with a `(condition, message)` tuple as first parameter."
   ]
  },
  {
   "cell_type": "markdown",
   "metadata": {},
   "source": [
    "### Disable Assertions\n",
    "\n",
    "In production, you should disable assertions in your code. To disable them, run your code in optimized mode, pass in the `-O` flag. Then all the assert statements will be ignored.\n",
    "\n",
    "**Example:**\n",
    "\n",
    "```bash\n",
    "python -O myprogram.py\n",
    "```"
   ]
  },
  {
   "cell_type": "markdown",
   "metadata": {},
   "source": [
    "\n",
    "## 3. Why Use Assertion\n",
    "\n",
    "Python’s assert statement is a debugging aid, not a mechanism for handling run-time errors. The goal of using assertions is to let developers find the likely root cause of a bug more quickly. An assertion error should never be raised unless there’s a bug in your program.\n",
    "\n",
    "It is commonly used in following scenarios.\n",
    "* Checking valid input/type.\n",
    "* Checking values or ranges of parameters.\n",
    "* Checking output of a function.\n",
    "\n",
    "As Python does not require indication of data type, Assertion is a good way to specify the data type of a variable. It is also useful for downstream developers to use your code properly, e.g. dont use wrong data when calling your function.\n",
    "\n",
    "\n",
    "### Difference from Exception\n",
    "\n",
    "`Assertion` is commonly used in code development and debugging, where as `Exception` is used to handle unexpected errors after code is deployed.\n",
    "\n",
    "`Assertion` is used for internal self-checks of your program, e.g. when you are certain that some conditions must be True before code can continue to run.\n",
    "* You want your program to fail fast during development.\n",
    "* You want other developers to use your code correctly.\n",
    "* When assertion fails, you want your code to fail immediately.\n",
    "\n",
    "`Exception` is used to handle unexpected conditions, e.g. depends on user inputs, to protect program from crashing.\n",
    "* At the end of Exception, you would like user to take corrective action to rectify the problem.\n"
   ]
  }
 ],
 "metadata": {
  "kernelspec": {
   "display_name": "Python 3",
   "language": "python",
   "name": "python3"
  },
  "language_info": {
   "codemirror_mode": {
    "name": "ipython",
    "version": 3
   },
   "file_extension": ".py",
   "mimetype": "text/x-python",
   "name": "python",
   "nbconvert_exporter": "python",
   "pygments_lexer": "ipython3",
   "version": "3.7.3"
  }
 },
 "nbformat": 4,
 "nbformat_minor": 2
}
