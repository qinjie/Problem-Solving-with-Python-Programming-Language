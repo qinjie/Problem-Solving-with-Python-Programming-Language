{
 "cells": [
  {
   "cell_type": "markdown",
   "metadata": {},
   "source": [
    "Ministry of Education, Singapore <br>\n",
    "**Computing Teachers’ Content Upgrading Course 2020**\n",
    "\n",
    "<h1><center>Practical Assessment 1 - Retest</center></h1>\n",
    "\n",
    "<center>20 Mar 2020</center>\n",
    "\n",
    "**Time allowed**: 3 hours\n",
    "\n",
    "<br>\n",
    "<u>Instructions to candidates:</u>\n",
    "\n",
    "1. This is an **open-book** exam.\n",
    "2. Answer all <u><b>five</b></u> questions.\n",
    "3. You may complete your solutions in any IDE first before copying them into this Jupyter Notebook for submission. \n",
    "4. Input validation is not required\n",
    "5. Submit this Jupyter Notebook online before test ends. You may submit multiple times, but only the last submission before test end time will be accepted. [https://driveuploader.com/upload/JDtXaQiUmX/](https://driveuploader.com/upload/JDtXaQiUmX/)\n",
    "6. Please note that the sample test cases may not be enough to test your program. Your programs will be tested with other inputs and they should exhibit the required behaviours to get full credit."
   ]
  },
  {
   "cell_type": "markdown",
   "metadata": {},
   "source": [
    "#### Name & Email\n",
    "\n",
    "* Rename your jupyter notebook to \"YourName\" using menu `File > Rename`\n",
    "* Enter your name and your email address in following cell"
   ]
  },
  {
   "cell_type": "raw",
   "metadata": {},
   "source": [
    "# YOUR NAME\n",
    "\n",
    "# YOUR EMAIL\n"
   ]
  },
  {
   "cell_type": "markdown",
   "metadata": {},
   "source": [
    "---"
   ]
  },
  {
   "cell_type": "markdown",
   "metadata": {},
   "source": [
    "### Question 1 (4 marks)\n",
    "\n",
    "Implement a function `cumulative_sum(s)` where `\"s\"` a list of integers. It returns a list of its cumulative sum.\n",
    "\n",
    "For example, when `s = [1,2,3,4,5]`, the function returns `[1,3,6,10,15]` "
   ]
  },
  {
   "cell_type": "code",
   "execution_count": 6,
   "metadata": {},
   "outputs": [],
   "source": [
    "# WRITE YOUR CODE HERE\n"
   ]
  },
  {
   "cell_type": "markdown",
   "metadata": {},
   "source": [
    "<u>*Test Case 1*</u>\n",
    "\n",
    "* Input: `[1,2,3,4,5]`\n",
    "* Expected output: `[1,3,6,10,15]` "
   ]
  },
  {
   "cell_type": "code",
   "execution_count": 7,
   "metadata": {},
   "outputs": [
    {
     "name": "stdout",
     "output_type": "stream",
     "text": [
      "[1, 3, 6, 10, 15]\n"
     ]
    }
   ],
   "source": [
    "s = cumulative_sum([1,2,3,4,5])\n",
    "print(s)"
   ]
  },
  {
   "cell_type": "markdown",
   "metadata": {},
   "source": [
    "<u>*Test Case 2*</u>\n",
    "\n",
    "* Input: `[1,1,1,2,2,2]`\n",
    "* Expected output: `[1,2,3,5,7,9]` "
   ]
  },
  {
   "cell_type": "code",
   "execution_count": 4,
   "metadata": {},
   "outputs": [
    {
     "name": "stdout",
     "output_type": "stream",
     "text": [
      "[1, 2, 3, 5, 7, 9]\n"
     ]
    }
   ],
   "source": [
    "s = cumulative_sum([1,1,1,2,2,2])\n",
    "print(s)"
   ]
  },
  {
   "cell_type": "markdown",
   "metadata": {},
   "source": [
    "<u>*Test Case 3*</u>\n",
    "\n",
    "* Input: `[]`\n",
    "* Expected output: `[]`"
   ]
  },
  {
   "cell_type": "code",
   "execution_count": 2,
   "metadata": {},
   "outputs": [
    {
     "name": "stdout",
     "output_type": "stream",
     "text": [
      "[]\n"
     ]
    }
   ],
   "source": [
    "s = cumulative_sum([])\n",
    "print(s)"
   ]
  },
  {
   "cell_type": "markdown",
   "metadata": {},
   "source": [
    "### Question 2 (4 marks)\n",
    "\n",
    "Implement a function `count_lengths(s)` which takes in a list of strings. It counts the length of each string in the list. It return a dictionary with string length as key and string count as value.\n",
    "\n",
    "For example, the return value of `{3:4, 2:5, 6:2}` indicates there are 4 strings with length 3, 5 strings with length 2 and 2 strings with length 6."
   ]
  },
  {
   "cell_type": "code",
   "execution_count": 5,
   "metadata": {},
   "outputs": [],
   "source": [
    "# WRITE YOUR CODE HERE\n"
   ]
  },
  {
   "cell_type": "markdown",
   "metadata": {},
   "source": [
    "<u>*Test Case 1*</u>\n",
    "* Input: `['come', 'find', 'for', 'funny', 'go']`\n",
    "* Expected output: `{4: 2, 3: 1, 5: 1, 2: 1}`\n",
    "* This is because there are 2 strings of 4 characters, 1 string of 3 characters, 1 string of 5 characters, and 1 string of 2 characters."
   ]
  },
  {
   "cell_type": "code",
   "execution_count": 6,
   "metadata": {},
   "outputs": [
    {
     "name": "stdout",
     "output_type": "stream",
     "text": [
      "{4: 2, 3: 1, 5: 1, 2: 1}\n"
     ]
    }
   ],
   "source": [
    "s = count_lengths(['come', 'find', 'for', 'funny', 'go'])\n",
    "print(s)"
   ]
  },
  {
   "cell_type": "markdown",
   "metadata": {},
   "source": [
    "<u>*Test Case 2*</u>\n",
    "\n",
    "* Input: `['help', 'here', 'I']`\n",
    "* Expected output: `{4: 2, 1: 1}`\n",
    "* This is because there are 2 strings of 4 characters, and 1 string of 1 character."
   ]
  },
  {
   "cell_type": "code",
   "execution_count": 7,
   "metadata": {},
   "outputs": [
    {
     "name": "stdout",
     "output_type": "stream",
     "text": [
      "{4: 2, 1: 1}\n"
     ]
    }
   ],
   "source": [
    "s = count_lengths(['help', 'here', 'I'])\n",
    "print(s)"
   ]
  },
  {
   "cell_type": "markdown",
   "metadata": {},
   "source": [
    "<u>*Test Case 3*</u>\n",
    "\n",
    "* Input: `[]`\n",
    "* Expected output: `{}`"
   ]
  },
  {
   "cell_type": "code",
   "execution_count": 8,
   "metadata": {},
   "outputs": [
    {
     "name": "stdout",
     "output_type": "stream",
     "text": [
      "{}\n"
     ]
    }
   ],
   "source": [
    "s = count_lengths([])\n",
    "print(s)"
   ]
  },
  {
   "cell_type": "markdown",
   "metadata": {},
   "source": [
    "### Question 3 (4 marks)\n",
    "\n",
    "Implement a function `gen_random()` which generates <b>5</b> distinct integers <u>between 0 and 9 (inclusive)</u>.\n",
    "\n",
    "To generate an integer between 0 and 9 (inclusive), use code:\n",
    "\n",
    "```python\n",
    "import random\n",
    "x = random.randrange(10)\n",
    "```"
   ]
  },
  {
   "cell_type": "code",
   "execution_count": 1,
   "metadata": {},
   "outputs": [],
   "source": [
    "import random\n",
    "\n",
    "# WRITE YOUR CODE HERE\n",
    "\n"
   ]
  },
  {
   "cell_type": "markdown",
   "metadata": {},
   "source": [
    "<u>*Test Case 1*</u>\n",
    "\n",
    "Following code should generates 5 distinct integers between 0 and 9 (inclusive). If the returned list is correct, no Exception will be raised. "
   ]
  },
  {
   "cell_type": "code",
   "execution_count": 2,
   "metadata": {},
   "outputs": [
    {
     "name": "stdout",
     "output_type": "stream",
     "text": [
      "[6, 9, 4, 1, 5]\n"
     ]
    }
   ],
   "source": [
    "s = gen_randoms()\n",
    "print(s)\n",
    "assert(len(set(s)) == 5)  # Check if s contains 5 distinct integer\n",
    "assert(all([x >=0 and x <= 9 for x in s]))"
   ]
  },
  {
   "cell_type": "markdown",
   "metadata": {},
   "source": [
    "### Question 4 (4 marks)\n",
    "\n",
    "This question is to implement a simple checksum for a String message.\n",
    "The steps involved to create checksum on a string `s` is:\n",
    "* **Step 1:** For each character in the string, find its ASCII value. \n",
    "* **Step 2:** Multiply each ASCII value by a weight: \n",
    "    * If the character is between <b>`a`</b> to <b>`z`</b>, multiple its ASCII value by 5.\n",
    "    * If the character is between <b>`A`</b> to <b>`Z`</b>, multiple its ASCII value by 10.\n",
    "    * Otherwise, multiple the ASCII value by 15. \n",
    "* **Step 3:** Sum up all above values\n",
    "* **Step 4:** Divide the sum by 13 and get its remainder;\n",
    "* **Step 5:** Subtract the remainder from 13 to get the result;\n",
    "\n",
    "Implement a function `checksum_num(s)` which takes in a string `s`, and returns an integer as the check digit using the above method.\n",
    "* To find ASCII code of a character, use `ord()` method. \n",
    "    * For example, `ord('A')` will return 65, `ord('Z')` will return 90. \n"
   ]
  },
  {
   "cell_type": "code",
   "execution_count": 13,
   "metadata": {},
   "outputs": [],
   "source": [
    "# WRITE YOUR CODE HERE\n"
   ]
  },
  {
   "cell_type": "markdown",
   "metadata": {},
   "source": [
    "<u>*Test Case 1*</u>\n",
    "\n",
    "Input: `'HeLLo2'`<br>\n",
    "Expected output: `13`\n",
    "\n",
    "$$\n",
    "\\begin{aligned}\n",
    "\\textbf{Steps 1 and 2 and 3:} \\quad & 72*10 + 101*5 + 76*10 + 76*10 + 111*5 + 50*15 = 4050 \\\\\n",
    "\\textbf{Step 4:} \\quad & 4050 \\div 13 \\text{ gives remainder } 7 \\\\\n",
    "\\textbf{Step 5:} \\quad & 13 - 7 = 6 \\\\\n",
    "\\end{aligned}\n",
    "$$"
   ]
  },
  {
   "cell_type": "code",
   "execution_count": 14,
   "metadata": {},
   "outputs": [
    {
     "name": "stdout",
     "output_type": "stream",
     "text": [
      "6\n"
     ]
    }
   ],
   "source": [
    "result = checksum_num('HeLLo2')\n",
    "print(result)"
   ]
  },
  {
   "cell_type": "markdown",
   "metadata": {},
   "source": [
    "<u>*Test Case 2*</u>\n",
    "\n",
    "Input: `'abc@gmail.com'`<br>\n",
    "Expected output: `7`"
   ]
  },
  {
   "cell_type": "code",
   "execution_count": 15,
   "metadata": {},
   "outputs": [
    {
     "name": "stdout",
     "output_type": "stream",
     "text": [
      "7\n"
     ]
    }
   ],
   "source": [
    "result = checksum_num('abc@gmail.com')\n",
    "print(result)"
   ]
  },
  {
   "cell_type": "markdown",
   "metadata": {},
   "source": [
    "### Question 5 (4 marks)\n",
    "\n",
    "Strings returned from web service's calls are commonly in JSON format. In Python, JSON strings are commonly parsed into Dictionaries.\n",
    "\n",
    "```json\n",
    "d = {\n",
    "  \"a\": 1,\n",
    "  \"b\": { \"b1\": 2, \"b2\": 3},\n",
    "  \"c\": { \"c1\": 1, \n",
    "         \"c2\": { \"d1\": 2, \"d2\": 3 } \n",
    "       },\n",
    "  \"e\": { \"e1\": 1, \"e2\": 2 }\n",
    "}\n",
    "```\n",
    "\n",
    "Considering above dictionary whose value can be either an integer or another dictionary.\n",
    "\n",
    "Implement a <u>recursive</u> function `sum_vals(d)` which takes in such a dictionary and returns sum of all values in `d`.\n",
    "\n",
    "<u>Non-recursive</u> functions will also be accepted but with a <u>2 marks</u> penalty."
   ]
  },
  {
   "cell_type": "code",
   "execution_count": 16,
   "metadata": {},
   "outputs": [],
   "source": [
    "# WRITE YOUR CODE HERE\n",
    "\n"
   ]
  },
  {
   "cell_type": "markdown",
   "metadata": {},
   "source": [
    "<u>*Test Case 1*</u>\n",
    "* Input: `{\"a\": 1, \"b\": {\"b1\": 2, \"b2\":3}, \"c\": {\"c1\":1, \"c2\": {\"d1\":2, \"d2\":3}}, \"e\": {\"e1\":1, \"e2\":2}}`\n",
    "* Expected output: `15`"
   ]
  },
  {
   "cell_type": "code",
   "execution_count": 17,
   "metadata": {
    "scrolled": true
   },
   "outputs": [
    {
     "name": "stdout",
     "output_type": "stream",
     "text": [
      "15\n"
     ]
    }
   ],
   "source": [
    "d = {\"a\": 1, \"b\": {\"b1\": 2, \"b2\":3}, \"c\": {\"c1\":1, \"c2\": {\"d1\":2, \"d2\":3}}, \"e\": {\"e1\":1, \"e2\":2}}\n",
    "result = sum_vals(d)\n",
    "print(result)"
   ]
  },
  {
   "cell_type": "markdown",
   "metadata": {},
   "source": [
    "<u>*Test Case 2*</u>\n",
    "\n",
    "* Input: `{\"c\": {\"c1\":1, \"c2\": {\"d1\":2, \"d2\":3, \"e\": {\"e1\":1, \"e2\":2}}}}`\n",
    "* Expected output: `9`"
   ]
  },
  {
   "cell_type": "code",
   "execution_count": 18,
   "metadata": {},
   "outputs": [
    {
     "name": "stdout",
     "output_type": "stream",
     "text": [
      "9\n"
     ]
    }
   ],
   "source": [
    "d = {\"c\": {\"c1\":1, \"c2\": {\"d1\":2, \"d2\":3, \"e\": {\"e1\":1, \"e2\":2}}}}\n",
    "result = sum_vals(d)\n",
    "print(result)"
   ]
  },
  {
   "cell_type": "markdown",
   "metadata": {},
   "source": [
    "<u>*Test Case 3*</u>\n",
    "\n",
    "* Input: `{\"c\": {\"d\": {\"e\": {\"e1\":1, \"e2\":2}}}}`\n",
    "* Expected output: `3`"
   ]
  },
  {
   "cell_type": "code",
   "execution_count": 19,
   "metadata": {},
   "outputs": [
    {
     "name": "stdout",
     "output_type": "stream",
     "text": [
      "3\n"
     ]
    }
   ],
   "source": [
    "d = {\"c\": {\"d\": {\"e\": {\"e1\":1, \"e2\":2}}}}\n",
    "result = sum_vals(d)\n",
    "print(result)"
   ]
  }
 ],
 "metadata": {
  "kernelspec": {
   "display_name": "Python 3",
   "language": "python",
   "name": "python3"
  },
  "language_info": {
   "codemirror_mode": {
    "name": "ipython",
    "version": 3
   },
   "file_extension": ".py",
   "mimetype": "text/x-python",
   "name": "python",
   "nbconvert_exporter": "python",
   "pygments_lexer": "ipython3",
   "version": "3.7.3"
  }
 },
 "nbformat": 4,
 "nbformat_minor": 2
}
