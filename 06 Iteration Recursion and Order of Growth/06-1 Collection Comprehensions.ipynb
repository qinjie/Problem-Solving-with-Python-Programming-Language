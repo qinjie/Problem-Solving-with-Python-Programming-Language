{
 "cells": [
  {
   "cell_type": "markdown",
   "metadata": {
    "slideshow": {
     "slide_type": "slide"
    }
   },
   "source": [
    "# Collection Comprehensions\n",
    "\n",
    "Comprehensions provide an easy way to build sequences from other sequences.\n",
    "* List Comprehensions\n",
    "* Set Comprehensions\n",
    "* Dictionary Comprehensions\n"
   ]
  },
  {
   "cell_type": "markdown",
   "metadata": {
    "slideshow": {
     "slide_type": "slide"
    }
   },
   "source": [
    "## 1. List Comprehensions\n",
    "\n",
    "A comprehension construct consists of following parts:\n",
    "* An Input Sequence\n",
    "* A Variable representing members of the input sequence\n",
    "* An Output Expression producing elements of the output list from members of the Input Sequence\n",
    "* An Optional Predicate expression which filters the input sequence\n",
    "\n",
    "<img src=\"./images/list-comprehensions.gif\" alt=\"List Comprehensions\" style=\"width: 500px;\"/>\n"
   ]
  },
  {
   "cell_type": "markdown",
   "metadata": {},
   "source": [
    "### Basic Comprehension"
   ]
  },
  {
   "cell_type": "markdown",
   "metadata": {},
   "source": [
    "**Try Code:**\n",
    "\n",
    "Use list comprehension to generate a list `list1 = x * 2`, where x is between 0 and 9.\n",
    "\n",
    "```\n",
    "[x*2 for x in range(10)]\n",
    "```"
   ]
  },
  {
   "cell_type": "code",
   "execution_count": null,
   "metadata": {},
   "outputs": [],
   "source": []
  },
  {
   "cell_type": "markdown",
   "metadata": {},
   "source": [
    "Use `while-loop` to implement equivalent code."
   ]
  },
  {
   "cell_type": "code",
   "execution_count": null,
   "metadata": {},
   "outputs": [],
   "source": []
  },
  {
   "cell_type": "markdown",
   "metadata": {},
   "source": [
    "**Exercise:**\n",
    "\n",
    "Use list comprehension to generate a list of numbers wihch are `x * 2` if `x` is even or `x * 3` if `x` is odd, where x is between 0 and 9."
   ]
  },
  {
   "cell_type": "code",
   "execution_count": null,
   "metadata": {},
   "outputs": [],
   "source": []
  },
  {
   "cell_type": "markdown",
   "metadata": {},
   "source": [
    "Use `for-loop` to implement equivalent code."
   ]
  },
  {
   "cell_type": "code",
   "execution_count": null,
   "metadata": {},
   "outputs": [],
   "source": []
  },
  {
   "cell_type": "markdown",
   "metadata": {},
   "source": [
    "### Comprehension with Filtering\n",
    "\n",
    "You can filter list items in the comprehension using `if-statement`. Items will be included when the `if-statement` is evaluated to True.  \n",
    "* Note the difference between if-statements before for-loop and if-statements after for-loop"
   ]
  },
  {
   "cell_type": "markdown",
   "metadata": {},
   "source": [
    "**Exercise:**\n",
    "\n",
    "Use list comprehension to generate a list of numbers wihch are `x^2` if `x` is divisible by both 2 and 3, where `x` is between 0 and 19"
   ]
  },
  {
   "cell_type": "code",
   "execution_count": null,
   "metadata": {},
   "outputs": [],
   "source": []
  },
  {
   "cell_type": "markdown",
   "metadata": {},
   "source": [
    "Use `for-loop` to implement equivalent code."
   ]
  },
  {
   "cell_type": "code",
   "execution_count": null,
   "metadata": {},
   "outputs": [],
   "source": []
  },
  {
   "cell_type": "markdown",
   "metadata": {},
   "source": [
    "### Comprehension with Nested Loops\n",
    "Comprehension also allow you to generate list with nested loops. Subsecquent `for-loop` is nested in previous `for-loop`. "
   ]
  },
  {
   "cell_type": "markdown",
   "metadata": {},
   "source": [
    "**Exercise:**\n",
    "\n",
    "Implement a function `nested()` which generates and returns following nested list using duble for-loops.\n",
    "\n",
    "`[[0, 100], [0, 101], [0, 102], [1, 100], [1, 101], [1, 102], [2, 100], [2, 101], [2, 102]]`"
   ]
  },
  {
   "cell_type": "code",
   "execution_count": null,
   "metadata": {},
   "outputs": [],
   "source": []
  },
  {
   "cell_type": "markdown",
   "metadata": {},
   "source": [
    "**Exercise:**\n",
    "\n",
    "Use list comprehension to generate re-write above funtion."
   ]
  },
  {
   "cell_type": "code",
   "execution_count": null,
   "metadata": {},
   "outputs": [],
   "source": []
  },
  {
   "cell_type": "markdown",
   "metadata": {
    "slideshow": {
     "slide_type": "slide"
    }
   },
   "source": [
    "## 2. Set Comprehensions\n",
    "\n",
    "Similiar to List Comprehensions, we can construct sets using Set Comprehensions. \n",
    "* Instead of using `[ ]`, it uses `{ }` instead.\n",
    "\n",
    "**Excercise:**\n",
    "* Ask user to enter a sentence\n",
    "* Split the sentence into words\n",
    "* Create a set of words, which appears more than once in the sentence\n",
    "\n",
    "<u>Sample Output:</u>\n",
    "\n",
    "```\n",
    "Enter a sentence: get busy living or get busy dying\n",
    "{'busy', 'get'}\n",
    "```"
   ]
  },
  {
   "cell_type": "code",
   "execution_count": null,
   "metadata": {},
   "outputs": [],
   "source": []
  },
  {
   "cell_type": "markdown",
   "metadata": {
    "slideshow": {
     "slide_type": "slide"
    }
   },
   "source": [
    "## 3. Dictionary Comprehensions\n",
    "\n",
    "Dictionary Comprehension uses `{ }` and its output expression must be **key-value** pair. \n",
    "\n",
    "**Exercise:**\n",
    "\n",
    "The `ord()` function converts a character into ASCII code; `chr()` function converts an ASCII code into corresponding character. ASCII code of 'A' = 65, 'B' = 66 ...\n",
    "\n",
    "* Create a dictionary which gives character to ASCII mapping for character 'A' to 'F'"
   ]
  },
  {
   "cell_type": "code",
   "execution_count": null,
   "metadata": {},
   "outputs": [],
   "source": []
  },
  {
   "cell_type": "markdown",
   "metadata": {
    "slideshow": {
     "slide_type": "slide"
    }
   },
   "source": [
    "## 4. Zip() to Handle Multiple Sequences\n",
    "\n",
    "To generate sequence from multiple input sequences, you can use `zip()` function.\n",
    "Function `zip()` maps similar index of multiple sequences so that they can be used just using as single entity. \n",
    "* If iterables have different number of elements, zip() will only process smallest length of elements. \n",
    "\n",
    "```\n",
    "zip(*iterables)\n",
    "```"
   ]
  },
  {
   "cell_type": "markdown",
   "metadata": {},
   "source": [
    "**Try Code:**\n",
    "```\n",
    "z = zip(range(3), range(6), range(9))\n",
    "list(z)\n",
    "```"
   ]
  },
  {
   "cell_type": "code",
   "execution_count": 12,
   "metadata": {},
   "outputs": [
    {
     "data": {
      "text/plain": [
       "[(0, 0, 0), (1, 1, 1), (2, 2, 2)]"
      ]
     },
     "execution_count": 12,
     "metadata": {},
     "output_type": "execute_result"
    }
   ],
   "source": []
  },
  {
   "cell_type": "markdown",
   "metadata": {},
   "source": [
    "**Exercise:**\n",
    "\n",
    "* Generate a list of odd numbers `odds` between 0 and 9\n",
    "* Generate a list of even numbers `evens` between 0 and 9\n",
    "* Generate another sequence `result` by adding odd number with corresponding even number of same index"
   ]
  },
  {
   "cell_type": "markdown",
   "metadata": {},
   "source": [
    "Optional 1: Using `for-loop`"
   ]
  },
  {
   "cell_type": "code",
   "execution_count": null,
   "metadata": {},
   "outputs": [],
   "source": []
  },
  {
   "cell_type": "markdown",
   "metadata": {},
   "source": [
    "Option 2: Using `zip()`"
   ]
  },
  {
   "cell_type": "code",
   "execution_count": null,
   "metadata": {},
   "outputs": [],
   "source": []
  },
  {
   "cell_type": "markdown",
   "metadata": {
    "slideshow": {
     "slide_type": "slide"
    }
   },
   "source": [
    "### Zip again to Unzip\n",
    "\n",
    "How do you unzip the zipped sequence `zipped` back to `odds` and `evens`? **Zip to unzip**"
   ]
  },
  {
   "cell_type": "markdown",
   "metadata": {},
   "source": [
    "**Try Code:**\n",
    "\n",
    "```\n",
    "x = list(range(0,9,2))\n",
    "y = list(range(1,10,2))\n",
    "z = list(zip(x, y))\n",
    "print(z)\n",
    "\n",
    "a, b = zip(*z)\n",
    "print(a)\n",
    "print(b)\n",
    "```"
   ]
  },
  {
   "cell_type": "code",
   "execution_count": null,
   "metadata": {},
   "outputs": [],
   "source": []
  }
 ],
 "metadata": {
  "kernelspec": {
   "display_name": "Python 3",
   "language": "python",
   "name": "python3"
  },
  "language_info": {
   "codemirror_mode": {
    "name": "ipython",
    "version": 3
   },
   "file_extension": ".py",
   "mimetype": "text/x-python",
   "name": "python",
   "nbconvert_exporter": "python",
   "pygments_lexer": "ipython3",
   "version": "3.7.3"
  }
 },
 "nbformat": 4,
 "nbformat_minor": 2
}
