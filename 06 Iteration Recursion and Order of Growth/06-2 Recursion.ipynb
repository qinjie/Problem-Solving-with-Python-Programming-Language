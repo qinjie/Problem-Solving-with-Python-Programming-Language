{
 "cells": [
  {
   "cell_type": "markdown",
   "metadata": {},
   "source": [
    "# Recursion\n",
    "\n",
    "**Objectives:**\n",
    "\n",
    "* What is Recursion\n",
    "* Recursion with Returned Value\n",
    "* Visualizing Recursion\n",
    "* Recursion with Returned Value"
   ]
  },
  {
   "cell_type": "markdown",
   "metadata": {},
   "source": [
    "## 1. What is Recursion\n",
    "\n",
    "The process in which a function calls itself directly or indirectly is known as `recursion`. The corresponding function is called as `recursive function`.\n",
    "* A `recursive function` **repeats the same action (statement)** in each iteration.\n",
    "\n",
    "<img src=\"./images/recursive_snake.jpg\" width=160 />\n",
    "<p style=\"text-align: center\">https://www.slideshare.net/HaseebQureshi5/recursion-for-the-rest-of-us-cs-fundamentals-series</p>\n",
    "\n",
    "#### Base Case\n",
    "* In each iteration, it breaks down a problem into smaller subproblems which is small enough to be solved trivially. Such small problem is called **base case**.\n",
    "* The solution of the bigger problem is implemented by calling the funtion itself.\n",
    "* The solution to the base case is implemented directly without calling to itself. \n",
    "\n",
    "#### Termination Condition\n",
    "* Recursion function must have a **termination condition**, which stops the function from calling itself infinitely.\n",
    "\n",
    "#### Why Use Recursion?\n",
    "* Recursion allows us to write elegant solutions to problems that may otherwise be very difficult to program.\n",
    "\n",
    "\n",
    "#### Types of Recursive Function\n",
    "* Recursive Function without Return Value\n",
    "* Recursive Function with Return Value\n"
   ]
  },
  {
   "cell_type": "markdown",
   "metadata": {},
   "source": [
    "### Recursion instead of Loop\n",
    "\n",
    "**Exercise:**\n",
    "\n",
    "Implement a **count-down()** function using `while-loop`.\n",
    "* It takes in a parameter `n`, which is the starting number to count down.\n",
    "\n",
    "<u>Sample Output:</u> Calling to `count_down(3)` gives following printout.\n",
    "\n",
    "```\n",
    "3 2 1 Done!\n",
    "```"
   ]
  },
  {
   "cell_type": "code",
   "execution_count": null,
   "metadata": {},
   "outputs": [],
   "source": []
  },
  {
   "cell_type": "markdown",
   "metadata": {},
   "source": [
    "**Question:**\n",
    "\n",
    "How to convert above function `count_down()` into a recursive function?\n",
    "\n",
    "<u>Analysis Steps:</u>\n",
    "* What is the common actions in each loop? (Hint: check the loop statements)\n",
    "* What is its termination condition?\n",
    "* What is its base case, i.e. what does it do when it is at termination condition?\n",
    "\n",
    "<u>Analysis Result:</u>\n",
    "\n",
    "* In each iteration, it prints out current `n` value.\n",
    "* The termination condiction is `n > 0`. \n",
    "* If termination condition is True, it prints `Done`. \n",
    "\n",
    "<u>Thus, </u>\n",
    "* In the recrusive function, it check termination condiction `n > 0`.\n",
    "* If termination condition is true, it prints `Done`, else it prints `current n value` and recurses (call its own function). "
   ]
  },
  {
   "cell_type": "markdown",
   "metadata": {},
   "source": [
    "**Exercise:**\n",
    "\n",
    "Convert above function `count_down()` into recursive function `recursive_down()`."
   ]
  },
  {
   "cell_type": "code",
   "execution_count": null,
   "metadata": {},
   "outputs": [],
   "source": []
  },
  {
   "cell_type": "markdown",
   "metadata": {},
   "source": [
    "## 2. Visualizing Recursive Execution (Important)\n",
    "\n",
    "**<u>Question:</u>** \n",
    "* How do you visualize above recursive function execution?\n",
    "\n",
    "Draw out <u>function calls</u> diagram and follow <u>execution order</u>.\n",
    "\n",
    "Funciton Calls | Execution Order (Count-down) | Execution Order (Count-up)\n",
    "- | - | - \n",
    "<img src=\"./images/count-down.png\" alt=\"Count Down\" style=\"width: 150px;\"/> | <img src=\"./images/count-down-2.png\" alt=\"Count Down\" style=\"width: 150px;\"/> | <img src=\"./images/count-up.png\" alt=\"Count Down\" style=\"width: 150px;\"/>\n"
   ]
  },
  {
   "cell_type": "markdown",
   "metadata": {},
   "source": [
    "**<u>Question:</u>** \n",
    "\n",
    "Give minimal modification to `recursive_down()` function for it to **count-up** instead of **count-down**?\n",
    "\n",
    "<u>Sample Output:</u>\n",
    "```\n",
    "Done!\n",
    "1 2 3 \n",
    "```"
   ]
  },
  {
   "cell_type": "code",
   "execution_count": null,
   "metadata": {},
   "outputs": [],
   "source": []
  },
  {
   "cell_type": "markdown",
   "metadata": {},
   "source": [
    "### Calling Stack of Functions\n",
    "\n",
    "Call stack of functions determines the precedence of printouts in following code sample.\n",
    "<img src=\"./images/function_call_stack.png\" width=400 />"
   ]
  },
  {
   "cell_type": "code",
   "execution_count": null,
   "metadata": {},
   "outputs": [],
   "source": []
  },
  {
   "cell_type": "markdown",
   "metadata": {},
   "source": [
    "## 2. Recursion with Return Value\n",
    "\n",
    "In above count-down example, the recursion function does not return any value. It is common for recursion function to return value back to calling function.\n",
    "\n",
    "### Factorial\n",
    "\n",
    "The factorial value of a explicit number `n` is typically represented as `n!`, and $F_n = n* F_{n-1}$.\n",
    "\n",
    "```\n",
    "n! = n * (n-1) * (n-2) * . . . * 1\n",
    "n! = n * (n-1)!\n",
    "```\n",
    "\n",
    "**Exercise:**\n",
    "\n",
    "Implement function `facorial_loop(n)` to calculate **factorial** value of an integer `n` using `while-loop`."
   ]
  },
  {
   "cell_type": "code",
   "execution_count": null,
   "metadata": {},
   "outputs": [],
   "source": []
  },
  {
   "cell_type": "markdown",
   "metadata": {},
   "source": [
    "**Question:** \n",
    "\n",
    "How to convert above function into recursive function `facorial_recurse()`?\n",
    "\n",
    "<u>Analysis Steps:</u>\n",
    "* What is the common actions in each iteration? (Hint: check the loop statements)\n",
    "* What is its termination condition?\n",
    "* If termination condition is True, what does it do?\n",
    "\n",
    "<u>Analysis Result:</u>\n",
    "* It sets `result = result * n`, and it recurse with `n-1` (common action)\n",
    "* The termination condiction is `n == 1`.\n",
    "* If condition is True, it returns `1`.\n"
   ]
  },
  {
   "cell_type": "markdown",
   "metadata": {},
   "source": [
    "<u>Recursive Call:</u>\n",
    "\n",
    "```\n",
    "facorial_recurse(n) = n * facorial_recurse(n-1)\n",
    "```"
   ]
  },
  {
   "cell_type": "markdown",
   "metadata": {},
   "source": [
    "**Exercise:**\n",
    "\n",
    "Implement function `facorial_recurse(n)` to calculate factorial value of an integer n using `recursion`."
   ]
  },
  {
   "cell_type": "code",
   "execution_count": null,
   "metadata": {},
   "outputs": [],
   "source": []
  },
  {
   "cell_type": "markdown",
   "metadata": {},
   "source": [
    "### Fibonacci"
   ]
  },
  {
   "cell_type": "markdown",
   "metadata": {},
   "source": [
    "\n",
    "The Fibonacci Sequence is the series of numbers, where next number is found by adding up the two numbers before it.\n",
    "\n",
    "<center> $F_n = F_{n-1} + F_{n-2}$ </center>\n",
    "\n",
    "where $F_0 = 0$ and $F_1 = 1$.\n",
    "\n",
    "**Try Code:**\n",
    "\n",
    "Sample solution using `while-loop`:\n",
    "\n",
    "```python\n",
    "def fib_loop(n):\n",
    "    if n <= 1: \n",
    "        return n\n",
    "    else:\n",
    "        f0, f1 = 0, 1\n",
    "        i = 2\n",
    "        while i <= n:\n",
    "            f2 = f0 + f1\n",
    "            f0, f1 = f1, f2\n",
    "            i = i + 1\n",
    "        return f2\n",
    "\n",
    "fib_loop(5)\n",
    "```"
   ]
  },
  {
   "cell_type": "code",
   "execution_count": null,
   "metadata": {},
   "outputs": [],
   "source": []
  },
  {
   "cell_type": "markdown",
   "metadata": {},
   "source": [
    "We can also ask following questions:\n",
    "* What is the common actions in each iteration? (Hint: check the loop statements)\n",
    "* What is its termination condition?\n",
    "* If termination condition is True, what does it do?\n",
    "\n",
    "**Fibonacci**\n",
    "\n",
    "```\n",
    "fibonacci(n) = fibonacci(n − 1) + fibonacci(n − 2);\n",
    "...\n",
    "fibonacci(1) = 1\n",
    "fibonacci(0) = 0\n",
    "```\n",
    "\n",
    "<img src=\"./images/fib_calculation_tree.png\" alt=\"Divide and Conquer\" style=\"width: 350px;\"/>"
   ]
  },
  {
   "cell_type": "markdown",
   "metadata": {},
   "source": [
    "**Exercise:**\n",
    "\n",
    "Implement a recursive function `fib_recure()` to generate Fibonacci number.\n",
    "* It takes in a parameter `n` and returns `nth` Fibonacci number."
   ]
  },
  {
   "cell_type": "code",
   "execution_count": null,
   "metadata": {},
   "outputs": [],
   "source": []
  },
  {
   "cell_type": "markdown",
   "metadata": {},
   "source": [
    "### Great Common Divisor\n",
    "\n",
    "The **greatest common divisor (gcd)** of two or more integers, which are not all zero, is the largest positive integer that divides each of the integers.\n",
    "\n",
    "The [Euclidean Algorithm](https://en.wikipedia.org/wiki/Euclidean_algorithm) provides an efficient method for computing the greatest common divisor (GCD) of two numbers, e.g. `a` and `b`.\n",
    "* If `a % b == 0`, then `b` is the GCD\n",
    "* else result is the same as GCD of `b` and `a % b`\n",
    "\n",
    "For example, when `a = 1220` and `b = 516`, GCD is found to be 4. \n",
    "<img src=\"./images/euclid_method_gcd_example.png\" width=200/>"
   ]
  },
  {
   "cell_type": "markdown",
   "metadata": {},
   "source": [
    "**Exercise:**\n",
    "    \n",
    "Implement a function `gcd_loop()` using `while-loop` to calculate great common divisor (gcd) using Euclidean Algorithm.\n",
    "* It takes in 2 parameters `a` and `b`.\n",
    "* It returns gcd of `a` and `b`."
   ]
  },
  {
   "cell_type": "code",
   "execution_count": null,
   "metadata": {},
   "outputs": [],
   "source": []
  },
  {
   "cell_type": "markdown",
   "metadata": {},
   "source": [
    "**Exercise:**\n",
    "\n",
    "Implement a recursive function `gcd_recurse(a, b)` which returns great common divisor (gcd) of its 2 input parameters `a` and `b`."
   ]
  },
  {
   "cell_type": "code",
   "execution_count": null,
   "metadata": {},
   "outputs": [],
   "source": []
  },
  {
   "cell_type": "markdown",
   "metadata": {},
   "source": [
    "### Quotient & Remainder\n",
    "\n",
    "<img src=\"./images/what-is-quotient-remainder.png\" width=250/>\n",
    "\n",
    "To find the quotient and remainder of two numbers, we can also do it recursively. \n",
    "\n",
    "<img src=\"./images/quotient-remainder-example.png\" width=300/>\n"
   ]
  },
  {
   "cell_type": "markdown",
   "metadata": {},
   "source": [
    "**Exercise:**\n",
    "\n",
    "Implement a function `div_loop(dividend, divisor)` using `while-loop`, which returns quotient and remainder of its 2 input parameters `dividend` and `divisor`."
   ]
  },
  {
   "cell_type": "code",
   "execution_count": null,
   "metadata": {},
   "outputs": [],
   "source": []
  },
  {
   "cell_type": "markdown",
   "metadata": {},
   "source": [
    "**Exercise:**\n",
    "\n",
    "Implement a **recursive** function `div_recurse(dividend, divisor)` which returns quotient and remainder of its 2 input parameters `dividend` and `divisor`."
   ]
  },
  {
   "cell_type": "code",
   "execution_count": null,
   "metadata": {},
   "outputs": [],
   "source": []
  },
  {
   "cell_type": "markdown",
   "metadata": {},
   "source": [
    "### Maintain State in Recursion\n",
    "\n",
    "In recursive function, each recursive call has its own execution context, how to maintain state, i.e. share variables across recrusive calls?\n",
    "* Use variables of global scope\n",
    "* Pass the variables through recursive calls\n",
    "\n",
    "**Question:**\n",
    "\n",
    "In the **Quotient and Remainder** example, how do we maintain the state of variable `q`?"
   ]
  },
  {
   "cell_type": "markdown",
   "metadata": {},
   "source": [
    "## 3. Tower of Hanoi"
   ]
  },
  {
   "cell_type": "markdown",
   "metadata": {},
   "source": [
    "The Towers of Hanoi is a mathematical puzzle. It consists of three rods, and a number of disks of different sizes which can slide onto any rod.\n",
    "\n",
    "The puzzle starts with the disks on one tower in ascending order of size, the smallest at the top, making a conical shape. The objective of the puzzle is to move entire stack on another tower with satisfying below rules:\n",
    "\n",
    "**Rules:**\n",
    "* Only one disk can be moved at a time.\n",
    "* Each move consists of taking the upper disk from one of the towers and move it onto another tower, on top of the other disks if there is any.\n",
    "* No disk can be placed on top of a smaller disk. \n",
    "\n",
    "<img src=\"./images/tower-of-hanoi-0.jpg\" width=380 />\n",
    "<i><center>Reference: https://codenuclear.com/towers-of-hanoi/</center></i>"
   ]
  },
  {
   "cell_type": "markdown",
   "metadata": {},
   "source": [
    "### Algorithm\n",
    "\n",
    "\n",
    "#### Approach\n",
    "\n",
    "* Recursively Move N-1 disk from source to Auxiliary peg.\n",
    "* Move the last disk from source to destination.\n",
    "* Recursively Move N-1 disk from Auxiliary to destination peg.\n",
    "\n",
    "<img src=\"./images/tower-of-hanoi-1.png\" width=380 />\n",
    "<i><center>Reference: https://algorithms.tutorialhorizon.com/towers-of-hanoi/</center></i>\n"
   ]
  },
  {
   "cell_type": "markdown",
   "metadata": {},
   "source": [
    "#### Naming\n",
    "\n",
    "* For `a tower of n disks`, smallest disk is `disk 1` and largest disk is `disk n`\n",
    "* For `a tower of n-1 disks`, smallest disk is still `disk 1` and largest disk is `disk n-1`"
   ]
  },
  {
   "cell_type": "markdown",
   "metadata": {},
   "source": [
    "#### Recursive\n",
    "\n",
    "At Step 1, the task is to:\n",
    "* Move `tower of n-1 disks` from `source` to `auxiliary`\n",
    "* Move `disk n` from `source` to `destination`\n",
    "* Move `tower of n-1 disks` from `auxiliary` to `source`"
   ]
  },
  {
   "cell_type": "markdown",
   "metadata": {},
   "source": [
    "At Step 3, the task become following recursion:\n",
    "* Move `tower of n-2 disks` from `auxiliary` to `source`\n",
    "* Move `disk n-1` from `auxiliary` to `dest` \n",
    "* Move `tower of n-2 disks` from `source` to `auxiliary`\n",
    "   \n",
    "**NOTE:** The `auxiliary pole` become `source pole`, and `source pole` become `auxiliary pole` in this recursion. "
   ]
  },
  {
   "cell_type": "markdown",
   "metadata": {},
   "source": [
    "### Implementation\n",
    "\n",
    "We will implement 2 functions, `move_disk()` and `move_tower()`.\n"
   ]
  },
  {
   "cell_type": "markdown",
   "metadata": {},
   "source": [
    "**`move_disk(x, src, dest)`**\n",
    "* It represents moving a `disk x` from `src` pole to `dest` pole.\n",
    "* It prints a message `Move disk {x} from {src} to {dest}`. "
   ]
  },
  {
   "cell_type": "code",
   "execution_count": null,
   "metadata": {
    "scrolled": true
   },
   "outputs": [],
   "source": []
  },
  {
   "cell_type": "markdown",
   "metadata": {},
   "source": [
    "#### `move_tower(n, src, aux, dest)`\n",
    "* It represents moving a `tower of n disk` from `src` pole to `dest` pole. The `aux` pole can be used to facilitate moving.\n",
    "* This is a recursive function.\n",
    "\n",
    "**base case:**\n",
    "* When n = 0, do nothing\n",
    "* When n = 1, move the disk from `src` to `dest`\n",
    "\n",
    "**recursion in each loop:**\n",
    "* Move `tower of n-1 disks` from `src` to `aux`\n",
    "* Move `disk n` from `src` to `dest`\n",
    "* Move `tower of n-1 disk` from `aux` to `src`"
   ]
  },
  {
   "cell_type": "code",
   "execution_count": null,
   "metadata": {},
   "outputs": [],
   "source": []
  },
  {
   "cell_type": "markdown",
   "metadata": {},
   "source": [
    "### Tests"
   ]
  },
  {
   "cell_type": "code",
   "execution_count": null,
   "metadata": {},
   "outputs": [],
   "source": []
  },
  {
   "cell_type": "code",
   "execution_count": null,
   "metadata": {},
   "outputs": [],
   "source": []
  },
  {
   "cell_type": "code",
   "execution_count": null,
   "metadata": {
    "scrolled": true
   },
   "outputs": [],
   "source": []
  },
  {
   "cell_type": "markdown",
   "metadata": {},
   "source": [
    "## 4. Summary\n",
    "\n",
    "#### Advantages\n",
    "\n",
    "* Recursive functions make the code look clean and elegant.\n",
    "* A complex task can be broken down into simpler sub-problems using recursion.\n",
    "* Sequence generation is easier with recursion than using some nested iteration.\n",
    "\n",
    "#### Disadvantages\n",
    "\n",
    "\n",
    "* Sometimes the logic behind recursion is hard to follow through.\n",
    "* Recursive functions are hard to debug.\n",
    "* Recursive calls are expensive (inefficient) as they take up a lot of memory and time.\n",
    "\n",
    "**More Memory Usage**\n",
    "\n",
    "Everytime a function calls itself and stores some memory. Thus, a recursive function could hold much more memory than a traditional function. \n",
    "* Python stops the function calls after a depth of 1000 calls, and throws a `RecursionError: maximum recursion depth exeeded..` error.\n",
    "* You can increase recursion depth using `sys.setrecursionlimit(limit)` function.\n",
    "\n",
    "```\n",
    "import sys\n",
    "\n",
    "sys.setrecursionlimit(1050)\n",
    "fib(1050)\n",
    "```"
   ]
  },
  {
   "cell_type": "markdown",
   "metadata": {},
   "source": [
    "## Reference\n",
    "\n",
    "* https://www.python-course.eu/recursive_functions.php\n",
    "* https://realpython.com/python-thinking-recursively/#dear-pythonic-santa-claus\n",
    "* https://www.python-course.eu/python3_recursive_functions.php\n",
    "* https://study.com/academy/lesson/recursion-recursive-algorithms-in-python-definition-examples.html\n",
    "\n",
    "* [IterativePython: Problem Solving with Algorithms and Data Structures - Recursion](http://interactivepython.org/courselib/static/pythonds/Recursion/toctree.html)\n",
    "* [Datacamp: Understanding Recursive Functions in Python](https://www.datacamp.com/community/tutorials/understanding-recursive-functions-python)"
   ]
  }
 ],
 "metadata": {
  "kernelspec": {
   "display_name": "Python 3",
   "language": "python",
   "name": "python3"
  },
  "language_info": {
   "codemirror_mode": {
    "name": "ipython",
    "version": 3
   },
   "file_extension": ".py",
   "mimetype": "text/x-python",
   "name": "python",
   "nbconvert_exporter": "python",
   "pygments_lexer": "ipython3",
   "version": "3.7.3"
  }
 },
 "nbformat": 4,
 "nbformat_minor": 2
}
