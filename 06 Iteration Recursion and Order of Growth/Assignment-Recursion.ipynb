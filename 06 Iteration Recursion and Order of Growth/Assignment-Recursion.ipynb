{
 "cells": [
  {
   "cell_type": "markdown",
   "metadata": {},
   "source": [
    "# Assignment - Recursion"
   ]
  },
  {
   "cell_type": "markdown",
   "metadata": {},
   "source": [
    "## 1. Number of Digits\n",
    "\n",
    "For a given positive integer value, write a recursion function `digit_count(n)` to find out how many digits it has. \n",
    "```\n",
    "If n < 10, return 1.\n",
    "Otherwise, return 1 + the number of digits in n/10.\n",
    "```"
   ]
  },
  {
   "cell_type": "code",
   "execution_count": null,
   "metadata": {},
   "outputs": [],
   "source": []
  },
  {
   "cell_type": "markdown",
   "metadata": {},
   "source": [
    "## 2. Sum of 1..n\n",
    "\n",
    "For a given value n, write a recursion function `sum_n(n)` to find the sum value of 1 + 2 + ... + n."
   ]
  },
  {
   "cell_type": "code",
   "execution_count": null,
   "metadata": {},
   "outputs": [],
   "source": []
  },
  {
   "cell_type": "markdown",
   "metadata": {},
   "source": [
    "## 3. Sum of a List\n",
    "\n",
    "Write a recursive function `sum_list(X)` to find sum of all elements in X."
   ]
  },
  {
   "cell_type": "code",
   "execution_count": null,
   "metadata": {},
   "outputs": [],
   "source": []
  },
  {
   "cell_type": "markdown",
   "metadata": {},
   "source": [
    "## 4. Palindrome Detector\n",
    "\n",
    "A palindrome is a word, number, phrase, or other sequence of characters which reads the same backward as forward, such as madam or 10801.\n",
    "\n",
    "Implement a recursive function `palindrome(str)` which returns True if `str` is a palindrome."
   ]
  },
  {
   "cell_type": "code",
   "execution_count": null,
   "metadata": {},
   "outputs": [],
   "source": []
  },
  {
   "cell_type": "markdown",
   "metadata": {},
   "source": [
    "## 5. Find Max Value in List\n",
    "\n",
    "Implement a recursive function `find_max()` to find max value in the input list.\n",
    "* What should be the inputs to the function?"
   ]
  },
  {
   "cell_type": "code",
   "execution_count": null,
   "metadata": {},
   "outputs": [],
   "source": []
  },
  {
   "cell_type": "markdown",
   "metadata": {},
   "source": [
    "### Enhancement\n",
    "\n",
    "Enhance your `find_max()` function to a `find_min_max()` function which finds both min and max value in the input list. Assume numbers in the list are always less than or equal to 999. "
   ]
  },
  {
   "cell_type": "code",
   "execution_count": null,
   "metadata": {},
   "outputs": [],
   "source": []
  }
 ],
 "metadata": {
  "kernelspec": {
   "display_name": "Python 3",
   "language": "python",
   "name": "python3"
  },
  "language_info": {
   "codemirror_mode": {
    "name": "ipython",
    "version": 3
   },
   "file_extension": ".py",
   "mimetype": "text/x-python",
   "name": "python",
   "nbconvert_exporter": "python",
   "pygments_lexer": "ipython3",
   "version": "3.7.3"
  }
 },
 "nbformat": 4,
 "nbformat_minor": 2
}
