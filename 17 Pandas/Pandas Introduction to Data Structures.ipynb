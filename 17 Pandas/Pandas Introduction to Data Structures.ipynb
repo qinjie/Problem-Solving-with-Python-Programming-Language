{
 "cells": [
  {
   "cell_type": "markdown",
   "metadata": {},
   "source": [
    "# Pandas Introduction to Data Structures"
   ]
  },
  {
   "attachments": {
    "image.png": {
     "image/png": "[encoded data removed]"
    }
   },
   "cell_type": "markdown",
   "metadata": {},
   "source": [
    "## 1. What is Pandas?\n",
    "\n",
    "![image.png](attachment:image.png)\n",
    "\n",
    "Python library for data analysis\n",
    "* Provides fast and flexible data structures designed to work with tabular data\n",
    "* Built on top of NumPy\n",
    "* Part of the SciPy ecosystem (Scientific Computing Tools for Python)\n",
    "    * Integrated well with other Python packages\n",
    "    * SciPy & StatsModel, Matplotlib & Plotly, Scikit-learn"
   ]
  },
  {
   "cell_type": "markdown",
   "metadata": {},
   "source": [
    "### Key Pandas Features\n",
    "\n",
    "* Intuitive data format\n",
    "* Easy data transformations\n",
    "* Data visualization\n",
    "* Ideal tools for typical data engineering task cycle\n",
    "    * Munging, Cleaning, Analyzing and Modeling data\n",
    "    * Organizing result for visualization or tabular display"
   ]
  },
  {
   "cell_type": "markdown",
   "metadata": {},
   "source": [
    "Import Pandas package and check its version."
   ]
  },
  {
   "cell_type": "code",
   "execution_count": null,
   "metadata": {},
   "outputs": [],
   "source": []
  },
  {
   "cell_type": "markdown",
   "metadata": {},
   "source": [
    "### Data Structure \n",
    "- Pandas supports up to two-dimentions DataFrame\n",
    "- 1D objects are called Series. \n",
    "- 2D objects are called DataFrame. \n",
    "- The structure is Rows and Columns. \n",
    "\n",
    "#### The basics\n",
    "Pandas documentation https://pandas.pydata.org/pandas-docs/stable/getting_started/basics.html"
   ]
  },
  {
   "cell_type": "markdown",
   "metadata": {},
   "source": [
    "## 2. Pandas Series\n",
    "\n",
    "Pandas Series is a one-dimensional array with axis labels."
   ]
  },
  {
   "cell_type": "markdown",
   "metadata": {},
   "source": [
    "### Constructing Series Objects\n",
    "\n",
    "Series object can be created using following constrcutor, where data can be a list, dictionary or another Series.\n",
    "\n",
    "```\n",
    "pandas.Series(data, index)\n",
    "``` "
   ]
  },
  {
   "cell_type": "markdown",
   "metadata": {},
   "source": [
    "#### Create from List\n",
    "\n",
    "Without specifying index, Series will be assigned with 0-based numeric index value. "
   ]
  },
  {
   "cell_type": "code",
   "execution_count": null,
   "metadata": {
    "scrolled": true
   },
   "outputs": [],
   "source": []
  },
  {
   "cell_type": "code",
   "execution_count": null,
   "metadata": {},
   "outputs": [],
   "source": []
  },
  {
   "cell_type": "code",
   "execution_count": null,
   "metadata": {},
   "outputs": [],
   "source": []
  },
  {
   "cell_type": "markdown",
   "metadata": {},
   "source": [
    "#### Specify Index\n",
    "\n",
    "A Series index can be specified. Following command is the same as \n",
    "\n",
    "```\n",
    "s1 = pd.Series(range(100,105))\n",
    "s1.index = list('abcde')\n",
    "s2 = pd.Series(range(100,105), index = list('abcde'))\n",
    "```"
   ]
  },
  {
   "cell_type": "code",
   "execution_count": null,
   "metadata": {},
   "outputs": [],
   "source": []
  },
  {
   "cell_type": "markdown",
   "metadata": {},
   "source": [
    "### Selecting Items\n",
    "\n",
    "Items in a Series can be selected by position, which supports both single item indexing and slicing."
   ]
  },
  {
   "cell_type": "code",
   "execution_count": null,
   "metadata": {},
   "outputs": [],
   "source": []
  },
  {
   "cell_type": "code",
   "execution_count": null,
   "metadata": {
    "scrolled": true
   },
   "outputs": [],
   "source": []
  },
  {
   "cell_type": "markdown",
   "metadata": {},
   "source": [
    "Items in a Series can also be selected by label."
   ]
  },
  {
   "cell_type": "code",
   "execution_count": null,
   "metadata": {},
   "outputs": [],
   "source": []
  },
  {
   "cell_type": "code",
   "execution_count": null,
   "metadata": {},
   "outputs": [],
   "source": []
  },
  {
   "cell_type": "markdown",
   "metadata": {},
   "source": [
    "### Specialized Dictionary\n",
    "\n",
    "A Series object is like a Dictionary object, which maps keys (index) to values (data). But with following differences:\n",
    "* Items in Series is ordered\n",
    "* Series has a fixed-length\n",
    "* Keys (index) in Series don't have to be unique"
   ]
  },
  {
   "cell_type": "markdown",
   "metadata": {},
   "source": [
    "In fact, a Series object can be created from a dictionary."
   ]
  },
  {
   "cell_type": "code",
   "execution_count": null,
   "metadata": {},
   "outputs": [],
   "source": []
  },
  {
   "cell_type": "code",
   "execution_count": null,
   "metadata": {},
   "outputs": [],
   "source": []
  },
  {
   "cell_type": "code",
   "execution_count": null,
   "metadata": {},
   "outputs": [],
   "source": []
  },
  {
   "cell_type": "code",
   "execution_count": null,
   "metadata": {
    "scrolled": true
   },
   "outputs": [],
   "source": []
  },
  {
   "cell_type": "markdown",
   "metadata": {},
   "source": [
    "### Filtering Data\n",
    "\n",
    "Similiar to NumPy array, data in Series can be filtered by boolean values.\n",
    "\n",
    "Let's generate 10 random integers between 100 and 110. Use it to create a Series object."
   ]
  },
  {
   "cell_type": "code",
   "execution_count": null,
   "metadata": {},
   "outputs": [],
   "source": []
  },
  {
   "cell_type": "markdown",
   "metadata": {},
   "source": [
    "We can create boolean array where corresponding value in Series is greater than 105."
   ]
  },
  {
   "cell_type": "code",
   "execution_count": null,
   "metadata": {},
   "outputs": [],
   "source": []
  },
  {
   "cell_type": "markdown",
   "metadata": {},
   "source": [
    "Filter Series using boolean values. Following statement gives same output.\n",
    "```\n",
    "s[s>105]\n",
    "```"
   ]
  },
  {
   "cell_type": "code",
   "execution_count": null,
   "metadata": {},
   "outputs": [],
   "source": []
  },
  {
   "cell_type": "markdown",
   "metadata": {},
   "source": [
    "#### Filtering by Multiple Conditions\n",
    "\n",
    "Multiple conditions can be combined using `&` (AND) and `|` (OR) operators.\n",
    "\n",
    "* Find values in Series which can be divided by both 2 and 3.\n",
    "* Find values in Series which can be divided by either 2 or 3."
   ]
  },
  {
   "cell_type": "code",
   "execution_count": null,
   "metadata": {},
   "outputs": [],
   "source": []
  },
  {
   "cell_type": "markdown",
   "metadata": {},
   "source": [
    "### Missing Data and Auto Alignment\n",
    "\n",
    "Pandas can accomodate incomplete data. Missing data will have a value of `NaN`, i.e. Not-a-Number.\n",
    "\n",
    "Data will be automatically aligned by their index values."
   ]
  },
  {
   "cell_type": "code",
   "execution_count": null,
   "metadata": {},
   "outputs": [],
   "source": []
  },
  {
   "cell_type": "markdown",
   "metadata": {},
   "source": [
    "Create another Series with an existing Series object and specifying new index.\n",
    "* Item, whose index does not exists in original Series, is set to `NaN`\n",
    "* Item, whose index does not exists in new Series, is dropped.\n",
    "\n",
    "For example:\n",
    "* Items with index 'a' and 'e' are assigned with `NaN`.\n",
    "* Items with index 'g' is dropped. "
   ]
  },
  {
   "cell_type": "code",
   "execution_count": null,
   "metadata": {},
   "outputs": [],
   "source": []
  },
  {
   "cell_type": "markdown",
   "metadata": {},
   "source": [
    "## 3. Pandas DataFrames\n",
    "\n",
    "Pandas DataFrame is a 2-dimensional tabular data structure, which contains rows and columns.\n",
    "* Columns can have different types.\n",
    "* Columns can be added and removed.\n",
    "* Rows and columns are indexed anc can be labeled.\n",
    "\n",
    "<img src='images/pandas_dataframe.png' width=500 />\n",
    "*Reference: https://www.geeksforgeeks.org/python-pandas-dataframe/*"
   ]
  },
  {
   "cell_type": "markdown",
   "metadata": {},
   "source": [
    "### Create DataFrame\n",
    "\n",
    "A pandas DataFrame can be created using various inputs. All columns must be equal-length.\n",
    "```\n",
    "pandas.DataFrame( data, index, columns)\n",
    "```\n",
    "\n",
    "It can be considered as dictionary of Series/Lists with shared row index.\n",
    "* Data is commonly passed in dictionary form, whose keys will become column labels"
   ]
  },
  {
   "cell_type": "markdown",
   "metadata": {},
   "source": [
    "#### Create from Lists as Columns"
   ]
  },
  {
   "cell_type": "code",
   "execution_count": null,
   "metadata": {},
   "outputs": [],
   "source": []
  },
  {
   "cell_type": "markdown",
   "metadata": {},
   "source": [
    "By default, Both DataFrame's row and column labels are integer values starting from 0. "
   ]
  },
  {
   "cell_type": "code",
   "execution_count": null,
   "metadata": {},
   "outputs": [],
   "source": []
  },
  {
   "cell_type": "markdown",
   "metadata": {},
   "source": [
    "#### Create from Series as Columns\n",
    "\n",
    "DataFrame can also be create from existing Series objects."
   ]
  },
  {
   "cell_type": "code",
   "execution_count": null,
   "metadata": {
    "scrolled": true
   },
   "outputs": [],
   "source": []
  },
  {
   "cell_type": "markdown",
   "metadata": {},
   "source": [
    "#### Create from 2D Lists as Rows\n",
    "\n",
    "DataFrame objct can also be created using rows of data.\n",
    "\n",
    "Rows of data are passed as a nested list object."
   ]
  },
  {
   "cell_type": "code",
   "execution_count": null,
   "metadata": {
    "scrolled": false
   },
   "outputs": [],
   "source": []
  },
  {
   "cell_type": "markdown",
   "metadata": {},
   "source": [
    "### Select Column(s)\n",
    "\n",
    "Columns can be retrieved as Series\n",
    "* dictionary notation\n",
    "* attribute notation"
   ]
  },
  {
   "cell_type": "code",
   "execution_count": null,
   "metadata": {},
   "outputs": [],
   "source": []
  },
  {
   "cell_type": "code",
   "execution_count": null,
   "metadata": {
    "scrolled": true
   },
   "outputs": [],
   "source": []
  },
  {
   "cell_type": "markdown",
   "metadata": {},
   "source": [
    "To select multiple columns, use list of columns labels using dictionary notation."
   ]
  },
  {
   "cell_type": "code",
   "execution_count": null,
   "metadata": {
    "scrolled": false
   },
   "outputs": [],
   "source": []
  },
  {
   "cell_type": "markdown",
   "metadata": {},
   "source": [
    "### Add Column(s)\n",
    "\n",
    "New columns can be easily added\n",
    "* direct assignment\n",
    "* computation from other columns\n",
    "\n",
    "*Note: Columns cannot be added using attribute notation!*"
   ]
  },
  {
   "cell_type": "code",
   "execution_count": null,
   "metadata": {},
   "outputs": [],
   "source": []
  },
  {
   "cell_type": "code",
   "execution_count": null,
   "metadata": {},
   "outputs": [],
   "source": []
  },
  {
   "cell_type": "markdown",
   "metadata": {},
   "source": [
    "#### Add Column of Same Value\n",
    "\n",
    "NumPy's broadcasting feature make it easy to add a new column with same value."
   ]
  },
  {
   "cell_type": "code",
   "execution_count": null,
   "metadata": {
    "scrolled": true
   },
   "outputs": [],
   "source": []
  },
  {
   "cell_type": "markdown",
   "metadata": {},
   "source": [
    "### Auto Alignment\n",
    "\n",
    "Column can be added by a Series, where indexes will be automatically aligned."
   ]
  },
  {
   "cell_type": "code",
   "execution_count": null,
   "metadata": {
    "scrolled": false
   },
   "outputs": [],
   "source": []
  },
  {
   "cell_type": "markdown",
   "metadata": {},
   "source": [
    "### Reindexing\n",
    "\n",
    "Reindexing will create a new object with data conformed to the new index.\n",
    "* Rows not in new index will be dropped.\n",
    "* Rows not in existing index will have values of `NaN`."
   ]
  },
  {
   "cell_type": "code",
   "execution_count": null,
   "metadata": {},
   "outputs": [],
   "source": []
  },
  {
   "cell_type": "markdown",
   "metadata": {},
   "source": [
    "### Delete a Column\n",
    "\n",
    "To delete a column, you can use `pop()` or `drop()` functions. But they are different.\n",
    "* `pop()` function modify the DataFrame object directly.\n",
    "* `drop()` function returns a new object, and you must specify `axis=1` which is referred to column."
   ]
  },
  {
   "cell_type": "code",
   "execution_count": null,
   "metadata": {},
   "outputs": [],
   "source": []
  },
  {
   "cell_type": "markdown",
   "metadata": {},
   "source": [
    "### Change Index Column\n"
   ]
  },
  {
   "cell_type": "code",
   "execution_count": null,
   "metadata": {
    "scrolled": true
   },
   "outputs": [],
   "source": []
  },
  {
   "cell_type": "code",
   "execution_count": null,
   "metadata": {},
   "outputs": [],
   "source": []
  },
  {
   "cell_type": "markdown",
   "metadata": {},
   "source": [
    "### Row Selection & Slicing\n",
    "\n",
    "Rows can be selected using either `iloc[]` or `loc[]`.\n",
    "* `iloc[]` function accepts row positions\n",
    "* `loc[]` function accepts labels"
   ]
  },
  {
   "cell_type": "code",
   "execution_count": null,
   "metadata": {},
   "outputs": [],
   "source": []
  },
  {
   "cell_type": "code",
   "execution_count": null,
   "metadata": {},
   "outputs": [],
   "source": []
  },
  {
   "cell_type": "code",
   "execution_count": null,
   "metadata": {},
   "outputs": [],
   "source": []
  },
  {
   "cell_type": "code",
   "execution_count": null,
   "metadata": {},
   "outputs": [],
   "source": []
  },
  {
   "cell_type": "markdown",
   "metadata": {},
   "source": [
    "### Add Rows\n",
    "\n",
    "Add new rows to a dataFrame can be done by `append()` function. "
   ]
  },
  {
   "cell_type": "code",
   "execution_count": null,
   "metadata": {},
   "outputs": [],
   "source": []
  },
  {
   "cell_type": "code",
   "execution_count": null,
   "metadata": {
    "scrolled": true
   },
   "outputs": [],
   "source": [
    "df4 = df2.append(df3)\n",
    "df4"
   ]
  },
  {
   "cell_type": "markdown",
   "metadata": {},
   "source": [
    "### Delete Row(s)\n",
    "\n",
    "Rows can be deleted by `drop()` function using its label. \n",
    "* By default, `drop()` function has parameter `axis=0` which refers to row.\n",
    "* `drop()` function creates a new object."
   ]
  },
  {
   "cell_type": "code",
   "execution_count": null,
   "metadata": {
    "scrolled": false
   },
   "outputs": [],
   "source": []
  }
 ],
 "metadata": {
  "kernelspec": {
   "display_name": "Python 3",
   "language": "python",
   "name": "python3"
  },
  "language_info": {
   "codemirror_mode": {
    "name": "ipython",
    "version": 3
   },
   "file_extension": ".py",
   "mimetype": "text/x-python",
   "name": "python",
   "nbconvert_exporter": "python",
   "pygments_lexer": "ipython3",
   "version": "3.7.3"
  }
 },
 "nbformat": 4,
 "nbformat_minor": 2
}
