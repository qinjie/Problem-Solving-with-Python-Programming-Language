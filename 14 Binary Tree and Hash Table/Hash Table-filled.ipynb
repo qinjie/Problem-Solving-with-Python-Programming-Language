{
 "cells": [
  {
   "cell_type": "markdown",
   "metadata": {},
   "source": [
    "# Hash Table"
   ]
  },
  {
   "cell_type": "markdown",
   "metadata": {},
   "source": [
    "## 1. Introduction"
   ]
  },
  {
   "cell_type": "markdown",
   "metadata": {},
   "source": [
    "### Recap - Dictionary\n",
    "\n",
    "Dictionary is a built-in data structure which store data in key-value pair. \n",
    "* Values are accessed by key.\n",
    "* Keys must be unique in a dictionary."
   ]
  },
  {
   "cell_type": "markdown",
   "metadata": {},
   "source": [
    "#### Construct a Dictionary"
   ]
  },
  {
   "cell_type": "code",
   "execution_count": 1,
   "metadata": {},
   "outputs": [],
   "source": [
    "d = {'name':'Mark', 'gender':'Male', 'address':'Singapore'}"
   ]
  },
  {
   "cell_type": "markdown",
   "metadata": {},
   "source": [
    "#### Access an Item"
   ]
  },
  {
   "cell_type": "code",
   "execution_count": 2,
   "metadata": {},
   "outputs": [],
   "source": [
    "d['name']"
   ]
  },
  {
   "cell_type": "markdown",
   "metadata": {},
   "source": [
    "#### Update an Item"
   ]
  },
  {
   "cell_type": "code",
   "execution_count": 3,
   "metadata": {},
   "outputs": [],
   "source": [
    "d['name'] = 'Kelvin'"
   ]
  },
  {
   "cell_type": "markdown",
   "metadata": {},
   "source": [
    "#### Add an Item"
   ]
  },
  {
   "cell_type": "code",
   "execution_count": 4,
   "metadata": {},
   "outputs": [],
   "source": [
    "d['age'] = 18"
   ]
  },
  {
   "cell_type": "markdown",
   "metadata": {},
   "source": [
    "#### Hashable Key\n",
    "\n",
    "If you try to use a list as a key, it will throw a `TypeError` exception.\n",
    "\n",
    "This shows that a Dictionary internally uses a **hash table** structure to store data."
   ]
  },
  {
   "cell_type": "code",
   "execution_count": 5,
   "metadata": {
    "scrolled": true
   },
   "outputs": [
    {
     "ename": "TypeError",
     "evalue": "unhashable type: 'list'",
     "output_type": "error",
     "traceback": [
      "\u001b[1;31m---------------------------------------------------------------------------\u001b[0m",
      "\u001b[1;31mTypeError\u001b[0m                                 Traceback (most recent call last)",
      "\u001b[1;32m<ipython-input-5-7e2218bb4fe9>\u001b[0m in \u001b[0;36m<module>\u001b[1;34m\u001b[0m\n\u001b[1;32m----> 1\u001b[1;33m \u001b[0md1\u001b[0m \u001b[1;33m=\u001b[0m \u001b[1;33m{\u001b[0m\u001b[1;33m[\u001b[0m\u001b[1;34m'weight'\u001b[0m\u001b[1;33m,\u001b[0m \u001b[1;34m'height'\u001b[0m\u001b[1;33m]\u001b[0m\u001b[1;33m:\u001b[0m \u001b[1;33m(\u001b[0m\u001b[1;36m75\u001b[0m\u001b[1;33m,\u001b[0m \u001b[1;36m170\u001b[0m\u001b[1;33m)\u001b[0m\u001b[1;33m}\u001b[0m\u001b[1;33m\u001b[0m\u001b[1;33m\u001b[0m\u001b[0m\n\u001b[0m",
      "\u001b[1;31mTypeError\u001b[0m: unhashable type: 'list'"
     ]
    }
   ],
   "source": [
    "d1 = {['weight', 'height']: (75, 170)}"
   ]
  },
  {
   "cell_type": "markdown",
   "metadata": {},
   "source": [
    "### Hash Table\n",
    "\n",
    "**Hash table** is data structure that maps **keys** to **values (data)**. This is similar to a dictionary.\n",
    "\n",
    "<u>For example</u>, to store a phone book, you uses a person's name as key, and his phone number is the data to be looked up.\n",
    "\n",
    "**Hash function** is function which takes in a value and generates another value.\n",
    "* Key is passed into the **hash function** to generate an index value which points to a location where data is stored.\n",
    "\n",
    "**Bucket** is the place where data is stored.\n",
    "* Potentially multiple data may be stored in the same bucket, i.e. multiple keys may point to same bucket.\n"
   ]
  },
  {
   "cell_type": "markdown",
   "metadata": {},
   "source": [
    "<img src=\"images/hash_table_wiki.png\" width=300 />\n",
    "<center>https://en.wikipedia.org/wiki/Hash_table</center>"
   ]
  },
  {
   "cell_type": "markdown",
   "metadata": {},
   "source": [
    "## 2. Basic Hash Table\n",
    "\n",
    "Let's implement a hash table for a phone book. Each entry in the phone book is a pair of `Name` and `Phone`.\n",
    "* `Name` is used as the key.\n",
    "* `(Name, Phone)` tuple is saved as the data."
   ]
  },
  {
   "cell_type": "markdown",
   "metadata": {},
   "source": [
    "### Hash Table\n",
    "\n",
    "We will define a class `HashTable` to store the data.\n",
    "* It has a list attribute `buckets` which keeps all data.\n",
    "* Initialize the list size, i.e. how many buckets, by input parameter `size`.\n",
    "* It has a <u>static</u> function `_hash()` which returns an `index` value based on input parameter `key`. \n",
    "* The `index` value specifies which bucket to put the data.\n",
    "\n",
    "**Hash Function**\n",
    "\n",
    "The logic to be implemented in `_hash()` function is straight forward. We will simply return length of the `key` as the `index` value.\n"
   ]
  },
  {
   "cell_type": "code",
   "execution_count": null,
   "metadata": {},
   "outputs": [],
   "source": [
    "class HashTable:\n",
    "    \n",
    "    def __init__(self, size):\n",
    "        self.buckets = [None]*size\n",
    "    \n",
    "    @staticmethod\n",
    "    def _hash(key):\n",
    "        return len(key)\n",
    "    "
   ]
  },
  {
   "cell_type": "markdown",
   "metadata": {},
   "source": [
    "### Test\n",
    "\n",
    "#### Test - Add Items\n",
    "\n",
    "Let's try to add following items into the HashTable.\n",
    "* Create a hash table of 10 buckets.\n",
    "* For each contact, \n",
    "    * Use `_hash()` function to find out which bucket it belongs to;\n",
    "    * Put the contact in the bucket.\n",
    "* Print out the `buckets` to view how contacts are stored.\n",
    "\n",
    "```python\n",
    "contacts = [\n",
    "    ('Ben', '357-0394'),\n",
    "    ('Alan', '558-9171'),\n",
    "    ('Freddi', '760-2466'),\n",
    "    ('Stephanie', '299-5109')]\n",
    "```"
   ]
  },
  {
   "cell_type": "code",
   "execution_count": null,
   "metadata": {},
   "outputs": [],
   "source": [
    "ht = HashTable(10)\n",
    "print(ht.buckets)\n",
    "\n",
    "contacts = [\n",
    "    ('Ben', '357-0394'),\n",
    "    ('Alan', '558-9171'),\n",
    "    ('Freddi', '760-2466'),\n",
    "    ('Stephanie', '299-5109')]\n",
    "\n",
    "for c in contacts:\n",
    "    idx = HashTable._hash(c[0])\n",
    "#     print(c[0], idx)\n",
    "    ht.buckets[idx] = c\n",
    "\n",
    "print(ht.buckets)"
   ]
  },
  {
   "cell_type": "markdown",
   "metadata": {},
   "source": [
    "<img src=\"images/hash_function_good.png\" width=160/>\n",
    "\n",
    "In this case, the time spent in finding an item is **O(1)**."
   ]
  },
  {
   "cell_type": "markdown",
   "metadata": {},
   "source": [
    "#### Test - Find an Item\n",
    "\n",
    "With the populated hash table, how do you retrieve the data of for a name, e.g. `'Freddi'`?\n",
    "* Use `_hash()` function to find `index` value.\n",
    "* Locate the bucket by index.\n",
    "* Return the bucket."
   ]
  },
  {
   "cell_type": "code",
   "execution_count": null,
   "metadata": {},
   "outputs": [],
   "source": [
    "idx = HashTable._hash('Freddi')\n",
    "ht.buckets[idx] "
   ]
  },
  {
   "cell_type": "markdown",
   "metadata": {},
   "source": [
    "#### Test - Remove an Item\n",
    "\n",
    "We may need to remove an item, e.g. `'Freddi'`, from the hash table.\n",
    "* Use _hash() function to find index value.\n",
    "* Locate the bucket by index and set it to `None`."
   ]
  },
  {
   "cell_type": "code",
   "execution_count": null,
   "metadata": {},
   "outputs": [],
   "source": [
    "idx = HashTable._hash('Freddi')\n",
    "ht.buckets[idx] = None\n",
    "\n",
    "ht.buckets"
   ]
  },
  {
   "cell_type": "markdown",
   "metadata": {},
   "source": [
    "### Support Basic Operations\n",
    "\n",
    "A Hash Table class commonly implement methods to support **add**, **find** and **remove** operations.\n",
    "\n",
    "With knowledge of previous session, Enhance `HashTable` class by implementing `add(key, data)`, `find(key)` and `remove(key)` methods."
   ]
  },
  {
   "cell_type": "code",
   "execution_count": null,
   "metadata": {},
   "outputs": [],
   "source": [
    "class HashTable:\n",
    "    \n",
    "    def __init__(self, size):\n",
    "        self.buckets = [None]*size\n",
    "    \n",
    "    @staticmethod\n",
    "    def _hash(key):\n",
    "        return len(key)\n",
    "    \n",
    "    def add(self, key, data):\n",
    "        idx = self._hash(key)\n",
    "        self.buckets[idx] = data\n",
    "    \n",
    "    def find(self, key):\n",
    "        idx = self._hash(key)\n",
    "        return self.buckets[idx]\n",
    "    \n",
    "    def remove(self, key):\n",
    "        idx = self._hash(key)\n",
    "        self.buckets[idx] = None\n",
    "    "
   ]
  },
  {
   "cell_type": "markdown",
   "metadata": {},
   "source": [
    "<u>Test:</u>"
   ]
  },
  {
   "cell_type": "code",
   "execution_count": null,
   "metadata": {},
   "outputs": [],
   "source": [
    "contacts = [\n",
    "    ('Ben', '357-0394'),\n",
    "    ('Alan', '558-9171'),\n",
    "    ('Freddi', '760-2466'),\n",
    "    ('Stephanie', '299-5109')]\n",
    "\n",
    "table = HashTable(10)\n",
    "\n",
    "for c in contacts:\n",
    "    table.add(c[0], c)\n",
    "\n",
    "print(table.buckets)"
   ]
  },
  {
   "cell_type": "code",
   "execution_count": null,
   "metadata": {},
   "outputs": [],
   "source": [
    "table.find('Freddi')"
   ]
  },
  {
   "cell_type": "code",
   "execution_count": null,
   "metadata": {},
   "outputs": [],
   "source": [
    "table.remove('Freddi')\n",
    "print(table.buckets)"
   ]
  },
  {
   "cell_type": "markdown",
   "metadata": {},
   "source": [
    "## 3. Better Hash Table"
   ]
  },
  {
   "cell_type": "markdown",
   "metadata": {},
   "source": [
    "### Support Multiple-Items Bucket\n",
    "\n",
    "What if we need store following data in the hash table?\n",
    "\n",
    "```\n",
    "contacts = [\n",
    "    ('Amanda', '357-0394'),\n",
    "    ('Christ', '558-9171'),\n",
    "    ('Freddi', '760-2466'),\n",
    "    ('Steven', '299-5109')]\n",
    "```\n",
    "\n",
    "Since all contacts' name has length of 6 characters, their hashed indexes point to the same bucket. Thus 6th bucket needs to be able to hold multiple contacts.\n",
    "\n",
    "Since we still need to scan all items in a bucket, a **linked-list** implementation is more common because it is more memory efficient.\n",
    "\n",
    "For simplicity, We will implement a bucket as a list. "
   ]
  },
  {
   "cell_type": "markdown",
   "metadata": {},
   "source": [
    "### Hash Node\n",
    "\n",
    "The data can be any data type. To make Hash Table methods usable for any data type. It is better to use one common data type for item in the hash table. \n",
    "\n",
    "We will create a class `HashNode` where each data element is stored in a `HashNode` object. \n",
    "\n",
    "Define a `HashNode` class with instance attributes `key` and `data`.\n",
    "* Implement its `__init__()` function to initialize `key` & `data`.\n",
    "* Implement its `__str__()` function to return `data` in string format.\n",
    "* Implement its `__repr__()` function to return same value as `__str__()`.\n",
    "* Implement its `__eq__()` function to compare 2 nodes by their `key`."
   ]
  },
  {
   "cell_type": "code",
   "execution_count": null,
   "metadata": {},
   "outputs": [],
   "source": [
    "class HashNode:\n",
    "    \n",
    "    def __init__(self, key, data):\n",
    "        self.key = key\n",
    "        self.data = data\n",
    "        \n",
    "    def __str__(self):\n",
    "        return str(self.data)\n",
    "        \n",
    "    def __repr__(self):\n",
    "        return self.__str__()\n",
    "        \n",
    "    def __eq__(self, other):\n",
    "        return self.key == other.key\n"
   ]
  },
  {
   "cell_type": "markdown",
   "metadata": {},
   "source": [
    "### Hash Table with Hash Node\n",
    "\n",
    "Modify the `HashTable` class with following enhancements:\n",
    "* Implement each bucket as a list.\n",
    "* Use `HashNode` to hold data"
   ]
  },
  {
   "cell_type": "code",
   "execution_count": null,
   "metadata": {},
   "outputs": [],
   "source": [
    " class HashTable:\n",
    "        \n",
    "    def __init__(self, size):\n",
    "        self.buckets = [None]*size\n",
    "    \n",
    "    @staticmethod\n",
    "    def _hash(key):\n",
    "        return len(key)\n",
    "    \n",
    "    def add(self, key, data):\n",
    "        node = HashNode(key, data)\n",
    "        idx = HashTable._hash(key)\n",
    "        \n",
    "        if self.buckets[idx] is None:\n",
    "            self.buckets[idx] = [node]\n",
    "            return True\n",
    "        elif node in self.buckets[idx]:\n",
    "            return False\n",
    "        else:\n",
    "            self.buckets[idx].append(node)\n",
    "            return True\n",
    "    \n",
    "    def find(self, key):\n",
    "        idx = HashTable._hash(key)\n",
    "        bucket = self.buckets[idx]\n",
    "        \n",
    "        node = HashNode(key, None)\n",
    "        if node in bucket:\n",
    "            i = bucket.index(node)\n",
    "            return bucket[i].data\n",
    "        else:\n",
    "            return None\n",
    "        \n",
    "    def remove(self, key):\n",
    "        idx = HashTable._hash(key)\n",
    "        bucket = self.buckets[idx]\n",
    "        node = HashNode(key, None)\n",
    "        \n",
    "        if node in bucket:\n",
    "            bucket.remove(node)\n",
    "            if (len(bucket) == 0):\n",
    "                self.buckets[idx] = None\n",
    "            return True\n",
    "        else:\n",
    "            return False\n",
    "    "
   ]
  },
  {
   "cell_type": "markdown",
   "metadata": {},
   "source": [
    "#### <u>Test:</u>\n",
    "\n",
    "Test the basic `add()`, `find()` and `remove()` functions."
   ]
  },
  {
   "cell_type": "code",
   "execution_count": null,
   "metadata": {
    "scrolled": true
   },
   "outputs": [],
   "source": [
    "contacts = [\n",
    "    ('Amanda', '357-0394'),\n",
    "    ('Christ', '558-9171'),\n",
    "    ('Freddi', '760-2466'),\n",
    "    ('Steven', '299-5109')]\n",
    "\n",
    "table = HashTable(10)\n",
    "\n",
    "for c in contacts:\n",
    "    table.add(c[0], c)\n",
    "\n",
    "table.buckets"
   ]
  },
  {
   "cell_type": "code",
   "execution_count": null,
   "metadata": {},
   "outputs": [],
   "source": [
    "table.find('Freddi')"
   ]
  },
  {
   "cell_type": "code",
   "execution_count": null,
   "metadata": {},
   "outputs": [],
   "source": [
    "table.remove('Freddi')\n",
    "table.remove('Amanda')\n",
    "table.remove('Christ')\n",
    "table.remove('Steven')\n",
    "\n",
    "table.buckets"
   ]
  },
  {
   "cell_type": "markdown",
   "metadata": {},
   "source": [
    "## 4. Importance of Hash Function"
   ]
  },
  {
   "cell_type": "markdown",
   "metadata": {},
   "source": [
    "### Hash Table Collision\n",
    "\n",
    "Ideally, the hash function will assign each key to a unique bucket. But since a hash function returns a small number for a big key, there is possibility that two keys result in same value. That is **hash table collision**. "
   ]
  },
  {
   "cell_type": "markdown",
   "metadata": {},
   "source": [
    "In previous example, the hash function generates same index value for all entries, and all data are stored in same bucket. \n",
    "<img src=\"images/hash_function_bad.png\" width=350/>\n",
    "\n",
    "This is the worst case where a hash table acts a list and time spent in searching is **O(n)**. To improve efficiency, we need a better hash function."
   ]
  },
  {
   "cell_type": "markdown",
   "metadata": {},
   "source": [
    "### Good Hash Function\n",
    "\n",
    "To achieve a good hashing mechanism, It is important to have a good hash function with the following basic requirements:\n",
    "\n",
    "**Easy to Compute**\n",
    "* A hash function, should be easy to compute the unique keys.\n",
    "\n",
    "**Less Collision**\n",
    "* When elements equate to the same key values, there occurs a collision. There should be minimum collisions as far as possible in the hash function that is used. As collisions are bound to occur, we have to use appropriate collision resolution techniques to take care of the collisions.\n",
    "\n",
    "**Uniform Distribution**\n",
    "* Hash function should result in a uniform distribution of data across the hash table and thereby prevent clustering.\n"
   ]
  },
  {
   "cell_type": "markdown",
   "metadata": {},
   "source": [
    "### Hash Function v2"
   ]
  },
  {
   "cell_type": "markdown",
   "metadata": {},
   "source": [
    "Python provides a `hashlib` module implementing different cryptographic hashing algorithms. These hashing functions take variable length of bytes and converts it into a fixed length sequence.\n",
    "\n",
    "* md5\n",
    "* sha1\n",
    "* sha224\n",
    "* sha256\n",
    "* sha384\n",
    "* sha512\n",
    "\n"
   ]
  },
  {
   "cell_type": "markdown",
   "metadata": {},
   "source": [
    "Following code converts a string `hello world` to an integer value. "
   ]
  },
  {
   "cell_type": "code",
   "execution_count": null,
   "metadata": {
    "scrolled": true
   },
   "outputs": [],
   "source": [
    "import hashlib\n",
    "\n",
    "i = int(hashlib.md5('hello World'.encode('utf-8')).hexdigest(),16)\n",
    "i % 1000"
   ]
  },
  {
   "cell_type": "markdown",
   "metadata": {},
   "source": [
    "We can enhance our `_hash()` function in `HashTable` class."
   ]
  },
  {
   "cell_type": "code",
   "execution_count": null,
   "metadata": {},
   "outputs": [],
   "source": [
    "\n",
    "def _hash(key):\n",
    "    bins = 10\n",
    "    i = int(hashlib.md5(key.encode('utf-8')).hexdigest(),16)\n",
    "    return i % bins\n",
    "    "
   ]
  },
  {
   "cell_type": "markdown",
   "metadata": {},
   "source": [
    "Above `_hash()` function gives a better result than using length of the string. "
   ]
  },
  {
   "cell_type": "code",
   "execution_count": null,
   "metadata": {
    "scrolled": true
   },
   "outputs": [],
   "source": [
    "print(_hash('Amanda'), _hash('Christ'), _hash('Freddi'),_hash('Steven'))\n",
    "    "
   ]
  },
  {
   "cell_type": "markdown",
   "metadata": {},
   "source": [
    "### Don't Use `hash()`\n",
    "\n",
    "Python has a hashing function `hash()` which can be apply to any object, and returns an integer in the range `-2**31` to `2**31 - 1` on 32-bit system, and `-2**63` to `2**63 - 1` on 64-bit system.\n",
    "\n",
    "But starting from Python version 3.3, \"for security reason\", `hash()` generates different values in different Python session.\n"
   ]
  },
  {
   "cell_type": "code",
   "execution_count": null,
   "metadata": {},
   "outputs": [],
   "source": [
    "hash('hello')"
   ]
  },
  {
   "cell_type": "markdown",
   "metadata": {},
   "source": [
    "### Summary"
   ]
  },
  {
   "cell_type": "markdown",
   "metadata": {},
   "source": [
    "The performance of a hash table depends on following factors:\n",
    "1. How good the hash function could distribute the keys evenly over the hash table\n",
    "1. Size of the hash table\n",
    "\n",
    "In this example, we store all the data inside the hash table. In practise, we store pointers to the actual records which could be in the memory or permanent storage (such as disc)."
   ]
  }
 ],
 "metadata": {
  "kernelspec": {
   "display_name": "Python 3",
   "language": "python",
   "name": "python3"
  },
  "language_info": {
   "codemirror_mode": {
    "name": "ipython",
    "version": 3
   },
   "file_extension": ".py",
   "mimetype": "text/x-python",
   "name": "python",
   "nbconvert_exporter": "python",
   "pygments_lexer": "ipython3",
   "version": "3.7.3"
  }
 },
 "nbformat": 4,
 "nbformat_minor": 2
}
