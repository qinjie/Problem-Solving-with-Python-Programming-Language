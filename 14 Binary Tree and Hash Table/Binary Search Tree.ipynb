{
 "cells": [
  {
   "cell_type": "markdown",
   "metadata": {},
   "source": [
    "# Binary Search Tree"
   ]
  },
  {
   "cell_type": "markdown",
   "metadata": {},
   "source": [
    "## 1. Introduction\n",
    "Binary Search Tree is a type of binary tree with following special properties:\n",
    "* The left subtree of a node contains only nodes with keys lesser than the node’s key.\n",
    "* The right subtree of a node contains only nodes with keys greater than the node’s key.\n",
    "* The left and right subtree each must also be a binary search tree.\n",
    "\n",
    "<img src=\"./images/binary_search_tree.jpg\" alt=\"Queue ADT\" style=\"width: 350px;\"/>\n",
    "\n",
    "<center>https://www.tutorialspoint.com/data_structures_algorithms/images/binary_search_tree.jpg</center>\n"
   ]
  },
  {
   "cell_type": "markdown",
   "metadata": {},
   "source": [
    "**Duplicate Values?**\n",
    "\n",
    "There are a few variation of Binary Search Tree definition. By most definitions, BST only allow distinct values, and <u>duplicates are not allowed</u>. \n",
    "\n",
    "This is because allowing duplicate values will bring much more complexity than convenience. For example, duplicate value 27 may be inserted at different levels in the tree.\n",
    "```\n",
    "      27\n",
    "    /   \\\n",
    "  14     35\n",
    "    \\\n",
    "     19\n",
    "       \\\n",
    "        27\n",
    "```"
   ]
  },
  {
   "cell_type": "markdown",
   "metadata": {},
   "source": [
    "### Extend from Binary Tree"
   ]
  },
  {
   "cell_type": "markdown",
   "metadata": {},
   "source": [
    "**Node Class**\n",
    "\n",
    "Since BST is a type of Binary Tree, they share the same type of nodes in the tree. We will reuse the `Node` class."
   ]
  },
  {
   "cell_type": "code",
   "execution_count": 1,
   "metadata": {},
   "outputs": [],
   "source": [
    "class Node:\n",
    "    \n",
    "    def __init__(self, data=None, left=None, right=None):\n",
    "        self.data = data\n",
    "        self.left = left\n",
    "        self.right = right\n",
    "    \n",
    "    def __str__(self):\n",
    "        return '{}({},{})'.format(self.data, \n",
    "                                 self.left.data if self.left else '', \n",
    "                                 self.right.data if self.right else '')\n",
    "\n",
    "    def __repr__(self):\n",
    "        return '{}({},{})'.format(self.data, \n",
    "                                 self.left.data if self.left else '', \n",
    "                                 self.right.data if self.right else '')"
   ]
  },
  {
   "cell_type": "markdown",
   "metadata": {},
   "source": [
    "<u>Test:</u>"
   ]
  },
  {
   "cell_type": "code",
   "execution_count": 2,
   "metadata": {},
   "outputs": [
    {
     "name": "stdout",
     "output_type": "stream",
     "text": [
      "10(5,15)\n"
     ]
    }
   ],
   "source": [
    "n1 = Node(10, Node(5), Node(15))\n",
    "print(n1)"
   ]
  },
  {
   "cell_type": "markdown",
   "metadata": {},
   "source": [
    "**BinaryTree Class**\n",
    "\n",
    "We will use the `BinaryTree` class as the base class for our `BinarySearchTree` class."
   ]
  },
  {
   "cell_type": "code",
   "execution_count": 3,
   "metadata": {},
   "outputs": [],
   "source": [
    "class BinaryTree:\n",
    "\n",
    "    def __init__(self, root=None):\n",
    "        self.root = root\n",
    "\n",
    "    def print_tree(self):\n",
    "        self._print_tree([self.root])\n",
    "\n",
    "    def _print_tree(self, node_list):\n",
    "        # Convert node_list to a list if it is not\n",
    "        if not isinstance(node_list, list):\n",
    "            node_list = [node_list]\n",
    "        # Stop recursion if the list is empty\n",
    "        if not node_list:\n",
    "            return\n",
    "        # define a list to collect nodes in next layer\n",
    "        next_layer = []\n",
    "        while node_list:\n",
    "            node = node_list.pop()\n",
    "            print(node, end=' ')\n",
    "            if node.left:\n",
    "                next_layer.insert(0, node.left)\n",
    "            if node.right:\n",
    "                next_layer.insert(0, node.right)\n",
    "        print()\n",
    "        self._print_tree(next_layer)"
   ]
  },
  {
   "cell_type": "markdown",
   "metadata": {},
   "source": [
    "**BinarySearchTree Class**\n",
    "\n",
    "Defines a `BinarySearchTree` class which inherits from `BinaryTree`.\n",
    "* No need to implement any additional attribute."
   ]
  },
  {
   "cell_type": "code",
   "execution_count": null,
   "metadata": {
    "scrolled": true
   },
   "outputs": [],
   "source": []
  },
  {
   "cell_type": "markdown",
   "metadata": {},
   "source": [
    "## 2. Insert a Node\n",
    "\n",
    "The operation to insert a value to is a **recursive process** at each node of the tree. \n",
    "\n",
    "Assume current node is not `None`,\n",
    "* if the incoming value `val` is less than current node's value, \n",
    "    * if left child is `None`, create a new node with the value and assign to it,\n",
    "    * else recurse into left subtree.\n",
    "* if the incoming value is greater than or equals to current node's value, \n",
    "    * if right child is `None`, create a new node with the value and assign to it,\n",
    "    * else recurse into right subtree."
   ]
  },
  {
   "cell_type": "markdown",
   "metadata": {},
   "source": [
    "Following recursive function `_add(node, val)` adds `val` to the tree where `node` is the current node."
   ]
  },
  {
   "cell_type": "code",
   "execution_count": null,
   "metadata": {},
   "outputs": [],
   "source": []
  },
  {
   "cell_type": "markdown",
   "metadata": {},
   "source": [
    "<u>Test:</u>\n",
    "\n",
    "* Construct following tree\n",
    "```\n",
    "         10\n",
    "       /    \\\n",
    "      8     12\n",
    "     /\n",
    "    6\n",
    "```"
   ]
  },
  {
   "cell_type": "code",
   "execution_count": null,
   "metadata": {},
   "outputs": [],
   "source": []
  },
  {
   "cell_type": "markdown",
   "metadata": {},
   "source": [
    "### Exercise\n",
    "\n",
    "Implement a class `BinarySearchTree` inheriting from `BinaryTree`.\n",
    "* It has a `root` attribute pointing to its root node.\n",
    "* Implement its `add()` operation which adds a value `val` to the tree.\n",
    "    * Use the above recursive function `_add()`."
   ]
  },
  {
   "cell_type": "code",
   "execution_count": null,
   "metadata": {},
   "outputs": [],
   "source": []
  },
  {
   "cell_type": "markdown",
   "metadata": {},
   "source": [
    "<u>test:</u>\n",
    "* Construct following tree\n",
    "* Insert a value 17 to the tree\n",
    "\n",
    "<img src=\"./images/adt-binary-tree-insertion.png\" alt=\"Queue ADT\" style=\"width: 400px;\"/>\n",
    "<center>https://algorithms.tutorialhorizon.com/binary-search-tree-complete-implementation/</center>"
   ]
  },
  {
   "cell_type": "code",
   "execution_count": null,
   "metadata": {},
   "outputs": [],
   "source": []
  },
  {
   "cell_type": "markdown",
   "metadata": {},
   "source": [
    "## 3. Find a Node\n",
    "\n",
    "To search a given node in Binary Search Tree, \n",
    "* If the value matches current node's data, return the node. \n",
    "* If the value is greater than current node, recur into the right subtree of root node.\n",
    "* Otherwise we recur into the left subtree.\n",
    "\n",
    "Following recursive function `_find(node, val)` find the `val` in the tree where `node` is the root."
   ]
  },
  {
   "cell_type": "code",
   "execution_count": null,
   "metadata": {},
   "outputs": [],
   "source": []
  },
  {
   "cell_type": "markdown",
   "metadata": {},
   "source": [
    "<u>Test:</u>\n",
    "* Find node with value 10 in the tree `t`."
   ]
  },
  {
   "cell_type": "code",
   "execution_count": null,
   "metadata": {},
   "outputs": [],
   "source": []
  },
  {
   "cell_type": "markdown",
   "metadata": {},
   "source": [
    "### Exercise\n",
    "\n",
    "Implement a class `BinarySearchTree1` which inherits from `BinarySearchTree`.\n",
    "* Implement its `find()` method which adds a value `val` to the tree. Use the above recursive function `_find()`."
   ]
  },
  {
   "cell_type": "code",
   "execution_count": null,
   "metadata": {
    "scrolled": true
   },
   "outputs": [],
   "source": []
  },
  {
   "cell_type": "markdown",
   "metadata": {},
   "source": [
    "<u>Test:</u>\n",
    "* Construct a tree with values [10, 7, 8, 9, 6, 11, 4, 13, 2, 15]\n",
    "* Find value `15` in the constructed tree"
   ]
  },
  {
   "cell_type": "code",
   "execution_count": null,
   "metadata": {},
   "outputs": [],
   "source": []
  },
  {
   "cell_type": "markdown",
   "metadata": {},
   "source": [
    "## 4. Find the Min/Max Node"
   ]
  },
  {
   "cell_type": "markdown",
   "metadata": {},
   "source": [
    "With the structure of Binary Search Tree, finding the node with minimum value or maximum value is a simple operation.\n",
    "\n",
    "<img src=\"images/bst_min_max.png\" width=280/>"
   ]
  },
  {
   "cell_type": "markdown",
   "metadata": {},
   "source": [
    "<u>Exercise:</u>\n",
    "\n",
    "Construct a binary search tree with above structure."
   ]
  },
  {
   "cell_type": "code",
   "execution_count": null,
   "metadata": {},
   "outputs": [],
   "source": []
  },
  {
   "cell_type": "markdown",
   "metadata": {},
   "source": [
    "### Minimum Value Node\n",
    "\n",
    "Implement a function `_find_min()` to find a node with minimum value in the tree. The function takes a root node as input parameter.\n",
    "* Starting from the root node, go to its **left child**.\n",
    "* Keep traversing the left children of each node until a node with no left child. That node is a node with minimum value.\n"
   ]
  },
  {
   "cell_type": "code",
   "execution_count": null,
   "metadata": {},
   "outputs": [],
   "source": []
  },
  {
   "cell_type": "markdown",
   "metadata": {},
   "source": [
    "<u>Test:</u>\n",
    "* Find the node with minimum value in tree `t`."
   ]
  },
  {
   "cell_type": "code",
   "execution_count": null,
   "metadata": {},
   "outputs": [],
   "source": []
  },
  {
   "cell_type": "markdown",
   "metadata": {},
   "source": [
    "### Max Value Node\n",
    "\n",
    "To find the node with max value:\n",
    "* Starting from the root node go to its **right child**.\n",
    "* Keep traversing the right children of each node until a node with no right child. That node is a node with max value."
   ]
  },
  {
   "cell_type": "code",
   "execution_count": null,
   "metadata": {},
   "outputs": [],
   "source": []
  },
  {
   "cell_type": "markdown",
   "metadata": {},
   "source": [
    "<u>Test:</u>\n",
    "\n",
    "* Find the node with maximum value in tree `t`."
   ]
  },
  {
   "cell_type": "code",
   "execution_count": null,
   "metadata": {},
   "outputs": [],
   "source": []
  },
  {
   "cell_type": "markdown",
   "metadata": {},
   "source": [
    "### Enhance `BinarySearchTree`\n",
    "\n",
    "Enhancement `BinarySearchTree1` by adding `find_max()` and `find_min()` function to the class. \n",
    "* Name the new class `BinarySearchTree2`."
   ]
  },
  {
   "cell_type": "code",
   "execution_count": null,
   "metadata": {},
   "outputs": [],
   "source": []
  },
  {
   "cell_type": "markdown",
   "metadata": {},
   "source": [
    "<u>Test:</u>\n",
    "* Construct a tree with values [50, 30, 70, 15, 35, 62, 87, 7, 22, 31]\n",
    "* Find nodes with minimum and maximum values"
   ]
  },
  {
   "cell_type": "code",
   "execution_count": null,
   "metadata": {},
   "outputs": [],
   "source": []
  },
  {
   "cell_type": "markdown",
   "metadata": {},
   "source": [
    "## 5. Delete a Node (Optional)\n",
    "\n",
    "Another **common operation** of a binary search tree is to delete a node from the tree. \n",
    "\n",
    "This operation is more complicated because it may involve joining subtree if the deleted node is not a leaf node.\n",
    "\n",
    "There are <b>3</b> scenarios to delete a node from a tree.\n",
    "* Leaf Node, e.g. 7, 22, 31, 62, 87\n",
    "* Node with 1 child, e.g. 35\n",
    "* Node with 2 children, e.g. 15, 30, 50, 70\n",
    "```\n",
    "              50  \n",
    "           /      \\    \n",
    "          30      70     \n",
    "         /  \\     /  \\    \n",
    "        15   35  62   87\n",
    "       / \\   /    \n",
    "      7  22 31  \n",
    "```"
   ]
  },
  {
   "cell_type": "markdown",
   "metadata": {},
   "source": [
    "### Find Parent Node\n",
    "\n",
    "To join subtree, we need to know parent of the node to be delete."
   ]
  },
  {
   "cell_type": "code",
   "execution_count": null,
   "metadata": {},
   "outputs": [],
   "source": []
  },
  {
   "cell_type": "markdown",
   "metadata": {},
   "source": [
    "<u>Test:</u>\n",
    "* Find parent node of the node with value `87`"
   ]
  },
  {
   "cell_type": "code",
   "execution_count": null,
   "metadata": {},
   "outputs": [],
   "source": []
  },
  {
   "cell_type": "markdown",
   "metadata": {},
   "source": [
    "### Skeleton Function to Delete Node"
   ]
  },
  {
   "cell_type": "markdown",
   "metadata": {},
   "source": [
    "The `_delete()` function has the same skeleton as the `_find_parent()` function.\n",
    "* Return `True` or `False` to indicate whether deletion is successful.\n",
    "* Handle 3 cases when `val == node.data`."
   ]
  },
  {
   "cell_type": "code",
   "execution_count": null,
   "metadata": {},
   "outputs": [],
   "source": []
  },
  {
   "cell_type": "markdown",
   "metadata": {},
   "source": [
    "### Handle 3 Cases\n",
    "\n",
    "#### Leaf Node\n",
    "* Deleting the node alone is enough and no additional change is needed.\n",
    "* To delete the node, set respective child attribute of parent node to `None`.\n",
    "\n",
    "```python\n",
    "if parent.left == node:\n",
    "    parent.left = None\n",
    "else:\n",
    "    parent.right = None\n",
    "```"
   ]
  },
  {
   "cell_type": "markdown",
   "metadata": {},
   "source": [
    "#### Node with Single Child\n",
    "\n",
    "* Set the child of current node to be the child of parent node. No additional change is needed.\n",
    "\n",
    "```python\n",
    "child = node.left if node.left else node.right\n",
    "if parent.left == node:\n",
    "    parent.left = child\n",
    "else:\n",
    "    parent.right = child\n",
    "```"
   ]
  },
  {
   "cell_type": "markdown",
   "metadata": {},
   "source": [
    "#### Node with 2 Children\n",
    "\n",
    "* Find the smallest node `temp` in the right subtree of the current node\n",
    "* Replace the value of current node with value of `temp`\n",
    "* Delete the `temp` node\n",
    "\n",
    "```python\n",
    "temp = _find_min(node.right)\n",
    "node.data = temp.data\n",
    "_delete(node, node.right, node.data)\n",
    "```"
   ]
  },
  {
   "cell_type": "markdown",
   "metadata": {},
   "source": [
    "<u>Exercise:</u>\n",
    "\n",
    "Update the `_delete()` function with above code snippets."
   ]
  },
  {
   "cell_type": "code",
   "execution_count": null,
   "metadata": {},
   "outputs": [],
   "source": []
  },
  {
   "cell_type": "markdown",
   "metadata": {},
   "source": [
    "<u>Test:</u>\n",
    "\n",
    "* Construct a tree with values [50, 30, 70, 15, 35, 62, 87, 7, 22, 31]"
   ]
  },
  {
   "cell_type": "code",
   "execution_count": null,
   "metadata": {},
   "outputs": [],
   "source": []
  },
  {
   "cell_type": "markdown",
   "metadata": {},
   "source": [
    "**Leaf Node:**\n",
    "Try to delete value 7, 22 and 31, one at a time."
   ]
  },
  {
   "cell_type": "code",
   "execution_count": null,
   "metadata": {},
   "outputs": [],
   "source": []
  },
  {
   "cell_type": "markdown",
   "metadata": {},
   "source": [
    "**Node with Single Child:**\n",
    "Try to delete value 35."
   ]
  },
  {
   "cell_type": "code",
   "execution_count": null,
   "metadata": {},
   "outputs": [],
   "source": []
  },
  {
   "cell_type": "markdown",
   "metadata": {},
   "source": [
    "**Node with 2 Children:**\n",
    "Try to delete value 15, 30, 50 and 70, one at a time.\n",
    "\n",
    "```\n",
    "              50  \n",
    "           /      \\    \n",
    "          30      70     \n",
    "         /  \\     /  \\    \n",
    "        15   35  62   87\n",
    "       / \\   /    \n",
    "      7  22 31  \n",
    "```"
   ]
  },
  {
   "cell_type": "code",
   "execution_count": null,
   "metadata": {},
   "outputs": [],
   "source": []
  },
  {
   "cell_type": "markdown",
   "metadata": {},
   "source": [
    "### Final BST Class\n",
    "\n",
    "Enhance `BinarySearchTree2` with `delete()` function to delete a node by value. Name the class `BinarySearchTree3`. "
   ]
  },
  {
   "cell_type": "code",
   "execution_count": null,
   "metadata": {},
   "outputs": [],
   "source": []
  },
  {
   "cell_type": "markdown",
   "metadata": {},
   "source": [
    "<u>Test:</u>"
   ]
  },
  {
   "cell_type": "code",
   "execution_count": null,
   "metadata": {},
   "outputs": [],
   "source": []
  },
  {
   "cell_type": "markdown",
   "metadata": {},
   "source": [
    "## 6. BST with Duplicate Values (Optional)\n",
    "\n",
    "What if I still need to be able to store duplicate values in the Binary Search Tree?"
   ]
  },
  {
   "cell_type": "markdown",
   "metadata": {},
   "source": [
    "<u>Possible Solution:</u>\n",
    "\n",
    "Add an attribute `count` to `Node` class. The count represent how many duplicate values (same as `data`) are in the tree. \n",
    "* Insertion and deletion of duplicate values will increase or decrease the `count` value. \n",
    "* Node will be removed from tree when its `count` value is 0. \n"
   ]
  },
  {
   "cell_type": "markdown",
   "metadata": {},
   "source": [
    "## Reference\n",
    "\n",
    "Delete node in Binary Search Tree\n",
    "* https://www.geeksforgeeks.org/binary-search-tree-set-2-delete/\n",
    "* https://www.geeksforgeeks.org/binary-tree-data-structure/\n"
   ]
  }
 ],
 "metadata": {
  "kernelspec": {
   "display_name": "Python 3",
   "language": "python",
   "name": "python3"
  },
  "language_info": {
   "codemirror_mode": {
    "name": "ipython",
    "version": 3
   },
   "file_extension": ".py",
   "mimetype": "text/x-python",
   "name": "python",
   "nbconvert_exporter": "python",
   "pygments_lexer": "ipython3",
   "version": "3.7.3"
  }
 },
 "nbformat": 4,
 "nbformat_minor": 2
}
