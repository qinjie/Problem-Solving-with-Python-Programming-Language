{
 "cells": [
  {
   "cell_type": "markdown",
   "metadata": {},
   "source": [
    "# Hash Table"
   ]
  },
  {
   "cell_type": "markdown",
   "metadata": {},
   "source": [
    "## 1. Introduction"
   ]
  },
  {
   "cell_type": "markdown",
   "metadata": {},
   "source": [
    "### Recap - Dictionary\n",
    "\n",
    "Dictionary is a built-in data structure which store data in key-value pair. \n",
    "* Values are accessed by key.\n",
    "* Keys must be unique in a dictionary."
   ]
  },
  {
   "cell_type": "markdown",
   "metadata": {},
   "source": [
    "#### Construct a Dictionary"
   ]
  },
  {
   "cell_type": "code",
   "execution_count": null,
   "metadata": {},
   "outputs": [],
   "source": []
  },
  {
   "cell_type": "markdown",
   "metadata": {},
   "source": [
    "#### Access an Item"
   ]
  },
  {
   "cell_type": "code",
   "execution_count": null,
   "metadata": {},
   "outputs": [],
   "source": []
  },
  {
   "cell_type": "markdown",
   "metadata": {},
   "source": [
    "#### Update an Item"
   ]
  },
  {
   "cell_type": "code",
   "execution_count": null,
   "metadata": {},
   "outputs": [],
   "source": []
  },
  {
   "cell_type": "markdown",
   "metadata": {},
   "source": [
    "#### Add an Item"
   ]
  },
  {
   "cell_type": "code",
   "execution_count": null,
   "metadata": {},
   "outputs": [],
   "source": []
  },
  {
   "cell_type": "markdown",
   "metadata": {},
   "source": [
    "#### Hashable Key\n",
    "\n",
    "If you try to use a list as a key, it will throw a `TypeError` exception.\n",
    "\n",
    "This shows that a Dictionary internally uses a **hash table** structure to store data."
   ]
  },
  {
   "cell_type": "code",
   "execution_count": null,
   "metadata": {
    "scrolled": true
   },
   "outputs": [],
   "source": []
  },
  {
   "cell_type": "markdown",
   "metadata": {},
   "source": [
    "### Hash Table\n",
    "\n",
    "**Hash table** is data structure that maps **keys** to **values (data)**. This is similar to a dictionary.\n",
    "\n",
    "<u>For example</u>, to store a phone book, you uses a person's name as key, and his phone number is the data to be looked up.\n",
    "\n",
    "**Hash function** is function which takes in a value and generates another value.\n",
    "* Key is passed into the **hash function** to generate an index value which points to a location where data is stored.\n",
    "\n",
    "**Bucket** is the place where data is stored.\n",
    "* Potentially multiple data may be stored in the same bucket, i.e. multiple keys may point to same bucket.\n"
   ]
  },
  {
   "cell_type": "markdown",
   "metadata": {},
   "source": [
    "<img src=\"images/hash_table_wiki.png\" width=300 />\n",
    "<center>https://en.wikipedia.org/wiki/Hash_table</center>"
   ]
  },
  {
   "cell_type": "markdown",
   "metadata": {},
   "source": [
    "## 2. Basic Hash Table\n",
    "\n",
    "Let's implement a hash table for a phone book. Each entry in the phone book is a pair of `Name` and `Phone`.\n",
    "* `Name` is used as the key.\n",
    "* `(Name, Phone)` tuple is saved as the data."
   ]
  },
  {
   "cell_type": "markdown",
   "metadata": {},
   "source": [
    "### Hash Table\n",
    "\n",
    "We will define a class `HashTable` to store the data.\n",
    "* It has a list attribute `buckets` which keeps all data.\n",
    "* Initialize the list size, i.e. how many buckets, by input parameter `size`.\n",
    "* It has a <u>static</u> function `_hash()` which returns an `index` value based on input parameter `key`. \n",
    "* The `index` value specifies which bucket to put the data.\n",
    "\n",
    "**Hash Function**\n",
    "\n",
    "The logic to be implemented in `_hash()` function is straight forward. We will simply return length of the `key` as the `index` value.\n"
   ]
  },
  {
   "cell_type": "code",
   "execution_count": null,
   "metadata": {},
   "outputs": [],
   "source": []
  },
  {
   "cell_type": "markdown",
   "metadata": {},
   "source": [
    "### Test\n",
    "\n",
    "#### Test - Add Items\n",
    "\n",
    "Let's try to add following items into the HashTable.\n",
    "* Create a hash table of 10 buckets.\n",
    "* For each contact, \n",
    "    * Use `_hash()` function to find out which bucket it belongs to;\n",
    "    * Put the contact in the bucket.\n",
    "* Print out the `buckets` to view how contacts are stored.\n",
    "\n",
    "```python\n",
    "contacts = [\n",
    "    ('Ben', '357-0394'),\n",
    "    ('Alan', '558-9171'),\n",
    "    ('Freddi', '760-2466'),\n",
    "    ('Stephanie', '299-5109')]\n",
    "```"
   ]
  },
  {
   "cell_type": "code",
   "execution_count": null,
   "metadata": {},
   "outputs": [],
   "source": []
  },
  {
   "cell_type": "markdown",
   "metadata": {},
   "source": [
    "<img src=\"images/hash_function_good.png\" width=160/>\n",
    "\n",
    "In this case, the time spent in finding an item is **O(1)**."
   ]
  },
  {
   "cell_type": "markdown",
   "metadata": {},
   "source": [
    "#### Test - Find an Item\n",
    "\n",
    "With the populated hash table, how do you retrieve the data of for a name, e.g. `'Freddi'`?\n",
    "* Use `_hash()` function to find `index` value.\n",
    "* Locate the bucket by index.\n",
    "* Return the bucket."
   ]
  },
  {
   "cell_type": "code",
   "execution_count": null,
   "metadata": {},
   "outputs": [],
   "source": []
  },
  {
   "cell_type": "markdown",
   "metadata": {},
   "source": [
    "#### Test - Remove an Item\n",
    "\n",
    "We may need to remove an item, e.g. `'Freddi'`, from the hash table.\n",
    "* Use _hash() function to find index value.\n",
    "* Locate the bucket by index and set it to `None`."
   ]
  },
  {
   "cell_type": "code",
   "execution_count": null,
   "metadata": {},
   "outputs": [],
   "source": []
  },
  {
   "cell_type": "markdown",
   "metadata": {},
   "source": [
    "### Support Basic Operations\n",
    "\n",
    "A Hash Table class commonly implement methods to support **add**, **find** and **remove** operations.\n",
    "\n",
    "With knowledge of previous session, Enhance `HashTable` class by implementing `add(key, data)`, `find(key)` and `remove(key)` methods."
   ]
  },
  {
   "cell_type": "code",
   "execution_count": null,
   "metadata": {},
   "outputs": [],
   "source": [
    "\n",
    "    "
   ]
  },
  {
   "cell_type": "markdown",
   "metadata": {},
   "source": [
    "<u>Test:</u>"
   ]
  },
  {
   "cell_type": "code",
   "execution_count": null,
   "metadata": {},
   "outputs": [],
   "source": []
  },
  {
   "cell_type": "code",
   "execution_count": null,
   "metadata": {},
   "outputs": [],
   "source": []
  },
  {
   "cell_type": "code",
   "execution_count": null,
   "metadata": {},
   "outputs": [],
   "source": []
  },
  {
   "cell_type": "markdown",
   "metadata": {},
   "source": [
    "## 3. Better Hash Table"
   ]
  },
  {
   "cell_type": "markdown",
   "metadata": {},
   "source": [
    "### Support Multiple-Items Bucket\n",
    "\n",
    "What if we need store following data in the hash table?\n",
    "\n",
    "```\n",
    "contacts = [\n",
    "    ('Amanda', '357-0394'),\n",
    "    ('Christ', '558-9171'),\n",
    "    ('Freddi', '760-2466'),\n",
    "    ('Steven', '299-5109')]\n",
    "```\n",
    "\n",
    "Since all contacts' name has length of 6 characters, their hashed indexes point to the same bucket. Thus 6th bucket needs to be able to hold multiple contacts.\n",
    "\n",
    "Since we still need to scan all items in a bucket, a **linked-list** implementation is more common because it is more memory efficient.\n",
    "\n",
    "For simplicity, We will implement a bucket as a list. "
   ]
  },
  {
   "cell_type": "markdown",
   "metadata": {},
   "source": [
    "### Hash Node\n",
    "\n",
    "The data can be any data type. To make Hash Table methods usable for any data type. It is better to use one common data type for item in the hash table. \n",
    "\n",
    "We will create a class `HashNode` where each data element is stored in a `HashNode` object. \n",
    "\n",
    "Define a `HashNode` class with instance attributes `key` and `data`.\n",
    "* Implement its `__init__()` function to initialize `key` & `data`.\n",
    "* Implement its `__str__()` function to return `data` in string format.\n",
    "* Implement its `__repr__()` function to return same value as `__str__()`.\n",
    "* Implement its `__eq__()` function to compare 2 nodes by their `key`."
   ]
  },
  {
   "cell_type": "code",
   "execution_count": null,
   "metadata": {},
   "outputs": [],
   "source": []
  },
  {
   "cell_type": "markdown",
   "metadata": {},
   "source": [
    "### Hash Table with Hash Node\n",
    "\n",
    "Modify the `HashTable` class with following enhancements:\n",
    "* Implement each bucket as a list.\n",
    "* Use `HashNode` to hold data"
   ]
  },
  {
   "cell_type": "code",
   "execution_count": null,
   "metadata": {},
   "outputs": [],
   "source": [
    " "
   ]
  },
  {
   "cell_type": "markdown",
   "metadata": {},
   "source": [
    "#### <u>Test:</u>\n",
    "\n",
    "Test the basic `add()`, `find()` and `remove()` functions."
   ]
  },
  {
   "cell_type": "code",
   "execution_count": null,
   "metadata": {
    "scrolled": true
   },
   "outputs": [],
   "source": []
  },
  {
   "cell_type": "code",
   "execution_count": null,
   "metadata": {},
   "outputs": [],
   "source": []
  },
  {
   "cell_type": "code",
   "execution_count": null,
   "metadata": {},
   "outputs": [],
   "source": []
  },
  {
   "cell_type": "markdown",
   "metadata": {},
   "source": [
    "## 4. Importance of Hash Function"
   ]
  },
  {
   "cell_type": "markdown",
   "metadata": {},
   "source": [
    "### Hash Table Collision\n",
    "\n",
    "Ideally, the hash function will assign each key to a unique bucket. But since a hash function returns a small number for a big key, there is possibility that two keys result in same value. That is **hash table collision**. "
   ]
  },
  {
   "cell_type": "markdown",
   "metadata": {},
   "source": [
    "In previous example, the hash function generates same index value for all entries, and all data are stored in same bucket. \n",
    "<img src=\"images/hash_function_bad.png\" width=350/>\n",
    "\n",
    "This is the worst case where a hash table acts a list and time spent in searching is **O(n)**. To improve efficiency, we need a better hash function."
   ]
  },
  {
   "cell_type": "markdown",
   "metadata": {},
   "source": [
    "### Good Hash Function\n",
    "\n",
    "To achieve a good hashing mechanism, It is important to have a good hash function with the following basic requirements:\n",
    "\n",
    "**Easy to Compute**\n",
    "* A hash function, should be easy to compute the unique keys.\n",
    "\n",
    "**Less Collision**\n",
    "* When elements equate to the same key values, there occurs a collision. There should be minimum collisions as far as possible in the hash function that is used. As collisions are bound to occur, we have to use appropriate collision resolution techniques to take care of the collisions.\n",
    "\n",
    "**Uniform Distribution**\n",
    "* Hash function should result in a uniform distribution of data across the hash table and thereby prevent clustering.\n"
   ]
  },
  {
   "cell_type": "markdown",
   "metadata": {},
   "source": [
    "### Hash Function v2"
   ]
  },
  {
   "cell_type": "markdown",
   "metadata": {},
   "source": [
    "Python provides a `hashlib` module implementing different cryptographic hashing algorithms. These hashing functions take variable length of bytes and converts it into a fixed length sequence.\n",
    "\n",
    "* md5\n",
    "* sha1\n",
    "* sha224\n",
    "* sha256\n",
    "* sha384\n",
    "* sha512\n",
    "\n"
   ]
  },
  {
   "cell_type": "markdown",
   "metadata": {},
   "source": [
    "Following code converts a string `hello world` to an integer value. "
   ]
  },
  {
   "cell_type": "code",
   "execution_count": null,
   "metadata": {
    "scrolled": true
   },
   "outputs": [],
   "source": []
  },
  {
   "cell_type": "markdown",
   "metadata": {},
   "source": [
    "We can enhance our `_hash()` function in `HashTable` class."
   ]
  },
  {
   "cell_type": "code",
   "execution_count": null,
   "metadata": {},
   "outputs": [],
   "source": []
  },
  {
   "cell_type": "markdown",
   "metadata": {},
   "source": [
    "Above `_hash()` function gives a better result than using length of the string. "
   ]
  },
  {
   "cell_type": "code",
   "execution_count": null,
   "metadata": {
    "scrolled": true
   },
   "outputs": [],
   "source": []
  },
  {
   "cell_type": "markdown",
   "metadata": {},
   "source": [
    "### Don't Use `hash()`\n",
    "\n",
    "Python has a hashing function `hash()` which can be apply to any object, and returns an integer in the range `-2**31` to `2**31 - 1` on 32-bit system, and `-2**63` to `2**63 - 1` on 64-bit system.\n",
    "\n",
    "But starting from Python version 3.3, \"for security reason\", `hash()` generates different values in different Python session.\n"
   ]
  },
  {
   "cell_type": "markdown",
   "metadata": {},
   "source": [
    "### Summary"
   ]
  },
  {
   "cell_type": "markdown",
   "metadata": {},
   "source": [
    "The performance of a hash table depends on following factors:\n",
    "1. How good the hash function could distribute the keys evenly over the hash table\n",
    "1. Size of the hash table\n",
    "\n",
    "In this example, we store all the data inside the hash table. In practise, we store pointers to the actual records which could be in the memory or permanent storage (such as disc)."
   ]
  }
 ],
 "metadata": {
  "kernelspec": {
   "display_name": "Python 3",
   "language": "python",
   "name": "python3"
  },
  "language_info": {
   "codemirror_mode": {
    "name": "ipython",
    "version": 3
   },
   "file_extension": ".py",
   "mimetype": "text/x-python",
   "name": "python",
   "nbconvert_exporter": "python",
   "pygments_lexer": "ipython3",
   "version": "3.7.3"
  }
 },
 "nbformat": 4,
 "nbformat_minor": 2
}
