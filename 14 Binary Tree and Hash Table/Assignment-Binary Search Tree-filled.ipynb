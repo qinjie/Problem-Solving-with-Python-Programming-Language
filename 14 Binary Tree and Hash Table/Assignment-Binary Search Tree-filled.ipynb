{
 "cells": [
  {
   "cell_type": "markdown",
   "metadata": {},
   "source": [
    "# Binary Search Tree - Assignment"
   ]
  },
  {
   "cell_type": "markdown",
   "metadata": {},
   "source": [
    "In this assignment, we will work on HDB property information downloaded from [data.gov.sg](https://data.gov.sg/dataset/hdb-property-information).\n",
    "\n",
    "**HDB Property Information**\n",
    "\n",
    "HDB property information contains the location of existing HDB blocks, highest floor level, year of completion, type of building and number of HDB flats (breakdown by flat type) per block etc.\n",
    "\n",
    "<img src=\"images/hdb_info.png\" width=700 />"
   ]
  },
  {
   "cell_type": "markdown",
   "metadata": {},
   "source": [
    "The csv file `hdb-property-information.csv` in `data` folder contains information of 12267 records. \n",
    "* We are only interested in residential HDB blocks. \n",
    "* We will build a **Binary Search Tree** to store such data for quick lookup."
   ]
  },
  {
   "cell_type": "markdown",
   "metadata": {},
   "source": [
    "## 1. Load CSV Data\n",
    "\n",
    "We will implement a `HdbInfo` class to represent residential type of record; load all residential records from `hdb-property-information.csv` file in `data` folder. "
   ]
  },
  {
   "cell_type": "markdown",
   "metadata": {},
   "source": [
    "### Define Class `HdbInfo`\n",
    "\n",
    "Define a class `HdbInfo` which has following attributes:\n",
    "* `blk_no`: data from `blk_no` column\n",
    "* `street`: data from `street` column\n",
    "* `year_completed`: data from `year_completed` column\n",
    "* `max_floor`: data from `max_floor_lvl` column\n",
    "* `total_units`: data from `total_dwelling_units` column\n",
    "\n",
    "1) Implement its `__init__()` function to which takes in parameter `blk_no`, `street`. \n",
    "* Initialize its other attributes to `0`.\n",
    "\n",
    "2) Implement its `__str__()` and `__repr__()` functions which returns string in following format.\n",
    "\n",
    "```\n",
    "<blk_no> <street>: completed in <year_completed>, <max_floor> floors, <total_units> units\n",
    "```\n",
    "* For example, instance with data `10A,BOON TIONG RD,40,2014,Y,N,N,Y,N,N,BM,228,0,0,76,152,0,0,0,0,0,0,0,0` gives following printout:\n",
    "\n",
    "```\n",
    "10A BOON TIONG RD: completed in 2014, 40 floors, 228 units\n",
    "```\n",
    "\n",
    "3) Implement method `_get_address()` which returns address of the HDB block in the format of `\"<blk_no> <stree>\"`.\n",
    "* For example, return `\"10A BOON TIONG RD\"` from above record.\n",
    "\n",
    "4) Implement its `__lt__()` method such that `hdb1 < hdb2` will return `True` if `hdb1._get_address()` is alphabetically in front of `hdb2._get_address()`. \n",
    "\n",
    "5) Implement its `__eq__()` method such that `hdb1 == hdb2` will return `True` if the `_get_address()` method of both `hdb1` and `hdb2` returns same string value. "
   ]
  },
  {
   "cell_type": "code",
   "execution_count": 1,
   "metadata": {},
   "outputs": [],
   "source": [
    "class HdbInfo:\n",
    "    \n",
    "    def __init__(self, blk_no, street):\n",
    "        self.blk_no = blk_no\n",
    "        self.street = street\n",
    "        self.year_completed = 0\n",
    "        self.max_floor = 0\n",
    "        self.total_units = 0\n",
    "    \n",
    "    def __str__(self):\n",
    "        \n",
    "        return '{} {}: completed in {}, {} floors, {} units'.format(\n",
    "            self.blk_no, self.street, self.year_completed, self.max_floor, self.total_units)\n",
    "\n",
    "    def __repr__(self):\n",
    "        return self.__str__()\n",
    "    \n",
    "    def _get_address(self):\n",
    "        return '{} {}'.format(self.blk_no, self.street)\n",
    "    \n",
    "    def __lt__(self, other):\n",
    "        return self._get_address() < other._get_address()\n",
    "    \n",
    "    def __eq__(self, other):\n",
    "        return self._get_address() == other._get_address()\n",
    "    "
   ]
  },
  {
   "cell_type": "markdown",
   "metadata": {},
   "source": [
    "<u>Test 1</u>\n",
    "\n",
    "Sample output:\n",
    "```\n",
    "10A BOON TIONG RD: completed in 2014, 40 floors, 228 units\n",
    "10A BOON TIONG RD: completed in 2014, 40 floors, 228 units\n",
    "```"
   ]
  },
  {
   "cell_type": "code",
   "execution_count": 2,
   "metadata": {},
   "outputs": [
    {
     "name": "stdout",
     "output_type": "stream",
     "text": [
      "10A BOON TIONG RD: completed in 2014, 40 floors, 228 units\n",
      "10A BOON TIONG RD: completed in 2014, 40 floors, 228 units\n"
     ]
    }
   ],
   "source": [
    "h = HdbInfo('10A', 'BOON TIONG RD')\n",
    "h.year_completed = 2014\n",
    "h.max_floor = 40\n",
    "h.total_units = 228\n",
    "print(str(h))\n",
    "print(repr(h))"
   ]
  },
  {
   "cell_type": "markdown",
   "metadata": {},
   "source": [
    "<u>Test 2</u>\n",
    "\n",
    "Sample Output:\n",
    "```\n",
    "True\n",
    "False\n",
    "False\n",
    "True\n",
    "```"
   ]
  },
  {
   "cell_type": "code",
   "execution_count": 3,
   "metadata": {},
   "outputs": [
    {
     "name": "stdout",
     "output_type": "stream",
     "text": [
      "True\n",
      "False\n",
      "False\n",
      "True\n"
     ]
    }
   ],
   "source": [
    "h1 = HdbInfo('10A', 'BOON TIONG RD')\n",
    "h2 = HdbInfo('9A', 'BOON TIONG RD')\n",
    "h3 = HdbInfo('9A', 'BOON TIONG RD')\n",
    "\n",
    "print(h1 < h2)   # __lt__()\n",
    "print(h1 > h3)   # __gt__()\n",
    "print(h1 == h2)\n",
    "print(h2 == h3)"
   ]
  },
  {
   "cell_type": "markdown",
   "metadata": {},
   "source": [
    "### Load CSV Data\n",
    "\n",
    "Write a function `load_hdb_info()`, which has a parameter `csv_path` pointing to the csv file.\n",
    "* It skips all non-residential data.\n",
    "* For each line of data it reads, it converts it to a `HdbInfo` instance.\n",
    "* It returns list of `HdbInfo` instances converted from the data in the csv file.\n",
    "\n",
    "You can use following index values.\n",
    "```\n",
    "BLK_NO = 0\n",
    "STREET = 1\n",
    "MAX_FLOOR = 2\n",
    "YEAR_COMPLETED = 3\n",
    "IS_RESIDENTIAL = 4\n",
    "TOTAL_UNITS = 11\n",
    "```"
   ]
  },
  {
   "cell_type": "code",
   "execution_count": 6,
   "metadata": {},
   "outputs": [],
   "source": [
    "import csv\n",
    "\n",
    "BLK_NO = 0\n",
    "STREET = 1\n",
    "MAX_FLOOR = 2\n",
    "YEAR_COMPLETED = 3\n",
    "IS_RESIDENTIAL = 4\n",
    "TOTAL_UNITS = 11\n",
    "\n",
    "def load_hdb_info(csv_path):\n",
    "    result = []\n",
    "    \n",
    "    with open(csv_path) as f:\n",
    "        reader = csv.reader(f)\n",
    "        header = next(reader)\n",
    "        \n",
    "        for row in reader:\n",
    "            if row[IS_RESIDENTIAL] != 'Y':\n",
    "                continue\n",
    "            h = HdbInfo(row[BLK_NO], row[STREET])\n",
    "            h.year_completed = int(row[YEAR_COMPLETED])\n",
    "            h.max_floor = int(row[MAX_FLOOR])\n",
    "            h.total_units = int(row[TOTAL_UNITS])\n",
    "            result.append(h)\n",
    "    \n",
    "    return result"
   ]
  },
  {
   "cell_type": "markdown",
   "metadata": {},
   "source": [
    "<u>Test</u>\n",
    "\n",
    "Sample output:\n",
    "```\n",
    "10047\n",
    "1 BEACH RD: completed in 1970, 16 floors, 142 units\n",
    "```"
   ]
  },
  {
   "cell_type": "code",
   "execution_count": 8,
   "metadata": {},
   "outputs": [
    {
     "name": "stdout",
     "output_type": "stream",
     "text": [
      "10047\n",
      "1 BEACH RD: completed in 1970, 16 floors, 142 units\n"
     ]
    }
   ],
   "source": [
    "hdb_list = load_hdb_info('data/hdb-property-information.csv')\n",
    "print(len(hdb_list))\n",
    "print(hdb_list[0])"
   ]
  },
  {
   "cell_type": "markdown",
   "metadata": {},
   "source": [
    "## 2. Binary Search Tree\n",
    "\n",
    "We will implement a binary search tree to store list of `HdbInfo` instances. Using the tree, user can perform quick lookup of records. "
   ]
  },
  {
   "cell_type": "markdown",
   "metadata": {},
   "source": [
    "### Binary Search Tree"
   ]
  },
  {
   "cell_type": "markdown",
   "metadata": {},
   "source": [
    "#### Class Node\n",
    "\n",
    "Implement Node class to represent a node in the tree. \n",
    "* It contains `left`, `right` attributes pointing to its left and right child respectively.\n",
    "* Its `data` attribute will store the `HdbInfo` instance.\n",
    "* Its `__str__()` method returns string representation of the object in `data`."
   ]
  },
  {
   "cell_type": "code",
   "execution_count": 9,
   "metadata": {},
   "outputs": [],
   "source": [
    "class Node:\n",
    "    \n",
    "    def __init__(self, data=None, left=None, right=None):\n",
    "        self.data = data\n",
    "        self.left = left\n",
    "        self.right = right\n",
    "    \n",
    "    def __str__(self):\n",
    "        return str(self.data)\n",
    "\n",
    "    def __repr__(self):\n",
    "        return self.__str__()"
   ]
  },
  {
   "cell_type": "markdown",
   "metadata": {},
   "source": [
    "#### Class BinarySearchTree\n",
    "\n",
    "Implement a BinarySearchTree which has following features:\n",
    "* Its `__init__()` method initializes its `root` attribute with input parameter `root`, which has a default value of `None`.\n",
    "* Implement an `add()` method for adding of a `HdbInfo` instance to the tree.\n",
    "* Implement a `preoder()` method which traversal through the tree in **preoder**. But it doesn't print out visited nodes, instead, it returns the total number of nodes in the tree. "
   ]
  },
  {
   "cell_type": "code",
   "execution_count": 10,
   "metadata": {},
   "outputs": [],
   "source": [
    "class BinarySearchTree:\n",
    "    \n",
    "    def __init__(self, root=None):\n",
    "        self.root = root\n",
    "    \n",
    "    def preorder(self):\n",
    "        return self._preorder(self.root)\n",
    "\n",
    "    def _preorder(self, node=None):\n",
    "        if node is None:\n",
    "            return 0\n",
    "        else:\n",
    "            count = self._preorder(node.left)\n",
    "            count = count + 1\n",
    "            count = count + self._preorder(node.right)\n",
    "            return count\n",
    "    \n",
    "    # Alternative version of preorder\n",
    "    def preorder2(self):\n",
    "        return self._preorder(self.root)\n",
    "\n",
    "    def _preorder2(self, node=None, count=0):\n",
    "        if node is None:\n",
    "            return count\n",
    "        else:\n",
    "            count = self._preorder(node.left, count)\n",
    "            count = count + 1\n",
    "            count = self._preorder(node.right, count)\n",
    "            return count\n",
    "    \n",
    "    def add(self, val):\n",
    "        if self.root is None:\n",
    "            self.root = Node(val)\n",
    "        else:\n",
    "            self._add(self.root, val)\n",
    "    \n",
    "    def _add(self, node, val):\n",
    "#         print('Visiting', node.data)\n",
    "        if node is None:    # for precaution\n",
    "            return\n",
    "        if val < node.data:\n",
    "            if node.left is None:\n",
    "                node.left = Node(val)\n",
    "            else:\n",
    "                self._add(node.left, val)\n",
    "        if val > node.data:\n",
    "            if node.right is None:\n",
    "                node.right = Node(val)\n",
    "            else:\n",
    "                self._add(node.right, val)\n",
    "        if val == node.data:\n",
    "            return\n",
    "        "
   ]
  },
  {
   "cell_type": "markdown",
   "metadata": {},
   "source": [
    "<u>Test</u>\n",
    "\n",
    "Sample Output: `10047`"
   ]
  },
  {
   "cell_type": "code",
   "execution_count": 27,
   "metadata": {},
   "outputs": [
    {
     "name": "stdout",
     "output_type": "stream",
     "text": [
      "10047\n"
     ]
    },
    {
     "ename": "AttributeError",
     "evalue": "'BinarySearchTree' object has no attribute 'preorder2'",
     "output_type": "error",
     "traceback": [
      "\u001b[1;31m---------------------------------------------------------------------------\u001b[0m",
      "\u001b[1;31mAttributeError\u001b[0m                            Traceback (most recent call last)",
      "\u001b[1;32m<ipython-input-27-f04397309343>\u001b[0m in \u001b[0;36m<module>\u001b[1;34m\u001b[0m\n\u001b[0;32m      5\u001b[0m \u001b[1;33m\u001b[0m\u001b[0m\n\u001b[0;32m      6\u001b[0m \u001b[0mprint\u001b[0m\u001b[1;33m(\u001b[0m\u001b[0mtree\u001b[0m\u001b[1;33m.\u001b[0m\u001b[0mpreorder\u001b[0m\u001b[1;33m(\u001b[0m\u001b[1;33m)\u001b[0m\u001b[1;33m)\u001b[0m\u001b[1;33m\u001b[0m\u001b[1;33m\u001b[0m\u001b[0m\n\u001b[1;32m----> 7\u001b[1;33m \u001b[0mprint\u001b[0m\u001b[1;33m(\u001b[0m\u001b[0mtree\u001b[0m\u001b[1;33m.\u001b[0m\u001b[0mpreorder2\u001b[0m\u001b[1;33m(\u001b[0m\u001b[1;33m)\u001b[0m\u001b[1;33m)\u001b[0m\u001b[1;33m\u001b[0m\u001b[1;33m\u001b[0m\u001b[0m\n\u001b[0m",
      "\u001b[1;31mAttributeError\u001b[0m: 'BinarySearchTree' object has no attribute 'preorder2'"
     ]
    }
   ],
   "source": [
    "tree = BinarySearchTree()\n",
    "\n",
    "for hdb in hdb_list:\n",
    "    tree.add(hdb)\n",
    "\n",
    "print(tree.preorder())\n",
    "print(tree.preorder2())"
   ]
  },
  {
   "cell_type": "markdown",
   "metadata": {},
   "source": [
    "#### Class BinarySearchTree2\n",
    "\n",
    "Implement a class `BinarySearchTree2` extending from `BinarySearchTree`.\n",
    "* Add a `find()` method which find a node by `blk_no` and `street`."
   ]
  },
  {
   "cell_type": "code",
   "execution_count": 19,
   "metadata": {},
   "outputs": [],
   "source": [
    "class BinarySearchTree2(BinarySearchTree):\n",
    "    \n",
    "    def find(self, blk_no, street):\n",
    "        if self.root is None:\n",
    "            return None\n",
    "        else:\n",
    "            return self._find(self.root, HdbInfo(blk_no, street))\n",
    "        \n",
    "    def _find(self, node, val):\n",
    "#         print('Visiting', node.data)\n",
    "        if node is None:\n",
    "            return None\n",
    "        if val == node.data:\n",
    "            return node.data\n",
    "        if val < node.data:\n",
    "            return self._find(node.left, val)\n",
    "        if val > node.data:\n",
    "            return self._find(node.right, val)"
   ]
  },
  {
   "cell_type": "markdown",
   "metadata": {},
   "source": [
    "<u>Test</u>: Create an instance of BinarySearchTree2. And populate the tree with records.\n",
    "\n",
    "Sample Output: `10047`"
   ]
  },
  {
   "cell_type": "code",
   "execution_count": 20,
   "metadata": {},
   "outputs": [
    {
     "data": {
      "text/plain": [
       "10047"
      ]
     },
     "execution_count": 20,
     "metadata": {},
     "output_type": "execute_result"
    }
   ],
   "source": [
    "tree2 = BinarySearchTree2()\n",
    "\n",
    "for hdb in hdb_list:\n",
    "    tree2.add(hdb)\n",
    "\n",
    "tree2.preorder()"
   ]
  },
  {
   "cell_type": "markdown",
   "metadata": {},
   "source": [
    "<u>Test</u>: Use the tree to find 2 records."
   ]
  },
  {
   "cell_type": "code",
   "execution_count": 21,
   "metadata": {},
   "outputs": [
    {
     "name": "stdout",
     "output_type": "stream",
     "text": [
      "10A BOON TIONG RD: completed in 2014, 40 floors, 228 units\n",
      "999B BUANGKOK CRES: completed in 2018, 17 floors, 126 units\n"
     ]
    }
   ],
   "source": [
    "r1 = tree2.find('10A', 'BOON TIONG RD')\n",
    "print(r1)\n",
    "\n",
    "r2 = tree2.find('999B', 'BUANGKOK CRES')\n",
    "print(r2)"
   ]
  },
  {
   "cell_type": "markdown",
   "metadata": {},
   "source": [
    "## 3. Comparing Performance"
   ]
  },
  {
   "cell_type": "markdown",
   "metadata": {},
   "source": [
    "### Linear Search\n",
    "\n",
    "Implement a function `linear_find_hdb()` which perform linear search for a HDB using `blk_no` and `street`.\n",
    "* It takes in 2 parameters, `blk_no` and `street`."
   ]
  },
  {
   "cell_type": "code",
   "execution_count": 24,
   "metadata": {},
   "outputs": [],
   "source": [
    "def linear_find_hdb(blk_no, street):\n",
    "    \n",
    "    target = HdbInfo(blk_no, street)\n",
    "    \n",
    "    for h in hdb_list:\n",
    "        if h == target:\n",
    "            return h\n",
    "    "
   ]
  },
  {
   "cell_type": "markdown",
   "metadata": {},
   "source": [
    "<u>Test</u>: Performance of Linear Search"
   ]
  },
  {
   "cell_type": "code",
   "execution_count": 25,
   "metadata": {
    "scrolled": true
   },
   "outputs": [
    {
     "name": "stdout",
     "output_type": "stream",
     "text": [
      "19.7 ms ± 1.64 ms per loop (mean ± std. dev. of 7 runs, 10 loops each)\n"
     ]
    }
   ],
   "source": [
    "%%timeit\n",
    "result = linear_find_hdb('999B', 'BUANGKOK CRES')"
   ]
  },
  {
   "cell_type": "markdown",
   "metadata": {},
   "source": [
    "<u>Test</u>: Performance of Binary Search Tree"
   ]
  },
  {
   "cell_type": "code",
   "execution_count": 26,
   "metadata": {},
   "outputs": [
    {
     "name": "stdout",
     "output_type": "stream",
     "text": [
      "3.07 ms ± 499 µs per loop (mean ± std. dev. of 7 runs, 100 loops each)\n"
     ]
    }
   ],
   "source": [
    "%%timeit\n",
    "result = tree2.find('999B', 'BUANGKOK CRES')"
   ]
  }
 ],
 "metadata": {
  "kernelspec": {
   "display_name": "Python 3",
   "language": "python",
   "name": "python3"
  },
  "language_info": {
   "codemirror_mode": {
    "name": "ipython",
    "version": 3
   },
   "file_extension": ".py",
   "mimetype": "text/x-python",
   "name": "python",
   "nbconvert_exporter": "python",
   "pygments_lexer": "ipython3",
   "version": "3.7.3"
  }
 },
 "nbformat": 4,
 "nbformat_minor": 2
}
