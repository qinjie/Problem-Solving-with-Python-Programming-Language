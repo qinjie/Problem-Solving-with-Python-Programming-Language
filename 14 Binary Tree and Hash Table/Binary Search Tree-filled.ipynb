{
 "cells": [
  {
   "cell_type": "markdown",
   "metadata": {},
   "source": [
    "# Binary Search Tree"
   ]
  },
  {
   "cell_type": "markdown",
   "metadata": {},
   "source": [
    "## 1. Introduction\n",
    "Binary Search Tree is a type of binary tree with following special properties:\n",
    "* The left subtree of a node contains only nodes with keys lesser than the node’s key.\n",
    "* The right subtree of a node contains only nodes with keys greater than the node’s key.\n",
    "* The left and right subtree each must also be a binary search tree.\n",
    "\n",
    "<img src=\"./images/binary_search_tree.jpg\" alt=\"Queue ADT\" style=\"width: 350px;\"/>\n",
    "\n",
    "<center>https://www.tutorialspoint.com/data_structures_algorithms/images/binary_search_tree.jpg</center>\n"
   ]
  },
  {
   "cell_type": "markdown",
   "metadata": {},
   "source": [
    "**Duplicate Values?**\n",
    "\n",
    "There are a few variation of Binary Search Tree definition. By most definitions, BST only allow distinct values, and <u>duplicates are not allowed</u>. \n",
    "\n",
    "This is because allowing duplicate values will bring much more complexity than convenience. For example, duplicate value 27 may be inserted at different levels in the tree.\n",
    "```\n",
    "      27\n",
    "    /   \\\n",
    "  14     35\n",
    "    \\\n",
    "     19\n",
    "       \\\n",
    "        27\n",
    "```"
   ]
  },
  {
   "cell_type": "markdown",
   "metadata": {},
   "source": [
    "### Extend from Binary Tree"
   ]
  },
  {
   "cell_type": "markdown",
   "metadata": {},
   "source": [
    "**Node Class**\n",
    "\n",
    "Since BST is a type of Binary Tree, they share the same type of nodes in the tree. We will reuse the `Node` class."
   ]
  },
  {
   "cell_type": "code",
   "execution_count": 1,
   "metadata": {},
   "outputs": [],
   "source": [
    "class Node:\n",
    "    \n",
    "    def __init__(self, data=None, left=None, right=None):\n",
    "        self.data = data\n",
    "        self.left = left\n",
    "        self.right = right\n",
    "    \n",
    "    def __str__(self):\n",
    "        return '{}({},{})'.format(self.data, \n",
    "                                 self.left.data if self.left else '', \n",
    "                                 self.right.data if self.right else '')\n",
    "\n",
    "    def __repr__(self):\n",
    "        return self.__str__()"
   ]
  },
  {
   "cell_type": "markdown",
   "metadata": {},
   "source": [
    "<u>Test:</u>"
   ]
  },
  {
   "cell_type": "code",
   "execution_count": 5,
   "metadata": {},
   "outputs": [
    {
     "name": "stdout",
     "output_type": "stream",
     "text": [
      "10(5,15)\n"
     ]
    }
   ],
   "source": [
    "n1 = Node(10, Node(5), Node(15))\n",
    "print(n1)"
   ]
  },
  {
   "cell_type": "markdown",
   "metadata": {},
   "source": [
    "**BinaryTree Class**\n",
    "\n",
    "We will use the `BinaryTree` class as the base class for our `BinarySearchTree` class."
   ]
  },
  {
   "cell_type": "code",
   "execution_count": 3,
   "metadata": {},
   "outputs": [],
   "source": [
    "class BinaryTree:\n",
    "\n",
    "    def __init__(self, root=None):\n",
    "        self.root = root\n",
    "\n",
    "    def print_tree(self):\n",
    "        self._print_tree([self.root])\n",
    "\n",
    "    def _print_tree(self, node_list):\n",
    "        # Convert node_list to a list if it is not\n",
    "        if not isinstance(node_list, list):\n",
    "            node_list = [node_list]\n",
    "        # Stop recursion if the list is empty\n",
    "        if not node_list:\n",
    "            return\n",
    "        # define a list to collect nodes in next layer\n",
    "        next_layer = []\n",
    "        while node_list:\n",
    "            node = node_list.pop()\n",
    "            print(node, end=' ')\n",
    "            if node.left:\n",
    "                next_layer.insert(0, node.left)\n",
    "            if node.right:\n",
    "                next_layer.insert(0, node.right)\n",
    "        print()\n",
    "        self._print_tree(next_layer)"
   ]
  },
  {
   "cell_type": "markdown",
   "metadata": {},
   "source": [
    "**BinarySearchTree Class**\n",
    "\n",
    "Defines a `BinarySearchTree` class which inherits from `BinaryTree`.\n",
    "* No need to implement any additional attribute."
   ]
  },
  {
   "cell_type": "code",
   "execution_count": 4,
   "metadata": {
    "scrolled": true
   },
   "outputs": [],
   "source": [
    "class BinarySearchTree(BinaryTree):\n",
    "    pass"
   ]
  },
  {
   "cell_type": "markdown",
   "metadata": {},
   "source": [
    "## 2. Insert a Node\n",
    "\n",
    "The operation to insert a value to is a **recursive process** at each node of the tree. \n",
    "\n",
    "Assume current node is not `None`,\n",
    "* if the incoming value `val` is less than current node's value, \n",
    "    * if left child is `None`, create a new node with the value and assign to it,\n",
    "    * else recurse into left subtree.\n",
    "* if the incoming value is greater than or equals to current node's value, \n",
    "    * if right child is `None`, create a new node with the value and assign to it,\n",
    "    * else recurse into right subtree."
   ]
  },
  {
   "cell_type": "markdown",
   "metadata": {},
   "source": [
    "Following recursive function `_add(node, val)` adds `val` to the tree where `node` is the current node."
   ]
  },
  {
   "cell_type": "code",
   "execution_count": 5,
   "metadata": {},
   "outputs": [],
   "source": [
    "def _add(node, val):\n",
    "    if node is None: # for precaution\n",
    "        return\n",
    "    if val < node.data:\n",
    "        if node.left is None:\n",
    "            node.left = Node(val)\n",
    "        else:\n",
    "            _add(node.left, val)\n",
    "    if val > node.data:\n",
    "        if node.right is None:\n",
    "            node.right = Node(val)\n",
    "        else:\n",
    "            _add(node.right, val)"
   ]
  },
  {
   "cell_type": "markdown",
   "metadata": {},
   "source": [
    "<u>Test:</u>\n",
    "\n",
    "* Construct following tree\n",
    "```\n",
    "         10\n",
    "       /    \\\n",
    "      8     12\n",
    "     /\n",
    "    6\n",
    "```"
   ]
  },
  {
   "cell_type": "code",
   "execution_count": 6,
   "metadata": {},
   "outputs": [
    {
     "name": "stdout",
     "output_type": "stream",
     "text": [
      "10(8,12)\n",
      "8(6,) 12(,)\n"
     ]
    }
   ],
   "source": [
    "root = Node(10)\n",
    "_add(root, 8)\n",
    "_add(root, 12)\n",
    "_add(root, 6)\n",
    "print(root)\n",
    "print(root.left, root.right)"
   ]
  },
  {
   "cell_type": "markdown",
   "metadata": {},
   "source": [
    "### Exercise\n",
    "\n",
    "Implement a class `BinarySearchTree` inheriting from `BinaryTree`.\n",
    "* It has a `root` attribute pointing to its root node.\n",
    "* Implement its `add()` operation which adds a value `val` to the tree.\n",
    "    * Use the above recursive function `_add()`."
   ]
  },
  {
   "cell_type": "code",
   "execution_count": 7,
   "metadata": {},
   "outputs": [],
   "source": [
    "class BinarySearchTree(BinaryTree):\n",
    "        \n",
    "    def add(self, val):\n",
    "        if self.root is None:\n",
    "            self.root = Node(val)\n",
    "        else:\n",
    "            self._add(self.root, val)\n",
    "\n",
    "    def _add(self, node, val):\n",
    "        if node is None: # for precaution\n",
    "            return \n",
    "        if val < node.data:\n",
    "            if node.left is None:\n",
    "                node.left = Node(val)\n",
    "            else:\n",
    "                self._add(node.left, val)\n",
    "        if val > node.data:\n",
    "            if node.right is None:\n",
    "                node.right = Node(val)\n",
    "            else:\n",
    "                self._add(node.right, val)"
   ]
  },
  {
   "cell_type": "markdown",
   "metadata": {},
   "source": [
    "<u>test:</u>\n",
    "* Construct following tree\n",
    "* Insert a value 17 to the tree\n",
    "\n",
    "<img src=\"./images/adt-binary-tree-insertion.png\" alt=\"Queue ADT\" style=\"width: 400px;\"/>\n",
    "<center>https://algorithms.tutorialhorizon.com/binary-search-tree-complete-implementation/</center>"
   ]
  },
  {
   "cell_type": "code",
   "execution_count": 8,
   "metadata": {},
   "outputs": [
    {
     "name": "stdout",
     "output_type": "stream",
     "text": [
      "20(15,25) \n",
      "15(10,18) 25(,) \n",
      "10(,) 18(16,19) \n",
      "16(,17) 19(,) \n",
      "17(,) \n"
     ]
    }
   ],
   "source": [
    "t = BinarySearchTree()\n",
    "t.add(20)\n",
    "t.add(15)\n",
    "t.add(25)\n",
    "t.add(10)\n",
    "t.add(18)\n",
    "t.add(16)\n",
    "t.add(19)\n",
    "# t.print_tree()\n",
    "t.add(17)\n",
    "t.print_tree()"
   ]
  },
  {
   "cell_type": "markdown",
   "metadata": {},
   "source": [
    "## 3. Find a Node\n",
    "\n",
    "To search a given node in Binary Search Tree, \n",
    "* If the value matches current node's data, return the node. \n",
    "* If the value is greater than current node, recur into the right subtree of root node.\n",
    "* Otherwise we recur into the left subtree.\n",
    "\n",
    "Following recursive function `_find(node, val)` find the `val` in the tree where `node` is the root."
   ]
  },
  {
   "cell_type": "code",
   "execution_count": 9,
   "metadata": {},
   "outputs": [],
   "source": [
    "def _find(node, val):\n",
    "    if node is None:\n",
    "        return None\n",
    "    print(node)  # print current node to show traversal\n",
    "\n",
    "    if val == node.data:\n",
    "        return node\n",
    "    elif val < node.data:\n",
    "        return _find(node.left, val)\n",
    "    else:\n",
    "        return _find(node.right, val)"
   ]
  },
  {
   "cell_type": "markdown",
   "metadata": {},
   "source": [
    "<u>Test:</u>\n",
    "* Find node with value 10 in the tree `t`."
   ]
  },
  {
   "cell_type": "code",
   "execution_count": 10,
   "metadata": {},
   "outputs": [
    {
     "name": "stdout",
     "output_type": "stream",
     "text": [
      "20(15,25)\n",
      "15(10,18)\n",
      "10(,)\n",
      "10(,)\n"
     ]
    }
   ],
   "source": [
    "result = _find(t.root, 10)\n",
    "print(result)"
   ]
  },
  {
   "cell_type": "markdown",
   "metadata": {},
   "source": [
    "### Exercise\n",
    "\n",
    "Implement a class `BinarySearchTree1` which inherits from `BinarySearchTree`.\n",
    "* Implement its `find()` method which adds a value `val` to the tree. Use the above recursive function `_find()`."
   ]
  },
  {
   "cell_type": "code",
   "execution_count": 11,
   "metadata": {
    "scrolled": true
   },
   "outputs": [],
   "source": [
    "class BinarySearchTree1(BinarySearchTree):\n",
    "    \n",
    "    def find(self, val):\n",
    "        if self.root:\n",
    "            return self._find(self.root, val)\n",
    "        else:\n",
    "            return None\n",
    "\n",
    "    def _find(self, node, val):\n",
    "        if node is None:\n",
    "            return None\n",
    "        print(node)  # print current node to show traversal\n",
    "\n",
    "        if val == node.data:\n",
    "            return node\n",
    "        elif val < node.data:\n",
    "            return self._find(node.left, val)\n",
    "        else:\n",
    "            return self._find(node.right, val)\n"
   ]
  },
  {
   "cell_type": "markdown",
   "metadata": {},
   "source": [
    "<u>Test:</u>\n",
    "* Construct a tree with values [10, 7, 8, 9, 6, 11, 4, 13, 2, 15]\n",
    "* Find value `15` in the constructed tree"
   ]
  },
  {
   "cell_type": "code",
   "execution_count": 12,
   "metadata": {},
   "outputs": [
    {
     "name": "stdout",
     "output_type": "stream",
     "text": [
      "10(7,11) \n",
      "7(6,8) 11(,13) \n",
      "6(4,) 8(,9) 13(,15) \n",
      "4(2,) 9(,) 15(,) \n",
      "2(,) \n",
      "----------\n",
      "10(7,11)\n",
      "11(,13)\n",
      "13(,15)\n",
      "15(,)\n",
      "15(,)\n"
     ]
    }
   ],
   "source": [
    "t = BinarySearchTree1()\n",
    "\n",
    "s = [10, 7, 8, 9, 6, 11, 4, 13, 2, 15]\n",
    "for i in s:\n",
    "    t.add(i)\n",
    "\n",
    "t.print_tree()\n",
    "print('-'*10)\n",
    "\n",
    "print(t.find(15))"
   ]
  },
  {
   "cell_type": "markdown",
   "metadata": {},
   "source": [
    "## 4. Find the Min/Max Node"
   ]
  },
  {
   "cell_type": "markdown",
   "metadata": {},
   "source": [
    "With the structure of Binary Search Tree, finding the node with minimum value or maximum value is a simple operation.\n",
    "\n",
    "<img src=\"images/bst_min_max.png\" width=280/>"
   ]
  },
  {
   "cell_type": "markdown",
   "metadata": {},
   "source": [
    "<u>Exercise:</u>\n",
    "\n",
    "Construct a binary search tree with above structure."
   ]
  },
  {
   "cell_type": "code",
   "execution_count": 13,
   "metadata": {},
   "outputs": [
    {
     "name": "stdout",
     "output_type": "stream",
     "text": [
      "50(30,70) \n",
      "30(15,35) 70(62,87) \n",
      "15(7,22) 35(31,) 62(,) 87(,) \n",
      "7(,) 22(,) 31(,) \n"
     ]
    }
   ],
   "source": [
    "t = BinarySearchTree1()\n",
    "s = [50, 30, 70, 15, 35, 62, 87, 7, 22, 31]\n",
    "for i in s:\n",
    "    t.add(i)\n",
    "    \n",
    "t.print_tree()"
   ]
  },
  {
   "cell_type": "markdown",
   "metadata": {},
   "source": [
    "### Minimum Value Node\n",
    "\n",
    "Implement a function `_find_min()` to find a node with minimum value in the tree. The function takes a root node as input parameter.\n",
    "* Starting from the root node, go to its **left child**.\n",
    "* Keep traversing the left children of each node until a node with no left child. That node is a node with minimum value.\n"
   ]
  },
  {
   "cell_type": "code",
   "execution_count": 14,
   "metadata": {},
   "outputs": [],
   "source": [
    "def _find_min(node):\n",
    "    if node is None:\n",
    "        return None\n",
    "    if node.left is None:\n",
    "        return node\n",
    "    else:\n",
    "        return _find_min(node.left)"
   ]
  },
  {
   "cell_type": "markdown",
   "metadata": {},
   "source": [
    "<u>Test:</u>\n",
    "* Find the node with minimum value in tree `t`."
   ]
  },
  {
   "cell_type": "code",
   "execution_count": 15,
   "metadata": {},
   "outputs": [
    {
     "name": "stdout",
     "output_type": "stream",
     "text": [
      "7(,)\n"
     ]
    }
   ],
   "source": [
    "mi = _find_min(t.root)\n",
    "print(mi)"
   ]
  },
  {
   "cell_type": "markdown",
   "metadata": {},
   "source": [
    "### Max Value Node\n",
    "\n",
    "To find the node with max value:\n",
    "* Starting from the root node go to its **right child**.\n",
    "* Keep traversing the right children of each node until a node with no right child. That node is a node with max value."
   ]
  },
  {
   "cell_type": "code",
   "execution_count": 16,
   "metadata": {},
   "outputs": [],
   "source": [
    "def _find_max(node):\n",
    "    if node is None:\n",
    "        return None\n",
    "    if node.right is None:\n",
    "        return node\n",
    "    else:\n",
    "        return _find_max(node.right)"
   ]
  },
  {
   "cell_type": "markdown",
   "metadata": {},
   "source": [
    "<u>Test:</u>\n",
    "\n",
    "* Find the node with maximum value in tree `t`."
   ]
  },
  {
   "cell_type": "code",
   "execution_count": 17,
   "metadata": {},
   "outputs": [
    {
     "name": "stdout",
     "output_type": "stream",
     "text": [
      "87(,)\n"
     ]
    }
   ],
   "source": [
    "ma = _find_max(t.root)\n",
    "print(ma)"
   ]
  },
  {
   "cell_type": "markdown",
   "metadata": {},
   "source": [
    "### Enhance `BinarySearchTree`\n",
    "\n",
    "Enhancement `BinarySearchTree1` by adding `find_max()` and `find_min()` function to the class. \n",
    "* Name the new class `BinarySearchTree2`."
   ]
  },
  {
   "cell_type": "code",
   "execution_count": 18,
   "metadata": {},
   "outputs": [],
   "source": [
    "class BinarySearchTree2(BinarySearchTree1):\n",
    "\n",
    "    def find_min(self):\n",
    "        return self._find_min(self.root)\n",
    "    \n",
    "    def _find_min(self, node):\n",
    "        if node is None:\n",
    "            return None\n",
    "        if node.left is None:\n",
    "            return node\n",
    "        else:\n",
    "            return self._find_min(node.left)\n",
    "        \n",
    "    def find_max(self):\n",
    "        return self._find_max(self.root)\n",
    "        \n",
    "    def _find_max(self, node):\n",
    "        if node is None:\n",
    "            return None\n",
    "        if node.right is None:\n",
    "            return node\n",
    "        else:\n",
    "            return self._find_max(node.right)"
   ]
  },
  {
   "cell_type": "markdown",
   "metadata": {},
   "source": [
    "<u>Test:</u>\n",
    "* Construct a tree with values [50, 30, 70, 15, 35, 62, 87, 7, 22, 31]\n",
    "* Find nodes with minimum and maximum values"
   ]
  },
  {
   "cell_type": "code",
   "execution_count": 19,
   "metadata": {},
   "outputs": [
    {
     "name": "stdout",
     "output_type": "stream",
     "text": [
      "7(,) 87(,)\n"
     ]
    }
   ],
   "source": [
    "t = BinarySearchTree2()\n",
    "s = [50, 30, 70, 15, 35, 62, 87, 7, 22, 31]\n",
    "for i in s:\n",
    "    t.add(i)\n",
    "# t.print_tree()\n",
    "\n",
    "mi = t.find_min()\n",
    "ma = t.find_max()\n",
    "\n",
    "print(mi, ma)"
   ]
  },
  {
   "cell_type": "markdown",
   "metadata": {},
   "source": [
    "## 5. Delete a Node (Optional)\n",
    "\n",
    "Another **common operation** of a binary search tree is to delete a node from the tree. \n",
    "\n",
    "This operation is more complicated because it may involve joining subtree if the deleted node is not a leaf node.\n",
    "\n",
    "There are <b>3</b> scenarios to delete a node from a tree.\n",
    "* Leaf Node, e.g. 7, 22, 31, 62, 87\n",
    "* Node with 1 child, e.g. 35\n",
    "* Node with 2 children, e.g. 15, 30, 50, 70\n",
    "```\n",
    "              50  \n",
    "           /      \\    \n",
    "          30      70     \n",
    "         /  \\     /  \\    \n",
    "        15   35  62   87\n",
    "       / \\   /    \n",
    "      7  22 31  \n",
    "```"
   ]
  },
  {
   "cell_type": "markdown",
   "metadata": {},
   "source": [
    "### Find Parent Node\n",
    "\n",
    "To join subtree, we need to know parent of the node to be delete."
   ]
  },
  {
   "cell_type": "code",
   "execution_count": 20,
   "metadata": {},
   "outputs": [],
   "source": [
    "def _find_parent(parent, node, val):\n",
    "    if node is None:\n",
    "        return None\n",
    "    if val == node.data:\n",
    "        return parent\n",
    "    elif val < node.data:\n",
    "        return _find_parent(node, node.left, val)\n",
    "    else:\n",
    "        return _find_parent(node, node.right, val)"
   ]
  },
  {
   "cell_type": "markdown",
   "metadata": {},
   "source": [
    "<u>Test:</u>\n",
    "* Find parent node of the node with value `87`"
   ]
  },
  {
   "cell_type": "code",
   "execution_count": 21,
   "metadata": {},
   "outputs": [
    {
     "name": "stdout",
     "output_type": "stream",
     "text": [
      "70(62,87)\n"
     ]
    }
   ],
   "source": [
    "# t.print_tree()\n",
    "result = _find_parent(None, t.root, 87)\n",
    "print(result)"
   ]
  },
  {
   "cell_type": "markdown",
   "metadata": {},
   "source": [
    "### Skeleton Function to Delete Node"
   ]
  },
  {
   "cell_type": "markdown",
   "metadata": {},
   "source": [
    "The `_delete()` function has the same skeleton as the `_find_parent()` function.\n",
    "* Return `True` or `False` to indicate whether deletion is successful.\n",
    "* Handle 3 cases when `val == node.data`."
   ]
  },
  {
   "cell_type": "code",
   "execution_count": 22,
   "metadata": {},
   "outputs": [],
   "source": [
    "def _delete(parent, node, val):\n",
    "    if node is None:\n",
    "        return False\n",
    "    if val == node.data:\n",
    "        if node.left and node.right:\n",
    "            print('Node with 2 children')\n",
    "            pass\n",
    "        elif node.left or node.right:\n",
    "            print('Node with single child')\n",
    "            pass\n",
    "        else:\n",
    "            print('Leaf node')\n",
    "            pass\n",
    "        return True\n",
    "    elif val < node.data:\n",
    "        return _delete(node, node.left, val)\n",
    "    else:\n",
    "        return _delete(node, node.right, val)"
   ]
  },
  {
   "cell_type": "markdown",
   "metadata": {},
   "source": [
    "### Handle 3 Cases\n",
    "\n",
    "#### Leaf Node\n",
    "* Deleting the node alone is enough and no additional change is needed.\n",
    "* To delete the node, set respective child attribute of parent node to `None`.\n",
    "\n",
    "```python\n",
    "if parent.left == node:\n",
    "    parent.left = None\n",
    "else:\n",
    "    parent.right = None\n",
    "```"
   ]
  },
  {
   "cell_type": "markdown",
   "metadata": {},
   "source": [
    "#### Node with Single Child\n",
    "\n",
    "* Set the child of current node to be the child of parent node. No additional change is needed.\n",
    "\n",
    "```python\n",
    "child = node.left if node.left else node.right\n",
    "if parent.left == node:\n",
    "    parent.left = child\n",
    "else:\n",
    "    parent.right = child\n",
    "```"
   ]
  },
  {
   "cell_type": "markdown",
   "metadata": {},
   "source": [
    "#### Node with 2 Children\n",
    "\n",
    "* Find the smallest node `temp` in the right subtree of the current node\n",
    "* Replace the value of current node with value of `temp`\n",
    "* Delete the `temp` node\n",
    "\n",
    "```python\n",
    "temp = _find_min(node.right)\n",
    "node.data = temp.data\n",
    "_delete(node, node.right, node.data)\n",
    "```"
   ]
  },
  {
   "cell_type": "markdown",
   "metadata": {},
   "source": [
    "<u>Exercise:</u>\n",
    "\n",
    "Update the `_delete()` function with above code snippets."
   ]
  },
  {
   "cell_type": "code",
   "execution_count": 23,
   "metadata": {},
   "outputs": [],
   "source": [
    "def _delete(parent, node, val):\n",
    "    if node is None:\n",
    "        return False\n",
    "    if val == node.data:\n",
    "        if node.left and node.right:\n",
    "            print('Node with 2 children')\n",
    "            temp = _find_min(node.right)\n",
    "            node.data = temp.data\n",
    "            _delete(node, node.right, node.data)\n",
    "        elif node.left or node.right:\n",
    "            print('Node with single child')\n",
    "            child = node.left if node.left else node.right\n",
    "            if parent.left == node:\n",
    "                parent.left = child\n",
    "            else:\n",
    "                parent.right = child\n",
    "        else:\n",
    "            print('Leaf node')\n",
    "            if parent.left == node:\n",
    "                parent.left = None\n",
    "            else:\n",
    "                parent.right = None\n",
    "        return True\n",
    "    elif val < node.data:\n",
    "        return _delete(node, node.left, val)\n",
    "    else:\n",
    "        return _delete(node, node.right, val)"
   ]
  },
  {
   "cell_type": "markdown",
   "metadata": {},
   "source": [
    "<u>Test:</u>\n",
    "\n",
    "* Construct a tree with values [50, 30, 70, 15, 35, 62, 87, 7, 22, 31]"
   ]
  },
  {
   "cell_type": "code",
   "execution_count": 24,
   "metadata": {},
   "outputs": [
    {
     "name": "stdout",
     "output_type": "stream",
     "text": [
      "50(30,70) \n",
      "30(15,35) 70(62,87) \n",
      "15(7,22) 35(31,) 62(,) 87(,) \n",
      "7(,) 22(,) 31(,) \n"
     ]
    }
   ],
   "source": [
    "t = BinarySearchTree2()\n",
    "s = [50, 30, 70, 15, 35, 62, 87, 7, 22, 31]\n",
    "for i in s:\n",
    "    t.add(i)\n",
    "\n",
    "t.print_tree()"
   ]
  },
  {
   "cell_type": "markdown",
   "metadata": {},
   "source": [
    "**Leaf Node:**\n",
    "Try to delete value 7, 22 and 31, one at a time."
   ]
  },
  {
   "cell_type": "code",
   "execution_count": 25,
   "metadata": {},
   "outputs": [
    {
     "name": "stdout",
     "output_type": "stream",
     "text": [
      "Leaf node\n",
      "50(30,70) \n",
      "30(15,35) 70(62,87) \n",
      "15(7,22) 35(,) 62(,) 87(,) \n",
      "7(,) 22(,) \n"
     ]
    }
   ],
   "source": [
    "import copy\n",
    "x = copy.deepcopy(t)\n",
    "\n",
    "_delete(None, x.root, 31)\n",
    "x.print_tree()"
   ]
  },
  {
   "cell_type": "markdown",
   "metadata": {},
   "source": [
    "**Node with Single Child:**\n",
    "Try to delete value 35."
   ]
  },
  {
   "cell_type": "code",
   "execution_count": 26,
   "metadata": {},
   "outputs": [
    {
     "name": "stdout",
     "output_type": "stream",
     "text": [
      "Node with single child\n",
      "50(30,70) \n",
      "30(15,31) 70(62,87) \n",
      "15(7,22) 31(,) 62(,) 87(,) \n",
      "7(,) 22(,) \n"
     ]
    }
   ],
   "source": [
    "import copy\n",
    "x = copy.deepcopy(t)\n",
    "\n",
    "_delete(None, x.root, 35)\n",
    "x.print_tree()"
   ]
  },
  {
   "cell_type": "markdown",
   "metadata": {},
   "source": [
    "**Node with 2 Children:**\n",
    "Try to delete value 15, 30, 50 and 70, one at a time.\n",
    "\n",
    "```\n",
    "              50  \n",
    "           /      \\    \n",
    "          30      70     \n",
    "         /  \\     /  \\    \n",
    "        15   35  62   87\n",
    "       / \\   /    \n",
    "      7  22 31  \n",
    "```"
   ]
  },
  {
   "cell_type": "code",
   "execution_count": 27,
   "metadata": {},
   "outputs": [
    {
     "name": "stdout",
     "output_type": "stream",
     "text": [
      "Node with 2 children\n",
      "Leaf node\n",
      "50(30,87) \n",
      "30(15,35) 87(62,) \n",
      "15(7,22) 35(31,) 62(,) \n",
      "7(,) 22(,) 31(,) \n"
     ]
    }
   ],
   "source": [
    "import copy\n",
    "x = copy.deepcopy(t)\n",
    "\n",
    "_delete(None, x.root, 70)\n",
    "x.print_tree()"
   ]
  },
  {
   "cell_type": "markdown",
   "metadata": {},
   "source": [
    "### Final BST Class\n",
    "\n",
    "Enhance `BinarySearchTree2` with `delete()` function to delete a node by value. Name the class `BinarySearchTree3`. "
   ]
  },
  {
   "cell_type": "code",
   "execution_count": 28,
   "metadata": {},
   "outputs": [],
   "source": [
    "class BinarySearchTree3(BinarySearchTree2):\n",
    "    \n",
    "    def delete(self, val):\n",
    "        return self._delete(None, self.root, val)\n",
    "\n",
    "    def _delete(self, parent, node, val):\n",
    "        if node is None:\n",
    "            return False\n",
    "        if val == node.data:\n",
    "            if node.left and node.right:\n",
    "                print('Node with 2 children')\n",
    "                temp = self._find_min(node.right)\n",
    "                node.data = temp.data\n",
    "                self._delete(node, node.right, node.data)\n",
    "            elif node.left or node.right:\n",
    "                print('Node with single child')\n",
    "                child = node.left if node.left else node.right\n",
    "                if parent.left == node:\n",
    "                    parent.left = child\n",
    "                else:\n",
    "                    parent.right = child\n",
    "            else:\n",
    "                print('Leaf node')\n",
    "                if parent.left == node:\n",
    "                    parent.left = None\n",
    "                else:\n",
    "                    parent.right = None\n",
    "            return True\n",
    "        elif val < node.data:\n",
    "            return self._delete(node, node.left, val)\n",
    "        else:\n",
    "            return self._delete(node, node.right, val)"
   ]
  },
  {
   "cell_type": "markdown",
   "metadata": {},
   "source": [
    "<u>Test:</u>"
   ]
  },
  {
   "cell_type": "code",
   "execution_count": 29,
   "metadata": {},
   "outputs": [
    {
     "name": "stdout",
     "output_type": "stream",
     "text": [
      "Node with 2 children\n",
      "Leaf node\n",
      "50(30,87) \n",
      "30(15,35) 87(62,) \n",
      "15(7,22) 35(31,) 62(,) \n",
      "7(,) 22(,) 31(,) \n"
     ]
    }
   ],
   "source": [
    "t = BinarySearchTree3()\n",
    "s = [50, 30, 70, 15, 35, 62, 87, 7, 22, 31]\n",
    "for i in s:\n",
    "    t.add(i)\n",
    "\n",
    "t.delete(70)\n",
    "t.print_tree()"
   ]
  },
  {
   "cell_type": "markdown",
   "metadata": {},
   "source": [
    "## 6. BST with Duplicate Values (Optional)\n",
    "\n",
    "What if I still need to be able to store duplicate values in the Binary Search Tree?"
   ]
  },
  {
   "cell_type": "markdown",
   "metadata": {},
   "source": [
    "<u>Possible Solution:</u>\n",
    "\n",
    "Add an attribute `count` to `Node` class. The count represent how many duplicate values (same as `data`) are in the tree. \n",
    "* Insertion and deletion of duplicate values will increase or decrease the `count` value. \n",
    "* Node will be removed from tree when its `count` value is 0. \n"
   ]
  },
  {
   "cell_type": "markdown",
   "metadata": {},
   "source": [
    "## Reference\n",
    "\n",
    "Delete node in Binary Search Tree\n",
    "* https://www.geeksforgeeks.org/binary-search-tree-set-2-delete/\n",
    "* https://www.geeksforgeeks.org/binary-tree-data-structure/\n"
   ]
  }
 ],
 "metadata": {
  "kernelspec": {
   "display_name": "Python 3",
   "language": "python",
   "name": "python3"
  },
  "language_info": {
   "codemirror_mode": {
    "name": "ipython",
    "version": 3
   },
   "file_extension": ".py",
   "mimetype": "text/x-python",
   "name": "python",
   "nbconvert_exporter": "python",
   "pygments_lexer": "ipython3",
   "version": "3.7.3"
  }
 },
 "nbformat": 4,
 "nbformat_minor": 2
}
