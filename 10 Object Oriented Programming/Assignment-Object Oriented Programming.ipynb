{
 "cells": [
  {
   "cell_type": "markdown",
   "metadata": {},
   "source": [
    "# Object Oriented Programming - Assignment"
   ]
  },
  {
   "cell_type": "markdown",
   "metadata": {},
   "source": [
    "## 1. Basic Class\n",
    "\n",
    "\n",
    "### 1.1 Class `Point`\n",
    "Create a Python class `Point` which contains 2 attributes, `x` and `y`, representing x and y coordinate of the point. \n",
    "* Implement initializer method which initialize `x` and `y`.\n",
    "* Implement a instance method `dist_to_origin()` which return distance from origin using formular `math.sqrt(x**2 + y**2)`. \n",
    "* Implement `__str__()` which returns \"(x,y)\", e.g. \"(3.0,4.0)\"\n",
    "\n",
    "#### Sample Output\n",
    "```\n",
    "(3.0, 4.0)\n",
    "Point(3.0,4.0)\n",
    "5.0\n",
    "```"
   ]
  },
  {
   "cell_type": "code",
   "execution_count": null,
   "metadata": {},
   "outputs": [],
   "source": []
  },
  {
   "cell_type": "markdown",
   "metadata": {},
   "source": [
    "## 1.2 Class `Rectangle`\n",
    "Create a Python class `Rectangle` which contains 3 attributes, `width`, `height` and `corner`. The `corner` is of `Point` type, which gives coordinate of bottom left corner of the rectangle.\n",
    "* Implement initializer method which initialize `width`, `height` and `corner`. \n",
    "* Implement a instance method `get_centre()` which returns a `Point` boject representing centre point of the rectance.\n",
    "* Implement a instance method `scale(val)` which scale width and height by `val` times. \n",
    "\n",
    "#### Sample Output\n",
    "```\n",
    "(7.0, 12.0)\n",
    "Rectangle(20, 40) at point (2.0, 2.0)\n",
    "\n",
    "```"
   ]
  },
  {
   "cell_type": "code",
   "execution_count": null,
   "metadata": {},
   "outputs": [],
   "source": []
  },
  {
   "cell_type": "markdown",
   "metadata": {},
   "source": [
    "## 2. Class Attribute, Static Method and Class Method"
   ]
  },
  {
   "cell_type": "markdown",
   "metadata": {},
   "source": [
    "### 2.1 Class Attribute\n",
    "\n",
    "Implement a class attribute `counter` which keep track of number of instance created for class `Machine`.\n",
    "* The `counter` has inital value of 0\n",
    "* In `__init__(self)` method, increment counter by 1\n",
    "* In `__del__(self)` method, decrement counter by 1\n",
    "\n",
    "#### Sample Output\n",
    "```\n",
    "2\n",
    "1\n",
    "```"
   ]
  },
  {
   "cell_type": "code",
   "execution_count": null,
   "metadata": {},
   "outputs": [],
   "source": []
  },
  {
   "cell_type": "code",
   "execution_count": null,
   "metadata": {},
   "outputs": [],
   "source": []
  },
  {
   "cell_type": "markdown",
   "metadata": {},
   "source": [
    "### 2.2 Class Method\n",
    "\n",
    "Implement a class method `get_serial()` in the `Customer` class which returns __next_serial value and increase the __next_serial by 1. \n",
    "\n",
    "```\n",
    "class Customer:\n",
    "\n",
    "    __next_serial = 1\n",
    "    \n",
    "    def __init__(self):\n",
    "        self.serial = Customer.__next_serial\n",
    "        Customer.__next_serial += 1\n",
    "```\n",
    "\n",
    "#### Sample Output\n",
    "```\n",
    "1\n",
    "2\n",
    "```"
   ]
  },
  {
   "cell_type": "code",
   "execution_count": null,
   "metadata": {},
   "outputs": [],
   "source": []
  },
  {
   "cell_type": "markdown",
   "metadata": {},
   "source": [
    "### 2.2 Static Method\n",
    "\n",
    "Implement following 2 static method in the `Temperature` class which convert value between celsius and fahrenheit.\n",
    "* `c2f()` which takes in a value in celsius and return a value in fahrenheit\n",
    "* `f2c()` which takes in a value in fahrenheit and return a value in celsius\n",
    "\n",
    "#### Sample Output\n",
    "```\n",
    "86.0\n",
    "30.0\n",
    "```"
   ]
  },
  {
   "cell_type": "code",
   "execution_count": null,
   "metadata": {},
   "outputs": [],
   "source": []
  },
  {
   "cell_type": "markdown",
   "metadata": {},
   "source": [
    "### 2.3 Multiple Initializer using Class Method (Optional)\n",
    "\n",
    "Modify class `Book` to add a class method `from_json()` to create an instance from JSON string\n",
    "\n",
    "```\n",
    "class Book:\n",
    "    \n",
    "    def __init__(self, title, author):\n",
    "        self.title = title\n",
    "        self.author = author\n",
    "    \n",
    "    def __str__(self):\n",
    "        return '({},{})'.format(self.title, self.author)\n",
    "        \n",
    "    ## define class method here\n",
    "\n",
    "\n",
    "## Test\n",
    "c1 = Book('Rich Dad Poor Dad', 'Robert Kiyosaki')\n",
    "c2 = Book.from_json('{\"title\":\"Rich Dad Poor Dad\", \"author\":\"Robert Kiyosaki\"}')\n",
    "print(c1)\n",
    "print(c2)\n",
    "```\n",
    "\n",
    "#### Sample Output\n",
    "```\n",
    "(Rich Dad Poor Dad,Robert Kiyosaki)\n",
    "(Rich Dad Poor Dad,Robert Kiyosaki)\n",
    "```"
   ]
  },
  {
   "cell_type": "code",
   "execution_count": null,
   "metadata": {},
   "outputs": [],
   "source": []
  },
  {
   "cell_type": "markdown",
   "metadata": {},
   "source": [
    "## 3. Properties\n",
    "\n",
    "Implement a class `Person` which has 2 attributes, `firstName`, `lastName`.\n",
    "* Use python convention to make both attributes \"private\"\n",
    "* Implement an initializer which initialize both attributes \n",
    "* Implement both attributes as properties\n",
    "* Implement another property `fullname` which returns \"firstName lastName\"\n",
    "\n",
    "#### Sample Output\n",
    "```\n",
    "Alan Goh\n",
    "Alan Goh\n",
    "```"
   ]
  },
  {
   "cell_type": "code",
   "execution_count": null,
   "metadata": {},
   "outputs": [],
   "source": []
  },
  {
   "cell_type": "markdown",
   "metadata": {},
   "source": [
    "## 4. Inheritance\n",
    "\n",
    "* Construct a class `Shape` with 2 abstract property `area` and `perimeter`\n",
    "* Construct a subclass `Rectangle` from class `Shape`. Its initializer takes in 2 attributes `width` and `height`. It implements both abstract properties.\n",
    "* Construct a subclass `Circle` from class `Shape`. Its initializer takes in 1 attribute `radius`. It implements both abstract properties.\n",
    "\n",
    "#### Sample Output\n",
    "```\n",
    "200 60\n",
    "314.1592653589793 62.83185307179586\n",
    "```"
   ]
  },
  {
   "cell_type": "code",
   "execution_count": null,
   "metadata": {},
   "outputs": [],
   "source": []
  }
 ],
 "metadata": {
  "kernelspec": {
   "display_name": "Python 3",
   "language": "python",
   "name": "python3"
  },
  "language_info": {
   "codemirror_mode": {
    "name": "ipython",
    "version": 3
   },
   "file_extension": ".py",
   "mimetype": "text/x-python",
   "name": "python",
   "nbconvert_exporter": "python",
   "pygments_lexer": "ipython3",
   "version": "3.7.3"
  }
 },
 "nbformat": 4,
 "nbformat_minor": 2
}
