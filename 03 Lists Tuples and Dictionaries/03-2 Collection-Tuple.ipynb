{
 "cells": [
  {
   "cell_type": "markdown",
   "metadata": {},
   "source": [
    "# Tuples\n",
    "\n",
    "A Tuple is a collection of Python objects which is **immutable**, i.e. not modifiable after creation.\n"
   ]
  },
  {
   "cell_type": "markdown",
   "metadata": {},
   "source": [
    "## 1. How to create a tuple?\n",
    "\n",
    "Tuple is created with listed of items surrounded by parentheses **\"( )\"**, and seperated by comma **\",\"**.\n",
    "\n",
    "* To create an empty tuple, simple use **()**\n",
    "* To create a single-item tuple, need to add **common \",\"** behind the element. E.g. `tup = (3,)`\n",
    "\n",
    "**Question:**\n",
    "\n",
    "* Create a tuple `t` with values `1, 2, 3, 4`\n",
    "* Print it and its type"
   ]
  },
  {
   "cell_type": "code",
   "execution_count": null,
   "metadata": {},
   "outputs": [],
   "source": []
  },
  {
   "cell_type": "markdown",
   "metadata": {},
   "source": [
    "### Parentheses is Optional\n",
    "\n",
    "In fact, parentheses is optional unless it is to create an empty tuple. "
   ]
  },
  {
   "cell_type": "code",
   "execution_count": null,
   "metadata": {},
   "outputs": [],
   "source": []
  },
  {
   "cell_type": "markdown",
   "metadata": {},
   "source": [
    "### Using Constructor\n",
    "\n",
    "Tuple can also be created using its contructor function, which takes in a list argument.\n",
    "* when string is passed in as argument, it turns string into collection of characters.\n",
    "\n",
    "**Question:**\n",
    "* Create a tuple from list [1,2,3]\n",
    "* What happen if you apply `tuple()` constructor function on a string `Good day!`?"
   ]
  },
  {
   "cell_type": "code",
   "execution_count": null,
   "metadata": {},
   "outputs": [],
   "source": []
  },
  {
   "cell_type": "markdown",
   "metadata": {},
   "source": [
    "### Mixed Data Type\n",
    "\n",
    "Python collections allows mix data types in the same collection. We can also create tuple with items of different data type, although this is not commonly used.\n",
    "\n",
    "**Question:**\n",
    "\n",
    "* Create a tuple with items `'apple', 3.0, 'banana', 4`"
   ]
  },
  {
   "cell_type": "code",
   "execution_count": null,
   "metadata": {},
   "outputs": [],
   "source": []
  },
  {
   "cell_type": "markdown",
   "metadata": {},
   "source": [
    "### Nested Tuples\n",
    "\n",
    "Tuple can contain other tuples as its elements.\n",
    "\n",
    "**Question:**\n",
    "* Create a tuple `nested` with items `0, 1, (2, 3, 4), (5, 6)`\n",
    "* What's the length of above tuple?"
   ]
  },
  {
   "cell_type": "code",
   "execution_count": null,
   "metadata": {},
   "outputs": [],
   "source": []
  },
  {
   "cell_type": "markdown",
   "metadata": {},
   "source": [
    "# 2. How to access an item? Indexing\n",
    "\n",
    "Items in collection can be accessed by their indexes. Python uses zero-based indexing, i.e. index starts from 0.\n",
    "\n",
    "**Question:**\n",
    "* Create a tuple `('apple', 'banana', 'cherry', 'durian')`\n",
    "* Print out 2nd and 4th item in the tuple"
   ]
  },
  {
   "cell_type": "code",
   "execution_count": null,
   "metadata": {},
   "outputs": [],
   "source": []
  },
  {
   "cell_type": "markdown",
   "metadata": {},
   "source": [
    "### Negative Indexing\n",
    "\n",
    "Indexing can also be done in reverse order. That is the last element has an index of -1, and second last element has index of -2.\n",
    "\n",
    "<img src=\"./images/list-indexing.png\" alt=\"Set Venn Diagram\" style=\"width: 400px;\"/>"
   ]
  },
  {
   "cell_type": "markdown",
   "metadata": {},
   "source": [
    "**Question:**\n",
    "* Use <u>negative indexing</u> to print out <u>last</u> and <u>2nd last</u> item in `fruits`"
   ]
  },
  {
   "cell_type": "code",
   "execution_count": null,
   "metadata": {},
   "outputs": [],
   "source": []
  },
  {
   "cell_type": "markdown",
   "metadata": {},
   "source": [
    "### Multi-level Indexing\n",
    "\n",
    "For nested list, we can access items by multi-level indexing. Each level of the index always starts from 0.\n",
    "\n",
    "**Question:** \n",
    "* Create a tuple `nested` with items `0, 1, (2, 3, 4), (5, 6)`\n",
    "* How do you access value `4` and `5`?"
   ]
  },
  {
   "cell_type": "code",
   "execution_count": null,
   "metadata": {},
   "outputs": [],
   "source": []
  },
  {
   "cell_type": "markdown",
   "metadata": {},
   "source": [
    "## 3. How to access subset of items? Slicing\n",
    "\n",
    "**Indexing** was only limited to accessing a single element.\n",
    "**Slicing** on the other hand is accessing a sequence of data inside the list. \n",
    "\n",
    "**Slicing** is done by defining the index values of the `first element` and the `last element` from the parent list that is required in the sliced list. \n",
    "\n",
    "```\n",
    "sub = num[a : b]\n",
    "sub = num[a : ]\n",
    "sub = num[: b]\n",
    "sub = num[:]\n",
    "```\n",
    " \n",
    "* if both `a` and `b` are specified, `a` is the first index, `b` is the **last index + 1**.\n",
    "* if `b` is omitted, it will slice till last element.\n",
    "* if `a` is omitted, it will starts from first element.\n",
    "* if neither `a` or `b` is specified, it is effectively copy the whole list\n",
    "\n",
    "**Note: the upper bound index is NOT inclusive!**"
   ]
  },
  {
   "cell_type": "markdown",
   "metadata": {},
   "source": [
    "Try out following code.\n",
    "\n",
    "```\n",
    "num = tuple(range(10))\n",
    "\n",
    "# Get item with index 2 to 4\n",
    "print(num[2:5])\n",
    "\n",
    "# Get first 5 items\n",
    "print(num[:5])\n",
    "\n",
    "# Get from item with index = 5 onwards\n",
    "print(num[5:])\n",
    "```"
   ]
  },
  {
   "cell_type": "code",
   "execution_count": null,
   "metadata": {},
   "outputs": [],
   "source": []
  },
  {
   "cell_type": "markdown",
   "metadata": {},
   "source": [
    "### Slice with Negative Index\n",
    "\n",
    "Remember list items can be accessed using `negative index`. Same technique can be applied for slicing too. \n",
    "\n",
    "* Last item has index of -1\n",
    "\n",
    "#### Question: \n",
    "* How to get last 3 items from a list?\n",
    "* How to ignore last 3 items from a list?\n",
    "* How to strip first and last items from a list?\n",
    "\n",
    "```\n",
    "num = (0,1,2,3,4,5,6,7,8,9)\n",
    "```"
   ]
  },
  {
   "cell_type": "code",
   "execution_count": null,
   "metadata": {},
   "outputs": [],
   "source": []
  },
  {
   "cell_type": "markdown",
   "metadata": {},
   "source": [
    "## 4. Working with Tuple"
   ]
  },
  {
   "cell_type": "markdown",
   "metadata": {},
   "source": [
    "### Length\n",
    "\n",
    "To find the length of the list or the number of elements in a list, **len( )** is used.\n",
    "\n",
    "```\n",
    "len(num)\n",
    "```"
   ]
  },
  {
   "cell_type": "code",
   "execution_count": null,
   "metadata": {},
   "outputs": [],
   "source": []
  },
  {
   "cell_type": "markdown",
   "metadata": {},
   "source": [
    "### Min, Max and Sum\n",
    "\n",
    "If the list consists of all integer elements then **min( )**, **max( )** and **sum()** gives the minimum, maximum and sum values in the list.\n",
    "\n",
    "**Question:**\n",
    "\n",
    "* Print out min value, max value and sum of tuple with items 0-9.\n",
    "```\n",
    "# YOUR CODE HERE\n",
    "print('min = {0}, max = {1}, sum = {2}'.format(min_val, max_val, sum_val))\n",
    "```"
   ]
  },
  {
   "cell_type": "code",
   "execution_count": null,
   "metadata": {},
   "outputs": [],
   "source": []
  },
  {
   "cell_type": "markdown",
   "metadata": {},
   "source": [
    "**Question:**\n",
    "* How do you create a tuple by reversing another tuple? "
   ]
  },
  {
   "cell_type": "code",
   "execution_count": 3,
   "metadata": {},
   "outputs": [
    {
     "name": "stdout",
     "output_type": "stream",
     "text": [
      "<class 'reversed'>\n"
     ]
    }
   ],
   "source": []
  },
  {
   "cell_type": "markdown",
   "metadata": {},
   "source": [
    "If elements are string type, max( ) and min( ) is still applicable. max( ) would return a string element whose ASCII value is the highest and the lowest when min( ) is used. Note that only the first index of each element is considered each time and if they value is the same then second index considered so on and so forth.\n"
   ]
  },
  {
   "cell_type": "markdown",
   "metadata": {},
   "source": [
    "**Question:**\n",
    "* What's min and max value of tuple `poly = ('np','sp','tp','rp','nyp')`?"
   ]
  },
  {
   "cell_type": "code",
   "execution_count": null,
   "metadata": {},
   "outputs": [],
   "source": []
  },
  {
   "cell_type": "markdown",
   "metadata": {},
   "source": [
    "### any() and all()\n",
    "\n",
    "**any()** function returns True if any item in tuple (collection) is evaluated True.\n",
    "\n",
    "**all()** function returns True if all items in tuple (collection) is evaluated True.\n",
    "\n",
    "Python evaluates following values as **False**\n",
    "* False, None, numeric zero of all types\n",
    "* Empty strings and containers (including strings, tuples, lists, dictionaries, sets and frozensets)\n"
   ]
  },
  {
   "cell_type": "markdown",
   "metadata": {},
   "source": [
    "**Question:**\n",
    "\n",
    "For each list of `[2, 4, 0, 9]`, `['', 'hello', 'world']`\n",
    "* use `any()` to check if the list contains any non-zero item\n",
    "* use `all()` to check if all items in the list are non-zero   "
   ]
  },
  {
   "cell_type": "code",
   "execution_count": null,
   "metadata": {},
   "outputs": [],
   "source": []
  },
  {
   "cell_type": "markdown",
   "metadata": {},
   "source": [
    "### Reversing\n",
    "\n",
    "Tuple is immutable. Thus **list.reverse()** function is NOT applicable to tuple. \n",
    "\n",
    "The **reversed()** function returns a reversed object which can be converted to be a tuple or list.\n",
    "\n",
    "```\n",
    "poly = ('np','sp','tp','rp','nyp')\n",
    "r = reversed(poly)\n",
    "print(type(r), tuple(r))\n",
    "```"
   ]
  },
  {
   "cell_type": "code",
   "execution_count": null,
   "metadata": {},
   "outputs": [],
   "source": []
  },
  {
   "cell_type": "markdown",
   "metadata": {},
   "source": [
    "### Sorting\n",
    "\n",
    "Similarly, **sort** operation cannot be applied directly to tuple itself. \n",
    "\n",
    "**sorted()** function to arrange the elements in **ascending** order.\n",
    "\n",
    "```\n",
    "poly = ('np','sp','tp','rp','nyp')\n",
    "s = sorted(poly)\n",
    "print(poly)\n",
    "print(s)\n",
    "```"
   ]
  },
  {
   "cell_type": "code",
   "execution_count": 5,
   "metadata": {},
   "outputs": [
    {
     "name": "stdout",
     "output_type": "stream",
     "text": [
      "('np', 'sp', 'tp', 'rp', 'nyp')\n",
      "['np', 'nyp', 'rp', 'sp', 'tp']\n"
     ]
    }
   ],
   "source": []
  },
  {
   "cell_type": "markdown",
   "metadata": {},
   "source": [
    "For **descending** order, specify the named argument `reverse = True`. \n",
    "* By default the reverse condition will be `False` for reverse. Hence changing it to True would arrange the elements in descending order."
   ]
  },
  {
   "cell_type": "code",
   "execution_count": null,
   "metadata": {},
   "outputs": [],
   "source": []
  },
  {
   "cell_type": "markdown",
   "metadata": {},
   "source": [
    "### Sorting with Key Function \n",
    "\n",
    "The **sort()** function has another named argument **key**, which allows u to specify a callable function. The sorting will be done based on returned value from this callable function. \n",
    "\n",
    "For example, **len()** function returns length of a string. \n",
    "\n",
    "To sort based on string length, `key = len` can be specified as shown.\n",
    "\n",
    "```\n",
    "names = ('duck', 'chicken', 'goose')\n",
    "s1 = sorted(names, key=len)\n",
    "print(s1)\n",
    "# YOUR CODE HERE where s2 is in reverse order\n",
    "print(s2)\n",
    "```"
   ]
  },
  {
   "cell_type": "code",
   "execution_count": null,
   "metadata": {},
   "outputs": [],
   "source": []
  },
  {
   "cell_type": "markdown",
   "metadata": {},
   "source": [
    "### Operator + \n",
    "\n",
    "Two tuples can also be join together simply using `+` operator."
   ]
  },
  {
   "cell_type": "markdown",
   "metadata": {},
   "source": [
    "**Recap:** String is immutable. New string will be created when a string is modified.\n",
    "\n",
    "```\n",
    "s = \"hello world.\"\n",
    "t = s\n",
    "print(t == s, t is s)\n",
    "s = s + \"abc\"\n",
    "print(t == s, t is s)\n",
    "```"
   ]
  },
  {
   "cell_type": "code",
   "execution_count": null,
   "metadata": {},
   "outputs": [],
   "source": []
  },
  {
   "cell_type": "markdown",
   "metadata": {},
   "source": [
    "Similarly, Tuple is immutable. Modification to tuple will return a new tuple object. \n",
    "```\n",
    "t1 = (1,2,3,4)\n",
    "t2 = (5,7,8,9)\n",
    "t3 = t1 + t2\n",
    "print(t1, t2, t3)\n",
    "```"
   ]
  },
  {
   "cell_type": "code",
   "execution_count": null,
   "metadata": {},
   "outputs": [],
   "source": []
  },
  {
   "cell_type": "markdown",
   "metadata": {},
   "source": [
    "### Operator *\n",
    "\n",
    "Similar to String, we can repeat a tuple multiple times with * operator. \n",
    "\n",
    "```\n",
    "t1 = (1,2,3,4,5,6)\n",
    "t2 = t1 * 2\n",
    "print(t1, t2)\n",
    "```"
   ]
  },
  {
   "cell_type": "code",
   "execution_count": 11,
   "metadata": {},
   "outputs": [
    {
     "name": "stdout",
     "output_type": "stream",
     "text": [
      "(1, 2, 3, 4, 5, 6) (1, 2, 3, 4, 5, 6, 1, 2, 3, 4, 5, 6)\n"
     ]
    }
   ],
   "source": []
  },
  {
   "cell_type": "markdown",
   "metadata": {},
   "source": [
    "## 5. Membership and Searching\n",
    "\n",
    "You might need to check if a particular item is in a list.\n",
    "\n",
    "Instead of using `for` loop to iterate over the list and use the if condition, Python provides a simple **`in`** statement to check membership of an item. \n",
    "\n",
    "```\n",
    "names = ('duck', 'chicken', 'goose')\n",
    "found1 = 'duck' in names\n",
    "found2 = 'dog' in names\n",
    "print(found1, found2)\n",
    "```"
   ]
  },
  {
   "cell_type": "code",
   "execution_count": null,
   "metadata": {},
   "outputs": [],
   "source": []
  },
  {
   "cell_type": "markdown",
   "metadata": {},
   "source": [
    "**count( )** is used to count the occurence of a particular item in a list. \n",
    "\n",
    "```\n",
    "names = ('duck', 'chicken', 'goose') * 2\n",
    "print(names)\n",
    "names.count('duck')\n",
    "```"
   ]
  },
  {
   "cell_type": "code",
   "execution_count": null,
   "metadata": {},
   "outputs": [],
   "source": []
  },
  {
   "cell_type": "markdown",
   "metadata": {},
   "source": [
    "**index( )** is used to find the index value of a particular item. \n",
    "* Note that if there are multiple items of the same value, the first index value of that item is returned.\n",
    "* You can add 2nd argument x to start searching from index x onwards.\n",
    "\n",
    "```\n",
    "idx = names2.index('goose')\n",
    "idx2 = names2.index('goose', 4)\n",
    "print('Gooses at index {} and {}'.format(idx, idx2))\n",
    "```"
   ]
  },
  {
   "cell_type": "code",
   "execution_count": null,
   "metadata": {},
   "outputs": [],
   "source": []
  },
  {
   "cell_type": "markdown",
   "metadata": {},
   "source": [
    "## 6. Iterating through Tuple"
   ]
  },
  {
   "cell_type": "markdown",
   "metadata": {},
   "source": [
    "To iterate through a tuple (collection), you can use **for** loop.\n",
    "\n",
    "```\n",
    "names = ('duck', 'chicken', 'goose')\n",
    "for name in names:\n",
    "    print(name)\n",
    "```"
   ]
  },
  {
   "cell_type": "code",
   "execution_count": null,
   "metadata": {},
   "outputs": [],
   "source": []
  },
  {
   "cell_type": "markdown",
   "metadata": {},
   "source": [
    "If you need the index value, you can use **enumerate()** function. \n",
    "\n",
    "```\n",
    "for idx, name in enumerate(names):\n",
    "    print(idx, name)\n",
    "```"
   ]
  },
  {
   "cell_type": "code",
   "execution_count": null,
   "metadata": {},
   "outputs": [],
   "source": []
  },
  {
   "cell_type": "markdown",
   "metadata": {},
   "source": [
    "## 7. Tuple Unpacking\n",
    "\n"
   ]
  },
  {
   "cell_type": "markdown",
   "metadata": {},
   "source": [
    "### Function with Multiple Returning Values\n",
    "\n",
    "In most programming languages, function/method can only return a single value. It is the same practice in Python. \n",
    "\n",
    "But in Python, you can return a tuple which can easily pack multiple values together.\n",
    "\n",
    "**Question:**\n",
    "\n",
    "Define a function `minmax()` which fulfils following conditions. Test the function with list `[1,2,3,4,5]`.\n",
    "* accept a list as input\n",
    "* return both min and max values of the list"
   ]
  },
  {
   "cell_type": "code",
   "execution_count": 13,
   "metadata": {},
   "outputs": [],
   "source": []
  },
  {
   "cell_type": "markdown",
   "metadata": {},
   "source": [
    "Use `str.format()` function to format a string `min value = 1, max value = 9`. \n",
    "* You can use `\"{0[0]} {0[1]}\".format(s)` to extract 1st and 2nd items from list."
   ]
  },
  {
   "cell_type": "code",
   "execution_count": null,
   "metadata": {},
   "outputs": [],
   "source": []
  },
  {
   "cell_type": "markdown",
   "metadata": {},
   "source": [
    "### Tuple Unpacking\n",
    "\n",
    "Tuple can be easily unpacked into multiple values.\n",
    "* During unpacking, number of variable needs to match number of items in tuple \n",
    "\n",
    "```\n",
    "x, y, z = 1, 2, 3\n",
    "print(x, y, z)\n",
    "```"
   ]
  },
  {
   "cell_type": "code",
   "execution_count": null,
   "metadata": {},
   "outputs": [],
   "source": []
  },
  {
   "cell_type": "markdown",
   "metadata": {},
   "source": [
    "It is common to use underscore **_** for items to be ignored.\n",
    "\n",
    "```\n",
    "times = '9am to 5pm'.partition('to')\n",
    "print(times)\n",
    "start, _, end = times\n",
    "print(start, end)\n",
    "```"
   ]
  },
  {
   "cell_type": "code",
   "execution_count": null,
   "metadata": {},
   "outputs": [],
   "source": []
  },
  {
   "cell_type": "markdown",
   "metadata": {},
   "source": [
    "**Question:** \n",
    "\n",
    "How to swap two value x and y in a single statement?\n",
    "\n",
    "```\n",
    "x = 10\n",
    "y = 20\n",
    "# YOUR CODE HERE\n",
    "print('x = {}, y = {}'.format(x, y))\n",
    "```"
   ]
  },
  {
   "cell_type": "code",
   "execution_count": null,
   "metadata": {},
   "outputs": [],
   "source": []
  },
  {
   "cell_type": "markdown",
   "metadata": {},
   "source": [
    "You can use `*` to hold any number of unpacked values. \n",
    "\n",
    "For example, from a tuple, you would like to get its last item, and put all other items in a list.\n",
    "\n",
    "```\n",
    "t = (1,2,3,4,5)\n",
    "a, b* = t\n",
    "print(a, b)\n",
    "```"
   ]
  },
  {
   "cell_type": "code",
   "execution_count": null,
   "metadata": {},
   "outputs": [],
   "source": []
  },
  {
   "cell_type": "markdown",
   "metadata": {},
   "source": [
    "**Question:**\n",
    "\n",
    "How to extract only first and last items from a tuple `(1,2,3,4,5)`.\n",
    "\n",
    "```\n",
    "t = (1,2,3,4,5)\n",
    "# YOUR CODE HERE\n",
    "print(a, b, c)\n",
    "```"
   ]
  },
  {
   "cell_type": "code",
   "execution_count": 18,
   "metadata": {
    "scrolled": true
   },
   "outputs": [
    {
     "name": "stdout",
     "output_type": "stream",
     "text": [
      "1 [2, 3, 4] 5\n"
     ]
    }
   ],
   "source": []
  },
  {
   "cell_type": "markdown",
   "metadata": {},
   "source": [
    "## Recap\n",
    "\n",
    "### Difference between Tuple and List\n",
    "\n",
    "A tuple is **immutable** whereas a list is **mutable**.\n",
    "\n",
    "* You can't add elements to a tuple. Tuples have no append or extend method.\n",
    "* You can't remove elements from a tuple. Tuples have no remove or pop method.\n",
    "\n",
    "### When to use Tuple?\n",
    "\n",
    "* Tuples are used in function to return multiple values together.\n",
    "* Tuples are lighter-weight and are more memory efficient and often faster if used in appropriate places.\n",
    "* When using a tuple you protect against accidental modification when passing it between functions.\n",
    "* Tuples, being immutable, can be used as a key in a dictionary, which we’re about to learn about."
   ]
  }
 ],
 "metadata": {
  "kernelspec": {
   "display_name": "Python 3",
   "language": "python",
   "name": "python3"
  },
  "language_info": {
   "codemirror_mode": {
    "name": "ipython",
    "version": 3
   },
   "file_extension": ".py",
   "mimetype": "text/x-python",
   "name": "python",
   "nbconvert_exporter": "python",
   "pygments_lexer": "ipython3",
   "version": "3.7.3"
  }
 },
 "nbformat": 4,
 "nbformat_minor": 2
}
