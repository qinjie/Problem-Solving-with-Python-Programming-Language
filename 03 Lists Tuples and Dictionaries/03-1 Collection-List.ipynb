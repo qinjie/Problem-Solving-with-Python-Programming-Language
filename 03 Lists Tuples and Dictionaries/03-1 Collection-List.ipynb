{
 "cells": [
  {
   "cell_type": "markdown",
   "metadata": {},
   "source": [
    "# Collections\n",
    "\n",
    "A **collection** is used to hold multiple values together. Python provides a few useful data types to work with collections.\n",
    "* Lists\n",
    "* Tuples\n",
    "* Dictionaries\n",
    "* Sets\n",
    "\n",
    "# List\n",
    "\n",
    "**Lists** are the most commonly used data structure in Python. \n",
    "\n",
    "* It is a **mutable** collection, i.e. its items can be added and removed.\n",
    "* Each of these data can be accessed by calling it's index value."
   ]
  },
  {
   "cell_type": "markdown",
   "metadata": {},
   "source": [
    "## 1. How to create a list?\n",
    "\n",
    "Lists are declared/created by just equating a variable to `[ ]` or list.\n",
    "```\n",
    "empty_list = []\n",
    "print(type(empty_list))\n",
    "```\n",
    "\n",
    "Items in the list are seperated by comma `,`.\n",
    "```\n",
    "nums = [1, 2, 3, 4]\n",
    "nums\n",
    "```"
   ]
  },
  {
   "cell_type": "code",
   "execution_count": null,
   "metadata": {},
   "outputs": [],
   "source": []
  },
  {
   "cell_type": "markdown",
   "metadata": {},
   "source": [
    "List element can be of any data type.\n",
    "\n",
    "```\n",
    "fruits = ['apple', 'banana', 'cherry', 'durian']\n",
    "fruits\n",
    "```"
   ]
  },
  {
   "cell_type": "code",
   "execution_count": null,
   "metadata": {},
   "outputs": [],
   "source": []
  },
  {
   "cell_type": "markdown",
   "metadata": {},
   "source": [
    "### Mixed Data Type\n",
    "\n",
    "In fact, it is able to hold elements of mixed data types, although this is not commonly used.\n",
    "\n",
    "```\n",
    "mixed = ['apple', 3, 'banana', 5.0, True, None, (1,), [1,23]]\n",
    "mixed\n",
    "```"
   ]
  },
  {
   "cell_type": "code",
   "execution_count": null,
   "metadata": {},
   "outputs": [],
   "source": []
  },
  {
   "cell_type": "markdown",
   "metadata": {},
   "source": [
    "### Nested List\n",
    "\n",
    "List can also have lists as its element, which creates a `nested list`.\n",
    "\n",
    "```\n",
    "nested = [ [10, 11, 12, 13], \n",
    "           [20, 21, 22, 23] ]\n",
    "nested\n",
    "```"
   ]
  },
  {
   "cell_type": "code",
   "execution_count": null,
   "metadata": {},
   "outputs": [],
   "source": []
  },
  {
   "cell_type": "markdown",
   "metadata": {},
   "source": [
    "## 2. How to access an item in list? Indexing\n",
    "\n",
    "Items in collection can be accessed by their indexes. Python uses zero-based indexing, i.e. index starts from 0.\n",
    "\n",
    "```\n",
    "print(fruits)\n",
    "print(fruits[0])\n",
    "print(fruits[1])\n",
    "```"
   ]
  },
  {
   "cell_type": "code",
   "execution_count": null,
   "metadata": {},
   "outputs": [],
   "source": []
  },
  {
   "cell_type": "markdown",
   "metadata": {},
   "source": [
    "### Negative Indexing\n",
    "\n",
    "Indexing can also be done in reverse order. That is the last element has an index of -1, and second last element has index of -2.\n",
    "\n",
    "<img src=\"./images/list-indexing.png\" alt=\"Set Venn Diagram\" style=\"width: 400px;\"/>\n",
    "\n",
    "```\n",
    "fruits[-1]\n",
    "fruits[-2]\n",
    "```"
   ]
  },
  {
   "cell_type": "code",
   "execution_count": null,
   "metadata": {},
   "outputs": [],
   "source": []
  },
  {
   "cell_type": "markdown",
   "metadata": {},
   "source": [
    "### Multi-level Indexing\n",
    "\n",
    "For nested list, we can access items by multi-level indexing. Each level of the index always starts from 0.\n",
    "\n",
    "For example, access 1st elelment in 1st list, and 2nd element in 2nd list \n",
    "```python\n",
    "print(nested)\n",
    "print(nested[0][0])\n",
    "print(nested[1][1])\n",
    "```"
   ]
  },
  {
   "cell_type": "code",
   "execution_count": null,
   "metadata": {},
   "outputs": [],
   "source": []
  },
  {
   "cell_type": "markdown",
   "metadata": {},
   "source": [
    "#### Question: \n",
    "\n",
    "How do you access element `Blackcurrant` in following list?\n",
    "```\n",
    "nested_fruits = [\n",
    "    ['Apple', 'Apricots', 'Avocado'], \n",
    "    ['Banana', 'Blackcurrant', 'Blueberries'],\n",
    "    ['Cherries', 'Cranberries', 'Custard-Apple']]\n",
    "# YOUR CODE HERE\n",
    "```"
   ]
  },
  {
   "cell_type": "code",
   "execution_count": null,
   "metadata": {
    "tags": [
     "hide-cell"
    ]
   },
   "outputs": [],
   "source": []
  },
  {
   "cell_type": "markdown",
   "metadata": {},
   "source": [
    "## 3. How to access subset of items? Slicing\n",
    "\n",
    "**Indexing** was only limited to accessing a single element.\n",
    "**Slicing** on the other hand is accessing a sequence of data inside the list. \n",
    "\n",
    "**Slicing** is done by defining the index values of the `first element` and the `last element` from the parent list that is required in the sliced list. \n",
    "\n",
    "```\n",
    "sub = num[a : b]\n",
    "sub = num[a : ]\n",
    "sub = num[: b]\n",
    "sub = num[:]\n",
    "```\n",
    " \n",
    "* if both `a` and `b` are specified, `a` is the first index, `b` is the **last index + 1**.\n",
    "* if `b` is omitted, it will slice till last element.\n",
    "* if `a` is omitted, it will starts from first element.\n",
    "* if neither `a` or `b` is specified, it is effectively copy the whole list\n",
    "\n",
    "**Note: the upper bound index is NOT inclusive!**"
   ]
  },
  {
   "cell_type": "markdown",
   "metadata": {},
   "source": [
    "#### Question:\n",
    "* Create a list contain number 0-9\n",
    "* Print 3rd to 5th items\n",
    "* Print all items after 6th position\n",
    "```\n",
    "num = [0,1,2,3,4,5,6,7,8,9]\n",
    "# YOUR CODE HERE\n",
    "```"
   ]
  },
  {
   "cell_type": "code",
   "execution_count": null,
   "metadata": {},
   "outputs": [],
   "source": []
  },
  {
   "cell_type": "markdown",
   "metadata": {},
   "source": [
    "#### Question:\n",
    "\n",
    "The `num` is a list of integers from 0 to 9, split the list into 2 equal size sub list, `sub1` and `sub2`.\n",
    "\n",
    "```\n",
    "num = [0,1,2,3,4,5,6,7,8,9]\n",
    "# YOUR CODE HERE\n",
    "print(sub1)\n",
    "print(sub2)\n",
    "```"
   ]
  },
  {
   "cell_type": "code",
   "execution_count": null,
   "metadata": {
    "tags": [
     "hide-cell"
    ]
   },
   "outputs": [],
   "source": []
  },
  {
   "cell_type": "markdown",
   "metadata": {},
   "source": [
    "### Slice with Negative Index\n",
    "\n",
    "Remember list items can be accessed using `negative index`. Same technique can be applied for slicing too. \n",
    "\n",
    "* Last item has index of -1\n",
    "\n",
    "#### Question: \n",
    "\n",
    "For a list with integer 0-9, \n",
    "* How to get last 3 items from a list?\n",
    "* How to ignore last 3 items from a list?\n",
    "* How to strip first and last items from a list?\n",
    "\n",
    "```\n",
    "num = [0,1,2,3,4,5,6,7,8,9]\n",
    "# Get last 3 elements\n",
    "\n",
    "# Ignore last 3 items \n",
    "\n",
    "# Strip 1st and last element\n",
    "```"
   ]
  },
  {
   "cell_type": "code",
   "execution_count": null,
   "metadata": {
    "tags": [
     "hide-cell"
    ]
   },
   "outputs": [],
   "source": []
  },
  {
   "cell_type": "markdown",
   "metadata": {},
   "source": [
    "## 4. Working with List"
   ]
  },
  {
   "cell_type": "markdown",
   "metadata": {},
   "source": [
    "### Length\n",
    "To find the length of the list or the number of elements in a list, **len( )** is used.\n",
    "* Find the lenght of list `num = [0,1,2,3,4,5,6,7,8,9]`"
   ]
  },
  {
   "cell_type": "code",
   "execution_count": null,
   "metadata": {},
   "outputs": [],
   "source": []
  },
  {
   "cell_type": "markdown",
   "metadata": {},
   "source": [
    "### Min, Max and Sum\n",
    "\n",
    "If the list consists of all integer elements, the **min( )**, **max( )** and **sum()** gives the minimum item, maximum itme and total sum value of the list.\n",
    "* Find the min val, max val and sum of list `num = [0,1,2,3,4,5,6,7,8,9]`"
   ]
  },
  {
   "cell_type": "code",
   "execution_count": null,
   "metadata": {},
   "outputs": [],
   "source": []
  },
  {
   "cell_type": "markdown",
   "metadata": {},
   "source": [
    "**Question:**\n",
    "\n",
    "For a list with integers 0 - 9, use `format()` function of string to print out following message.\n",
    "```raw\n",
    "[0, 1, 2, 3, 4, 5, 6, 7, 8, 9]\n",
    "min = 0, max = 9, sum = 45\n",
    "```"
   ]
  },
  {
   "cell_type": "code",
   "execution_count": null,
   "metadata": {
    "tags": [
     "hide-cell"
    ]
   },
   "outputs": [],
   "source": []
  },
  {
   "cell_type": "markdown",
   "metadata": {},
   "source": [
    "For a list with elements as string, the **max( )** and **min( )** is still applicable. \n",
    "* **max( )** would return a string element whose ASCII value is the highest \n",
    "* **min( )** is used to return the lowest\n",
    "\n",
    "Note that only the first index of each element is considered each time and if they value is the same then second index considered so on and so forth."
   ]
  },
  {
   "cell_type": "markdown",
   "metadata": {},
   "source": [
    "**Question:**\n",
    "\n",
    "What is the output of `min()` and `max()` on following list? What would happen if `sum()` is applied?\n",
    "```raw\n",
    "poly = ['np','sp','tp','rp','nyp']\n",
    "```"
   ]
  },
  {
   "cell_type": "code",
   "execution_count": null,
   "metadata": {},
   "outputs": [],
   "source": []
  },
  {
   "cell_type": "markdown",
   "metadata": {},
   "source": [
    "### Reversing\n",
    "\n",
    "The entire elements present in the list can be reversed by using the **reverse()** function.\n",
    "\n",
    "**Question:**\n",
    "Modify following list by arrangin items in reverse order.\n",
    "\n",
    "```\n",
    "poly = ['np','sp','tp','rp','nyp']\n",
    "```"
   ]
  },
  {
   "cell_type": "code",
   "execution_count": null,
   "metadata": {},
   "outputs": [],
   "source": []
  },
  {
   "cell_type": "markdown",
   "metadata": {},
   "source": [
    "**Question:**\n",
    "\n",
    "Can you print out the items in reverse order without modifying the list?\n",
    "* Hint: use indexing with step `-1`\n",
    "\n",
    "```\n",
    "poly = ['np','sp','tp','rp','nyp']\n",
    "```"
   ]
  },
  {
   "cell_type": "code",
   "execution_count": null,
   "metadata": {},
   "outputs": [],
   "source": []
  },
  {
   "cell_type": "markdown",
   "metadata": {},
   "source": [
    "### Sorting\n",
    "\n",
    "Python offers built in operation **sort( )** to arrange the elements in **ascending** order."
   ]
  },
  {
   "cell_type": "markdown",
   "metadata": {},
   "source": [
    "For **descending** order, specify the named argument `reverse = True`. \n",
    "* By default the reverse condition will be `False` for reverse. Hence changing it to True would arrange the elements in descending order."
   ]
  },
  {
   "cell_type": "markdown",
   "metadata": {},
   "source": [
    "**Question:**\n",
    "\n",
    "* Check out the documentation of `list.sort()` function\n",
    "* Sort following list in <u>ascending</u> order, and then in <u>descending</u> order \n",
    "```\n",
    "poly = ['np','sp','tp','rp','nyp']\n",
    "# YOUR CODE HERE\n",
    "```"
   ]
  },
  {
   "cell_type": "code",
   "execution_count": null,
   "metadata": {},
   "outputs": [],
   "source": []
  },
  {
   "cell_type": "markdown",
   "metadata": {},
   "source": [
    "**Question:**\n",
    "\n",
    "* What's the difference between `list.sort()` and `sort()` functions?\n",
    "* Write code to illustrate the difference\n"
   ]
  },
  {
   "cell_type": "code",
   "execution_count": null,
   "metadata": {},
   "outputs": [],
   "source": []
  },
  {
   "cell_type": "markdown",
   "metadata": {},
   "source": [
    "### Sorting with Key Function \n",
    "\n",
    "The **sort()** function has another named argument **key**, which allows u to specify a callable function. The sorting will be done based on returned value from this callable function. \n"
   ]
  },
  {
   "cell_type": "markdown",
   "metadata": {},
   "source": [
    "**Question:**\n",
    "\n",
    "For following list of items, sort them by number of characters in each item.\n",
    "* *Hint:* The `len()` function returns length of a string. To sort based on string length, `key = len` can be specified as shown.\n",
    "\n",
    "```\n",
    "names = ['duck', 'chicken', 'goose']\n",
    "```"
   ]
  },
  {
   "cell_type": "code",
   "execution_count": null,
   "metadata": {},
   "outputs": [],
   "source": []
  },
  {
   "cell_type": "markdown",
   "metadata": {},
   "source": [
    "**Question:**\n",
    "\n",
    "For a list `[-1, 5, -30, -10, 2, 20, -3]`, sort the list in descending order by their absolute value. \n",
    "* *Hint:* The `abs()` function returns absolute value of a number."
   ]
  },
  {
   "cell_type": "code",
   "execution_count": null,
   "metadata": {
    "tags": [
     "hide-cell"
    ]
   },
   "outputs": [],
   "source": []
  },
  {
   "cell_type": "markdown",
   "metadata": {},
   "source": [
    "### Operator +\n",
    "\n",
    "Two lists can also be join together simply using `+` operator.\n",
    "\n",
    "**Question:** Join lists `[1,2,3,4,5]` and `[6,7,8,9]`"
   ]
  },
  {
   "cell_type": "code",
   "execution_count": null,
   "metadata": {},
   "outputs": [],
   "source": []
  },
  {
   "cell_type": "markdown",
   "metadata": {},
   "source": [
    "### Operator *\n",
    "\n",
    "Similar to String, we can repeat a list multiple times with * operator. \n",
    "\n",
    "**Question:** Create a list `[1,2,3,1,2,3,1,2,3,1,2,3]` from list `[1,2,3]`.\n"
   ]
  },
  {
   "cell_type": "code",
   "execution_count": null,
   "metadata": {},
   "outputs": [],
   "source": []
  },
  {
   "cell_type": "markdown",
   "metadata": {},
   "source": [
    "Recap: String has many similar behaviors as list.\n",
    "\n",
    "**Question:**\n",
    "\n",
    "* How to concatenate 2 strings?\n",
    "* How to repeat a string 2 times?"
   ]
  },
  {
   "cell_type": "code",
   "execution_count": null,
   "metadata": {},
   "outputs": [],
   "source": []
  },
  {
   "cell_type": "markdown",
   "metadata": {},
   "source": [
    "## 5. Membership and Searching\n",
    "\n",
    "You might need to check if a particular item is in a list.\n",
    "\n",
    "Instead of using `for` loop to iterate over the list and use the if condition, Python provides a simple **`in`** statement to check membership of an item.\n",
    "\n",
    "**Questions:**\n",
    "\n",
    "Write code to find out whether `duck` and `dog` are in the list `['duck', 'chicken', 'goose']` respectively. "
   ]
  },
  {
   "cell_type": "code",
   "execution_count": null,
   "metadata": {},
   "outputs": [],
   "source": []
  },
  {
   "cell_type": "markdown",
   "metadata": {},
   "source": [
    "### count()\n",
    "It is used to count the occurence of a particular item in a list. \n",
    "\n",
    "**Question:**\n",
    "* Create a list `['duck', 'chicken', 'goose', 'duck', 'chicken', 'goose', 'duck', 'chicken', 'goose']` from `['duck', 'chicken', 'goose']`\n",
    "* Count number of occurence of `'duck'`"
   ]
  },
  {
   "cell_type": "code",
   "execution_count": null,
   "metadata": {},
   "outputs": [],
   "source": []
  },
  {
   "cell_type": "markdown",
   "metadata": {},
   "source": [
    "### index( )\n",
    "It is used to find the index value of a particular item. \n",
    "* If there are multiple items of the same value, only the first index value of that item is returned.\n",
    "* You can add 2nd argument `x` to start searching from index `x` onwards.\n",
    "\n",
    "Note: the string functions `find()` and `rfind()` are <u>not available</u> for list."
   ]
  },
  {
   "cell_type": "code",
   "execution_count": null,
   "metadata": {},
   "outputs": [],
   "source": []
  },
  {
   "cell_type": "markdown",
   "metadata": {},
   "source": [
    "## 6. Iterating through List"
   ]
  },
  {
   "cell_type": "markdown",
   "metadata": {},
   "source": [
    "To iterate through a collection, e.g. list or tuple, you can use **for-loop**.\n",
    "\n",
    "```\n",
    "for item in my_list:\n",
    "    # Process each item\n",
    "```\n",
    "\n",
    "**Question:**\n",
    "\n",
    "Print out each item in `names` list.\n",
    "```\n",
    "names = ['duck', 'chicken', 'goose']\n",
    "```"
   ]
  },
  {
   "cell_type": "code",
   "execution_count": null,
   "metadata": {},
   "outputs": [],
   "source": []
  },
  {
   "cell_type": "markdown",
   "metadata": {},
   "source": [
    "#### Include Index of Each Item\n",
    "\n",
    "What if you need the index value?\n",
    "* you can use **enumerate()** function. \n",
    "\n",
    "**Question:**\n",
    "* Print items in list `['duck', 'chicken', 'goose']` as following output.\n",
    "\n",
    "```\n",
    "0 duck\n",
    "1 chicken\n",
    "2 goose\n",
    "```"
   ]
  },
  {
   "cell_type": "code",
   "execution_count": null,
   "metadata": {},
   "outputs": [],
   "source": []
  },
  {
   "cell_type": "markdown",
   "metadata": {},
   "source": [
    "### List Comprehension: Shorthand in Processing Collection\n",
    "\n",
    "Python provides a very handy way to perform same operate on all items in a collection, and return a new collection.\n",
    "\n",
    "**Question:**\n",
    "\n",
    "Create a list which contains len() value of each item in `['duck', 'chicken', 'goose']`\n"
   ]
  },
  {
   "cell_type": "code",
   "execution_count": null,
   "metadata": {},
   "outputs": [],
   "source": []
  },
  {
   "cell_type": "markdown",
   "metadata": {},
   "source": [
    "**Question:**\n",
    "\n",
    "How to prefix all items with a string 'big', which resulted in `['big duck', 'big chicken', 'big goose']`?\n",
    "\n",
    "```\n",
    "names = ['duck', 'chicken', 'goose']\n",
    "```"
   ]
  },
  {
   "cell_type": "code",
   "execution_count": null,
   "metadata": {
    "tags": [
     "hide-cell"
    ]
   },
   "outputs": [],
   "source": []
  },
  {
   "cell_type": "markdown",
   "metadata": {},
   "source": [
    "## 7. Modifying List\n",
    "\n",
    "List is a **mutable** collection, i.e. list can be modified and item value can be updated."
   ]
  },
  {
   "cell_type": "markdown",
   "metadata": {},
   "source": [
    "### Update an Item\n",
    "\n",
    "It is easy to update an item in the list by its index value.\n",
    "\n",
    "**Question:**\n",
    "\n",
    "For a list `s = [0,1,2,3,4]`, update its 3rd item to `9`."
   ]
  },
  {
   "cell_type": "code",
   "execution_count": null,
   "metadata": {},
   "outputs": [],
   "source": []
  },
  {
   "cell_type": "markdown",
   "metadata": {},
   "source": [
    "### Append an Item to List\n",
    "\n",
    "The **append( )** is used to append a element at the end of the list.\n",
    "\n",
    "**Question:**\n",
    "\n",
    "For a list s = [0,1,2,3,4,5], append a value `6` to it."
   ]
  },
  {
   "cell_type": "code",
   "execution_count": null,
   "metadata": {},
   "outputs": [],
   "source": []
  },
  {
   "cell_type": "markdown",
   "metadata": {},
   "source": [
    "**Question:** What happens if you append a list `[7,8,9]` to a list `[1,2,3,4,5]`?\n",
    "* If **append( )** function is used to add another list. It will create a nested list."
   ]
  },
  {
   "cell_type": "code",
   "execution_count": null,
   "metadata": {
    "tags": [
     "hide-cell"
    ]
   },
   "outputs": [],
   "source": []
  },
  {
   "cell_type": "markdown",
   "metadata": {},
   "source": [
    "### Extend a List\n",
    "\n",
    "A list can also be **extended** with items from another list using **extend()** method. It will modify the first list. The resultant list will contain all the elements of the lists that were added, i.e. the resultant list is NOT a nested list. \n",
    "\n",
    "**Note** the difference between `append()` and `extend()`."
   ]
  },
  {
   "cell_type": "markdown",
   "metadata": {},
   "source": [
    "**Question:**\n",
    "\n",
    "Extend a list `[1,2,3,4,5,6]` with all items in another list `[7,8,9]`?"
   ]
  },
  {
   "cell_type": "code",
   "execution_count": null,
   "metadata": {},
   "outputs": [],
   "source": []
  },
  {
   "cell_type": "markdown",
   "metadata": {},
   "source": [
    "**Question:**\n",
    "\n",
    "* Can you re-write above code using `+` operator?\n",
    "* Can you insert `[7,8,9]` in the middle of `[1,2,3,4,5,6]` using `+` operator?"
   ]
  },
  {
   "cell_type": "code",
   "execution_count": null,
   "metadata": {
    "tags": [
     "hide-cell"
    ]
   },
   "outputs": [],
   "source": []
  },
  {
   "cell_type": "markdown",
   "metadata": {},
   "source": [
    "### Insert an Item\n",
    "\n",
    "**insert(position,new_value)** is used to insert a element y at a specified index value x. \n",
    "* **insert()** function does not replace element at the index.\n",
    "* **append( )** function can only insert item at the end.\n",
    "\n",
    "**Question:**\n",
    "\n",
    "Use `insert()` function to modify a string `'What a day'` to `'What a sunny day'`.\n",
    "* *Hint:* Use `str.plit()` and `str.join()` functions"
   ]
  },
  {
   "cell_type": "code",
   "execution_count": null,
   "metadata": {},
   "outputs": [],
   "source": []
  },
  {
   "cell_type": "markdown",
   "metadata": {},
   "source": [
    "### Remove Item by Index\n",
    "\n",
    "**pop( )** function remove the last element in the list. This is similar to the operation of a stack.\n",
    "\n",
    "**Question:** \n",
    "\n",
    "Use `list.pop()` function to remove items in list `[0,1,2,3,4]` in reverse order."
   ]
  },
  {
   "cell_type": "code",
   "execution_count": null,
   "metadata": {},
   "outputs": [],
   "source": []
  },
  {
   "cell_type": "markdown",
   "metadata": {},
   "source": [
    "Index value can be specified to pop a ceratin element corresponding to that index value.\n",
    "\n",
    "**Question:**\n",
    "\n",
    "Use `list.pop()` functiont to remove `'c'` from list `['a','b','c','d','e']`."
   ]
  },
  {
   "cell_type": "code",
   "execution_count": null,
   "metadata": {},
   "outputs": [],
   "source": []
  },
  {
   "cell_type": "markdown",
   "metadata": {},
   "source": [
    "### Remove Item by Value\n",
    "\n",
    "**remove( )** function remove an item based on its value.\n",
    "* If there are multiple items of same value, it will only remove 1st item.\n",
    "* It will throw an **exception** if the value is not found in the list. You may need to enclose it with `try-except` block.\n",
    "\n",
    "**Question:**\n",
    "\n",
    "Use `list.remove()` function to remove value `3` three times.\n",
    "\n",
    "```\n",
    "lst = [0,1,2,3,4] * 2\n",
    "```"
   ]
  },
  {
   "cell_type": "code",
   "execution_count": null,
   "metadata": {},
   "outputs": [],
   "source": []
  },
  {
   "cell_type": "markdown",
   "metadata": {},
   "source": [
    "**Quesiton:**\n",
    "\n",
    "How to remove all valus `3` in the list `[1,2,3,4,1,2,3,4,1,2,3,4]`?\n",
    "* *Hint:* Use `while`, `try-except`, and `break`"
   ]
  },
  {
   "cell_type": "code",
   "execution_count": null,
   "metadata": {
    "tags": [
     "hide-cell"
    ]
   },
   "outputs": [],
   "source": []
  },
  {
   "cell_type": "markdown",
   "metadata": {},
   "source": [
    "### Clear a list\n",
    "\n",
    "To clear all elements in a list, use its `clear()` method.\n",
    "\n",
    "**Question:**\n",
    "\n",
    "Clear all items in `s = [1,2,3]`."
   ]
  },
  {
   "cell_type": "code",
   "execution_count": null,
   "metadata": {},
   "outputs": [],
   "source": []
  },
  {
   "cell_type": "markdown",
   "metadata": {},
   "source": [
    "## 8. Copying List"
   ]
  },
  {
   "cell_type": "markdown",
   "metadata": {},
   "source": [
    "**Recap:** What happens when you copy value of an integer?\n",
    "\n",
    "```\n",
    "x = 10\n",
    "y = x\n",
    "print(x == y)\n",
    "print(x is y)\n",
    "\n",
    "x = 11\n",
    "print(y == x)\n",
    "print(x is y)\n",
    "\n",
    "print(y)\n",
    "print(x)\n",
    "```"
   ]
  },
  {
   "cell_type": "code",
   "execution_count": null,
   "metadata": {},
   "outputs": [],
   "source": []
  },
  {
   "cell_type": "markdown",
   "metadata": {},
   "source": [
    "Following is a **common mistake** in copying a list.\n",
    "\n",
    "Both list1 and list2 are pointing to the object. When a list is modified, both lists are affected.\n",
    "\n",
    "```\n",
    "list1= [0,1,2,3]\n",
    "list2 = list1\n",
    "print(list1 == list2)\n",
    "print(list1 is list2)\n",
    "\n",
    "# Modify a list, both lists are affected\n",
    "list1.pop()\n",
    "print(list1)\n",
    "print(list2)\n",
    "```"
   ]
  },
  {
   "cell_type": "code",
   "execution_count": null,
   "metadata": {},
   "outputs": [],
   "source": []
  },
  {
   "cell_type": "markdown",
   "metadata": {},
   "source": [
    "### Copy List by Slicing\n",
    "\n",
    "Slicing without start and end index returns all items in the list.\n",
    "\n",
    "**Question:**\n",
    "\n",
    "Create a new list from `[0,1,2,3]` using slicing.\n",
    "* Use `==` and `is` to confirm"
   ]
  },
  {
   "cell_type": "code",
   "execution_count": null,
   "metadata": {},
   "outputs": [],
   "source": []
  },
  {
   "cell_type": "markdown",
   "metadata": {},
   "source": [
    "### Copy List by Constructor\n",
    "\n",
    "**list()** is a constructor function to create a list. When it accepts another list as argument, it creates a duplicate list.\n",
    "\n",
    "\n",
    "**Question:**\n",
    "\n",
    "Create a new list from `[0,1,2,3]` using constructor `list()`.\n",
    "* Use `==` and `is` to confirm"
   ]
  },
  {
   "cell_type": "code",
   "execution_count": null,
   "metadata": {},
   "outputs": [],
   "source": []
  },
  {
   "cell_type": "markdown",
   "metadata": {},
   "source": [
    "### Copy using `copy()` Method\n",
    "\n",
    "In Python 3, the `copy()` method copies a list into another list.\n",
    "\n",
    "```\n",
    "x = [1,2,3,4]\n",
    "y = x.copy()\n",
    "y[1] = 5\n",
    "print(x, y)\n",
    "```"
   ]
  },
  {
   "cell_type": "code",
   "execution_count": null,
   "metadata": {},
   "outputs": [],
   "source": []
  },
  {
   "cell_type": "markdown",
   "metadata": {},
   "source": [
    "The `y` is stored at different memory location, which is confirmed by values of `id()` functions. Modifying `y` doesn't affects the values in `x`.\n",
    "\n",
    "```\n",
    "print(id(x), id(y))\n",
    "```"
   ]
  },
  {
   "cell_type": "code",
   "execution_count": null,
   "metadata": {},
   "outputs": [],
   "source": []
  },
  {
   "cell_type": "markdown",
   "metadata": {},
   "source": [
    "### Shallow Copy\n",
    "\n",
    "Do note that the `copy()` method only performs shallow copy. It copies the list itself, which contains references to the objects in the list. If a object itself is mutable, change in this object will be reflected in both lists.\n",
    "\n",
    "**QuestiOn:**\n",
    "\n",
    "Create a list `y` by copying it from list `x = [1,[2,3,4],5]`. What happen when you modify `y` to `[1, [2, 9, 4], 5, 6]`?\n",
    "* Modify `y[1][1]` to 9\n",
    "* Append value `6` to y"
   ]
  },
  {
   "cell_type": "code",
   "execution_count": null,
   "metadata": {},
   "outputs": [],
   "source": []
  },
  {
   "cell_type": "markdown",
   "metadata": {},
   "source": [
    "### Deep Copy\n",
    "\n",
    "The `copy` module provides a function `deepcopy()` to perform deep copy of objects.\n",
    "\n",
    "**QuestiOn:**\n",
    "\n",
    "Using `copy.deepcopy()`, create a list `y` by copying it from list `x = [1,[2,3,4],5]`. What happen when you modify `y` to `[1, [2, 9, 4], 5, 6]`?\n",
    "* Modify `y[1][1]` to 9\n",
    "* Append value `6` to y"
   ]
  },
  {
   "cell_type": "code",
   "execution_count": null,
   "metadata": {},
   "outputs": [],
   "source": []
  },
  {
   "cell_type": "markdown",
   "metadata": {},
   "source": [
    "## Recap\n",
    "\n",
    "* How to create a new list?\n",
    "* Can a list hold elements of different data type?\n",
    "* Why do you need multiple level indexing?\n",
    "* Name 3 functions or operators which works with list.\n",
    "* What is the keyword used to check membership in a list?\n",
    "* How to add an item to a list? \n",
    "* How to remove an item from a list?\n",
    "* How to merge 2 lists?\n",
    "* What is the purpose of `copy()` function?\n",
    "* What is deep copy?"
   ]
  }
 ],
 "metadata": {
  "kernelspec": {
   "display_name": "Python 3",
   "language": "python",
   "name": "python3"
  },
  "language_info": {
   "codemirror_mode": {
    "name": "ipython",
    "version": 3
   },
   "file_extension": ".py",
   "mimetype": "text/x-python",
   "name": "python",
   "nbconvert_exporter": "python",
   "pygments_lexer": "ipython3",
   "version": "3.7.3"
  }
 },
 "nbformat": 4,
 "nbformat_minor": 1
}
