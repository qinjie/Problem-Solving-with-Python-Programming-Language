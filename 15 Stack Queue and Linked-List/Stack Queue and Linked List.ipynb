{
 "cells": [
  {
   "cell_type": "markdown",
   "metadata": {},
   "source": [
    "# Stack, Queue and Linked List"
   ]
  },
  {
   "cell_type": "markdown",
   "metadata": {},
   "source": [
    "## 1. Abstract Data Type and Data Structure\n",
    "\n",
    "**Abstract Data Type** (ADT) is a specification of what operations it can support.\n",
    "* It specifies interactions/operations. \n",
    "* No code. It is not the actual implementation.\n",
    "* There are often more than one way to implement an ADT.\n",
    "\n",
    "**Data Structure** (DS) is the actual representation of the data and the algorithms to manipulate the data elements.\n",
    "* Concrete implementation fo a ADT.\n",
    "* One allowable opeation in ADT = one function implemented in DS\n",
    "\n",
    "**Advantages**: Users only need to understand the allowable operations of an ADT before using it. No knowledge of actual implmentation is required.\n",
    "\n",
    "The common ADTs are **Stack**, **Queue**, **Linked List** and **Binary Tree**.\n"
   ]
  },
  {
   "cell_type": "markdown",
   "metadata": {},
   "source": [
    "## 2. Stack\n",
    "\n",
    "**Stack** is an ADT which stores items in order in which they are added.\n",
    "* Items can only be <u>added to</u> and <u>removed from</u> the **top of the stack**.\n",
    "* The order is also called **Last-In-First-Out (LIFO)**.\n",
    "\n",
    "<img src=\"./images/adt-stack.jpg\" alt=\"Stack ADT\" style=\"width: 400px;\"/>\n",
    "<center>https://dev.to/rinsama77/data-structure-stack-and-queue-4ecd</center>\n",
    "\n",
    "#### Example Applications\n",
    "\n",
    "* Detect missing symbols, e.g. missing opening or closing bracket.\n",
    "* Reverse a sequence.\n",
    "\n",
    "### Operations\n",
    "The basic operations of a stack is to add and remove item from its top. \n",
    "* **push()**: Add item to the stack\n",
    "* **pop()**: Remove item from the stack\n",
    "\n",
    "Other supporting functions to be added are:\n",
    "* **is_empty()**: Is stack empty?\n",
    "* **size()**: How many items are in the stack?\n",
    "* **peek()**: What is the next item to be removed?"
   ]
  },
  {
   "cell_type": "markdown",
   "metadata": {},
   "source": [
    "### Exercise 1\n",
    "\n",
    "Define a `Stack` class which implements the operations of a Stack:\n",
    "* Initialize an empty list `_items` in its initializer method.\n",
    "* Implement `push()` and `pop()` functions with basic operations of a stack."
   ]
  },
  {
   "cell_type": "code",
   "execution_count": null,
   "metadata": {},
   "outputs": [],
   "source": []
  },
  {
   "cell_type": "markdown",
   "metadata": {},
   "source": [
    "<u>Test:</u>"
   ]
  },
  {
   "cell_type": "code",
   "execution_count": null,
   "metadata": {},
   "outputs": [],
   "source": [
    "stack = Stack()\n",
    "stack.push('apple')\n",
    "stack.push('banana')\n",
    "print(stack._items)\n",
    "print(stack.pop())\n",
    "print(stack.pop())\n",
    "print(stack.pop())"
   ]
  },
  {
   "cell_type": "markdown",
   "metadata": {},
   "source": [
    "### Exercise 2\n",
    "\n",
    "Define a `Stack2` class which inherits from `Stack` class.\n",
    "* Code the supplementry functions `size()`, `is_empty()`, `peek()`"
   ]
  },
  {
   "cell_type": "code",
   "execution_count": null,
   "metadata": {},
   "outputs": [],
   "source": []
  },
  {
   "cell_type": "markdown",
   "metadata": {},
   "source": [
    "<u>Test:</u>"
   ]
  },
  {
   "cell_type": "code",
   "execution_count": null,
   "metadata": {},
   "outputs": [],
   "source": [
    "stack = Stack2()\n",
    "stack.push('apple')\n",
    "stack.push('banana')\n",
    "\n",
    "print(stack.size())\n",
    "stack.pop()\n",
    "print(stack.peek())\n",
    "stack.pop()\n",
    "\n",
    "print(stack.is_empty())\n",
    "print(stack.peek())"
   ]
  },
  {
   "cell_type": "markdown",
   "metadata": {},
   "source": [
    "### Exercise 3\n",
    "\n",
    "Implement a function `check_matching_symbols()`, which checks whether a string contains matching openning and closing symbols for `([{` and `}])`.\n",
    "* It return `True` if all symbols in string are balanced, else it returns `False`.\n",
    "* Use `Stack2` class for the implementation."
   ]
  },
  {
   "cell_type": "code",
   "execution_count": null,
   "metadata": {},
   "outputs": [],
   "source": []
  },
  {
   "cell_type": "markdown",
   "metadata": {},
   "source": [
    "<u>Test:</u>"
   ]
  },
  {
   "cell_type": "code",
   "execution_count": null,
   "metadata": {},
   "outputs": [],
   "source": [
    "print(check_matching_symbols(')]}'))\n",
    "print(check_matching_symbols('([{'))\n",
    "print(check_matching_symbols('(ab[c]d{e(f)})'))\n",
    "print(check_matching_symbols('(ab[c]d{ef)})'))"
   ]
  },
  {
   "cell_type": "markdown",
   "metadata": {},
   "source": [
    "## 3. Queue\n",
    "\n",
    "**Queue** holds an item in order which they are added. \n",
    "* Items are added to the end and removed from the front.\n",
    "* This order is also called First-In-First-Out (FIFO).\n",
    "\n",
    "<img src=\"./images/adt-queue.png\" alt=\"Queue ADT\" style=\"width: 400px;\"/>\n",
    "<center>https://dev.to/rinsama77/data-structure-stack-and-queue-4ecd</center>\n",
    "\n",
    "#### Example Applications\n",
    "* Customer service queue\n",
    "* Printing jobs at a printer\n",
    "\n",
    "### Operations\n",
    "The basic operations of a queue is to add and remove item from queue. \n",
    "* **enqueue()**: Add item to the queue\n",
    "* **dequeue()**: Remove item from the queue\n",
    "\n",
    "Other supporting functions to be added are:\n",
    "* **is_empty()**: Is stack empty?\n",
    "* **size()**: How many items are in the queue?\n",
    "* **peek()**: What is the next item to be removed?"
   ]
  },
  {
   "cell_type": "markdown",
   "metadata": {},
   "source": [
    "### Exercise 1\n",
    "\n",
    "Define a class `Queue` which implements basic operations of a queue.\n",
    "* Initialize an empty list in its initializer.\n",
    "* Code the `enqueue()` and `dequeue()` functions."
   ]
  },
  {
   "cell_type": "code",
   "execution_count": null,
   "metadata": {},
   "outputs": [],
   "source": []
  },
  {
   "cell_type": "markdown",
   "metadata": {},
   "source": [
    "<u>Test:</u>"
   ]
  },
  {
   "cell_type": "code",
   "execution_count": null,
   "metadata": {},
   "outputs": [],
   "source": [
    "q = Queue()\n",
    "q.enqueue('apple')\n",
    "q.enqueue('banana')\n",
    "print(q._items)\n",
    "print(q.dequeue())\n",
    "print(q.dequeue())\n",
    "print(q.dequeue())"
   ]
  },
  {
   "cell_type": "markdown",
   "metadata": {},
   "source": [
    "### Exercise 2\n",
    "\n",
    "Define a class `Queue2` which inherits from class `Queue`.\n",
    "* Code the supplementary functions of a queue, i.e. `size()`, `is_empty()`, `peek()`."
   ]
  },
  {
   "cell_type": "code",
   "execution_count": null,
   "metadata": {},
   "outputs": [],
   "source": []
  },
  {
   "cell_type": "code",
   "execution_count": null,
   "metadata": {},
   "outputs": [],
   "source": [
    "q = Queue2()\n",
    "q.enqueue('apple')\n",
    "q.enqueue('banana')\n",
    "print(q.size())\n",
    "q.dequeue()\n",
    "print(q.peek())\n",
    "print(q.dequeue())\n",
    "print(q.is_empty())"
   ]
  },
  {
   "cell_type": "markdown",
   "metadata": {},
   "source": [
    "### Exercise 3\n",
    "\n",
    "Implement a **priority queue** where job with higher weight will be processed first. We need to code two classes `Job` and `PriorityQueue`.\n",
    "\n",
    "The `Job` class has only one instance attribute, `weight`. \n",
    "* Implement its `__str__()` method which returns its weight in string format.\n",
    "\n",
    "The `PriorityQueue` class inherits from `Queue2` class by overriding its `enqueue()` method. \n",
    "* The new `enqueue()` method inserts item at appropriate position so that items are maintained in ascending order by weight."
   ]
  },
  {
   "cell_type": "code",
   "execution_count": null,
   "metadata": {},
   "outputs": [],
   "source": []
  },
  {
   "cell_type": "code",
   "execution_count": null,
   "metadata": {},
   "outputs": [],
   "source": []
  },
  {
   "cell_type": "code",
   "execution_count": null,
   "metadata": {},
   "outputs": [],
   "source": [
    "import random\n",
    "\n",
    "q = PriorityQueue()\n",
    "nums = list(range(10))\n",
    "random.shuffle(nums)\n",
    "\n",
    "for i in nums:\n",
    "    print(i, [str(i) for i in q._items])\n",
    "    j = Job(i)\n",
    "    q.enqueue(j)\n",
    "\n",
    "while not q.is_empty():\n",
    "    q.dequeue()"
   ]
  },
  {
   "cell_type": "markdown",
   "metadata": {},
   "source": [
    "## 4. Linked List\n",
    "\n",
    "A **linked list** is a linear data structure which holds a collection of elements, called **Node**. These nodes may not be <u>not stored at contiguous memory locations</u>. \n",
    "\n",
    "* Nodes can be accessed in a sequential way.\n",
    "* Linked list doesnot provide random access to a node.\n",
    "* Usually each node is **linked** to next node and/or previous node by storing their memory locations.\n",
    "\n",
    "When the Nodes are connected with only the `next` pointer the list is called **Singly Linked List** and when it’s connected by the `next` and `previous` pointers, the list is called **Doubly Linked List**.\n",
    "\n",
    "<img src=\"./images/adt-linked-list.png\" alt=\"Queue\" style=\"width: 350px;\"/>\n",
    "<center>https://medium.com/@lucasmagnum/sidenotes-linked-list-abstract-data-type-and-data-structure-fd2f8276ab53</center>"
   ]
  },
  {
   "cell_type": "markdown",
   "metadata": {},
   "source": [
    "### Common Operations\n",
    "\n",
    "Here are some of the operations \n",
    "* **prepend()**: Add a node in the beginning\n",
    "* **pop_first()**: Remove a node from the beginning\n",
    "* **append()**: Add a node in the end\n",
    "* **pop()**: Remove a node from the end\n",
    "* **remove()**: Remove Node, which matches a value, from the list"
   ]
  },
  {
   "cell_type": "markdown",
   "metadata": {},
   "source": [
    "### Node \n",
    "\n",
    "Linked list stores data in a collection of nodes. Each node contains a **data** and **pointer(s)** pointing to other node(s).\n",
    "\n",
    "For **Singly Linked List**, node contains one pointer `next` pointing to next node.\n",
    "* With only `next` pointer, it can only traverse forward along the link. \n",
    "\n",
    "For **Doubly Linked List**, node contains two pointers `next` and `previous` pointing to next and previous node respectively.\n",
    "* With both `next` and `previous` pointers, you can traverse forward and backward along the link."
   ]
  },
  {
   "cell_type": "markdown",
   "metadata": {},
   "source": [
    "### Exercise 1: Node\n",
    "\n",
    "Implement a class `Node` for Singly Linked List.\n",
    "* It has an instance attribute `data` which holds data of the node, and another instance attribute `next` pointing to next node. \n",
    "* Both instance attributes are initialized by input parameters in initializer method.\n",
    "* It implements `__repr__()` method which returns string `Node(data->next.data)`, e.g. `Node(A->B)` if the value for current and next nodes are `A` and `B` respectively."
   ]
  },
  {
   "cell_type": "code",
   "execution_count": null,
   "metadata": {},
   "outputs": [],
   "source": []
  },
  {
   "cell_type": "code",
   "execution_count": null,
   "metadata": {},
   "outputs": [],
   "source": [
    "node2 = Node('bcd')\n",
    "node1 = Node('abc', node2)\n",
    "print(node1)"
   ]
  },
  {
   "cell_type": "markdown",
   "metadata": {},
   "source": [
    "### Excercise 2: Singly Linked List\n",
    "\n",
    "A Singly Linked List contains an attribute `head` which points first node of the linked list. \n",
    "\n",
    "Implement a Singly Linked List with following methods:\n",
    "* Initializer method which initializes `head` to `None` since the initial linked list is empty.\n",
    "* `is_empty()` method which returns True if linked list is empty\n",
    "* `size()` method returns number of nodes in the list\n",
    "* `contains()` method which return True if an item is found in the linked list"
   ]
  },
  {
   "cell_type": "code",
   "execution_count": null,
   "metadata": {},
   "outputs": [],
   "source": []
  },
  {
   "cell_type": "markdown",
   "metadata": {},
   "source": [
    "<u>Test:</u>"
   ]
  },
  {
   "cell_type": "code",
   "execution_count": null,
   "metadata": {},
   "outputs": [],
   "source": [
    "sll = SinglyLinkedList()\n",
    "sll.head = Node('A')\n",
    "sll.head.next = Node('B')\n",
    "print(sll.is_empty())\n",
    "print(sll.size())\n",
    "print(sll.contains('B'))\n",
    "print(sll.contains('C'))"
   ]
  },
  {
   "cell_type": "markdown",
   "metadata": {},
   "source": [
    "### Excercise 3: Singly Linked List\n",
    "\n",
    "A Singly Linked List typically contains following methods.\n",
    "* **prepend()**: Add a node in the beginning\n",
    "* **pop_front()**: Remove a node from the beginning\n",
    "* **remove()**: Remove Node, which matches a value, from the list\n",
    "\n",
    "The `remove()` method will return `True` if a matching value is found in the linked list, else it will `return` False. The implementation needs to take care 4 scenarios:\n",
    "* When the linked list is empty, i.e `head` is pointing to None\n",
    "* When the item to be removed is the head node\n",
    "* When the item to be removed is in any other node\n",
    "* When the item to be removed is not found\n",
    "\n",
    "Lets implement above methods in class `SinglyLinkedList2` which inherites from `SinglyLinkedList` class."
   ]
  },
  {
   "cell_type": "code",
   "execution_count": null,
   "metadata": {},
   "outputs": [],
   "source": []
  },
  {
   "cell_type": "markdown",
   "metadata": {},
   "source": [
    "<u>Test:</u>"
   ]
  },
  {
   "cell_type": "code",
   "execution_count": null,
   "metadata": {},
   "outputs": [],
   "source": [
    "sll = SinglyLinkedList2()\n",
    "sll.prepend('D')\n",
    "sll.prepend('C')\n",
    "sll.prepend('B')\n",
    "sll.prepend('A')\n",
    "print(sll.pop_front())   # Remove first node 'A'\n",
    "print(sll.remove('A'))   # Remove non-exists\n",
    "print(sll.remove('B'))   # Remove head node\n",
    "print(sll.remove('D'))   # Remove end node\n",
    "print(sll.remove('C'))   # Remove last element\n",
    "print(sll.pop_front())   # anymore node?"
   ]
  },
  {
   "cell_type": "markdown",
   "metadata": {},
   "source": [
    "### Excercise 4\n",
    "\n",
    "A **Node** in a Doubly Linked List contains both `next` and `previous` attributes.\n",
    "\n",
    "Lets implement a `NodeD` class which inherites from `Node` class.\n",
    "* It overrides initilizer method add a `previous` attribute"
   ]
  },
  {
   "cell_type": "code",
   "execution_count": null,
   "metadata": {},
   "outputs": [],
   "source": []
  },
  {
   "cell_type": "code",
   "execution_count": null,
   "metadata": {},
   "outputs": [],
   "source": []
  },
  {
   "cell_type": "markdown",
   "metadata": {},
   "source": [
    "<u>Test:</u>"
   ]
  },
  {
   "cell_type": "code",
   "execution_count": null,
   "metadata": {},
   "outputs": [],
   "source": [
    "b = NodeD('B', NodeD('C'), NodeD('A'))\n",
    "b.previous.next = b\n",
    "b.next.previous = b\n",
    "print(b.previous, b, b.next)"
   ]
  },
  {
   "cell_type": "markdown",
   "metadata": {},
   "source": [
    "### Exercise 5: Doubly Linked List\n",
    "\n",
    "A Doubly Linked List contains an attribute `head` which points first node of the linked list, and another attribute `tail` which points to the last node.\n",
    "\n",
    "Following methods are identical in Singly Linked List and Doubly Linked List. (You can copy the code from `SinglyLinkedList` class.)\n",
    "* `is_empty()` method which returns True if linked list is empty\n",
    "* `size()` method returns number of nodes in the list\n",
    "* `contains()` method which return True if an item is found in the linked list\n",
    "\n",
    "Implement a `DoublyLinkedList` class with following methods. Remember to use `Node2` class instead of `Node` class.\n",
    "* Initializer method which initializes both `head` and `tail` to `None` since the initial linked list is empty.\n",
    "* prepend(): Add a node in the beginning\n",
    "* pop_first(): Remove a node from the beginning"
   ]
  },
  {
   "cell_type": "code",
   "execution_count": null,
   "metadata": {},
   "outputs": [],
   "source": []
  },
  {
   "cell_type": "markdown",
   "metadata": {},
   "source": [
    "<u>Test:</u>"
   ]
  },
  {
   "cell_type": "code",
   "execution_count": null,
   "metadata": {},
   "outputs": [],
   "source": [
    "dll = DoublyLinkedList()\n",
    "dll.prepend('A')\n",
    "print(dll.head, dll.tail)\n",
    "dll.prepend('B')\n",
    "print(dll.head, dll.tail)\n",
    "dll.pop_first()\n",
    "print(dll.head, dll.tail)\n",
    "dll.pop_first()\n",
    "print(dll.head, dll.tail)"
   ]
  },
  {
   "cell_type": "markdown",
   "metadata": {},
   "source": [
    "## Reference\n",
    "\n",
    "* https://www.geeksforgeeks.org/data-structures/linked-list/\n",
    "* https://dev.to/rinsama77/data-structure-stack-and-queue-4ecd\n",
    "* https://codeforwin.org/2015/09/singly-linked-list-data-structure-in-c.html\n",
    "* https://www.lynda.com/Python-tutorials/Python-Data-Structures-Stacks-Queues-Deques/779747-2.html\n",
    "* https://www.lynda.com/Python-tutorials/Python-Data-Structures-Linked-Lists/5007865-2.html\n",
    "* https://medium.com/@lucasmagnum/sidenotes-linked-list-abstract-data-type-and-data-structure-fd2f8276ab53\n"
   ]
  }
 ],
 "metadata": {
  "kernelspec": {
   "display_name": "Python 3",
   "language": "python",
   "name": "python3"
  },
  "language_info": {
   "codemirror_mode": {
    "name": "ipython",
    "version": 3
   },
   "file_extension": ".py",
   "mimetype": "text/x-python",
   "name": "python",
   "nbconvert_exporter": "python",
   "pygments_lexer": "ipython3",
   "version": "3.7.3"
  }
 },
 "nbformat": 4,
 "nbformat_minor": 2
}
