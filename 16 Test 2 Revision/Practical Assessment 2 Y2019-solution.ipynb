{
 "cells": [
  {
   "cell_type": "markdown",
   "metadata": {},
   "source": [
    "Ministry of Education, Singapore <br>\n",
    "**Computing Teachers’ Content Upgrading Course 2019**\n",
    "\n",
    "<h1><center>Practical Assessment 2</center></h1>\n",
    "\n",
    "<center>22 May 2019</center>\n",
    "\n",
    "**Time allowed**: 3 hours\n",
    "\n",
    "<br>\n",
    "<u>Instructions to candidates:</u>\n",
    "\n",
    "1. This is an **open-book** exam.\n",
    "2. Answer all <u><b>three</b></u> questions.\n",
    "3. You may complete your solutions in any IDE first before copy them into this Jupyter Notebook for submission. \n",
    "4. Input validation is not required\n",
    "5. Submit this Jupyter Notebook online before test ends. You may submit multiple times, but only last submission before test end time will be accepted. [https://driveuploader.com/upload/jX3ZAxA8cl/](https://driveuploader.com/upload/jX3ZAxA8cl/)\n",
    "6. Please note that the sample test program may not be enough to test your program. Your programs will be tested with other inputs and they should exhibit the required behaviours to get full credit."
   ]
  },
  {
   "cell_type": "markdown",
   "metadata": {},
   "source": [
    "### Question 1\n",
    "\n",
    "In a maze exploring game, you move step by step in one of the 4 directions, `east`, `west`, `south` and `north` to navigate around the maze. You use a `TimeMachine` to record direction of each step. This `TimeMachine` instructs you the direction to move if you need to backtrack your steps. \n",
    "\n",
    "For example, the following sample code shows how the Time Machine works.\n",
    "```\n",
    "        tm = TimeMachine()\n",
    "        tm.record('north')\n",
    "        tm.record('east')\n",
    "        tm.record('east')\n",
    "        tm.record('south')\n",
    "        tm.recall()       # return 'north'\n",
    "        tm.recall()       # return 'west'\n",
    "        tm.recall()       # return 'west'\n",
    "        tm.recall()       # return 'south'\n",
    "```\n",
    "\n",
    "**A)** Implement the `TimeMachine` class as following:\n",
    "* Create an empty list `_moves` in initializer to record movements.\n",
    "* Write a method `record()` which records direction of a step.\n",
    "* Write a method `recall()` which backtracks previous step. It returns the direction to move, e.g. return `west` if previous step is `east`.\n",
    "    * **Hint:** Declare a class variable `DIRECTIONS` dictionary to keep the 4 opposite directions pairs, i.e. `east` vs `west`, `south` vs `north`."
   ]
  },
  {
   "cell_type": "code",
   "execution_count": 1,
   "metadata": {},
   "outputs": [],
   "source": [
    "class TimeMachine:\n",
    "    DIRECTIONS = {'east':'west', 'west':'east', 'south':'north', 'north':'south'}\n",
    "    \n",
    "    def __init__(self):\n",
    "        self._moves = []\n",
    "    \n",
    "    def record(self, move):\n",
    "        self._moves.append(move)\n",
    "    \n",
    "    def recall(self):\n",
    "        move = self._moves.pop() if self._moves else None\n",
    "        if move:\n",
    "            return type(self).DIRECTIONS[move]\n",
    "        else:\n",
    "            return None"
   ]
  },
  {
   "cell_type": "markdown",
   "metadata": {},
   "source": [
    "<u>*Test Case 1*</u>"
   ]
  },
  {
   "cell_type": "code",
   "execution_count": 2,
   "metadata": {
    "scrolled": true
   },
   "outputs": [
    {
     "name": "stdout",
     "output_type": "stream",
     "text": [
      "east\n",
      "north\n",
      "west\n",
      "south\n",
      "None\n"
     ]
    }
   ],
   "source": [
    "tm = TimeMachine()\n",
    "tm.record('north')\n",
    "tm.record('east')\n",
    "tm.record('south')\n",
    "tm.record('west')\n",
    "print(tm.recall())       # print out 'east'    \n",
    "print(tm.recall())       # print out 'north'\n",
    "print(tm.recall())       # print out 'west'\n",
    "print(tm.recall())       # print out 'south'\n",
    "print(tm.recall())       # print out None"
   ]
  },
  {
   "cell_type": "markdown",
   "metadata": {},
   "source": [
    "Expected output:\n",
    "```\n",
    "east\n",
    "north\n",
    "west\n",
    "south\n",
    "None\n",
    "```"
   ]
  },
  {
   "cell_type": "markdown",
   "metadata": {},
   "source": [
    "<u>*Test Case 2*</u>"
   ]
  },
  {
   "cell_type": "code",
   "execution_count": 3,
   "metadata": {},
   "outputs": [
    {
     "name": "stdout",
     "output_type": "stream",
     "text": [
      "None\n",
      "None\n",
      "None\n"
     ]
    }
   ],
   "source": [
    "tm = TimeMachine()\n",
    "print(tm.recall())       # print out None\n",
    "print(tm.recall())       # print out None\n",
    "print(tm.recall())       # print out None"
   ]
  },
  {
   "cell_type": "markdown",
   "metadata": {},
   "source": [
    "Expected output:\n",
    "```\n",
    "None\n",
    "None\n",
    "None\n",
    "```"
   ]
  },
  {
   "cell_type": "markdown",
   "metadata": {},
   "source": [
    "<u>*Test Case 3*</u>"
   ]
  },
  {
   "cell_type": "code",
   "execution_count": 4,
   "metadata": {},
   "outputs": [
    {
     "name": "stdout",
     "output_type": "stream",
     "text": [
      "west\n",
      "north\n",
      "east\n"
     ]
    }
   ],
   "source": [
    "tm = TimeMachine()\n",
    "tm.record('south')\n",
    "tm.record('south')\n",
    "tm.record('south')\n",
    "tm.record('east')\n",
    "print(tm.recall())       # print out 'west'\n",
    "print(tm.recall())       # print out 'north'\n",
    "tm.record('west')\n",
    "print(tm.recall())       # print out 'east'"
   ]
  },
  {
   "cell_type": "markdown",
   "metadata": {},
   "source": [
    "Expected output:\n",
    "\n",
    "```\n",
    "west\n",
    "north\n",
    "east\n",
    "```"
   ]
  },
  {
   "cell_type": "markdown",
   "metadata": {},
   "source": [
    "**B)** Implement a class `TimeMachine2` which inherits from `TimeMachine` class and adds following functions.\n",
    "* Write a method `peek()` which returns next direction to move **if** user would like to backtrack previous step. \n",
    "    * **Note:** It does not perform actual backtrack.  \n",
    "* Write a method `size()` which returns current number of recorded steps in the list.\n",
    "* Write a method `is_empty()` which returns `True` if there is no more recorded steps in the list, otherwise return `False`."
   ]
  },
  {
   "cell_type": "code",
   "execution_count": 5,
   "metadata": {},
   "outputs": [],
   "source": [
    "class TimeMachine2(TimeMachine):\n",
    "    \n",
    "    def peek(self):\n",
    "        move = self._moves[-1] if self._moves else None\n",
    "        if move:\n",
    "            return type(self).DIRECTIONS[move]\n",
    "        else:\n",
    "            return None\n",
    "        \n",
    "    def size(self):\n",
    "        return len(self._moves)\n",
    "\n",
    "    def is_empty(self):\n",
    "        return len(self._moves) == 0"
   ]
  },
  {
   "cell_type": "markdown",
   "metadata": {},
   "source": [
    "<u>*Test Case 1*</u>"
   ]
  },
  {
   "cell_type": "code",
   "execution_count": 6,
   "metadata": {
    "scrolled": true
   },
   "outputs": [
    {
     "name": "stdout",
     "output_type": "stream",
     "text": [
      "1\n",
      "south\n",
      "0\n",
      "None\n"
     ]
    }
   ],
   "source": [
    "tm = TimeMachine2()\n",
    "tm.record('north')\n",
    "print(tm.size())         # print out 1\n",
    "print(tm.peek())         # print out 'south'\n",
    "tm.recall()\n",
    "print(tm.size())         # print out 0\n",
    "print(tm.peek())         # print out None"
   ]
  },
  {
   "cell_type": "markdown",
   "metadata": {},
   "source": [
    "Expected output:\n",
    "\n",
    "```\n",
    "1\n",
    "south\n",
    "0\n",
    "None\n",
    "```"
   ]
  },
  {
   "cell_type": "markdown",
   "metadata": {},
   "source": [
    "<u>*Test Case 2*</u>"
   ]
  },
  {
   "cell_type": "code",
   "execution_count": 7,
   "metadata": {
    "scrolled": true
   },
   "outputs": [
    {
     "name": "stdout",
     "output_type": "stream",
     "text": [
      "True\n"
     ]
    }
   ],
   "source": [
    "tm = TimeMachine2()\n",
    "print(tm.is_empty())     # print out True"
   ]
  },
  {
   "cell_type": "markdown",
   "metadata": {},
   "source": [
    "Expected output:\n",
    "\n",
    "```\n",
    "True\n",
    "```"
   ]
  },
  {
   "cell_type": "markdown",
   "metadata": {},
   "source": [
    "<u>*Test Case 3*</u>"
   ]
  },
  {
   "cell_type": "code",
   "execution_count": 8,
   "metadata": {},
   "outputs": [
    {
     "name": "stdout",
     "output_type": "stream",
     "text": [
      "2\n",
      "north\n",
      "3\n",
      "west\n",
      "1\n",
      "south\n",
      "False\n",
      "0\n",
      "None\n",
      "True\n"
     ]
    }
   ],
   "source": [
    "tm = TimeMachine2()\n",
    "tm.record('north')\n",
    "tm.record('south')\n",
    "print(tm.size())         # print out 2\n",
    "print(tm.peek())         # print out 'north'\n",
    "tm.record('east')\n",
    "print(tm.size())         # print out 3\n",
    "print(tm.peek())         # print out 'west'\n",
    "tm.recall()\n",
    "tm.recall()\n",
    "print(tm.size())         # print out 1\n",
    "print(tm.peek())         # print out 'south'\n",
    "print(tm.is_empty())     # print out False\n",
    "tm.recall()\n",
    "print(tm.size())         # print out 0\n",
    "print(tm.peek())         # print out None\n",
    "print(tm.is_empty())     # print out True"
   ]
  },
  {
   "cell_type": "markdown",
   "metadata": {},
   "source": [
    "Expected output:\n",
    "\n",
    "```\n",
    "2\n",
    "north\n",
    "3\n",
    "west\n",
    "1\n",
    "south\n",
    "False\n",
    "0\n",
    "None\n",
    "True\n",
    "```"
   ]
  },
  {
   "cell_type": "markdown",
   "metadata": {},
   "source": [
    "### Question 2\n",
    "\n",
    "The file `\"percent-bachelors-degrees-women-usa-pivot.csv\"` gives percentage of bachelor degree holders who are women in USA from year 1970 to year 2011.\n",
    "\n",
    "**A)** Write a function `read_csv()` to read the file and returned records in a list.\n",
    "* Each record (data point) in the list is a tuple of values, e.g. `('1970', 'Agriculture', '4.22979798')`.\n",
    "* Do NOT include header row in the returned list."
   ]
  },
  {
   "cell_type": "code",
   "execution_count": 9,
   "metadata": {},
   "outputs": [],
   "source": [
    "import csv \n",
    "\n",
    "def read_csv(file):\n",
    "    result = []\n",
    "    with open(file) as f:\n",
    "        reader = csv.reader(f)\n",
    "        header = next(reader)\n",
    "        for r in reader:\n",
    "            result.append(r)\n",
    "    return result"
   ]
  },
  {
   "cell_type": "markdown",
   "metadata": {},
   "source": [
    "<u>*Test Case 1*</u>"
   ]
  },
  {
   "cell_type": "code",
   "execution_count": 10,
   "metadata": {
    "scrolled": true
   },
   "outputs": [
    {
     "name": "stdout",
     "output_type": "stream",
     "text": [
      "Record count:  714\n",
      "[['1970', 'Agriculture', '4.22979798'], ['1970', 'Architecture', '11.92100539'], ['1970', 'Art and Performance', '159.7'], ['1970', 'Biology', '29.08836297']]\n"
     ]
    }
   ],
   "source": [
    "file_name = 'percent-bachelors-degrees-women-usa-pivot.csv'\n",
    "table = read_csv(file_name)\n",
    "print(\"Record count: \", len(table))\n",
    "print(table[:4])"
   ]
  },
  {
   "cell_type": "markdown",
   "metadata": {},
   "source": [
    "Expected output:\n",
    "\n",
    "```\n",
    "Record count:  714\n",
    "[('1970', 'Agriculture', '4.22979798'), ('1970', 'Architecture', '11.92100539'), ('1970', 'Art and Performance', '159.7'), ('1970', 'Biology', '29.08836297')]\n",
    "```"
   ]
  },
  {
   "cell_type": "markdown",
   "metadata": {},
   "source": [
    "<u>*Test Case 2*</u>"
   ]
  },
  {
   "cell_type": "code",
   "execution_count": 11,
   "metadata": {
    "scrolled": true
   },
   "outputs": [
    {
     "name": "stdout",
     "output_type": "stream",
     "text": [
      "['1970', 'Architecture', '11.92100539']\n"
     ]
    }
   ],
   "source": [
    "file_name = 'percent-bachelors-degrees-women-usa-pivot.csv'\n",
    "table = read_csv(file_name)\n",
    "print(table[1])"
   ]
  },
  {
   "cell_type": "markdown",
   "metadata": {},
   "source": [
    "Expected output:\n",
    "\n",
    "```\n",
    "('1970', 'Architecture', '11.92100539')\n",
    "```"
   ]
  },
  {
   "cell_type": "markdown",
   "metadata": {},
   "source": [
    "**B)** Write a function `list_majors()` to return the names of all bachelor degrees in the file.\n",
    "* It returns a distinct list of bachelar degree names <u>sorted in ascending order</u>."
   ]
  },
  {
   "cell_type": "code",
   "execution_count": 12,
   "metadata": {},
   "outputs": [],
   "source": [
    "def list_majors(table):\n",
    "    return sorted(list({r[1] for r in table}))"
   ]
  },
  {
   "cell_type": "markdown",
   "metadata": {},
   "source": [
    "<u>*Test Case*</u>"
   ]
  },
  {
   "cell_type": "code",
   "execution_count": 13,
   "metadata": {
    "scrolled": true
   },
   "outputs": [
    {
     "name": "stdout",
     "output_type": "stream",
     "text": [
      "['Agriculture', 'Architecture', 'Art and Performance', 'Biology', 'Business', 'Communications and Journalism', 'Computer Science', 'Education', 'Engineering', 'English', 'Foreign Languages', 'Health Professions', 'Math and Statistics', 'Physical Sciences', 'Psychology', 'Public Administration', 'Social Sciences and History']\n"
     ]
    }
   ],
   "source": [
    "file_name = 'percent-bachelors-degrees-women-usa-pivot.csv'\n",
    "table = read_csv(file_name)\n",
    "majors = list_majors(table)\n",
    "print(majors)"
   ]
  },
  {
   "cell_type": "markdown",
   "metadata": {},
   "source": [
    "Expected output:\n",
    "\n",
    "```\n",
    "['Agriculture', 'Architecture', 'Art and Performance', 'Biology', 'Business', 'Communications and Journalism', 'Computer Science', 'Education', 'Engineering', 'English', 'Foreign Languages', 'Health Professions', 'Math and Statistics', 'Physical Sciences', 'Psychology', 'Public Administration', 'Social Sciences and History']\n",
    "```"
   ]
  },
  {
   "cell_type": "markdown",
   "metadata": {},
   "source": [
    "**C)** The percentage value (column 3) in all records must be between 0 and 100. Write a function `find_invalid_records()` to print out all invalid data points.\n",
    "* Note: NO need to remove invalid data points from table."
   ]
  },
  {
   "cell_type": "code",
   "execution_count": 14,
   "metadata": {
    "scrolled": true
   },
   "outputs": [],
   "source": [
    "def find_invalid_records(table):\n",
    "    for r in table:\n",
    "        if float(r[2]) < 0 or float(r[2]) > 100:\n",
    "            print(r)"
   ]
  },
  {
   "cell_type": "markdown",
   "metadata": {},
   "source": [
    "<u>*Test Case*</u>"
   ]
  },
  {
   "cell_type": "code",
   "execution_count": 15,
   "metadata": {
    "scrolled": true
   },
   "outputs": [
    {
     "name": "stdout",
     "output_type": "stream",
     "text": [
      "['1970', 'Art and Performance', '159.7']\n",
      "['1970', 'Communications and Journalism', '-35.3']\n",
      "['1971', 'Social Sciences and History', '-36.2']\n",
      "['1973', 'Architecture', '114.7916134']\n",
      "['2010', 'Physical Sciences', '140.2']\n"
     ]
    }
   ],
   "source": [
    "file_name = 'percent-bachelors-degrees-women-usa-pivot.csv'\n",
    "table = read_csv(file_name)\n",
    "find_invalid_records(table)"
   ]
  },
  {
   "cell_type": "markdown",
   "metadata": {},
   "source": [
    "Expected output:\n",
    "\n",
    "```\n",
    "('1970', 'Art and Performance', '159.7')\n",
    "('1970', 'Communications and Journalism', '-35.3')\n",
    "('1971', 'Social Sciences and History', '-36.2')\n",
    "('1973', 'Architecture', '114.7916134')\n",
    "('2010', 'Physical Sciences', '140.2')\n",
    "```"
   ]
  },
  {
   "cell_type": "markdown",
   "metadata": {},
   "source": [
    "**D)** Write a function `calc_avg()` to find the average percentage of women who obtained a particular bachelor degree.\n",
    "* Remember to remove invalid data points before calculation."
   ]
  },
  {
   "cell_type": "code",
   "execution_count": 16,
   "metadata": {},
   "outputs": [],
   "source": [
    "def calc_avg(table, major):\n",
    "    perc= [float(r[2]) for r in table if r[1]==major and float(r[2])>=0 and float(r[2])<=100]\n",
    "    return sum(perc) / len(perc)"
   ]
  },
  {
   "cell_type": "markdown",
   "metadata": {},
   "source": [
    "<u>*Test Case*</u>"
   ]
  },
  {
   "cell_type": "code",
   "execution_count": 17,
   "metadata": {
    "scrolled": true
   },
   "outputs": [
    {
     "name": "stdout",
     "output_type": "stream",
     "text": [
      "Agriculture 33.848165147547626\n"
     ]
    }
   ],
   "source": [
    "file_name = 'percent-bachelors-degrees-women-usa-pivot.csv'\n",
    "table = read_csv(file_name)\n",
    "major = 'Agriculture'\n",
    "result = calc_avg(table, major)\n",
    "print(major, result)"
   ]
  },
  {
   "cell_type": "markdown",
   "metadata": {},
   "source": [
    "Expected output:\n",
    "\n",
    "```\n",
    "Architecture 34.146367113902436\n",
    "```"
   ]
  },
  {
   "cell_type": "markdown",
   "metadata": {},
   "source": [
    "### Question 3\n",
    "\n",
    "ALWAYS2 is a online store which sells all items at a fixed price of $2. User can add multiple items to his shopping cart. Each item is represented by a product name and quanity. You are to implement class `Item` and `ShoppingCart` to simulate its operations. \n",
    "\n",
    "**A)** Implement the class `Item` as following:\n",
    "* It has 2 instance variables, `_name` and `_qty`, representing product name and quantity respectively. \n",
    "* Its initializer method takes in 2 parameters to initialize above two instance variable. Use `None` and `0` as default value for `_name` and `_qty` respectively.\n",
    "* Use 2 properties `name` and `qty` to encapsulate its instance variables `_name` and `_qty` respectively. Both properties are readable and writable. The setter for qty should ensure that an item's quantity is never negative. Any attempt to set a negative value for qty should be ignored.\n",
    "* Implement its `__repr__()` method which returns a string in the format of `_name(_qty)`, e.g. \"Apple(5)\"."
   ]
  },
  {
   "cell_type": "code",
   "execution_count": 18,
   "metadata": {},
   "outputs": [],
   "source": [
    "class Item:\n",
    "    \n",
    "    def __init__(self, name=None, qty = 0):\n",
    "        self._name = name\n",
    "        self._qty = qty\n",
    "    \n",
    "    @property\n",
    "    def name(self):\n",
    "        return self._name\n",
    "    \n",
    "    @name.setter\n",
    "    def name(self, val):\n",
    "        self._name = val\n",
    "    \n",
    "    @property\n",
    "    def qty(self):\n",
    "        return self._qty\n",
    "    \n",
    "    @qty.setter\n",
    "    def qty(self, val):\n",
    "        if val > 0:\n",
    "            self._qty = val\n",
    "    \n",
    "    def __repr__(self):\n",
    "        return '{}({})'.format(self._name, self._qty)\n"
   ]
  },
  {
   "cell_type": "markdown",
   "metadata": {},
   "source": [
    "<u>*Test Case 1*</u>"
   ]
  },
  {
   "cell_type": "code",
   "execution_count": 19,
   "metadata": {
    "scrolled": true
   },
   "outputs": [
    {
     "name": "stdout",
     "output_type": "stream",
     "text": [
      "Apple(5)\n"
     ]
    }
   ],
   "source": [
    "i = Item('Apple', 5)\n",
    "print(i)"
   ]
  },
  {
   "cell_type": "markdown",
   "metadata": {},
   "source": [
    "Expected output:\n",
    "\n",
    "```\n",
    "Apple(5)\n",
    "```"
   ]
  },
  {
   "cell_type": "markdown",
   "metadata": {},
   "source": [
    "<u>*Test Case 2*</u>"
   ]
  },
  {
   "cell_type": "code",
   "execution_count": 20,
   "metadata": {
    "scrolled": true
   },
   "outputs": [
    {
     "name": "stdout",
     "output_type": "stream",
     "text": [
      "Orange(5)\n"
     ]
    }
   ],
   "source": [
    "i = Item('Apple', 5)\n",
    "i.name = 'Orange'\n",
    "i.qty = -10\n",
    "print(i)"
   ]
  },
  {
   "cell_type": "markdown",
   "metadata": {},
   "source": [
    "Expected output:\n",
    "\n",
    "```\n",
    "Orange(5)\n",
    "```"
   ]
  },
  {
   "cell_type": "markdown",
   "metadata": {},
   "source": [
    "**B)** Implement the class `ShoppingCart` as following.\n",
    "* It uses list to keep items in shopping cart, which is initially empty.\n",
    "* It defines a class variable `PRICE` which has a value of 2.\n",
    "* Implement its `add()` method which takes in a `item` parameter and appends it to the end of the list.\n",
    "* Implement its `remove()` method which takes in a `name` parameter and removes only <u>first</u> item matching the name from the list. It returns `True` if an item is removed, else it returns `False`.\n",
    "* Implement its `item_count()` method which returns the total count of items in the list.\n",
    "* Implement a <u>class method</u> `amount_due()` which calculates the amount to be paid using formula `amount_due = item_count * PRICE`.\n",
    "* Implement its `__str__()` method which returns a string representation of its item list. E.g. `[A(2), C(20), B(10)]`"
   ]
  },
  {
   "cell_type": "code",
   "execution_count": 21,
   "metadata": {},
   "outputs": [],
   "source": [
    "class ShoppingCart:\n",
    "    PRICE = 2\n",
    "    \n",
    "    def __init__(self):\n",
    "        self._items = []\n",
    "        \n",
    "    def add(self, item):\n",
    "        self._items.append(item)\n",
    "    \n",
    "    def remove(self, name):\n",
    "        for i, x in enumerate(self._items):\n",
    "            if x.name == name:\n",
    "                del self._items[i]\n",
    "                return True\n",
    "        return False\n",
    "    \n",
    "    def item_count(self):\n",
    "        count = 0\n",
    "        for x in self._items:\n",
    "            count = count + x.qty\n",
    "        return count\n",
    "\n",
    "    @classmethod\n",
    "    def amount_due(cls, item_count):\n",
    "        return item_count * cls.PRICE\n",
    "    \n",
    "    def __str__(self):\n",
    "        return str(self._items)\n"
   ]
  },
  {
   "cell_type": "markdown",
   "metadata": {},
   "source": [
    "<u>*Test Case 1*</u>"
   ]
  },
  {
   "cell_type": "code",
   "execution_count": 22,
   "metadata": {
    "scrolled": true
   },
   "outputs": [
    {
     "name": "stdout",
     "output_type": "stream",
     "text": [
      "[A(2), C(20), B(10)]\n",
      "64\n"
     ]
    }
   ],
   "source": [
    "cart = ShoppingCart()\n",
    "cart.add(Item('A', 2))\n",
    "cart.add(Item('B', 5))\n",
    "cart.add(Item('C', 20))\n",
    "cart.add(Item('B', 10))\n",
    "cart.remove('B')\n",
    "print(cart)          #[A(2), C(20), B(10)]\n",
    "item_count = cart.item_count()\n",
    "print(ShoppingCart.amount_due(item_count))      #64"
   ]
  },
  {
   "cell_type": "markdown",
   "metadata": {},
   "source": [
    "Expected output:\n",
    "\n",
    "```\n",
    "[A(2), C(20), B(10)]\n",
    "64\n",
    "```"
   ]
  },
  {
   "cell_type": "markdown",
   "metadata": {},
   "source": [
    "<u>*Test Case 2*</u>"
   ]
  },
  {
   "cell_type": "code",
   "execution_count": 23,
   "metadata": {
    "scrolled": true
   },
   "outputs": [
    {
     "name": "stdout",
     "output_type": "stream",
     "text": [
      "18\n",
      "2\n"
     ]
    }
   ],
   "source": [
    "cart = ShoppingCart()\n",
    "cart.add(Item('Apple', 11))\n",
    "cart.add(Item('Orange', 7))\n",
    "print(cart.item_count())\n",
    "print(ShoppingCart.PRICE)"
   ]
  },
  {
   "cell_type": "markdown",
   "metadata": {},
   "source": [
    "Expected output:\n",
    "\n",
    "```\n",
    "18\n",
    "2\n",
    "```"
   ]
  }
 ],
 "metadata": {
  "kernelspec": {
   "display_name": "Python 3",
   "language": "python",
   "name": "python3"
  },
  "language_info": {
   "codemirror_mode": {
    "name": "ipython",
    "version": 3
   },
   "file_extension": ".py",
   "mimetype": "text/x-python",
   "name": "python",
   "nbconvert_exporter": "python",
   "pygments_lexer": "ipython3",
   "version": "3.7.3"
  }
 },
 "nbformat": 4,
 "nbformat_minor": 2
}
