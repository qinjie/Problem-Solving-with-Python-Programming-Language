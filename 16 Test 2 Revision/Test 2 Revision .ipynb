{
 "cells": [
  {
   "cell_type": "markdown",
   "metadata": {},
   "source": [
    "# Test 2 Revision"
   ]
  },
  {
   "cell_type": "markdown",
   "metadata": {},
   "source": [
    "## File IO\n",
    "\n",
    "* Read CSV file into a list of objects using `csv.reader`\n",
    "* Able to filter records based on conditions  \n",
    "* Write a list of objects to a CSV file using `csv.writer`"
   ]
  },
  {
   "cell_type": "code",
   "execution_count": 1,
   "metadata": {},
   "outputs": [],
   "source": [
    "class Record:\n",
    "    \n",
    "    def __init__(self, noc, country, total, medal):\n",
    "        self.noc = noc\n",
    "        self.country = country\n",
    "        self.total = total\n",
    "        self.medal = medal\n",
    "    \n",
    "    def _to_list(self):\n",
    "        return [self.noc, self.country, self.total, self.medal]\n",
    "\n",
    "    def __str__(self):\n",
    "        return '{} ({}) {} {}'.format(self.country, self.noc, self.total, self.medal)\n",
    "    \n",
    "    def __repr__(self):\n",
    "        return self.__str__()\n"
   ]
  },
  {
   "cell_type": "code",
   "execution_count": 2,
   "metadata": {},
   "outputs": [
    {
     "name": "stdout",
     "output_type": "stream",
     "text": [
      "['NOC', 'Country', 'Total', 'Medal']\n",
      "3\n",
      "[United States (USA) 2088 Gold, United States (USA) 1052 Bronze]\n",
      "['USA', 'United States', '2088', 'Gold']\n"
     ]
    }
   ],
   "source": [
    "import csv\n",
    "\n",
    "result = []\n",
    "with open('olympics-medals.csv') as f:\n",
    "    reader = csv.reader(f)\n",
    "    header = next(reader)\n",
    "    for row in reader:\n",
    "        if row[0] == 'USA' or row[0] == 'SGP':\n",
    "            record = Record(row[0], row[1], row[2], row[3])\n",
    "            result.append(record)\n",
    "\n",
    "print(header)\n",
    "print(len(result))\n",
    "print(result[:2])\n",
    "print(result[0]._to_list())"
   ]
  },
  {
   "cell_type": "code",
   "execution_count": 3,
   "metadata": {},
   "outputs": [],
   "source": [
    "import csv\n",
    "\n",
    "with open('olympics-medals-filtered.csv', 'w', newline='') as f:\n",
    "    writer = csv.writer(f)\n",
    "    for obj in result:\n",
    "        writer.writerow(obj._to_list())"
   ]
  },
  {
   "cell_type": "markdown",
   "metadata": {},
   "source": [
    "## Object Oriented\n",
    "\n",
    "* Define class and inherited class\n",
    "* Implement `__init__()` to initialize objects\n",
    "* Implement `__str__()` and `__repr__()` functions to return string representations\n",
    "* Use **instance attributes** and **class attributes** appropriately\n",
    "* Use **instance methods** and **class methods** appropriately\n",
    "* Define **read-only property**\n",
    "* Implement `__lt__()` and `__eq__()` methods for using `>` and `==` operator"
   ]
  },
  {
   "cell_type": "code",
   "execution_count": null,
   "metadata": {},
   "outputs": [],
   "source": [
    "class Circle:\n",
    "    \n",
    "    PI = 3.14\n",
    "    \n",
    "    def __init__(self, radius):\n",
    "        self.radius = radius\n",
    "    \n",
    "    @property\n",
    "    def area(self):\n",
    "        return self.PI * self.radius * self.radius\n",
    "    \n",
    "    \n",
    "c = Circle(2)\n",
    "a = c.area\n"
   ]
  },
  {
   "cell_type": "code",
   "execution_count": 4,
   "metadata": {},
   "outputs": [
    {
     "name": "stdout",
     "output_type": "stream",
     "text": [
      "Alan Quek\n",
      "Alex\n",
      "300\n"
     ]
    }
   ],
   "source": [
    "class Student:\n",
    "    \n",
    "    MODULE_FEE = 100\n",
    "    \n",
    "    def __init__(self, first_name, last_name, module_count=0):\n",
    "        self._first_name = first_name\n",
    "        self._last_name = last_name\n",
    "        self._module_count = module_count\n",
    "    \n",
    "    @classmethod\n",
    "    def calc_fee(cls, module_count):\n",
    "        return module_count * cls.MODULE_FEE\n",
    "    \n",
    "    # using class method\n",
    "    def get_fee(self):\n",
    "        return type(self).calc_fee(self._module_count)\n",
    "\n",
    "    @property\n",
    "    def full_name(self):\n",
    "        return '{} {}'.format(self._first_name, self._last_name)\n",
    "    \n",
    "    def __str__(self):\n",
    "        return '{} {}'.format(self._first_name, \n",
    "                                  self._last_name)\n",
    "\n",
    "    def __repr__(self):\n",
    "        return self.__str__()\n",
    "    \n",
    "s = Student('Alan', 'Quek', 3)\n",
    "print(s.full_name)\n",
    "s.first_name = 'Alex'\n",
    "print(s.first_name)\n",
    "print(s.get_fee())"
   ]
  },
  {
   "cell_type": "code",
   "execution_count": 5,
   "metadata": {},
   "outputs": [
    {
     "name": "stdout",
     "output_type": "stream",
     "text": [
      "5\n",
      "450.0\n"
     ]
    }
   ],
   "source": [
    "class AdvStudent(Student):\n",
    "    \n",
    "    MOD_COUNT = 5\n",
    "    \n",
    "    def __init__(self, first_name, last_name):\n",
    "        super().__init__(first_name, last_name, type(self).MOD_COUNT)\n",
    "#         self._first_name = first_name\n",
    "#         self._last_name = last_name\n",
    "#         self._module_count = 5\n",
    "\n",
    "    def get_fee(self):\n",
    "        fee = super().get_fee()\n",
    "        fee = fee * 0.9\n",
    "        return fee\n",
    "\n",
    "a = AdvStudent('Ben', 'Chia')\n",
    "print(a._module_count)\n",
    "print(a.get_fee())"
   ]
  },
  {
   "cell_type": "markdown",
   "metadata": {},
   "source": [
    "## Sorting and Searching \n",
    "\n",
    "* Implement **bubble sort** and **quick sort** on a list of objects\n",
    "* Implement **linear search** and **binary search** on a list of objects"
   ]
  },
  {
   "cell_type": "code",
   "execution_count": 6,
   "metadata": {},
   "outputs": [],
   "source": [
    "def bubble_sort(nums):\n",
    "    for ceil in range(len(nums)-1,0,-1):\n",
    "        for idx in range(ceil):\n",
    "            if nums[idx]>nums[idx+1]:\n",
    "                nums[idx],nums[idx+1] = nums[idx+1],nums[idx]"
   ]
  },
  {
   "cell_type": "code",
   "execution_count": 7,
   "metadata": {},
   "outputs": [
    {
     "name": "stdout",
     "output_type": "stream",
     "text": [
      "[13, 14, 2, 9, 17, 16, 13, 10, 16, 12]\n",
      "[2, 9, 10, 12, 13, 13, 14, 16, 16, 17]\n"
     ]
    }
   ],
   "source": [
    "import random\n",
    "random.seed(0)\n",
    "arr = [random.randint(1,20) for i in range(10)]\n",
    "print(arr)\n",
    "bubble_sort(arr)\n",
    "print(arr)"
   ]
  },
  {
   "cell_type": "code",
   "execution_count": 8,
   "metadata": {},
   "outputs": [],
   "source": [
    "def quick_sort(arr):\n",
    "    if not arr:\n",
    "        return []\n",
    "    \n",
    "    pivot = arr[len(arr)//2]\n",
    "    lesser = [i for i in arr if i<pivot]\n",
    "    equal = [i for i in arr if i==pivot]\n",
    "    greater  = [i for i in arr if i>pivot]\n",
    "\n",
    "    res = quick_sort(lesser) + equal + quick_sort(greater)\n",
    "    return res"
   ]
  },
  {
   "cell_type": "code",
   "execution_count": 9,
   "metadata": {},
   "outputs": [
    {
     "name": "stdout",
     "output_type": "stream",
     "text": [
      "[13, 14, 2, 9, 17, 16, 13, 10, 16, 12]\n",
      "[2, 9, 10, 12, 13, 13, 14, 16, 16, 17]\n"
     ]
    }
   ],
   "source": [
    "import random\n",
    "random.seed(0)\n",
    "arr = [random.randint(1,20) for i in range(10)]\n",
    "print(arr)\n",
    "arr = quick_sort(arr)\n",
    "print(arr)"
   ]
  },
  {
   "cell_type": "code",
   "execution_count": 10,
   "metadata": {},
   "outputs": [],
   "source": [
    "def linear_search(array, val):\n",
    "    for index, element in enumerate(array):\n",
    "        if element == val:\n",
    "            return index\n",
    "    return -1"
   ]
  },
  {
   "cell_type": "code",
   "execution_count": 11,
   "metadata": {},
   "outputs": [
    {
     "name": "stdout",
     "output_type": "stream",
     "text": [
      "[7, 7, 1, 5, 9, 8, 7, 5, 8, 6]\n",
      "3\n"
     ]
    }
   ],
   "source": [
    "import random\n",
    "\n",
    "# Generate 10 random integers between 1 and 20 (inclusive).\n",
    "random.seed(0)\n",
    "s = [random.randint(1,10) for i in range(10)]\n",
    "print(s)\n",
    "idx = linear_search(s,5)\n",
    "print(idx)"
   ]
  },
  {
   "cell_type": "code",
   "execution_count": 12,
   "metadata": {},
   "outputs": [],
   "source": [
    "def binary_search_recursive(arr,target):\n",
    "    # Base Case!\n",
    "    if len(arr) == 0:\n",
    "        return None\n",
    "\n",
    "    # Recursive Case\n",
    "    mid = len(arr)//2\n",
    "    if arr[mid] == target:\n",
    "        return arr[mid]\n",
    "    else:\n",
    "        # Call again on second half\n",
    "        if target<arr[mid]:\n",
    "            return binary_search_recursive(arr[:mid],target)\n",
    "        # Or call on first half\n",
    "        else:\n",
    "            return binary_search_recursive(arr[mid+1:],target)"
   ]
  },
  {
   "cell_type": "code",
   "execution_count": 13,
   "metadata": {},
   "outputs": [
    {
     "data": {
      "text/plain": [
       "True"
      ]
     },
     "execution_count": 13,
     "metadata": {},
     "output_type": "execute_result"
    }
   ],
   "source": [
    "binary_search_recursive(arr, 10)"
   ]
  },
  {
   "cell_type": "markdown",
   "metadata": {},
   "source": [
    "## Binary Tree\n",
    "\n",
    "* Implement a **binary search tree** class to store and look up objects"
   ]
  },
  {
   "cell_type": "code",
   "execution_count": 14,
   "metadata": {},
   "outputs": [],
   "source": [
    "class Node:\n",
    "    \n",
    "    def __init__(self, data=None, left=None, right=None):\n",
    "        self.data = data\n",
    "        self.left = left\n",
    "        self.right = right\n",
    "    \n",
    "    def __str__(self):\n",
    "        return '{}({},{})'.format(self.data, \n",
    "                                 self.left.data if self.left else '', \n",
    "                                 self.right.data if self.right else '')\n",
    "\n",
    "    def __repr__(self):\n",
    "        return self.__str__()"
   ]
  },
  {
   "cell_type": "code",
   "execution_count": 15,
   "metadata": {},
   "outputs": [],
   "source": [
    "class BinaryTree:\n",
    "\n",
    "    def __init__(self, root=None):\n",
    "        self.root = root\n",
    "\n",
    "    def print_tree(self):\n",
    "        self._print_tree([self.root])\n",
    "\n",
    "    def _print_tree(self, node_list):\n",
    "        # Convert node_list to a list if it is not\n",
    "        if not isinstance(node_list, list):\n",
    "            node_list = [node_list]\n",
    "        # Stop recursion if the list is empty\n",
    "        if not node_list:\n",
    "            return\n",
    "        # define a list to collect nodes in next layer\n",
    "        next_layer = []\n",
    "        while node_list:\n",
    "            node = node_list.pop()\n",
    "            print(node, end=' ')\n",
    "            if node.left:\n",
    "                next_layer.insert(0, node.left)\n",
    "            if node.right:\n",
    "                next_layer.insert(0, node.right)\n",
    "        print()\n",
    "        self._print_tree(next_layer)"
   ]
  },
  {
   "cell_type": "code",
   "execution_count": 16,
   "metadata": {},
   "outputs": [],
   "source": [
    "class BinarySearchTree(BinaryTree):\n",
    "        \n",
    "    def add(self, val):\n",
    "        if self.root is None:\n",
    "            self.root = Node(val)\n",
    "        else:\n",
    "            self._add(self.root, val)\n",
    "\n",
    "    def _add(self, node, val):\n",
    "        if node is None: # for precaution\n",
    "            return \n",
    "        if val < node.data:\n",
    "            if node.left is None:\n",
    "                node.left = Node(val)\n",
    "            else:\n",
    "                self._add(node.left, val)\n",
    "        if val > node.data:\n",
    "            if node.right is None:\n",
    "                node.right = Node(val)\n",
    "            else:\n",
    "                self._add(node.right, val)\n",
    "                \n",
    "    def find(self, val):\n",
    "        if self.root:\n",
    "            return self._find(self.root, val)\n",
    "        else:\n",
    "            return None\n",
    "\n",
    "    def _find(self, node, val):\n",
    "        if node is None:\n",
    "            return None\n",
    "        print(node)  # print current node to show traversal\n",
    "\n",
    "        if val == node.data:\n",
    "            return node\n",
    "        elif val < node.data:\n",
    "            return self._find(node.left, val)\n",
    "        else:\n",
    "            return self._find(node.right, val)\n"
   ]
  },
  {
   "cell_type": "code",
   "execution_count": 17,
   "metadata": {},
   "outputs": [
    {
     "name": "stdout",
     "output_type": "stream",
     "text": [
      "50(30,70) \n",
      "30(15,35) 70(62,87) \n",
      "15(7,22) 35(31,) 62(,) 87(,) \n",
      "7(,) 22(,) 31(,) \n",
      "\n",
      "50(30,70)\n",
      "70(62,87)\n"
     ]
    },
    {
     "data": {
      "text/plain": [
       "70(62,87)"
      ]
     },
     "execution_count": 17,
     "metadata": {},
     "output_type": "execute_result"
    }
   ],
   "source": [
    "t = BinarySearchTree()\n",
    "s = [50, 30, 70, 15, 35, 62, 87, 7, 22, 31]\n",
    "for i in s:\n",
    "    t.add(i)\n",
    "    \n",
    "t.print_tree()\n",
    "print()\n",
    "t.find(70)"
   ]
  },
  {
   "cell_type": "markdown",
   "metadata": {},
   "source": [
    "## Stack, Queue\n",
    "\n",
    "* Implement a **stack** or a **queue** class to solve a problem"
   ]
  },
  {
   "cell_type": "code",
   "execution_count": 18,
   "metadata": {},
   "outputs": [
    {
     "name": "stdout",
     "output_type": "stream",
     "text": [
      "67\n",
      "2 False\n",
      "66 65\n",
      "0 True\n"
     ]
    }
   ],
   "source": [
    "# Basic Stack\n",
    "class Stack:\n",
    "    \n",
    "    def __init__(self):\n",
    "        self._data = []\n",
    "    \n",
    "    def push(self, val):\n",
    "        self._data.append(val)\n",
    "    \n",
    "    def pop(self):\n",
    "        x = self._data.pop() if self._data else None\n",
    "        if x:\n",
    "            x = ord(x)\n",
    "        return x \n",
    "\n",
    "    def peek(self):\n",
    "        return ord(self._data[-1]) if self._data else None\n",
    "\n",
    "    def size(self):\n",
    "        return len(self._data)\n",
    "\n",
    "    def is_empty(self):\n",
    "        return len(self._data) == 0\n",
    "    \n",
    "    \n",
    "s = Stack()\n",
    "s.push('A')\n",
    "s.push('B')\n",
    "s.push('C')\n",
    "print(s.pop())\n",
    "print(s.size(), s.is_empty())\n",
    "print(s.pop(), s.pop())\n",
    "print(s.size(), s.is_empty())"
   ]
  },
  {
   "cell_type": "code",
   "execution_count": 19,
   "metadata": {},
   "outputs": [
    {
     "name": "stdout",
     "output_type": "stream",
     "text": [
      "A B C None\n"
     ]
    }
   ],
   "source": [
    "class Queue:\n",
    "    \n",
    "    def __init__(self):\n",
    "        self._data = []\n",
    "    \n",
    "    def enqueue(self, val):\n",
    "        self._data.insert(0, val)\n",
    "    \n",
    "    def dequeue(self):\n",
    "        return self._data.pop() if self._data else None\n",
    "\n",
    "q = Queue()\n",
    "q.enqueue('A')\n",
    "q.enqueue('B')\n",
    "q.enqueue('C')\n",
    "print(q.dequeue(), q.dequeue(), q.dequeue(), q.dequeue())"
   ]
  }
 ],
 "metadata": {
  "kernelspec": {
   "display_name": "Python 3",
   "language": "python",
   "name": "python3"
  },
  "language_info": {
   "codemirror_mode": {
    "name": "ipython",
    "version": 3
   },
   "file_extension": ".py",
   "mimetype": "text/x-python",
   "name": "python",
   "nbconvert_exporter": "python",
   "pygments_lexer": "ipython3",
   "version": "3.7.3"
  }
 },
 "nbformat": 4,
 "nbformat_minor": 2
}
