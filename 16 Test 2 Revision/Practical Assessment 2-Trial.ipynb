{
 "cells": [
  {
   "cell_type": "markdown",
   "metadata": {},
   "source": [
    "Ministry of Education, Singapore <br>\n",
    "**Computing Teachers’ Content Upgrading Course**\n",
    "\n",
    "<h1><center>Practical Assessment 2 - Trial Test</center></h1>\n",
    "\n",
    "**Time allowed**: 3 hours\n",
    "\n",
    "<br>\n",
    "<u>Instructions to candidates:</u>\n",
    "\n",
    "1. This is an **open-book** exam.\n",
    "2. Answer all <u><b>three</b></u> questions.\n",
    "3. You may complete your solutions in any IDE first before copy them into this Jupyter Notebook for submission. \n",
    "4. Submit this Jupyter Notebook online before test ends. You may submit multiple times, but only last submission is accepted. [https://driveuploader.com/upload/xTTmmKYr6C/](https://driveuploader.com/upload/xTTmmKYr6C/)\n",
    "5. Please note that the sample test program may not be enough to test your program. Your programs will be tested with other inputs and they should exhibit the required behaviours to get full credit."
   ]
  },
  {
   "cell_type": "markdown",
   "metadata": {},
   "source": [
    "### Question 1\n",
    "\n",
    "A class `Reverser` accepts multiple string inputs from user and is able to return them <u>by characters in reverse order</u>. For exmaple, following sample code shows how the Time Machine works.\n",
    "```\n",
    "        rv = Reverser()\n",
    "        rv.push('Hello')\n",
    "        rv.push('World')\n",
    "        rv.pop()          # returns 1 character ['d']\n",
    "        rv.pop(3)         # returns 3 characters ['l', 'r', 'o']\n",
    "        rv.pop(10)        # returns remaining characters ['W', 'o', 'l', 'l', 'e', 'H']\n",
    "```\n",
    "\n",
    "**A)** Implement the `Reverser` class as either stack, queue, linked list or binary tree. The implementation must fulfill following requirements:\n",
    "* Create an empty list `_data` in initializer to save characters.\n",
    "* Write a method `push()` which takes in a string input, converts it into characters and saves them to `_data`.\n",
    "* Write a method `pop()` which returns characters in reverse order. \n",
    "    * Return max N characters if input parameter is N;\n",
    "    * Return 1 character if input parameter is None.\n"
   ]
  },
  {
   "cell_type": "code",
   "execution_count": 1,
   "metadata": {},
   "outputs": [],
   "source": [
    "# WRITE YOUR CODE HERE\n",
    "    "
   ]
  },
  {
   "cell_type": "markdown",
   "metadata": {},
   "source": [
    "<u>*Test Case*</u>\n",
    "\n",
    "Sample Output:\n",
    "```\n",
    "['d']\n",
    "['l', 'r', 'o']\n",
    "['W', 'o', 'l', 'l', 'e', 'H']\n",
    "```"
   ]
  },
  {
   "cell_type": "code",
   "execution_count": 2,
   "metadata": {},
   "outputs": [
    {
     "name": "stdout",
     "output_type": "stream",
     "text": [
      "['d']\n",
      "['l', 'r', 'o']\n",
      "['W', 'o', 'l', 'l', 'e', 'H']\n"
     ]
    }
   ],
   "source": [
    "rv = Reverser()\n",
    "rv.push('Hello')\n",
    "rv.push('World')\n",
    "print(rv.pop())\n",
    "print(rv.pop(3))\n",
    "print(rv.pop(10))"
   ]
  },
  {
   "cell_type": "markdown",
   "metadata": {},
   "source": [
    "**B)** Implement a class `Reverser2` which inherits from `Reverser` class and adds following functions.\n",
    "* Write a method `peek()` which returns next character to be pop(). \n",
    "    * **Note:** It does not perform actual backtrack.  \n",
    "* Write a method `size()` which returns current number of characters saved in the list.\n",
    "* Write a method `is_empty()` which returns `True` if there the list is empty, otherwise return `False`.\n"
   ]
  },
  {
   "cell_type": "code",
   "execution_count": 3,
   "metadata": {},
   "outputs": [],
   "source": [
    "# WRITE YOUR CODE HERE\n"
   ]
  },
  {
   "cell_type": "markdown",
   "metadata": {},
   "source": [
    "<u>*Test Case*</u>\n",
    "\n",
    "Sample Output:\n",
    "```\n",
    "11\n",
    "d\n",
    "['d', 'l', 'r', 'o', 'W', ' ', 'o', 'l', 'l', 'e', 'H']\n",
    "True\n",
    "```"
   ]
  },
  {
   "cell_type": "code",
   "execution_count": 4,
   "metadata": {},
   "outputs": [
    {
     "name": "stdout",
     "output_type": "stream",
     "text": [
      "11\n",
      "d\n",
      "['d', 'l', 'r', 'o', 'W', ' ', 'o', 'l', 'l', 'e', 'H']\n",
      "True\n"
     ]
    }
   ],
   "source": [
    "rv = Reverser2()\n",
    "rv.push('Hello World')\n",
    "print(rv.size())         \n",
    "print(rv.peek())         \n",
    "print(rv.pop(100))       \n",
    "print(rv.is_empty())"
   ]
  },
  {
   "cell_type": "markdown",
   "metadata": {},
   "source": [
    "### Question 2\n",
    "\n",
    "The file `\"olympics-medals.csv\"` gives total number of Olympic medals won by participating countries from 1896 to 2008.\n",
    "\n",
    "**A)** Write a function `load_file()` to read the file and returned records in a list.\n",
    "* Each record (data point) in the list is a tuple of values, e.g. `('URS', 'Soviet Union', '838', 'Gold')`.\n",
    "* Do NOT include header row in the returned list."
   ]
  },
  {
   "cell_type": "code",
   "execution_count": 5,
   "metadata": {},
   "outputs": [],
   "source": [
    "# WRITE YOUR CODE HERE"
   ]
  },
  {
   "cell_type": "markdown",
   "metadata": {},
   "source": [
    "<u>*Test Case*</u>\n",
    "\n",
    "Sample output\n",
    "```\n",
    "Records:  414\n",
    "[('USA', 'United States', '2088', 'Gold'), ('URS', 'Soviet Union', '838', 'Gold'), ...]\n",
    "```"
   ]
  },
  {
   "cell_type": "code",
   "execution_count": 6,
   "metadata": {},
   "outputs": [
    {
     "name": "stdout",
     "output_type": "stream",
     "text": [
      "Records:  414\n",
      "[('USA', 'United States', '2088', 'Gold'), ('URS', 'Soviet Union', '838', 'Gold'), ('GBR', 'United Kingdom', '498', 'Gold'), ('FRA', 'France', '378', 'Gold')]\n"
     ]
    }
   ],
   "source": [
    "file_name = 'olympics-medals.csv'\n",
    "table = load_file(file_name)\n",
    "print(\"Records: \", len(table))\n",
    "print(table[:4])"
   ]
  },
  {
   "cell_type": "markdown",
   "metadata": {},
   "source": [
    "**B)** The medals count (column 3) in all records must be a valid numerical value. Write a function `clean_medal_count()` to return a new table with only records with valid medal count.\n",
    "* Return new table containing only records with valid medal count.\n"
   ]
  },
  {
   "cell_type": "code",
   "execution_count": 7,
   "metadata": {
    "scrolled": true
   },
   "outputs": [],
   "source": [
    "# WRITE YOUR CODE HERE\n"
   ]
  },
  {
   "cell_type": "markdown",
   "metadata": {},
   "source": [
    "<u>*Test Case*</u>\n",
    "\n",
    "Sample output:\n",
    "```\n",
    "Valid records: 334\n",
    "```"
   ]
  },
  {
   "cell_type": "code",
   "execution_count": 8,
   "metadata": {},
   "outputs": [
    {
     "name": "stdout",
     "output_type": "stream",
     "text": [
      "Valid records: 334\n"
     ]
    }
   ],
   "source": [
    "table = load_file(file_name)\n",
    "table2 = clean_medal_count(table)\n",
    "print(\"Valid records: {}\".format(len(table2)))"
   ]
  },
  {
   "cell_type": "markdown",
   "metadata": {},
   "source": [
    "**C)** Write a function `list_medals()` to return medals records of a country.\n",
    "* It returns all records which matches the country name.\n"
   ]
  },
  {
   "cell_type": "code",
   "execution_count": 9,
   "metadata": {},
   "outputs": [],
   "source": [
    "# WRITE YOUR CODE HERE"
   ]
  },
  {
   "cell_type": "markdown",
   "metadata": {},
   "source": [
    "<u>*Test Case*</u>\n",
    "\n",
    "Sample Output: \n",
    "```\n",
    "[('SIN', 'Singapore', '4', 'Silver')]\n",
    "```"
   ]
  },
  {
   "cell_type": "code",
   "execution_count": 10,
   "metadata": {},
   "outputs": [
    {
     "name": "stdout",
     "output_type": "stream",
     "text": [
      "[('SIN', 'Singapore', '4', 'Silver')]\n"
     ]
    }
   ],
   "source": [
    "table = load_file(file_name)\n",
    "table2 = clean_medal_count(table)\n",
    "records = list_medals(table2, 'Singapore')\n",
    "print(records)"
   ]
  },
  {
   "cell_type": "markdown",
   "metadata": {},
   "source": [
    "**D)** Write a function `top3_country()` to find the top 3 countries which have most medals in a category, e.g. Bronze.\n"
   ]
  },
  {
   "cell_type": "code",
   "execution_count": 11,
   "metadata": {},
   "outputs": [],
   "source": [
    "# WRITE YOUR CODE HERE"
   ]
  },
  {
   "cell_type": "markdown",
   "metadata": {},
   "source": [
    "<u>*Test Case*</u>\n",
    "\n",
    "Sample output\n",
    "```\n",
    "Gold [('USA', 'United States', '2088', 'Gold'), ('URS', 'Soviet Union', '838', 'Gold'), ('GBR', 'United Kingdom', '498', 'Gold')]\n",
    "```"
   ]
  },
  {
   "cell_type": "code",
   "execution_count": 12,
   "metadata": {},
   "outputs": [
    {
     "name": "stdout",
     "output_type": "stream",
     "text": [
      "Gold [('USA', 'United States', '2088', 'Gold'), ('URS', 'Soviet Union', '838', 'Gold'), ('GBR', 'United Kingdom', '498', 'Gold')]\n"
     ]
    }
   ],
   "source": [
    "table = load_file(file_name)\n",
    "table2 = clean_medal_count(table)\n",
    "category = 'Gold'\n",
    "result = top3_country(table2, category)\n",
    "print(category, result)"
   ]
  },
  {
   "cell_type": "markdown",
   "metadata": {},
   "source": [
    "### Question 3\n",
    "\n",
    "**A)** A class `Point` represents a point on a Cartisian coordinate. Implement this class which fulfils following criterias:\n",
    "* It has 2 instance variables, `_x` and `_y`, representing x coordinate value and y coordinate value respectively.\n",
    "* Use 2 properties `x` and `y` to encapsulate its instance variables `_x` and `_y` respectively. \n",
    "    * Both properties are readable and writable.\n",
    "    * Both properties only accepts numeric value, i.e. it will not set the property if incoming value is not numeric.\n",
    "* Implement a method `dist()` which returns its distance from origin using formula `math.sqrt(x*x+y*y)`.\n",
    "* Implement its `__repr__()` method which returns a string in the format of `(_x,_y)`, e.g. \"(3,4)\".\n",
    "\n",
    "Hint: \n",
    "* Use `isnumeric()` method of string object to check if a string is numeric value.\n"
   ]
  },
  {
   "cell_type": "code",
   "execution_count": 13,
   "metadata": {},
   "outputs": [],
   "source": [
    "# WRITE YOUR CODE HERE"
   ]
  },
  {
   "cell_type": "markdown",
   "metadata": {},
   "source": [
    "<u>*Test Case*</u>\n",
    "\n",
    "Sample output:\n",
    "```\n",
    "(3,4) 5.0\n",
    "(3,5)\n",
    "```"
   ]
  },
  {
   "cell_type": "code",
   "execution_count": 14,
   "metadata": {},
   "outputs": [
    {
     "name": "stdout",
     "output_type": "stream",
     "text": [
      "(3,4) 5.0\n",
      "(3,5)\n"
     ]
    }
   ],
   "source": [
    "i = Point(3, 4)\n",
    "print(i, i.dist())\n",
    "i.x = 'Orange'\n",
    "i.y = 5\n",
    "print(i)"
   ]
  },
  {
   "cell_type": "markdown",
   "metadata": {},
   "source": [
    "**B)** Implement the class `Line` which is a collection of points (`Point` instances) on the same line.\n",
    "* It has a instance variable `_points` of list type.\n",
    "* Its initializer takes in 2 points, which defines the line, and save to the list.\n",
    "* Define a static method `on_same_line()` which returns `True` if the 3 points are on the same line, otherwise reurns `False`. It uses formular `(y2-y1)/(x2-x1)=(y3-y1)/(x3-x1)`. \n",
    "* Define a instance method `add_point()` which adds a point to list if that point is on the same line as other points.\n",
    "* Implement its `__str__()` method which returns a string representation of its item list. E.g. `[(3,4), (6,8), (12,16)]`"
   ]
  },
  {
   "cell_type": "code",
   "execution_count": 15,
   "metadata": {},
   "outputs": [],
   "source": [
    "# WRITE YOUR CODE HERE\n"
   ]
  },
  {
   "cell_type": "markdown",
   "metadata": {},
   "source": [
    "<u>*Test Case*</u>\n",
    "\n",
    "Sample output:\n",
    "```\n",
    "[(3,4), (6,8), (12,16)]\n",
    "```"
   ]
  },
  {
   "cell_type": "code",
   "execution_count": 16,
   "metadata": {},
   "outputs": [
    {
     "name": "stdout",
     "output_type": "stream",
     "text": [
      "[(3,4), (6,8), (12,16)]\n"
     ]
    }
   ],
   "source": [
    "line = Line(Point(3,4), Point(6,8))\n",
    "line.add_point(Point(12,16))\n",
    "print(line)"
   ]
  }
 ],
 "metadata": {
  "kernelspec": {
   "display_name": "Python 3",
   "language": "python",
   "name": "python3"
  },
  "language_info": {
   "codemirror_mode": {
    "name": "ipython",
    "version": 3
   },
   "file_extension": ".py",
   "mimetype": "text/x-python",
   "name": "python",
   "nbconvert_exporter": "python",
   "pygments_lexer": "ipython3",
   "version": "3.7.3"
  }
 },
 "nbformat": 4,
 "nbformat_minor": 2
}
