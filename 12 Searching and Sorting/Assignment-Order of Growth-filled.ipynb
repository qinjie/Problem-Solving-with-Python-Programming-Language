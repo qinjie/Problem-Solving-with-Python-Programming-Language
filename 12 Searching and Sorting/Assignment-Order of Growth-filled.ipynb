{
 "cells": [
  {
   "cell_type": "markdown",
   "metadata": {},
   "source": [
    "# Order of Growth - Assignments"
   ]
  },
  {
   "cell_type": "markdown",
   "metadata": {},
   "source": [
    "## 1. Order of Growth\n",
    "\n",
    "Analyze the order of growth in following example.\n",
    "\n",
    "```python\n",
    "def my_sort(arr):\n",
    "    n = len(arr)\n",
    " \n",
    "    # Traverse through all array elements\n",
    "    for i in range(n):\n",
    " \n",
    "        # Last i elements are already in place\n",
    "        for j in range(0, n-i-1):\n",
    " \n",
    "            # traverse the array from 0 to n-i-1\n",
    "            # Swap if the element found is greater\n",
    "            # than the next element\n",
    "            if arr[j] > arr[j+1] :\n",
    "                arr[j], arr[j+1] = arr[j+1], arr[j]\n",
    "\n",
    "import random\n",
    "X = list(range(10))\n",
    "random.shuffle(X)\n",
    "print(X)\n",
    "my_sort(X)\n",
    "print(X)\n",
    "```"
   ]
  },
  {
   "cell_type": "markdown",
   "metadata": {},
   "source": [
    "**Analysis:**\n",
    "\n",
    "* The inner loop will iterate n + (n-1) + (n-2) + ... + 2 + 1 iterations.\n",
    "* In each iteration, the cost of if statement is 2.\n",
    "* Thus total iteration = n * (n+1) /2 = n^2 /2 + n/2. \n",
    "* Dominant term is n^2/2.\n",
    "* After ignoring coefficient, Order of growth of this algorithm is O(n^2)"
   ]
  }
 ],
 "metadata": {
  "kernelspec": {
   "display_name": "Python 3",
   "language": "python",
   "name": "python3"
  },
  "language_info": {
   "codemirror_mode": {
    "name": "ipython",
    "version": 3
   },
   "file_extension": ".py",
   "mimetype": "text/x-python",
   "name": "python",
   "nbconvert_exporter": "python",
   "pygments_lexer": "ipython3",
   "version": "3.7.3"
  }
 },
 "nbformat": 4,
 "nbformat_minor": 2
}
