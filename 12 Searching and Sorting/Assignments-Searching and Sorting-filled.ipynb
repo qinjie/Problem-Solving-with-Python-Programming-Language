{
 "cells": [
  {
   "cell_type": "markdown",
   "metadata": {},
   "source": [
    "# Searching and Sorting Algorithms - Assignments"
   ]
  },
  {
   "cell_type": "markdown",
   "metadata": {},
   "source": [
    "## 1. CSV Data\n",
    "\n",
    "The csv file `student_database.csv` in `data` folder contains list of students' data. Following are some samples.\n",
    "\n",
    "```csv\n",
    "StudID,LastName,FirstName\n",
    "605729443,Lilah,Arnold\n",
    "112147292,Alberto,Turner\n",
    "404336848,Santiago,Krause\n",
    "699024055,Edward,Duarte\n",
    "```"
   ]
  },
  {
   "cell_type": "markdown",
   "metadata": {},
   "source": [
    "### Create Student Class\n",
    "\n",
    "Implement a class `Student`. \n",
    "* It has 3 instance variables, `stud_id`, `last_name` and `first_name`.\n",
    "* Implement `__init__()` method to initialize its instance variables.\n",
    "* Implement `__str__()` method to return a string in the format of `Student(605729443, 'Lilah', 'Arnold')`."
   ]
  },
  {
   "cell_type": "code",
   "execution_count": 20,
   "metadata": {},
   "outputs": [],
   "source": [
    "class Student:\n",
    "    \n",
    "    def __init__(self, stud_id, last_name, first_name):\n",
    "        self.stud_id = stud_id\n",
    "        self.last_name = last_name\n",
    "        self.first_name = first_name\n",
    "        \n",
    "    def __str__(self):\n",
    "        return \"{}({}, '{}', '{}')\".format(self.__class__.__name__, \n",
    "                                       self.stud_id, self.last_name, self.first_name)\n",
    "    "
   ]
  },
  {
   "cell_type": "markdown",
   "metadata": {},
   "source": [
    "### Load Data from File\n",
    "\n",
    "Write a function `load_students()`, which has a parameter `csv_path` pointing to the csv file. \n",
    "* For each line of data it reads, it converts it to a `Student` instance. \n",
    "* It returns list of students converts from the data in the csv file. "
   ]
  },
  {
   "cell_type": "code",
   "execution_count": 21,
   "metadata": {},
   "outputs": [],
   "source": [
    "import csv\n",
    "\n",
    "def load_students(csv_path):\n",
    "    result = []\n",
    "    with open(csv_path) as f:\n",
    "        reader = csv.reader(f)\n",
    "        header = next(reader)\n",
    "        for row in reader:\n",
    "            s = Student(*row)\n",
    "            result.append(s)\n",
    "    return result\n"
   ]
  },
  {
   "cell_type": "code",
   "execution_count": 22,
   "metadata": {},
   "outputs": [
    {
     "name": "stdout",
     "output_type": "stream",
     "text": [
      "200\n",
      "Student(605729443, 'Lilah', 'Arnold')\n"
     ]
    }
   ],
   "source": [
    "students = load_students('data/student_database.csv')\n",
    "print(len(students))\n",
    "print(students[0])"
   ]
  },
  {
   "cell_type": "markdown",
   "metadata": {},
   "source": [
    "## 2. Linear Search\n",
    "\n",
    "Implement a function `find_student_linear()`, which search for a student in a csv file. \n",
    "* The function takes 2 parameters: a list `students` which is list of Student instances, and a string `first_name`.\n",
    "* It returns a student instance whose first name matches `first_name` parameter.\n",
    "* It returns `None` if no matching student is found."
   ]
  },
  {
   "cell_type": "code",
   "execution_count": 23,
   "metadata": {},
   "outputs": [],
   "source": [
    "def find_student_linear(students, first_name):\n",
    "    for i in range(len(students)):\n",
    "        if students[i].first_name == first_name:\n",
    "            return students[i]\n",
    "    return None"
   ]
  },
  {
   "cell_type": "code",
   "execution_count": 25,
   "metadata": {},
   "outputs": [
    {
     "name": "stdout",
     "output_type": "stream",
     "text": [
      "Student(136113514, 'Misael', 'Ferrell')\n"
     ]
    }
   ],
   "source": [
    "s = find_student_linear(students, 'Ferrell')\n",
    "print(s)"
   ]
  },
  {
   "cell_type": "markdown",
   "metadata": {},
   "source": [
    "## 3. Bubble Sort\n",
    "\n",
    "Implement a sorting function `sort_students_bubble()` which sorts a list of students using bubble sort algorithm.\n",
    "* It takes in 2 parameters, `students` which is the list of unsorted students, and `field` which is the name of the field to be sorted.\n",
    "* It does NOT affect the original `students` list, i.e. it returns a sorted list of students."
   ]
  },
  {
   "cell_type": "code",
   "execution_count": 30,
   "metadata": {},
   "outputs": [],
   "source": [
    "def sort_students_bubble(students, field):\n",
    "    arr = list(students)\n",
    "    for j in range(len(arr)-1, 0, -1):\n",
    "        for i in range(0,j):\n",
    "            if getattr(arr[i], field) > getattr(arr[i+1],field):\n",
    "                arr[i], arr[i+1] = arr[i+1], arr[i]\n",
    "    return arr\n"
   ]
  },
  {
   "cell_type": "code",
   "execution_count": 33,
   "metadata": {},
   "outputs": [
    {
     "data": {
      "text/plain": [
       "['Aguilar',\n",
       " 'Alexander',\n",
       " 'Ali',\n",
       " 'Anderson',\n",
       " 'Anderson',\n",
       " 'Andrews',\n",
       " 'Archer',\n",
       " 'Arnold',\n",
       " 'Arnold',\n",
       " 'Atkinson']"
      ]
     },
     "execution_count": 33,
     "metadata": {},
     "output_type": "execute_result"
    }
   ],
   "source": [
    "result = sort_students_bubble(students, 'first_name')\n",
    "[i.first_name for i in result[0:10]]"
   ]
  },
  {
   "cell_type": "markdown",
   "metadata": {},
   "source": [
    "## 4. Binary Search\n",
    "\n",
    "Implement a binary search function `find_student_binary()` which takes in a list of `students` and a parameter `first_name`. \n",
    "* It returns first student instance whose first_name matches `first_name`."
   ]
  },
  {
   "cell_type": "code",
   "execution_count": 34,
   "metadata": {},
   "outputs": [],
   "source": [
    "def find_student_binary(arr, first_name):\n",
    "    left=0\n",
    "    right=len(arr)-1\n",
    "\n",
    "    while left<=right:\n",
    "        mid=(left+right)//2\n",
    "        if arr[mid].first_name==first_name:\n",
    "            # bingo\n",
    "            return arr[mid]\n",
    "        else:\n",
    "            if first_name>arr[mid].first_name:\n",
    "                # move left pointer\n",
    "                left = mid+1\n",
    "            else:\n",
    "                # move right pointer\n",
    "                right = mid-1\n",
    "\n",
    "    return None\n"
   ]
  },
  {
   "cell_type": "code",
   "execution_count": 36,
   "metadata": {},
   "outputs": [
    {
     "name": "stdout",
     "output_type": "stream",
     "text": [
      "Student(635829987, 'Kaden', 'Giles')\n"
     ]
    }
   ],
   "source": [
    "sorted_students = result\n",
    "s = find_student_binary(result, 'Giles')\n",
    "print(s)"
   ]
  }
 ],
 "metadata": {
  "kernelspec": {
   "display_name": "Python 3",
   "language": "python",
   "name": "python3"
  },
  "language_info": {
   "codemirror_mode": {
    "name": "ipython",
    "version": 3
   },
   "file_extension": ".py",
   "mimetype": "text/x-python",
   "name": "python",
   "nbconvert_exporter": "python",
   "pygments_lexer": "ipython3",
   "version": "3.7.3"
  }
 },
 "nbformat": 4,
 "nbformat_minor": 2
}
