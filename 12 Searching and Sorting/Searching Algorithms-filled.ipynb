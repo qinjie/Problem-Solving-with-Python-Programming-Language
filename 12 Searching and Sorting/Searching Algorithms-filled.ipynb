{
 "cells": [
  {
   "cell_type": "markdown",
   "metadata": {},
   "source": [
    "# Search Algorithms\n",
    "\n",
    "Objectives:\n",
    "* Learn how to implement search algorithms\n",
    "    * Linear Search\n",
    "    * Binary Search\n",
    "* Able to explain search algorithm\n",
    "* Search in data from a file and write search result to a file"
   ]
  },
  {
   "cell_type": "markdown",
   "metadata": {},
   "source": [
    "## 1. Introduction"
   ]
  },
  {
   "cell_type": "markdown",
   "metadata": {},
   "source": [
    "A **search algorithm** is a computation technique to retrieve information from some data structure. \n",
    "\n",
    "By using suitable **encodings within the data structure** and **searching methods**, searching could be made **time** or **space** efficient. \n",
    "\n",
    "#### Example - Yellow Pages Example\n",
    "\n",
    "Records in printed Yellow Pages (*data structure*) are sorted lexicographically (*encoded*) according to names (such as company names, phone registration names).\n",
    "* Thus, we could look up (*search*) someone's phone number given his or her name.\n",
    "* However, it is very time consuming to find out someone's name if a phone number is given."
   ]
  },
  {
   "cell_type": "markdown",
   "metadata": {},
   "source": [
    "### Categories of Algorithm\n",
    "\n",
    "Based on the type of search method, these algorithms are generally classified into two categories:\n"
   ]
  },
  {
   "cell_type": "markdown",
   "metadata": {},
   "source": [
    "**Sequential Search:** \n",
    "* The list or array is traversed sequentially and every element is checked.\n",
    "* The list is commonly unsorted.\n",
    "\n",
    "<u>Example:</u> Linear Search for value of 33\n",
    "\n",
    "<img src=\"images/linear_search.gif\" width=400/>"
   ]
  },
  {
   "cell_type": "markdown",
   "metadata": {},
   "source": [
    "**Interval Search:** \n",
    "* These algorithms are specifically designed for searching in **sorted** data-structures. \n",
    "* These type of searching algorithms are much more efficient than Linear Search as they repeatedly target the center of the search structure and divide the search space in half.\n",
    "\n",
    "<u>Example 1:</u> Binary Search for value of 47\n",
    "\n",
    "<img src=\"images/binary-search-gif-2.gif\" width=330/>\n",
    "\n",
    "<u>Example 2:</u> Search for value of 14 in a <u>Binary Search Tree</u>\n",
    "\n",
    "<img src=\"images/binary-tree search.gif\" width=300/>\n"
   ]
  },
  {
   "cell_type": "markdown",
   "metadata": {},
   "source": [
    "#### Common Search Algorithms\n",
    "\n",
    "- Linear Search\n",
    "- Binary Search"
   ]
  },
  {
   "cell_type": "markdown",
   "metadata": {},
   "source": [
    "## Recap: Built-in Search Functions\n",
    "\n",
    "We have been performing searching in Python. Here are some recaps."
   ]
  },
  {
   "cell_type": "markdown",
   "metadata": {},
   "source": [
    "**Example:**\n",
    "* Generate a list `s` with 10 random integers between 1 and 10."
   ]
  },
  {
   "cell_type": "code",
   "execution_count": 1,
   "metadata": {},
   "outputs": [
    {
     "name": "stdout",
     "output_type": "stream",
     "text": [
      "[6, 4, 1, 3, 3, 8, 6, 6, 8, 3]\n"
     ]
    }
   ],
   "source": [
    "import random\n",
    "\n",
    "# Generate 10 random integers between 1 and 20 (inclusive).\n",
    "s = [random.randint(1,10) for i in range(10)]\n",
    "print(s)"
   ]
  },
  {
   "cell_type": "markdown",
   "metadata": {},
   "source": [
    "### Membership Operators\n",
    "\n",
    "Python’s membership operators, `in` and `not in`, test for membership in a sequence, such as strings, lists, or tuples.\n",
    "* It returns boolean value `True` or `False`."
   ]
  },
  {
   "cell_type": "code",
   "execution_count": 2,
   "metadata": {},
   "outputs": [
    {
     "name": "stdout",
     "output_type": "stream",
     "text": [
      "False\n",
      "True\n"
     ]
    }
   ],
   "source": [
    "x = 10\n",
    "print(x in s)\n",
    "\n",
    "y = 5\n",
    "print(y not in s)"
   ]
  },
  {
   "cell_type": "markdown",
   "metadata": {},
   "source": [
    "### Search an Item in List\n",
    "\n",
    "List provides a method `index()` which searches an element in the list and returns its index.\n",
    "* If the same element is present more than once, the method returns the index of the first occurrence of the element.\n",
    "* If element is not found, it raises an exception."
   ]
  },
  {
   "cell_type": "markdown",
   "metadata": {},
   "source": [
    "**Example:**\n",
    "* Ask user for an integer and check if it exists in the list."
   ]
  },
  {
   "cell_type": "code",
   "execution_count": 3,
   "metadata": {},
   "outputs": [
    {
     "name": "stdout",
     "output_type": "stream",
     "text": [
      "Enter an integer [1-10]: 3\n",
      "Found at index = 3\n"
     ]
    }
   ],
   "source": [
    "x = int(input('Enter an integer [1-10]: '))\n",
    "\n",
    "try:\n",
    "    idx = s.index(x)\n",
    "    print('Found at index =', idx)\n",
    "except:\n",
    "    print('Not found')"
   ]
  },
  {
   "cell_type": "markdown",
   "metadata": {},
   "source": [
    "### Search Multiple Items in List\n",
    "\n",
    "List comprehension can be used to perform search and return index values if value exists in a list."
   ]
  },
  {
   "cell_type": "code",
   "execution_count": 4,
   "metadata": {},
   "outputs": [
    {
     "name": "stdout",
     "output_type": "stream",
     "text": [
      "Enter an integer [1,10]: 3\n",
      "Value 3 found at index  [3, 4, 9]\n"
     ]
    }
   ],
   "source": [
    "x = int(input('Enter an integer [1,10]: '))\n",
    "\n",
    "y = [ i for i,v in enumerate(s) if v == x]\n",
    "if y:\n",
    "    print('Value', x, 'found at index ', y)\n",
    "else:\n",
    "    print('Not found')"
   ]
  },
  {
   "cell_type": "markdown",
   "metadata": {},
   "source": [
    "### Search Key in Dictionary\n",
    "\n",
    "To search in keys of a dictionary, simply use its `get()` method. It returns its value if the key exists in dictionary, else it returns `None`."
   ]
  },
  {
   "cell_type": "code",
   "execution_count": 5,
   "metadata": {},
   "outputs": [
    {
     "name": "stdout",
     "output_type": "stream",
     "text": [
      "2 None\n"
     ]
    }
   ],
   "source": [
    "d = {'a':1, 'b':2, 'c':3}\n",
    "\n",
    "x = d.get('b')\n",
    "y = d.get('d')\n",
    "print(x, y)"
   ]
  },
  {
   "cell_type": "markdown",
   "metadata": {},
   "source": [
    "### Search Value in Dictionary\n",
    "\n",
    "It's also common to search through values of a dictionary. To do that, apart from using `for-loop`, we can also make use of list comprehension."
   ]
  },
  {
   "cell_type": "code",
   "execution_count": 6,
   "metadata": {},
   "outputs": [
    {
     "name": "stdout",
     "output_type": "stream",
     "text": [
      "['a', 'd']\n"
     ]
    }
   ],
   "source": [
    "d = {'a':1, 'b':2, 'c':3, 'd':1}\n",
    "\n",
    "x = [k for k,v in d.items() if v == 1]\n",
    "print(x)"
   ]
  },
  {
   "cell_type": "markdown",
   "metadata": {},
   "source": [
    "## 2. Linear Search"
   ]
  },
  {
   "cell_type": "markdown",
   "metadata": {},
   "source": [
    "**Linear search** searches an item in a given list **sequentially** till the end of the collection.\n",
    "* It is one of the simplest searching algorithms\n",
    "* It commonly uses `for-loop` or `while-loop` to iterate through the collection.\n",
    "\n",
    "**Exercise:**\n",
    "\n",
    "Implement a function `linear_search(array, val)` which searches the list `array` for a value `val`. It returns first index if the value is found, else it return `-1`.  \n",
    "\n",
    "Hint: How to index of a value in a `for-loop`?"
   ]
  },
  {
   "cell_type": "code",
   "execution_count": 7,
   "metadata": {},
   "outputs": [],
   "source": [
    "def linear_search(array, val):\n",
    "    for index, element in enumerate(array):\n",
    "        if element == val:\n",
    "            return index\n",
    "    return -1"
   ]
  },
  {
   "cell_type": "code",
   "execution_count": 8,
   "metadata": {},
   "outputs": [
    {
     "name": "stdout",
     "output_type": "stream",
     "text": [
      "[6, 4, 1, 3, 3, 8, 6, 6, 8, 3]\n",
      "-1\n"
     ]
    }
   ],
   "source": [
    "## TEST CODE\n",
    "print(s)\n",
    "idx = linear_search(s,5)\n",
    "print(idx)"
   ]
  },
  {
   "cell_type": "markdown",
   "metadata": {},
   "source": [
    "### Time Complexity"
   ]
  },
  {
   "cell_type": "markdown",
   "metadata": {},
   "source": [
    "In linear search, all items are searched one-by-one to find the required item. \n",
    "\n",
    "If the sample size is `n`, \n",
    "-   The best-case lookup to find an item is 1, i.e., the item is at the head of the list.\n",
    "-   The worst-case lookup to find an item is `n`, i.e. the item is at the end of the list.\n",
    "-   The average lookup to find an item is `n/2`.\n",
    "\n",
    "The time complexity of linear search is `O(n)`, meaning that the time taken to execute increases with the number of items in our input list."
   ]
  },
  {
   "cell_type": "markdown",
   "metadata": {},
   "source": [
    "### Find Average Execution Time using `%%timeit`\n",
    "\n",
    "Jupyter Notebook provides a magic function `%timeit` and `%%timeit` to time a code execution.\n",
    "* `%timeit` is used to time a single line of statement\n",
    "* `%%timeit` is used to time all codes in a cell. `%%timeit` must be placed at first line of cell. "
   ]
  },
  {
   "cell_type": "code",
   "execution_count": 11,
   "metadata": {},
   "outputs": [],
   "source": [
    "import random\n",
    "array = [random.randint(1,100) for i in range(20)]"
   ]
  },
  {
   "cell_type": "code",
   "execution_count": 12,
   "metadata": {},
   "outputs": [
    {
     "name": "stdout",
     "output_type": "stream",
     "text": [
      "2.94 µs ± 1.12 µs per loop (mean ± std. dev. of 7 runs, 100000 loops each)\n"
     ]
    }
   ],
   "source": [
    "%timeit linear_search(array, 5)"
   ]
  },
  {
   "cell_type": "code",
   "execution_count": 13,
   "metadata": {},
   "outputs": [
    {
     "name": "stdout",
     "output_type": "stream",
     "text": [
      "1.65 µs ± 201 ns per loop (mean ± std. dev. of 7 runs, 1000000 loops each)\n"
     ]
    }
   ],
   "source": [
    "%%timeit\n",
    "linear_search(array, 5)"
   ]
  },
  {
   "cell_type": "markdown",
   "metadata": {},
   "source": [
    "## 3. Binary Search"
   ]
  },
  {
   "cell_type": "markdown",
   "metadata": {},
   "source": [
    "Binary Search uses a **divide and conquer** methodology. It is faster than linear search. But it requires the array to be **sorted**.\n",
    "\n",
    "**How it Works?**\n",
    "* First check the MIDDLE element in the list.\n",
    "* If it is the value we want, we can stop.\n",
    "* If it is HIGHER than the value we want, we repeat the search process with the portion of the list BEFORE the middle element.\n",
    "* If it is LOWER than the value we want, we repeat the search process with the portion of the list AFTER the middle element.\n"
   ]
  },
  {
   "cell_type": "markdown",
   "metadata": {},
   "source": [
    "**Example:**\n",
    "\n",
    "Find value 19 in a sorted list of integers.\n",
    "\n",
    "<img src=\"images/binary-search.jpg\" width=400/>"
   ]
  },
  {
   "cell_type": "markdown",
   "metadata": {},
   "source": [
    "The binary search algorithm can be written using either iterative loops or recursive function. "
   ]
  },
  {
   "cell_type": "markdown",
   "metadata": {},
   "source": [
    "### Implementation with Loops\n",
    "\n",
    "We uses `while-loop` since we need to shift two pointers, `left` and `right`, until `left` is greater than `right`.  "
   ]
  },
  {
   "cell_type": "code",
   "execution_count": null,
   "metadata": {},
   "outputs": [],
   "source": [
    "def binary_search_iterative(arr,target):\n",
    "    left=0\n",
    "    right=len(arr)-1\n",
    "\n",
    "    while left<=right:\n",
    "        mid=(left+right)//2\n",
    "        if arr[mid]==target:\n",
    "            # bingo\n",
    "            return True\n",
    "        else:\n",
    "            if target>arr[mid]:\n",
    "                # move left pointer\n",
    "                left = mid+1\n",
    "            else:\n",
    "                # move right pointer\n",
    "                right = mid-1\n",
    "\n",
    "    return False"
   ]
  },
  {
   "cell_type": "markdown",
   "metadata": {},
   "source": [
    "### Implementation with Recursive Function\n",
    "\n",
    "* The base case of the function is when the input array is empty.\n",
    "* The recursion happens and we narrow the problem into half of the array."
   ]
  },
  {
   "cell_type": "code",
   "execution_count": null,
   "metadata": {},
   "outputs": [],
   "source": [
    "def binary_search_recursive(arr,target):\n",
    "    # Base Case!\n",
    "    if len(arr) == 0:\n",
    "        return False\n",
    "\n",
    "    # Recursive Case\n",
    "    mid = len(arr)//2\n",
    "    if arr[mid]==target:\n",
    "        return True\n",
    "    else:\n",
    "        # Call again on second half\n",
    "        if target<arr[mid]:\n",
    "            return rec_bsearch(arr[:mid],target)\n",
    "        # Or call on first half\n",
    "        else:\n",
    "            return rec_bsearch(arr[mid+1:],target)"
   ]
  },
  {
   "cell_type": "markdown",
   "metadata": {},
   "source": [
    "### Time Complexity"
   ]
  },
  {
   "cell_type": "markdown",
   "metadata": {},
   "source": [
    "If the same size is `n`,\n",
    "- The best-case lookup is 1.\n",
    "- The worst-case loopkup is `log(n)`/`log(2)`.\n",
    "- Every iteration, the sample size is halved: `n/2`, `n/4`, ... which become 1 after `log(n)`/`log(2)` iterations."
   ]
  }
 ],
 "metadata": {
  "kernelspec": {
   "display_name": "Python 3",
   "language": "python",
   "name": "python3"
  },
  "language_info": {
   "codemirror_mode": {
    "name": "ipython",
    "version": 3
   },
   "file_extension": ".py",
   "mimetype": "text/x-python",
   "name": "python",
   "nbconvert_exporter": "python",
   "pygments_lexer": "ipython3",
   "version": "3.7.3"
  }
 },
 "nbformat": 4,
 "nbformat_minor": 2
}
