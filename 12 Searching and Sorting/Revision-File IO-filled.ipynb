{
 "cells": [
  {
   "cell_type": "markdown",
   "metadata": {},
   "source": [
    "# Revision - File IO"
   ]
  },
  {
   "cell_type": "markdown",
   "metadata": {},
   "source": [
    "## 1. Text File"
   ]
  },
  {
   "cell_type": "markdown",
   "metadata": {},
   "source": [
    "### read()\n",
    "\n",
    "The `read()` function reads all data from a file handler.\n",
    "\n",
    "**Example:** Read and print out all text in file `./data/quote.txt`."
   ]
  },
  {
   "cell_type": "code",
   "execution_count": 1,
   "metadata": {},
   "outputs": [
    {
     "name": "stdout",
     "output_type": "stream",
     "text": [
      "'Give a man a program, frustrate him for a day.\\nTeach a man to program, frustrate him for a lifetime.\\n'\n"
     ]
    }
   ],
   "source": [
    "with open('./data/quote.txt') as f:\n",
    "    t = f.read()\n",
    "    print(repr(t))"
   ]
  },
  {
   "cell_type": "markdown",
   "metadata": {},
   "source": [
    "### write()\n",
    "\n",
    "The `write()` function writes data into a text file.\n",
    "\n",
    "**Example:** Convert text in `./data/quote.txt` to upper case, and save it in file `./data/quote_upper.txt`."
   ]
  },
  {
   "cell_type": "code",
   "execution_count": 2,
   "metadata": {},
   "outputs": [],
   "source": [
    "with open('./data/quote_upper.txt', 'wt') as f:\n",
    "    t = t.upper()\n",
    "    f.write(t)"
   ]
  },
  {
   "cell_type": "code",
   "execution_count": 3,
   "metadata": {},
   "outputs": [],
   "source": [
    "!notepad data/quote_upper.txt"
   ]
  },
  {
   "cell_type": "markdown",
   "metadata": {},
   "source": [
    "### writelines()\n",
    "\n",
    "To write a list of strings to a file, method `writelines()` can be used.\n",
    "* Note: NO new line character `\\n` will be added automatically.\n",
    "* Append `\\n` to write each item in a line."
   ]
  },
  {
   "cell_type": "code",
   "execution_count": 4,
   "metadata": {},
   "outputs": [
    {
     "name": "stdout",
     "output_type": "stream",
     "text": [
      "['A00000\\n', 'A00001\\n', 'A00002\\n', 'A00003\\n', 'A00004\\n', 'A00005\\n', 'A00006\\n', 'A00007\\n', 'A00008\\n', 'A00009\\n']\n"
     ]
    }
   ],
   "source": [
    "data = ['A{:05}\\n'.format(i) for i in range(10)]\n",
    "print(repr(data))\n",
    "\n",
    "with open('./data/test.txt', 'w') as f:\n",
    "    f.writelines(data)"
   ]
  },
  {
   "cell_type": "code",
   "execution_count": 5,
   "metadata": {},
   "outputs": [],
   "source": [
    "!notepad data/test.txt"
   ]
  },
  {
   "cell_type": "markdown",
   "metadata": {},
   "source": [
    "### readlines()\n",
    "\n",
    "The `readlines()` function returns a list, where each item contains a line.\n",
    "* Note: NO character will be removed automatically, e.g. there may be a new line character `\\n` at the end of each line.\n",
    "* Use `strip()` method to remove leading and trailing white spaces."
   ]
  },
  {
   "cell_type": "code",
   "execution_count": 6,
   "metadata": {},
   "outputs": [
    {
     "name": "stdout",
     "output_type": "stream",
     "text": [
      "A00000 A00001 A00002 A00003 A00004 A00005 A00006 A00007 A00008 A00009 "
     ]
    }
   ],
   "source": [
    "with open('./data/test.txt') as f:\n",
    "    data = f.readlines()\n",
    "\n",
    "for i in data:\n",
    "    i = i.strip()\n",
    "    print(i, end=' ')"
   ]
  },
  {
   "cell_type": "code",
   "execution_count": 7,
   "metadata": {},
   "outputs": [
    {
     "name": "stdout",
     "output_type": "stream",
     "text": [
      "A00000 A00001 A00002 A00003 A00004 A00005 A00006 A00007 A00008 A00009 "
     ]
    }
   ],
   "source": [
    "with open('./data/test.txt') as f:\n",
    "    for i in f:\n",
    "        i = i.strip()\n",
    "        print(i, end=' ')"
   ]
  },
  {
   "cell_type": "markdown",
   "metadata": {},
   "source": [
    "## 2. CSV File"
   ]
  },
  {
   "cell_type": "markdown",
   "metadata": {},
   "source": [
    "### Using `csv.reader`\n",
    "\n",
    "After opening a CSV file, create a csv.reader object which returns a iterable object to process CSV data.\n",
    "* Each record is represented as a list.\n",
    "* All fields are string type.\n",
    "\n",
    "**Note:**\n",
    "* How to skip a header line?\n",
    "* How to save data into a list?"
   ]
  },
  {
   "cell_type": "code",
   "execution_count": 8,
   "metadata": {},
   "outputs": [
    {
     "name": "stdout",
     "output_type": "stream",
     "text": [
      "['NOC', 'Country', 'Total', 'Medal']\n",
      "[['USA', 'United, States', '2088', 'Gold'], ['URS', 'Soviet Union', '838', 'Gold'], ['GBR', 'United Kingdom', '498', 'Gold'], ['FRA', 'France', '378', 'Gold'], ['GER', 'Germany', '407', 'Gold'], ['AUS', 'Australia', '293', 'Gold']]\n"
     ]
    }
   ],
   "source": [
    "import csv\n",
    "with open('./data/olympics-medals-sample.csv') as f:\n",
    "    reader = csv.reader(f)\n",
    "    header = next(reader)\n",
    "    data = [row for row in reader]\n",
    "\n",
    "print(header)\n",
    "print(data)"
   ]
  },
  {
   "cell_type": "markdown",
   "metadata": {},
   "source": [
    "### Using csv.writer()\n",
    "\n",
    "The `csv.writer()` function takes only 1 required parameter, the file object, and returns a csv writer.\n",
    "* Note: You may need to add `newline=''` parameter when create a file handler to avoid extra empty line between rows.\n",
    "* Its `writerow()` method writes a list as a row to the csv file."
   ]
  },
  {
   "cell_type": "code",
   "execution_count": 9,
   "metadata": {},
   "outputs": [],
   "source": [
    "import csv\n",
    "\n",
    "with open('./data/olympics-medals-sample-1.csv', 'w', newline='') as f:\n",
    "    writer = csv.writer(f)\n",
    "    for row in data:\n",
    "        writer.writerow(row)"
   ]
  },
  {
   "cell_type": "code",
   "execution_count": 10,
   "metadata": {},
   "outputs": [],
   "source": [
    "!notepad data/olympics-medals-sample-1.csv"
   ]
  },
  {
   "cell_type": "markdown",
   "metadata": {},
   "source": [
    "* Its `writerows()` method writes a nested-list as multiple rows to the csv file."
   ]
  },
  {
   "cell_type": "code",
   "execution_count": 11,
   "metadata": {},
   "outputs": [],
   "source": [
    "import csv\n",
    "\n",
    "with open('./data/olympics-medals-sample-2.csv', 'w', newline='') as f:\n",
    "    writer = csv.writer(f)\n",
    "    writer.writerows(data)"
   ]
  },
  {
   "cell_type": "code",
   "execution_count": 12,
   "metadata": {},
   "outputs": [],
   "source": [
    "!notepad data/olympics-medals-sample-2.csv"
   ]
  }
 ],
 "metadata": {
  "kernelspec": {
   "display_name": "Python 3",
   "language": "python",
   "name": "python3"
  },
  "language_info": {
   "codemirror_mode": {
    "name": "ipython",
    "version": 3
   },
   "file_extension": ".py",
   "mimetype": "text/x-python",
   "name": "python",
   "nbconvert_exporter": "python",
   "pygments_lexer": "ipython3",
   "version": "3.7.3"
  }
 },
 "nbformat": 4,
 "nbformat_minor": 2
}
