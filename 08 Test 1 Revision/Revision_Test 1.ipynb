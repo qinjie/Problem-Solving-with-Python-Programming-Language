{
 "cells": [
  {
   "cell_type": "markdown",
   "metadata": {},
   "source": [
    "# Revision - Test 1"
   ]
  },
  {
   "cell_type": "markdown",
   "metadata": {},
   "source": [
    "**Scope:**\n",
    "\n",
    "* Data Type\n",
    "    * int\n",
    "* String\n",
    "    * Basic Usages\n",
    "* User-defined Functions\n",
    "    * Function Definition, Input Parameters, Return\n",
    "* List\n",
    "    * Create List, Slicing, Access by Index, Append Item, Extend List, Remove Item\n",
    "* Dictionary\n",
    "    * Create Dictionary, Add Item, Update Item\n",
    "* for-loop\n",
    "    * Loop by Item, Loop by index\n",
    "    * How to compare 2 consecutive items?\n",
    "* Recursive\n",
    "    * e.g. count even and odd values"
   ]
  }
 ],
 "metadata": {
  "kernelspec": {
   "display_name": "Python 3",
   "language": "python",
   "name": "python3"
  },
  "language_info": {
   "codemirror_mode": {
    "name": "ipython",
    "version": 3
   },
   "file_extension": ".py",
   "mimetype": "text/x-python",
   "name": "python",
   "nbconvert_exporter": "python",
   "pygments_lexer": "ipython3",
   "version": "3.7.3"
  }
 },
 "nbformat": 4,
 "nbformat_minor": 2
}
