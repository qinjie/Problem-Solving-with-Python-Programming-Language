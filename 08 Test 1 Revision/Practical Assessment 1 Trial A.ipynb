{
 "cells": [
  {
   "cell_type": "markdown",
   "metadata": {},
   "source": [
    "Ministry of Education, Singapore <br>\n",
    "**Computing Teachers’ Content Upgrading Course 2020**\n",
    "\n",
    "<h1><center>Practical Assessment 1 (Trial A)</center></h1>\n",
    "\n",
    "<center>19 Feb 2020</center>\n",
    "\n",
    "**Time allowed**: 3 hours\n",
    "\n",
    "<br>\n",
    "<u>Instructions to candidates:</u>\n",
    "\n",
    "1. This is an **open-book** exam.\n",
    "2. Answer all <u><b>three</b></u> questions.\n",
    "3. You may complete your solutions in any IDE first before copy them into this Jupyter Notebook for submission. \n",
    "4. Input validation is not required\n",
    "5. Submit this Jupyter Notebook online before test ends. You may submit multiple times, but only last submission before test end time will be accepted. [https://driveuploader.com/upload/xTTmmKYr6C/](https://driveuploader.com/upload/xTTmmKYr6C/)\n",
    "6. Please note that the sample test program may not be enough to test your program. Your programs will be tested with other inputs and they should exhibit the required behaviours to get full credit.\n",
    "\n",
    "**Name & Email**\n",
    "\n",
    "Enter your name and your email address."
   ]
  },
  {
   "cell_type": "raw",
   "metadata": {},
   "source": [
    "# YOUR NAME\n",
    "# YOUR EMAIL"
   ]
  },
  {
   "cell_type": "markdown",
   "metadata": {},
   "source": [
    "---"
   ]
  },
  {
   "cell_type": "markdown",
   "metadata": {},
   "source": [
    "### Question 1\n",
    "\n",
    "Implement a function `count_distinct_digits()` which takes in a positive integer `n`, and returns the number of distinct digits in `n`."
   ]
  },
  {
   "cell_type": "code",
   "execution_count": null,
   "metadata": {},
   "outputs": [],
   "source": [
    "# WRITE YOUR CODE HERE\n"
   ]
  },
  {
   "cell_type": "markdown",
   "metadata": {},
   "source": [
    "<u>*Test Case 1*</u> \n",
    "\n",
    "Expected output: `1`"
   ]
  },
  {
   "cell_type": "code",
   "execution_count": null,
   "metadata": {
    "scrolled": true
   },
   "outputs": [],
   "source": [
    "count_distinct_digits(1)"
   ]
  },
  {
   "cell_type": "markdown",
   "metadata": {},
   "source": [
    "<u>*Test Case 2*</u>\n",
    "\n",
    "Expected output: `1`"
   ]
  },
  {
   "cell_type": "code",
   "execution_count": null,
   "metadata": {},
   "outputs": [],
   "source": [
    "count_distinct_digits(1111)"
   ]
  },
  {
   "cell_type": "markdown",
   "metadata": {},
   "source": [
    "<u>*Test Case 3*</u>\n",
    "\n",
    "Expected output: `3`"
   ]
  },
  {
   "cell_type": "code",
   "execution_count": null,
   "metadata": {},
   "outputs": [],
   "source": [
    "count_distinct_digits(123123)"
   ]
  },
  {
   "cell_type": "markdown",
   "metadata": {},
   "source": [
    "### Question 2\n",
    "\n",
    "To find all factors of a positive integer `n`, iterate through integers between `1` and `n` (both inclusive) to find collect all numbers which can divide `n`.\n",
    "\n",
    "Implement a function `list_factors()` which takes in a positive integer, and returns its list of factors. "
   ]
  },
  {
   "cell_type": "code",
   "execution_count": null,
   "metadata": {},
   "outputs": [],
   "source": [
    "# WRITE YOUR CODE HERE\n"
   ]
  },
  {
   "cell_type": "markdown",
   "metadata": {},
   "source": [
    "<u>*Test Case 1*</u> \n",
    "\n",
    "Expected output: `[1]`"
   ]
  },
  {
   "cell_type": "code",
   "execution_count": null,
   "metadata": {},
   "outputs": [],
   "source": [
    "list_factors(1)"
   ]
  },
  {
   "cell_type": "markdown",
   "metadata": {},
   "source": [
    "<u>*Test Case 2*</u>\n",
    "\n",
    "Expected output: `[1, 3, 5, 15]`"
   ]
  },
  {
   "cell_type": "code",
   "execution_count": null,
   "metadata": {},
   "outputs": [],
   "source": [
    "list_factors(15)"
   ]
  },
  {
   "cell_type": "markdown",
   "metadata": {},
   "source": [
    "<u>*Test Case 3*</u>\n",
    "\n",
    "Expected output: `1`"
   ]
  },
  {
   "cell_type": "code",
   "execution_count": null,
   "metadata": {},
   "outputs": [],
   "source": [
    "list_factors(97)"
   ]
  },
  {
   "cell_type": "markdown",
   "metadata": {},
   "source": [
    "### Question 3\n",
    "\n",
    "Implement a function `rolling average()` which takes in a list of integers `s` and an integer `n`. It returns list of moving averages of the list with window size `n`. The `n` has a default value of `2`.\n",
    "\n",
    "For example, moving average if `[1,2,3,4,5]` with windows size of `2` is `[1.5, 2.5, 3.5, 4.5]`."
   ]
  },
  {
   "cell_type": "code",
   "execution_count": null,
   "metadata": {},
   "outputs": [],
   "source": [
    "# WRITE YOUR CODE HERE\n"
   ]
  },
  {
   "cell_type": "markdown",
   "metadata": {},
   "source": [
    "<u>*Test Case 1*</u>\n",
    "\n",
    "Expected output: `[1.5, 2.5, 3.5, 4.5]`"
   ]
  },
  {
   "cell_type": "code",
   "execution_count": null,
   "metadata": {},
   "outputs": [],
   "source": [
    "rolling_average([1,2,3,4,5], 2)"
   ]
  },
  {
   "cell_type": "markdown",
   "metadata": {},
   "source": [
    "<u>*Test Case 2*</u>\n",
    "\n",
    "Expected output: `[]`"
   ]
  },
  {
   "cell_type": "code",
   "execution_count": null,
   "metadata": {},
   "outputs": [],
   "source": [
    "rolling_average([1], 2)"
   ]
  },
  {
   "cell_type": "markdown",
   "metadata": {},
   "source": [
    "<u>*Test Case 3*</u>\n",
    "\n",
    "Expected output: `[1.5]`"
   ]
  },
  {
   "cell_type": "code",
   "execution_count": null,
   "metadata": {},
   "outputs": [],
   "source": [
    "rolling_average([1,2], 2)"
   ]
  },
  {
   "cell_type": "markdown",
   "metadata": {},
   "source": [
    "### Question 4\n",
    "\n",
    "Implement a script which validates phone numbers entered by user. The script runs continuously until user enter an empty string. A valid mobile number fulfills following 3 conditions:\n",
    "* Phone number starts with either `9` or `8`\n",
    "* Phone number is a string of 8 digits\n",
    "\n",
    "<u>Hint:</u> use `str.isdigit()` to test whether a string is of positive integer.\n",
    "\n",
    "<u>Sample Output:</u>\n",
    "```\n",
    "Enter a phone number: 9123\n",
    "Invalid: must be 8 character\n",
    "Enter a phone number: 61234567\n",
    "Invalid: must starts with 8 or 9\n",
    "Enter a phone number: 81234abc\n",
    "Invalid: only digits allowed\n",
    "Enter a phone number: 81234567\n",
    "Valid\n",
    "Enter a phone number: \n",
    "```"
   ]
  },
  {
   "cell_type": "code",
   "execution_count": null,
   "metadata": {},
   "outputs": [],
   "source": [
    "# WRITE YOUR CODE HERE\n"
   ]
  },
  {
   "attachments": {
    "image.png": {
     "image/png": "[encoded data removed]"
    }
   },
   "cell_type": "markdown",
   "metadata": {},
   "source": [
    "### Question 5\n",
    "\n",
    "Implement a recursive function `geometric(a, r, m)` to compute the summation of a geometric series with following formula, where `a`, `r` and `m` are integers input parameters. \n",
    "\n",
    "![image.png](attachment:image.png)\n",
    "\n",
    "The function returns final summation of the series."
   ]
  },
  {
   "cell_type": "code",
   "execution_count": null,
   "metadata": {},
   "outputs": [],
   "source": [
    "# WRITE YOUR CODE HERE\n"
   ]
  },
  {
   "cell_type": "markdown",
   "metadata": {},
   "source": [
    "<u>*Test Case 1*</u>\n",
    "\n",
    "Expected output: `2046`"
   ]
  },
  {
   "cell_type": "code",
   "execution_count": null,
   "metadata": {},
   "outputs": [],
   "source": [
    "geometric(1, 2, 10)"
   ]
  }
 ],
 "metadata": {
  "kernelspec": {
   "display_name": "Python 3",
   "language": "python",
   "name": "python3"
  },
  "language_info": {
   "codemirror_mode": {
    "name": "ipython",
    "version": 3
   },
   "file_extension": ".py",
   "mimetype": "text/x-python",
   "name": "python",
   "nbconvert_exporter": "python",
   "pygments_lexer": "ipython3",
   "version": "3.7.3"
  }
 },
 "nbformat": 4,
 "nbformat_minor": 2
}
