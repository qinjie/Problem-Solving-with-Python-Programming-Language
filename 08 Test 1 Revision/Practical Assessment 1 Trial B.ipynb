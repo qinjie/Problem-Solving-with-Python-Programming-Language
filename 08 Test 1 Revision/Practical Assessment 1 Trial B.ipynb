{
 "cells": [
  {
   "cell_type": "markdown",
   "metadata": {},
   "source": [
    "Ministry of Education, Singapore <br>\n",
    "**Computing Teachers’ Content Upgrading Course 2020**\n",
    "\n",
    "<h1><center>Practical Assessment 1 (Trial B)</center></h1>\n",
    "\n",
    "<center>19 Feb 2020</center>\n",
    "\n",
    "**Time allowed**: 3 hours\n",
    "\n",
    "<br>\n",
    "<u>Instructions to candidates:</u>\n",
    "\n",
    "1. This is an **open-book** exam.\n",
    "2. Answer all <u><b>five</b></u> questions.\n",
    "3. You may complete your solutions in any IDE first before copy them into this Jupyter Notebook for submission. \n",
    "4. Input validation is not required\n",
    "5. Submit this Jupyter Notebook online before test ends. You may submit multiple times, but only last submission before test end time will be accepted. [https://driveuploader.com/upload/xTTmmKYr6C/](https://driveuploader.com/upload/xTTmmKYr6C/)\n",
    "6. Please note that the sample test program may not be enough to test your program. Your programs will be tested with other inputs and they should exhibit the required behaviours to get full credit.\n",
    "\n",
    "**Name & Email**\n",
    "\n",
    "Enter your name and your email address."
   ]
  },
  {
   "cell_type": "raw",
   "metadata": {},
   "source": [
    "# YOUR NAME\n",
    "# YOUR EMAIL"
   ]
  },
  {
   "cell_type": "markdown",
   "metadata": {},
   "source": [
    "---"
   ]
  },
  {
   "cell_type": "markdown",
   "metadata": {},
   "source": [
    "### Question 1\n",
    "\n",
    "Implement a function `char_frequency()` which takes in a string `s`, and returns character frequencies in a dictionary structure."
   ]
  },
  {
   "cell_type": "code",
   "execution_count": null,
   "metadata": {},
   "outputs": [],
   "source": [
    "# WRITE YOUR CODE HERE\n"
   ]
  },
  {
   "cell_type": "markdown",
   "metadata": {},
   "source": [
    "<u>*Test Case 1*</u> \n",
    "\n",
    "Expected output: `{'h': 1, 'e': 1, 'l': 3, 'o': 2, ' ': 1, 'w': 1, 'r': 1, 'd': 1}`"
   ]
  },
  {
   "cell_type": "code",
   "execution_count": null,
   "metadata": {
    "scrolled": true
   },
   "outputs": [],
   "source": [
    "char_frequency('hello world')"
   ]
  },
  {
   "cell_type": "markdown",
   "metadata": {},
   "source": [
    "### Question 2\n",
    "\n",
    "Implement a function `consecutive_diff()` which takes in a list `s`. It returns a list of numbers, whihc are the absolute difference of 2 consecutive elements in the list.\n",
    "\n",
    "<u>Hint:</u> Use `abs()` to get absolute value of a number. "
   ]
  },
  {
   "cell_type": "code",
   "execution_count": null,
   "metadata": {},
   "outputs": [],
   "source": [
    "# WRITE YOUR CODE HERE\n"
   ]
  },
  {
   "cell_type": "markdown",
   "metadata": {},
   "source": [
    "<u>*Test Case 1*</u> \n",
    "\n",
    "Expected output: `[2, 6, 1, 2]`"
   ]
  },
  {
   "cell_type": "code",
   "execution_count": null,
   "metadata": {},
   "outputs": [],
   "source": [
    "consecutive_diff([1,3,9,8,6])"
   ]
  },
  {
   "cell_type": "markdown",
   "metadata": {},
   "source": [
    "### Question 3\n",
    "\n",
    "Implement a function `find_n_smallest()` which takes in an integer list `s` and an integer `n`, it returns `nth` smallest number in the list.\n",
    "* If `n` is greater than length of list, return greatest value in `s`.\n",
    "* If `n` is 0 or 1, return smallest value in `s`. "
   ]
  },
  {
   "cell_type": "code",
   "execution_count": null,
   "metadata": {},
   "outputs": [],
   "source": [
    "# WRITE YOUR CODE HERE\n"
   ]
  },
  {
   "cell_type": "markdown",
   "metadata": {},
   "source": [
    "<u>*Test Case 1*</u>\n",
    "\n",
    "Expected output: `3`"
   ]
  },
  {
   "cell_type": "code",
   "execution_count": null,
   "metadata": {},
   "outputs": [],
   "source": [
    "s = [4,1,2,3,5,6]\n",
    "find_n_smallest(s, 3)"
   ]
  },
  {
   "cell_type": "markdown",
   "metadata": {},
   "source": [
    "<u>*Test Case 2*</u>\n",
    "\n",
    "Expected output: `6`"
   ]
  },
  {
   "cell_type": "code",
   "execution_count": null,
   "metadata": {},
   "outputs": [],
   "source": [
    "s = [4,1,2,3,5,6]\n",
    "find_n_smallest(s, 7)"
   ]
  },
  {
   "cell_type": "markdown",
   "metadata": {},
   "source": [
    "### Question 4\n",
    "\n",
    "Assume a Singapore car registration number is in this format `AAAxxxxC`, where\n",
    "* `AAA` is the 3 letters (in capital letter)\n",
    "* `xxxx` could be 1 to 4 digits\n",
    "* `C` is the checksum based on values of the checksum of `AAA` and `xxxx`.\n",
    "\n",
    "If `xxxx` has less than 4 digits, it is prefixed with 0s. For example, `13` will become `0013`.\n",
    "\n",
    "The checksum is computed using the following steps:\n",
    "* Create an empty list `X`.\n",
    "* Take the last two letters from `AAA`; append the numerical position of the two alphabets to `X`.\n",
    "    * For example, if the alphabets are `'BD'`, then `X = [2,4]`.\n",
    "    * Hint: to find numerical position of `M`, use formular `ord('M') - ord('A') + 1`.\n",
    "* Append the digits from `xxxx`, to list X.\n",
    "    * For example, if `xxxx` is `5678`, then `X = [2, 4, 5, 6, 7, 8]`\n",
    "* Sum the multiplication of list X with `[9, 4, 5, 4, 3, 2]` item-wise.\n",
    "* Compute the remainder of the sum divided by `19`.\n",
    "* Look up the checksum for the remainder using the table below:\n",
    "    * `0 -> A\t5 -> T\t10 -> L   15 -> E`\n",
    "    * `1 -> Z\t6 -> S\t11 -> K   16 -> D`\n",
    "    * `2 -> Y\t7 -> R\t12 -> J   17 -> C`\n",
    "    * `3 -> X\t8 -> P\t13 -> H   18 -> B`\n",
    "    * `4 -> U\t9 -> M\t14 -> G`\n",
    "\n",
    "Implement a function `validate_car_plate()` which takes in a car plate number `s`, validates it and return either `True` or `False`."
   ]
  },
  {
   "cell_type": "code",
   "execution_count": null,
   "metadata": {},
   "outputs": [],
   "source": [
    "# WRITE YOUR CODE HERE\n"
   ]
  },
  {
   "cell_type": "markdown",
   "metadata": {},
   "source": [
    "<u>*Test Case 1*</u>\n",
    "\n",
    "Expected output: `True`"
   ]
  },
  {
   "cell_type": "code",
   "execution_count": null,
   "metadata": {},
   "outputs": [],
   "source": [
    "validate_car_plate('SMG9411Y')"
   ]
  },
  {
   "cell_type": "markdown",
   "metadata": {},
   "source": [
    "<u>*Test Case 2*</u>\n",
    "\n",
    "Expected output: `True`"
   ]
  },
  {
   "cell_type": "code",
   "execution_count": null,
   "metadata": {},
   "outputs": [],
   "source": [
    "validate_car_plate('SLA123G')"
   ]
  },
  {
   "cell_type": "markdown",
   "metadata": {},
   "source": [
    "<u>*Test Case 3*</u>\n",
    "\n",
    "Expected output: `False`"
   ]
  },
  {
   "cell_type": "code",
   "execution_count": null,
   "metadata": {},
   "outputs": [],
   "source": [
    "validate_car_plate('SMG9411Z')"
   ]
  },
  {
   "attachments": {
    "image.png": {
     "image/png": "[encoded data removed]"
    }
   },
   "cell_type": "markdown",
   "metadata": {},
   "source": [
    "### Question 5\n",
    "\n",
    "The harmonic sum is the sum of reciprocals of the positive integers.\n",
    "\n",
    "![image.png](attachment:image.png)\n",
    "\n",
    "Implement a recursive function `harmonic_sum(n)` to compute the summation of first `n` items. The function returns final summation of the series."
   ]
  },
  {
   "cell_type": "code",
   "execution_count": null,
   "metadata": {},
   "outputs": [],
   "source": [
    "# WRITE YOUR CODE HERE\n"
   ]
  },
  {
   "cell_type": "markdown",
   "metadata": {},
   "source": [
    "<u>*Test Case 1*</u>\n",
    "\n",
    "Expected output: `2.083333333333333`"
   ]
  },
  {
   "cell_type": "code",
   "execution_count": null,
   "metadata": {},
   "outputs": [],
   "source": [
    "harmonic_sum(4)"
   ]
  }
 ],
 "metadata": {
  "kernelspec": {
   "display_name": "Python 3",
   "language": "python",
   "name": "python3"
  },
  "language_info": {
   "codemirror_mode": {
    "name": "ipython",
    "version": 3
   },
   "file_extension": ".py",
   "mimetype": "text/x-python",
   "name": "python",
   "nbconvert_exporter": "python",
   "pygments_lexer": "ipython3",
   "version": "3.7.3"
  }
 },
 "nbformat": 4,
 "nbformat_minor": 2
}
