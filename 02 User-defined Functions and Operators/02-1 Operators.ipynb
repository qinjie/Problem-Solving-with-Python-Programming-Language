{
 "cells": [
  {
   "cell_type": "markdown",
   "metadata": {},
   "source": [
    "# Operators"
   ]
  },
  {
   "cell_type": "markdown",
   "metadata": {},
   "source": [
    "## 1. What is an Operator?\n",
    "\n",
    "**Operators** \n",
    "* Symbols that perform <u>operations</u> on variables and values.\n",
    "\n",
    "**Operands** \n",
    "* Variables or values which are passed as inputs to an operator.\n",
    "\n",
    "For example: `10 - 4`\n",
    "* `-` is an operator which performs `minus` operation\n",
    "* `10` and `4` are operands"
   ]
  },
  {
   "cell_type": "markdown",
   "metadata": {},
   "source": [
    "Similar to many programming languages, Python reserves some special characters for acting as operators.\n",
    "\n",
    "Python operators are grouped into following categories:\n",
    "* Arithmetic operators\n",
    "* Comparison operators\n",
    "* Identity operators\n",
    "* Membership operators\n",
    "* Logical operators\n",
    "* Assignment operators\n",
    "* Bitwise operators"
   ]
  },
  {
   "cell_type": "markdown",
   "metadata": {},
   "source": [
    "## 2. Operators"
   ]
  },
  {
   "cell_type": "markdown",
   "metadata": {},
   "source": [
    "### 2.1 Arithmetic Operators\n",
    "\n",
    "Arithmetic operators perform common mathematical operations on values.\n",
    "\n",
    "| Operator | Name           | Example |\n",
    "|:----------|:----------------|:---------|\n",
    "| +        | Addition       | x + y   |\n",
    "| -        | Subtraction    | x - y   |\n",
    "| *        | Multiplication | x * y   |\n",
    "| /        | Division       | x / y   |\n",
    "| //       | Floor division | x // y  |\n",
    "| %        | Modulus        | x % y   |\n",
    "| **       | Exponentiation | x ** y  |"
   ]
  },
  {
   "cell_type": "markdown",
   "metadata": {},
   "source": [
    "#### Addition `+`, Subtraction `-`"
   ]
  },
  {
   "cell_type": "code",
   "execution_count": 1,
   "metadata": {},
   "outputs": [
    {
     "data": {
      "text/plain": [
       "2"
      ]
     },
     "execution_count": 1,
     "metadata": {},
     "output_type": "execute_result"
    }
   ],
   "source": [
    "x = 5\n",
    "y = 3\n",
    "x + y\n",
    "x - y"
   ]
  },
  {
   "cell_type": "markdown",
   "metadata": {},
   "source": [
    "#### Multiplication `*`"
   ]
  },
  {
   "cell_type": "code",
   "execution_count": 2,
   "metadata": {},
   "outputs": [
    {
     "data": {
      "text/plain": [
       "15"
      ]
     },
     "execution_count": 2,
     "metadata": {},
     "output_type": "execute_result"
    }
   ],
   "source": [
    "x * y"
   ]
  },
  {
   "cell_type": "markdown",
   "metadata": {},
   "source": [
    "#### Division `/`"
   ]
  },
  {
   "cell_type": "code",
   "execution_count": 3,
   "metadata": {},
   "outputs": [
    {
     "data": {
      "text/plain": [
       "1.6666666666666667"
      ]
     },
     "execution_count": 3,
     "metadata": {},
     "output_type": "execute_result"
    }
   ],
   "source": [
    "x / y"
   ]
  },
  {
   "cell_type": "markdown",
   "metadata": {},
   "source": [
    "#### Floor Division `//`"
   ]
  },
  {
   "cell_type": "code",
   "execution_count": 4,
   "metadata": {},
   "outputs": [
    {
     "data": {
      "text/plain": [
       "1"
      ]
     },
     "execution_count": 4,
     "metadata": {},
     "output_type": "execute_result"
    }
   ],
   "source": [
    "x // y"
   ]
  },
  {
   "cell_type": "markdown",
   "metadata": {},
   "source": [
    "#### Modulus Division `%`"
   ]
  },
  {
   "cell_type": "code",
   "execution_count": 5,
   "metadata": {},
   "outputs": [
    {
     "data": {
      "text/plain": [
       "2"
      ]
     },
     "execution_count": 5,
     "metadata": {},
     "output_type": "execute_result"
    }
   ],
   "source": [
    "x % y"
   ]
  },
  {
   "cell_type": "markdown",
   "metadata": {},
   "source": [
    "#### Exponential `**`"
   ]
  },
  {
   "cell_type": "code",
   "execution_count": 6,
   "metadata": {},
   "outputs": [
    {
     "data": {
      "text/plain": [
       "125"
      ]
     },
     "execution_count": 6,
     "metadata": {},
     "output_type": "execute_result"
    }
   ],
   "source": [
    "x ** y"
   ]
  },
  {
   "cell_type": "markdown",
   "metadata": {},
   "source": [
    "#### How to Round a number?\n",
    "\n",
    "Use `round()` function. \n",
    "*Note: https://stackoverflow.com/questions/10825926/python-3-x-rounding-behavior*"
   ]
  },
  {
   "cell_type": "code",
   "execution_count": 7,
   "metadata": {},
   "outputs": [
    {
     "data": {
      "text/plain": [
       "6"
      ]
     },
     "execution_count": 7,
     "metadata": {},
     "output_type": "execute_result"
    }
   ],
   "source": [
    "round(2.5)\n",
    "round(3.5)\n",
    "round(4.5)\n",
    "round(5.5)"
   ]
  },
  {
   "cell_type": "markdown",
   "metadata": {},
   "source": [
    "### 2.2 Comparison Operators\n",
    "\n",
    "Comparison operators are used to compare two values.\n",
    "* It returns a boolean value.\n",
    "\n",
    "| Operator \t| Name                     \t| Example \t|\n",
    "|:---------\t|:-------------------------\t|:--------\t|\n",
    "| >        \t| Greater than             \t| x > y   \t|\n",
    "| <        \t| Less than                \t| x < y   \t|\n",
    "| >=       \t| Greater than or equal to \t| x >= y  \t|\n",
    "| <=       \t| Less than or equal to    \t| x <= y  \t|\n",
    "| ==       \t| Equal                    \t| x == y  \t|\n",
    "| !=       \t| Not equal                \t| x != y  \t|"
   ]
  },
  {
   "cell_type": "markdown",
   "metadata": {},
   "source": [
    "#### Greater than `>`, Greater than or equal to `>=`"
   ]
  },
  {
   "cell_type": "code",
   "execution_count": 8,
   "metadata": {},
   "outputs": [
    {
     "data": {
      "text/plain": [
       "True"
      ]
     },
     "execution_count": 8,
     "metadata": {},
     "output_type": "execute_result"
    }
   ],
   "source": [
    "x, y = 5, 3\n",
    "x > y\n",
    "x >= y"
   ]
  },
  {
   "cell_type": "markdown",
   "metadata": {},
   "source": [
    "#### Euqal `==`, Not equal `!=`"
   ]
  },
  {
   "cell_type": "code",
   "execution_count": 9,
   "metadata": {},
   "outputs": [
    {
     "data": {
      "text/plain": [
       "True"
      ]
     },
     "execution_count": 9,
     "metadata": {},
     "output_type": "execute_result"
    }
   ],
   "source": [
    "x == y\n",
    "x != y"
   ]
  },
  {
   "cell_type": "markdown",
   "metadata": {},
   "source": [
    "### 2.3 Logical Operators\n",
    "\n",
    "Sometimes we need to make decisions based on multiple conditions. Logical operators are used to combine conditional statements.\n",
    "* Operands shall be conditions which can result in a boolean value.\n",
    "* The outcome of such an operation is either true or false too.\n",
    "\n",
    "| Operator | Description                                               | Example               |\n",
    "|:---------|:----------------------------------------------------------|:----------------------|\n",
    "| and      | Returns True if both statements are true                  | x < 5 and  x < 10     |\n",
    "| or       | Returns True if one of the statements is   true           | x < 5 or x < 4        |\n",
    "| not      | Reverse the result, returns False if the   result is true | not(x < 5 and x < 10) |"
   ]
  },
  {
   "cell_type": "code",
   "execution_count": 10,
   "metadata": {},
   "outputs": [
    {
     "data": {
      "text/plain": [
       "False"
      ]
     },
     "execution_count": 10,
     "metadata": {},
     "output_type": "execute_result"
    }
   ],
   "source": [
    "x = 7\n",
    "x < 5 and x < 10"
   ]
  },
  {
   "cell_type": "code",
   "execution_count": 11,
   "metadata": {},
   "outputs": [
    {
     "data": {
      "text/plain": [
       "False"
      ]
     },
     "execution_count": 11,
     "metadata": {},
     "output_type": "execute_result"
    }
   ],
   "source": [
    "x < 5 or x > 10"
   ]
  },
  {
   "cell_type": "code",
   "execution_count": 12,
   "metadata": {},
   "outputs": [
    {
     "data": {
      "text/plain": [
       "False"
      ]
     },
     "execution_count": 12,
     "metadata": {},
     "output_type": "execute_result"
    }
   ],
   "source": [
    "not( x == 7 )"
   ]
  },
  {
   "cell_type": "markdown",
   "metadata": {},
   "source": [
    "### 2.4 Identity Operators\n",
    "\n",
    "Identity Operators check whether two objects/variables are identical, i.e. whether they point to same memory locations.\n",
    "\n",
    "| Operator | Description                                            | Example    |\n",
    "|:---------|:-------------------------------------------------------|:-----------|\n",
    "| is       | Returns true if both variables are the same object     | x is y     |\n",
    "| is not   | Returns true if both variables are not the same object | x is not y |"
   ]
  },
  {
   "cell_type": "code",
   "execution_count": 13,
   "metadata": {},
   "outputs": [
    {
     "data": {
      "text/plain": [
       "True"
      ]
     },
     "execution_count": 13,
     "metadata": {},
     "output_type": "execute_result"
    }
   ],
   "source": [
    "x = 1\n",
    "y = x\n",
    "x is y"
   ]
  },
  {
   "cell_type": "code",
   "execution_count": 14,
   "metadata": {},
   "outputs": [
    {
     "data": {
      "text/plain": [
       "False"
      ]
     },
     "execution_count": 14,
     "metadata": {},
     "output_type": "execute_result"
    }
   ],
   "source": [
    "x = 1000\n",
    "y = 1000\n",
    "x is y"
   ]
  },
  {
   "cell_type": "markdown",
   "metadata": {},
   "source": [
    "<u>*Question:*</u> \n",
    "* What the output of `x is y` if both `x` and `y` are set to a small integer value, e.g. `1`.\n",
    "* Are they pointing to same object? Use `id()` function to examine them."
   ]
  },
  {
   "cell_type": "code",
   "execution_count": 15,
   "metadata": {},
   "outputs": [
    {
     "data": {
      "text/plain": [
       "True"
      ]
     },
     "execution_count": 15,
     "metadata": {},
     "output_type": "execute_result"
    }
   ],
   "source": [
    "x = 1\n",
    "y = 1\n",
    "x is y"
   ]
  },
  {
   "cell_type": "markdown",
   "metadata": {},
   "source": [
    "Identity Operator can also be used to determine whether a value is of a specific class or type."
   ]
  },
  {
   "cell_type": "code",
   "execution_count": 16,
   "metadata": {},
   "outputs": [
    {
     "data": {
      "text/plain": [
       "True"
      ]
     },
     "execution_count": 16,
     "metadata": {},
     "output_type": "execute_result"
    }
   ],
   "source": [
    "x = 1\n",
    "type(x) is int"
   ]
  },
  {
   "cell_type": "markdown",
   "metadata": {},
   "source": [
    "### 2.5 Membership Operators\n",
    "\n",
    "Membership operators enable us to test whether a value is a member of other Python objects such as strings, lists, or tuples.\n",
    "\n",
    "| Operator | Description                                                                      | Example    |\n",
    "|:---------|:---------------------------------------------------------------------------------|:-----------|\n",
    "| in       | Returns True if a sequence with the specified value is present in the object     | x in y     |\n",
    "| not in   | Returns True if a sequence with the specified value is not present in the object | x not in y |"
   ]
  },
  {
   "cell_type": "code",
   "execution_count": 17,
   "metadata": {},
   "outputs": [
    {
     "data": {
      "text/plain": [
       "True"
      ]
     },
     "execution_count": 17,
     "metadata": {},
     "output_type": "execute_result"
    }
   ],
   "source": [
    "x = 5\n",
    "y = [1,3,5,7]\n",
    "x in y"
   ]
  },
  {
   "cell_type": "code",
   "execution_count": 18,
   "metadata": {},
   "outputs": [
    {
     "data": {
      "text/plain": [
       "False"
      ]
     },
     "execution_count": 18,
     "metadata": {},
     "output_type": "execute_result"
    }
   ],
   "source": [
    "x = 5\n",
    "y = set([1,3,5,7])\n",
    "x not in y"
   ]
  },
  {
   "cell_type": "code",
   "execution_count": 19,
   "metadata": {},
   "outputs": [
    {
     "data": {
      "text/plain": [
       "True"
      ]
     },
     "execution_count": 19,
     "metadata": {},
     "output_type": "execute_result"
    }
   ],
   "source": [
    "x = 5\n",
    "y = {'five':5, 'two':2}\n",
    "x in y.values()"
   ]
  },
  {
   "cell_type": "code",
   "execution_count": 20,
   "metadata": {},
   "outputs": [
    {
     "data": {
      "text/plain": [
       "False"
      ]
     },
     "execution_count": 20,
     "metadata": {},
     "output_type": "execute_result"
    }
   ],
   "source": [
    "10 in y"
   ]
  },
  {
   "cell_type": "markdown",
   "metadata": {},
   "source": [
    "String is a collection of characters. It behaves very much like a list."
   ]
  },
  {
   "cell_type": "code",
   "execution_count": 21,
   "metadata": {},
   "outputs": [
    {
     "data": {
      "text/plain": [
       "True"
      ]
     },
     "execution_count": 21,
     "metadata": {},
     "output_type": "execute_result"
    }
   ],
   "source": [
    "x = 'Hello'\n",
    "'o' in x"
   ]
  },
  {
   "cell_type": "code",
   "execution_count": 22,
   "metadata": {},
   "outputs": [
    {
     "data": {
      "text/plain": [
       "True"
      ]
     },
     "execution_count": 22,
     "metadata": {},
     "output_type": "execute_result"
    }
   ],
   "source": [
    "'h' not in x"
   ]
  },
  {
   "cell_type": "markdown",
   "metadata": {},
   "source": [
    "### 2.6 Bitwise Operators\n",
    "\n",
    "| Operator | Name                 | Description                                                                                  |\n",
    "|:---------|:---------------------|:---------------------------------------------------------------------------------------------|\n",
    "| &        | AND                  | Sets each bit to 1 if both bits are 1                                                        |\n",
    "| \\|        | OR                   | Sets each bit to 1 if one of two bits is 1                                                   |\n",
    "|  ^       | XOR                  | Sets each bit to 1 if only one of two bits is 1                                              |\n",
    "| ~        | NOT                  | Inverts all the bits                                                                         |\n",
    "| <<       | Zero fill left shift | Shift left by pushing zeros in from the right and remove leftmost bits                       |\n",
    "| >>       | Signed right shift   | Shift right by pushing copies of the leftmost bit in from the left and remove rightmost bits |"
   ]
  },
  {
   "cell_type": "code",
   "execution_count": 23,
   "metadata": {},
   "outputs": [
    {
     "name": "stdout",
     "output_type": "stream",
     "text": [
      "0b1000 0b100 0b1100\n"
     ]
    },
    {
     "data": {
      "text/plain": [
       "0"
      ]
     },
     "execution_count": 23,
     "metadata": {},
     "output_type": "execute_result"
    }
   ],
   "source": [
    "x = 8    \n",
    "y = 4\n",
    "z = x | y\n",
    "print(bin(x), bin(y), bin(z))\n",
    "x & y"
   ]
  },
  {
   "cell_type": "markdown",
   "metadata": {},
   "source": [
    "### 2.7 Assignment Operators \n",
    "\n",
    "Assignment operators are used to assign values to variables. \n",
    "\n",
    "Following are compound operator which perform operation and then assign value.\n",
    "\n",
    "| Operator | Example | Same As    |\n",
    "|:----------|:---------|:------------|\n",
    "| +=       | x += 3  | x = x + 3  |\n",
    "| -=       | x -= 3  | x = x - 3  |\n",
    "| *=       | x *= 3  | x = x * 3  |\n",
    "| /=       | x /= 3  | x = x / 3  |\n",
    "| %=       | x %= 3  | x = x % 3  |\n",
    "| //=      | x //= 3 | x = x // 3 |\n",
    "| **=      | x **= 3 | x = x ** 3 |"
   ]
  },
  {
   "cell_type": "code",
   "execution_count": 24,
   "metadata": {},
   "outputs": [],
   "source": [
    "x = 10\n",
    "# x++ # Not working\n",
    "x += 1"
   ]
  },
  {
   "cell_type": "markdown",
   "metadata": {},
   "source": [
    "### 2.8 Operator Precedence\n",
    "\n",
    "Operators have precedence so that expressions are evaluated in predefined order.\n",
    "\n",
    "Following are some common operators with descending order of precedence.\n",
    "* Expressions in `()` operator are given higher precedences.\n",
    "* Product, division, remainder\n",
    "    * `*`, `/`, `//`, `%`\n",
    "* Addition, subtraction\n",
    "    * `+`, `–`\n",
    "* Comparisons, membership, identity\n",
    "    * `in`, `not in`, `is`, `is not`, `<`, `<=`, `>`, `>=`, `!=`, `==`\n",
    "\n",
    "If not sure, always use parentheses `()` to group expressions."
   ]
  },
  {
   "cell_type": "code",
   "execution_count": 25,
   "metadata": {},
   "outputs": [
    {
     "data": {
      "text/plain": [
       "0"
      ]
     },
     "execution_count": 25,
     "metadata": {},
     "output_type": "execute_result"
    }
   ],
   "source": [
    "10 * (1 + 2) % 3"
   ]
  },
  {
   "cell_type": "markdown",
   "metadata": {},
   "source": [
    "## Recap\n",
    "\n",
    "* What's the operator to check if two values are NOT equal?\n",
    "* How to check if two variables are referring to the same object?\n",
    "* What's the operator to check whether a list contains a particular value?\n",
    "* What are the operators used to join multiple conditions?"
   ]
  },
  {
   "cell_type": "markdown",
   "metadata": {},
   "source": [
    "## Reference\n",
    "\n",
    "* https://www.w3schools.com/python/python_operators.asp"
   ]
  }
 ],
 "metadata": {
  "kernelspec": {
   "display_name": "Python 3",
   "language": "python",
   "name": "python3"
  },
  "language_info": {
   "codemirror_mode": {
    "name": "ipython",
    "version": 3
   },
   "file_extension": ".py",
   "mimetype": "text/x-python",
   "name": "python",
   "nbconvert_exporter": "python",
   "pygments_lexer": "ipython3",
   "version": "3.7.3"
  },
  "toc": {
   "base_numbering": 1,
   "nav_menu": {},
   "number_sections": true,
   "sideBar": true,
   "skip_h1_title": false,
   "title_cell": "Table of Contents",
   "title_sidebar": "Contents",
   "toc_cell": false,
   "toc_position": {},
   "toc_section_display": true,
   "toc_window_display": true
  }
 },
 "nbformat": 4,
 "nbformat_minor": 2
}
