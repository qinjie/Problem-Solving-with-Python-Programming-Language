{
 "cells": [
  {
   "cell_type": "markdown",
   "metadata": {},
   "source": [
    "# User-defined Functions\n",
    "\n",
    "**Function** is a group of related statements that perform a specific task.\n",
    "\n",
    "### Why use function?\n",
    "\n",
    "* Functions help break program into smaller and modular chunks.\n",
    "* It supports code reusability and reduces repeative code.\n",
    "* It make large program more organized and manageable.\n",
    "\n",
    "\n",
    "## 1. Basic Syntax\n",
    "\n",
    "```\n",
    "def function_name(parameters):\n",
    "\t\"\"\"docstring\"\"\"\n",
    "\tstatement(s)\n",
    "```\n",
    "\n",
    "* Keyword `def` marks the start of a function.\n",
    "* Every function has a name as uniquely identification.\n",
    "* It may take in optional values, known as **parameters**, before running the code block.\n",
    "* It may return vale as a result using `return` statement.\n",
    "    * If no `return` statement, the function will `return None` at the end of the function. \n",
    "* Optional documentation string (docstring) describes what the function does. It may be multiple lines of string.\n",
    "* All statements must be equally identied, which is usually 4 spaces. \n",
    "\n",
    "**Note:** Do not indent your program with mix of spaces and tabs. \n",
    "\n",
    "### What functions have used so far?\n",
    "\n",
    "We have used a few functions when we learnt about Pyhton basic data types. Can you name any?\n",
    "* How do you check data type of an object?\n",
    "* How do you convert a value from one data type to another?\n",
    "* How to you print out value(s) in console?"
   ]
  },
  {
   "cell_type": "code",
   "execution_count": 1,
   "metadata": {},
   "outputs": [
    {
     "name": "stdout",
     "output_type": "stream",
     "text": [
      "<class 'str'>\n",
      "123 123\n"
     ]
    }
   ],
   "source": [
    "a = '123'\n",
    "print(type(a))\n",
    "b = int(a)\n",
    "print(a, b)"
   ]
  },
  {
   "cell_type": "markdown",
   "metadata": {},
   "source": [
    "## 2. Basic Functions\n",
    "\n",
    "Let's get familiar with how to define a function\n",
    "* Function with no input parameter nor return statement. \n",
    "* Function with input parameter.\n",
    "* Function with both input parameter and return statement."
   ]
  },
  {
   "cell_type": "markdown",
   "metadata": {},
   "source": [
    "### Simplest Function that does nothing\n",
    "\n",
    "Let's define a simplest function which does nothing.\n",
    "* Keyword `pass` is used to indicate nothing to be done in the function body."
   ]
  },
  {
   "cell_type": "code",
   "execution_count": 2,
   "metadata": {},
   "outputs": [],
   "source": [
    "def do_nothing():\n",
    "    pass"
   ]
  },
  {
   "cell_type": "code",
   "execution_count": 3,
   "metadata": {},
   "outputs": [
    {
     "data": {
      "text/plain": [
       "function"
      ]
     },
     "execution_count": 3,
     "metadata": {},
     "output_type": "execute_result"
    }
   ],
   "source": [
    "type(do_nothing)"
   ]
  },
  {
   "cell_type": "markdown",
   "metadata": {},
   "source": [
    "### Hello World\n",
    "\n",
    "Let's define a basic `hello_world` function without input parameter and return statement.\n",
    "* It simply prints \"Hell World\"."
   ]
  },
  {
   "cell_type": "code",
   "execution_count": 4,
   "metadata": {},
   "outputs": [
    {
     "name": "stdout",
     "output_type": "stream",
     "text": [
      "Have a good day\n",
      "Hello World\n"
     ]
    }
   ],
   "source": [
    "def hello_world():\n",
    "    print(\"Hello World\")\n",
    "\n",
    "print(\"Have a good day\")\n",
    "hello_world()"
   ]
  },
  {
   "cell_type": "markdown",
   "metadata": {},
   "source": [
    "### Hello Who\n",
    "\n",
    "Let's use **input parameter** to make the hello function more flexible. \n",
    "* It take in an input value `who`, and prints \"Hello {who}\"."
   ]
  },
  {
   "cell_type": "code",
   "execution_count": 5,
   "metadata": {},
   "outputs": [
    {
     "name": "stdout",
     "output_type": "stream",
     "text": [
      "Hello Singapore\n"
     ]
    }
   ],
   "source": [
    "def hello_who(who):\n",
    "    print(\"Hello {}\".format(who))\n",
    "\n",
    "hello_who(\"Singapore\")"
   ]
  },
  {
   "cell_type": "code",
   "execution_count": 6,
   "metadata": {},
   "outputs": [
    {
     "name": "stdout",
     "output_type": "stream",
     "text": [
      "3\n",
      "hello world\n",
      "[1, 2, 'a', 'b']\n"
     ]
    }
   ],
   "source": [
    "def add_them(a, b):\n",
    "    return a+b\n",
    "\n",
    "print(add_them(1,2))\n",
    "print(add_them('hello ', 'world'))\n",
    "print(add_them([1,2], ['a', 'b']))"
   ]
  },
  {
   "cell_type": "code",
   "execution_count": 7,
   "metadata": {},
   "outputs": [
    {
     "name": "stdout",
     "output_type": "stream",
     "text": [
      "12\n",
      "hellohellohellohello\n"
     ]
    }
   ],
   "source": [
    "def mul_them(a, b):\n",
    "    return a * b\n",
    "\n",
    "print(mul_them(3, 4))\n",
    "print(mul_them('hello', 4))"
   ]
  },
  {
   "cell_type": "markdown",
   "metadata": {},
   "source": [
    "### How to call a function?\n",
    "\n",
    "Function can be called/used in another function. Before a function can be used, it needs to be defined first. It can also be defined in another module and imported beofre use.\n",
    "\n",
    "***Question:**\n",
    "What is wrong with following code?"
   ]
  },
  {
   "cell_type": "code",
   "execution_count": 8,
   "metadata": {},
   "outputs": [
    {
     "name": "stdout",
     "output_type": "stream",
     "text": [
      "<class 'function'>\n",
      "Hello World\n",
      "Hello Singapore\n"
     ]
    }
   ],
   "source": [
    "def hello_twice():\n",
    "    hello_who(\"World\")\n",
    "    hello_who(\"Singapore\")\n",
    "\n",
    "print(type(hello_twice))\n",
    "hello_twice()"
   ]
  },
  {
   "cell_type": "markdown",
   "metadata": {},
   "source": [
    "### Function with both Inputs and Return Statement\n",
    "\n",
    "Let's define a function `my_max` which return the greater value of 2 input values. "
   ]
  },
  {
   "cell_type": "code",
   "execution_count": 9,
   "metadata": {},
   "outputs": [
    {
     "name": "stdout",
     "output_type": "stream",
     "text": [
      "20\n"
     ]
    },
    {
     "data": {
      "text/plain": [
       "20"
      ]
     },
     "execution_count": 9,
     "metadata": {},
     "output_type": "execute_result"
    }
   ],
   "source": [
    "def my_max(x, y):\n",
    "    if x > y:\n",
    "        return x\n",
    "    else:\n",
    "        return y\n",
    "\n",
    "print(my_max(10, 20))\n",
    "\n",
    "def my_max2(x, y):\n",
    "    return x if x > y else y\n",
    "\n",
    "my_max2(10, 20)"
   ]
  },
  {
   "cell_type": "code",
   "execution_count": 10,
   "metadata": {},
   "outputs": [
    {
     "name": "stdout",
     "output_type": "stream",
     "text": [
      "even\n"
     ]
    }
   ],
   "source": [
    "x = 10\n",
    "result = 'even' if x % 2 == 0 else 'odd'\n",
    "print(result)"
   ]
  },
  {
   "cell_type": "markdown",
   "metadata": {},
   "source": [
    "## 3. Using Functions and Modules (using IDLE)\n",
    "\n",
    "It is common to put one or more functions in a file, which is called a Python **module**. \n",
    "* All python files have extension of **.py**.\n",
    "\n",
    "We will use **IDLE** in this session to get familiar with **modules**."
   ]
  },
  {
   "cell_type": "markdown",
   "metadata": {},
   "source": [
    "### IDLE Working Directory\n",
    "\n",
    "When IDLE starts, it presents a REPL (Read-Evaluate-Print-Loop), which is similar to how you run Python on command line. All command line have a current working directory. \n",
    "\n",
    "**Question:** What is current working directory of IDLE?\n",
    "\n",
    "To get and set current working directory of IDLE, we need the help of `os` module. \n",
    "* `os.getcwd()` returns current working directory\n",
    "* `os.chdir()` change current working directory\n",
    "\n",
    "Start IDLE and try following:\n",
    "* Verify that IDLE's current working directory is \"C:\\\\WINDOWS\\\\system32\"\n",
    "* Change working directory to \"C:\\\\\""
   ]
  },
  {
   "cell_type": "code",
   "execution_count": 11,
   "metadata": {},
   "outputs": [],
   "source": [
    "# >>> import os\n",
    "# >>> os.getcwd()\n",
    "# >>> os.chdir('C:\\\\')\n",
    "# >>> os.getcwd()"
   ]
  },
  {
   "cell_type": "markdown",
   "metadata": {},
   "source": [
    "### Create New Module\n",
    "\n",
    "Create a new Python file from IDEL using menu `File > New File`.\n",
    "* Add following two functions to the file\n",
    "\n",
    "```\n",
    "def hello_once(name):\n",
    "    print('Hello {}'.format(name))\n",
    "\n",
    "def hello_many(items):\n",
    "    for item in items:\n",
    "        hello_once(item)\n",
    "```\n",
    "\n",
    "* Save file as `myhello.py`\n",
    "* Press `F5` to run the module\n",
    "\n",
    "\n",
    "**Question:** What is the current working directory of IDLE now?\n",
    "* IDLE automatically change working directory to the folder containing the script which is run.\n"
   ]
  },
  {
   "cell_type": "markdown",
   "metadata": {},
   "source": [
    "### Import Module in IDLE \n",
    "\n",
    "To import `myhello.py` module, use `import` statement without `.py` extension.\n",
    "* After importing, we can use the functions from the module\n",
    "* To call the function in the module, prefix the function by the module name. (Although it is ok to run without module prefix in IDLE)"
   ]
  },
  {
   "cell_type": "code",
   "execution_count": 12,
   "metadata": {},
   "outputs": [],
   "source": [
    "# >>> import myhello\n",
    "# >>> myhello.hello_once(\"World\")\n",
    "# >>> myhello.hello_many([\"World\", \"Python\"])"
   ]
  },
  {
   "cell_type": "markdown",
   "metadata": {},
   "source": [
    "#### Re-import Module after Modification\n",
    "\n",
    "* Modify the `hello_once` function in `myhello.py` file with following content. (Remember to save file)\n",
    "\n",
    "```\n",
    "def hello_once(name):\n",
    "    print('Hello again {}'.format(name))\n",
    "```\n",
    "\n",
    "* Import the module again\n",
    "* Run hello_once() function again\n",
    "\n",
    "**Question:** Does the output reflect the code changes?"
   ]
  },
  {
   "cell_type": "code",
   "execution_count": 13,
   "metadata": {},
   "outputs": [],
   "source": [
    "# >>> import myhello\n",
    "# >>> myhello.hello_once('World')"
   ]
  },
  {
   "cell_type": "markdown",
   "metadata": {},
   "source": [
    "#### Reload Imported Module\n",
    "\n",
    "For each Python REPL session, module importing is only done once. To re-import a module, we need the help of `importlib` module.\n",
    "\n",
    "* Upon import, the code in module is executed"
   ]
  },
  {
   "cell_type": "code",
   "execution_count": 14,
   "metadata": {},
   "outputs": [],
   "source": [
    "# >>> import importlib\n",
    "# >>> importlib.reload(myhello)\n",
    "# >>> myhello.hello_once('World')"
   ]
  },
  {
   "cell_type": "markdown",
   "metadata": {},
   "source": [
    "## 4. Module Import vs. Module Execution\n",
    "\n",
    "We will try this session on Command Prompt or PowerShell.\n",
    "\n",
    "\n",
    "### Module Execution\n",
    "\n",
    "Pyton file can be executed directly using Python executable on command line. \n",
    "\n",
    "* Start a Windows Command Prompt or PowerShell. Go to folder containing `myhello.py`\n",
    "* Run following command to execute the module\n",
    "\n",
    "```\n",
    "$ python myhello.py\n",
    "```\n",
    "\n",
    "* Append following line to the end of `myhello.py` file. (Without any leading space on the line)\n",
    "\n",
    "```\n",
    "hello_many([\"World\", \"Python\"])\n",
    "```\n",
    "\n",
    "* Execute the module again. Following are the printouts.\n",
    "\n",
    "```\n",
    "Hello again World\n",
    "Hello again Python\n",
    "```"
   ]
  },
  {
   "cell_type": "markdown",
   "metadata": {},
   "source": [
    "### Module Import\n",
    "\n",
    "Let's try to import `myhello` module again.\n",
    "\n",
    "* On Command Prompt or PowerShell, start a Python REPL session by executing `python`.\n",
    "* Import `myhello` module. \n",
    "    * Since this is a new Python REPL session, we dont need the help of `importlib`.\n",
    "* **Question:** Is the module executed during import too?\n",
    "\n",
    "Modules will be executed once during import. We would not like above printout when a module is imported in another module.\n",
    "\n",
    "**Question:** How can we make a module suitable for both **execution** and **import**? "
   ]
  },
  {
   "cell_type": "markdown",
   "metadata": {},
   "source": [
    "### The \\_\\_name\\_\\_ Variable\n",
    "\n",
    "Special attributes/variables in Python are enclosed by **double underscores**, e.g. `__name__`.\n",
    "\n",
    "The `__name__` variable will have different value depending on how an enclosing module is used.\n",
    "* It will be evaluated to `\"__main__\"` if the module is executed.\n",
    "* It will be evaluated to module name if the module is imported.\n",
    "\n",
    "* Append following line in `myhello.py` file.\n",
    "\n",
    "```\n",
    "print(__name__)\n",
    "```\n",
    "\n",
    "* Press CTRL+z (on Windows) to exit from Python REPL.\n",
    "* Run following command to execute the module. What is the value of `__name__`?\n",
    "\n",
    "```\n",
    "$ python myhello.py\n",
    "```\n",
    "\n",
    "* Start Python REPL by typing `python`.\n",
    "* Import `myhello` module. What is the value of `__name__`?"
   ]
  },
  {
   "cell_type": "markdown",
   "metadata": {},
   "source": [
    "### Use \\_\\_name\\_\\_ Variable in Module\n",
    "\n",
    "We can make use of __name__ variable to support both **module import** and **module execution**.\n",
    "\n",
    "In your `myhello.py` file, following are the 2 last lines of code. \n",
    "\n",
    "```\n",
    "hello_many([\"World\", \"Python\"])\n",
    "print(__name__)\n",
    "```\n",
    "\n",
    "Modify it to following code. \n",
    "\n",
    "```\n",
    "if __name__ == '__main__':\n",
    "        hello_many([\"World\", \"Python\"])\n",
    "```\n",
    "\n",
    "Try to execute and import `myhello` module again.\n",
    "* Press CTRL+z to exit Python REPL\n",
    "* Run `python myhello.py`\n",
    "* Start Python REPL by running `pyhton`\n",
    "* Import `myhello` module\n",
    "\n",
    "**Question:** how does `__name__` make a difference?\n",
    "\n",
    "\n",
    "* It's a common practice to include a `if __name__ == '__main__':` session in python script so that it can be used for both module execution and module import."
   ]
  },
  {
   "cell_type": "markdown",
   "metadata": {},
   "source": [
    "### More on Import Modules"
   ]
  },
  {
   "cell_type": "markdown",
   "metadata": {},
   "source": [
    "Ther are several options to import a module.\n",
    "\n",
    "* Import module and access functions through module\n",
    "```\n",
    "import myhello\n",
    "```\n",
    "\n",
    "* Import specific functions from module\n",
    "```\n",
    "from myhello import hello_once, hello_many\n",
    "```\n",
    "\n",
    "* Imoprt everything from a module\n",
    "```\n",
    "from myhello import *\n",
    "```\n",
    "\n",
    "Last option NOT recommended because you do not have a control on what is imported. It may potentially cause **namespace collashes**, if the imported module contains functions of same name as your own functions.  \n"
   ]
  },
  {
   "cell_type": "markdown",
   "metadata": {},
   "source": [
    "### Command Line Arguments\n",
    "\n",
    "When executing a python file, we may want to pass it some arguments, which is called **Command Line Arguments**.\n",
    "\n",
    "To get the list of arguments passed to the script, we use `sys.argv` in `sys` module. \n",
    "* `sys.argv` is the list of command-line arguments.\n",
    "* `len(sys.argv)` is the number of command-line arguments.\n",
    "* `sys.argv[0]` is the script name.\n",
    "\n",
    "**Question:**\n",
    "How to get list of all arguments excluding script name? \n"
   ]
  },
  {
   "cell_type": "markdown",
   "metadata": {},
   "source": [
    "Let's use them in our `myhello` module.\n",
    "\n",
    "* Modify the `__main__` code block in `myhello.py` file as following \n",
    "```\n",
    "import sys\n",
    "if __name__ == '__main__':\n",
    "        print(\"Script name: {}\".format(sys.argv[0]))\n",
    "        if len(sys.argv) == 2:\n",
    "                hello_once(sys.argv[1])\n",
    "        if len(sys.argv) > 2: \n",
    "                hello_many(sys.argv[1:])\n",
    "```\n",
    "\n",
    "* On Command Prompt or PowerShell, run following commands\n",
    "```\n",
    "$ python myhello.py\n",
    "$ python myhello.py World\n",
    "$ python myhello.py World Python\n",
    "```\n"
   ]
  },
  {
   "cell_type": "markdown",
   "metadata": {},
   "source": [
    "#### (Optional) What about Named Command Line Arguments?\n",
    "\n",
    "If multple arguments to be passed to a script, it is less confusing if user can specify the name of each argument. Example, `python myhello.py --whom World`.\n",
    "\n",
    "It's common to use named command arguments while executing scripts. To implement it, check out `argparse` module.\n",
    "\n",
    "Reference: https://stackoverflow.com/questions/40001892/reading-named-command-arguments"
   ]
  },
  {
   "cell_type": "markdown",
   "metadata": {},
   "source": [
    "## 5. Docstring\n",
    "\n",
    "The first string after the function header is called **documentation string**, which is commonly called **docstring**. \n",
    "\n",
    "Docstring serves as documentation for your function so that anyone who reads the function’s docstring understands what the function does, without having to trace through all the code in the function definition.\n",
    "\n",
    "* It is used to explain briefly what a function does.\n",
    "* It is optional but highly recommended.\n",
    "* It can be single-line or multiple-lines. It is common to use **triple quotes** which is capable of defining multi-line string."
   ]
  },
  {
   "cell_type": "markdown",
   "metadata": {},
   "source": [
    "### Add Docstring to Module and Function\n",
    "\n",
    "Modify the `myhello.py` file by adding Docstring for both module and functions.\n",
    "* Module docstring must start at 1st line of the file.\n",
    "* Function docstring must start immediately afte `def` statement"
   ]
  },
  {
   "cell_type": "code",
   "execution_count": 15,
   "metadata": {},
   "outputs": [
    {
     "name": "stdout",
     "output_type": "stream",
     "text": [
      "Script name: C:\\Users\\User\\Anaconda3\\lib\\site-packages\\ipykernel_launcher.py\n",
      "Hello again -f\n",
      "Hello again C:\\Users\\User\\AppData\\Roaming\\jupyter\\runtime\\kernel-3b1e6e2b-c17d-4d6b-8541-f6e437801503.json\n"
     ]
    }
   ],
   "source": [
    "'''\n",
    "My first module in Python.\n",
    "It contains a few classic hello-world functions.\n",
    "'''\n",
    "\n",
    "def hello_once(name):\n",
    "    '''Say hello once\n",
    "    \n",
    "    Args: \n",
    "        A string containing the name\n",
    "    '''\n",
    "    print('Hello again {}'.format(name))\n",
    "\n",
    "def hello_many(items):\n",
    "    '''Say hello multiple times\n",
    "\n",
    "    Args: \n",
    "        A list of names\n",
    "    '''\n",
    "    for item in items:\n",
    "        hello_once(item)\n",
    "\n",
    "import sys\n",
    "if __name__ == '__main__':\n",
    "      print(\"Script name: {}\".format(sys.argv[0]))\n",
    "      if len(sys.argv) == 2:\n",
    "              hello_once(sys.argv[1])\n",
    "      if len(sys.argv) > 2: \n",
    "              hello_many(sys.argv[1:])"
   ]
  },
  {
   "cell_type": "markdown",
   "metadata": {},
   "source": [
    "### How to access Docstring?\n",
    "\n",
    "Docstring of a function or class can be accessed using **help()** function or `__doc__` attribute of the function or class.\n",
    "\n",
    "* Start a Python REPL\n",
    "* Import `myhello` module\n",
    "\n",
    "```\n",
    "$ import myhello\n",
    "```\n",
    "\n",
    "* Print docstring of module and function\n",
    "\n",
    "```\n",
    "$ print(myhello.__doc__)\n",
    "$ help(myhello)\n",
    "$ print(myhello.hello_many.__doc__)\n",
    "$ help(myhello.hello_many)\n",
    "```"
   ]
  },
  {
   "cell_type": "markdown",
   "metadata": {},
   "source": [
    "## 6.  Function Arguments and Returned Value\n",
    "\n",
    "### Input Parameters vs Arguments\n",
    "\n",
    "A function may have 0 or more **input parameters**.  \n",
    "The input values passed into a function is commonly called **Arguments**.\n",
    "\n",
    "There are different types of arguments:\n",
    "* Default arguments\n",
    "* Required arguments\n",
    "* Keyword arguments\n",
    "* Variable number of arguments\n",
    "\n",
    "Let's define a funtion `simple_add` which takes in a few values and return sum of them.\n",
    "\n",
    "```\n",
    "def simple_add(a, b, c):\n",
    "    s = a + b + c\n",
    "    return s\n",
    "```"
   ]
  },
  {
   "cell_type": "code",
   "execution_count": 16,
   "metadata": {},
   "outputs": [],
   "source": [
    "def simple_add(a, b, c):\n",
    "    s = a + b + c\n",
    "    return s"
   ]
  },
  {
   "cell_type": "markdown",
   "metadata": {},
   "source": [
    "### Required Arguments\n",
    "\n",
    "All arguments, `a` and `b` and `c` are **required arguments**. You need to pass in all required values before you can call `simple_add` function. "
   ]
  },
  {
   "cell_type": "code",
   "execution_count": 17,
   "metadata": {},
   "outputs": [
    {
     "data": {
      "text/plain": [
       "6"
      ]
     },
     "execution_count": 17,
     "metadata": {},
     "output_type": "execute_result"
    }
   ],
   "source": [
    "simple_add(1, 2, 3)"
   ]
  },
  {
   "cell_type": "markdown",
   "metadata": {},
   "source": [
    "### Default Arguments\n",
    "\n",
    "Default arguments have arguments with default values. When there is no value is passed, that argument will use its default value.\n",
    "\n",
    "Modify the `simple_add` function to provide make `b` and `c` a default arguments.\n",
    "\n",
    "```\n",
    "def simple_add(a, b = 10, c = 20):\n",
    "    s = a + b + c\n",
    "    return s\n",
    "```\n",
    "\n",
    "**Question:** What if you only assign default value for `b`, i.e. only `b` is a default arguments?\n",
    "\n",
    "**Note:** All required arguments must be before default arguments."
   ]
  },
  {
   "cell_type": "code",
   "execution_count": 30,
   "metadata": {},
   "outputs": [
    {
     "data": {
      "text/plain": [
       "45"
      ]
     },
     "execution_count": 30,
     "metadata": {},
     "output_type": "execute_result"
    }
   ],
   "source": [
    "def simple_add(a, b = 10, c = 20):\n",
    "    s = a + b + c\n",
    "    return s\n",
    "\n",
    "simple_add(20)\n",
    "simple_add(20, c=15)"
   ]
  },
  {
   "cell_type": "markdown",
   "metadata": {},
   "source": [
    "### Keyword Arguments\n",
    "\n",
    "Instead of pass arguments in order, you can passs arguments identified by their name, i.e. keyword arguments. \n",
    "* With keyword argument, order of arguments is not required.\n",
    "* It can make your code easier to read. "
   ]
  },
  {
   "cell_type": "code",
   "execution_count": 19,
   "metadata": {},
   "outputs": [
    {
     "name": "stdout",
     "output_type": "stream",
     "text": [
      "Help on function simple_add in module __main__:\n",
      "\n",
      "simple_add(a, b=10, c=20)\n",
      "\n"
     ]
    }
   ],
   "source": [
    "simple_add(c = 30, a = 10, b = 20)\n",
    "\n",
    "help(simple_add)"
   ]
  },
  {
   "cell_type": "markdown",
   "metadata": {},
   "source": [
    "**Question:** Can I omit some default arguments while using keyword arguments?"
   ]
  },
  {
   "cell_type": "code",
   "execution_count": 20,
   "metadata": {},
   "outputs": [
    {
     "data": {
      "text/plain": [
       "25"
      ]
     },
     "execution_count": 20,
     "metadata": {},
     "output_type": "execute_result"
    }
   ],
   "source": [
    "simple_add(a = 10, c = 5)"
   ]
  },
  {
   "cell_type": "markdown",
   "metadata": {},
   "source": [
    "### Keyword Arguments using Dictionary\n",
    "\n",
    "We can pack all keywoard arguments in one dictionary before pass it to a function. \n"
   ]
  },
  {
   "cell_type": "code",
   "execution_count": 21,
   "metadata": {},
   "outputs": [
    {
     "name": "stdout",
     "output_type": "stream",
     "text": [
      "60\n",
      "60\n"
     ]
    }
   ],
   "source": [
    "def simple_add(a, b=20, c=30):\n",
    "    s = a + b + c\n",
    "    return s\n",
    "\n",
    "myval = {'a':10, 'b':20, 'c':30}\n",
    "print(simple_add(**myval))\n",
    "myval = {'a':10, 'c':30}\n",
    "print(simple_add(**myval))\n"
   ]
  },
  {
   "cell_type": "markdown",
   "metadata": {},
   "source": [
    "### Variable Number of Arguments"
   ]
  },
  {
   "cell_type": "markdown",
   "metadata": {},
   "source": [
    "Sometimes you are not sure the exact number of arguments to be passed to a function. You can capture any number of argument with `*args`.\n",
    "\n",
    "The asterisk `(*)` prefixing an variable name, e.g. `*args`, indicates that variable will be **unpacked** into multiple values.  \n",
    "* The variable holds values of all **nonkeyword variable arguments**.\n",
    "\n",
    "Define another function add_all() which add all argument values and return result.\n",
    "\n",
    "```\n",
    "def add_all(*args):\n",
    "    s = 0\n",
    "    for i in args:\n",
    "        s = s + i\n",
    "    return s\n",
    "```\n",
    "\n",
    "**Question:** Can I replace `*args` with another name, e.g. `*inputs`? "
   ]
  },
  {
   "cell_type": "code",
   "execution_count": 22,
   "metadata": {},
   "outputs": [
    {
     "name": "stdout",
     "output_type": "stream",
     "text": [
      "(1, 2, 3, 4)\n"
     ]
    },
    {
     "data": {
      "text/plain": [
       "10"
      ]
     },
     "execution_count": 22,
     "metadata": {},
     "output_type": "execute_result"
    }
   ],
   "source": [
    "def add_all(*args):\n",
    "    print(args)\n",
    "    s = 0\n",
    "    for i in args:\n",
    "        s = s + i\n",
    "    return s\n",
    "\n",
    "add_all(1,2,3,4)"
   ]
  },
  {
   "cell_type": "markdown",
   "metadata": {},
   "source": [
    "### Variable Number of Keyword Arguments\n",
    "\n",
    "KWargs or “keyword arguments” allows you to pass the keyworded, dictionary as arguments. Because dictionaries are almost always super useful.\n",
    "\n",
    "```\n",
    "def print_values(**kwargs):\n",
    "    for key, value in kwargs.items():\n",
    "        print(\"{} is {}\".format(key, value))\n",
    "\n",
    "print_values(my_name=\"ah boy\", your_name=\"ah girl\")\n",
    "```"
   ]
  },
  {
   "cell_type": "code",
   "execution_count": 23,
   "metadata": {},
   "outputs": [
    {
     "name": "stdout",
     "output_type": "stream",
     "text": [
      "my_name is ah boy\n",
      "your_name is ah girl\n"
     ]
    }
   ],
   "source": [
    "def print_values(**kwargs):\n",
    "    for key, value in kwargs.items():\n",
    "        print(\"{} is {}\".format(key, value))\n",
    "\n",
    "print_values(my_name=\"ah boy\", your_name=\"ah girl\")"
   ]
  },
  {
   "cell_type": "markdown",
   "metadata": {},
   "source": [
    "### Return Statement\n",
    "\n",
    "A funciton may return one or more values implicitly or explicitly. To return value(s) out of a function, use `return` statement."
   ]
  },
  {
   "cell_type": "code",
   "execution_count": 24,
   "metadata": {},
   "outputs": [
    {
     "name": "stdout",
     "output_type": "stream",
     "text": [
      "3\n"
     ]
    }
   ],
   "source": [
    "def simple_add(a, b):\n",
    "    return a + b\n",
    "\n",
    "result = simple_add(1,2)\n",
    "print(result)"
   ]
  },
  {
   "cell_type": "markdown",
   "metadata": {},
   "source": [
    "#### Return Multiple Values\n",
    "A function may return **multiple** values. When multiple values are returned, they are packed into a tuple. "
   ]
  },
  {
   "cell_type": "code",
   "execution_count": 25,
   "metadata": {},
   "outputs": [
    {
     "name": "stdout",
     "output_type": "stream",
     "text": [
      "(30, 10, 200, 2.0)\n",
      "<class 'tuple'>\n"
     ]
    }
   ],
   "source": [
    "def simple_math(a, b):\n",
    "    return a + b, a - b, a * b, a / b\n",
    "\n",
    "result = simple_math(20,10)\n",
    "print(result)\n",
    "print(type(result))"
   ]
  },
  {
   "cell_type": "markdown",
   "metadata": {},
   "source": [
    "#### Use * to Grab Excess Items\n",
    "\n",
    "The * can be used to grab multple values, e.g. indicate a function parameter can take in multiple arguments. It can also be used to grab multiple items in returned values.    "
   ]
  },
  {
   "cell_type": "code",
   "execution_count": 26,
   "metadata": {},
   "outputs": [
    {
     "name": "stdout",
     "output_type": "stream",
     "text": [
      "30\n",
      "[10, 200, 2.0]\n"
     ]
    }
   ],
   "source": [
    "result, *others = simple_math(20,10)\n",
    "print(result)\n",
    "print(others)"
   ]
  },
  {
   "cell_type": "markdown",
   "metadata": {},
   "source": [
    "#### Implicit Return\n",
    "\n",
    "If a function has no `return` statement in a function, or its `return` statement doesn't followed by any object, the function returns a `None`.\n"
   ]
  },
  {
   "cell_type": "code",
   "execution_count": 27,
   "metadata": {},
   "outputs": [
    {
     "name": "stdout",
     "output_type": "stream",
     "text": [
      "before return\n",
      "no return\n",
      "None None\n"
     ]
    }
   ],
   "source": [
    "def fun1():\n",
    "    print('before return')\n",
    "    return\n",
    "    print('after return')\n",
    "\n",
    "def fun2():\n",
    "    print('no return')\n",
    "\n",
    "r1 = fun1()\n",
    "r2 = fun2()\n",
    "print('{} {}'.format(r1, r2))"
   ]
  },
  {
   "cell_type": "markdown",
   "metadata": {},
   "source": [
    "## 7.Variable Scope - Global vs Local\n",
    "\n",
    "The scope of a variable determines the portion of the program where you can access a particular variable. There are two basic variable scopes in Python\n",
    "\n",
    "* **Global variables:** variables defined **outside** a function body \n",
    "* **Local variables:** variables defined **inside** a function body\n",
    "\n",
    "Global and Local variables are in different scopes\n",
    "* Local variables can be accessed only inside the function in which they are declared\n",
    "* Global variables can be accessed throughout the program body"
   ]
  },
  {
   "cell_type": "code",
   "execution_count": 28,
   "metadata": {},
   "outputs": [
    {
     "name": "stdout",
     "output_type": "stream",
     "text": [
      "True\n",
      "4\n"
     ]
    },
    {
     "ename": "NameError",
     "evalue": "name 'y' is not defined",
     "output_type": "error",
     "traceback": [
      "\u001b[1;31m---------------------------------------------------------------------------\u001b[0m",
      "\u001b[1;31mNameError\u001b[0m                                 Traceback (most recent call last)",
      "\u001b[1;32m<ipython-input-28-c6f0e743e7b6>\u001b[0m in \u001b[0;36m<module>\u001b[1;34m\u001b[0m\n\u001b[0;32m     12\u001b[0m \u001b[1;33m\u001b[0m\u001b[0m\n\u001b[0;32m     13\u001b[0m \u001b[0mmyfunc\u001b[0m\u001b[1;33m(\u001b[0m\u001b[1;33m)\u001b[0m\u001b[1;33m\u001b[0m\u001b[1;33m\u001b[0m\u001b[0m\n\u001b[1;32m---> 14\u001b[1;33m \u001b[0mprint\u001b[0m\u001b[1;33m(\u001b[0m\u001b[0mx\u001b[0m\u001b[1;33m,\u001b[0m \u001b[0my\u001b[0m\u001b[1;33m,\u001b[0m \u001b[0mz\u001b[0m\u001b[1;33m)\u001b[0m\u001b[1;33m\u001b[0m\u001b[1;33m\u001b[0m\u001b[0m\n\u001b[0m",
      "\u001b[1;31mNameError\u001b[0m: name 'y' is not defined"
     ]
    }
   ],
   "source": [
    "def myfunc():\n",
    "    x = 10\n",
    "    if x > 0:\n",
    "        y = True\n",
    "    else:\n",
    "        y = False\n",
    "    print(y)\n",
    "    for item in range(5):\n",
    "        z = item\n",
    "\n",
    "    print(z)\n",
    "\n",
    "myfunc()\n",
    "print(x, y, z)"
   ]
  },
  {
   "cell_type": "markdown",
   "metadata": {},
   "source": [
    "### Accessing Global Variable\n",
    "\n",
    "In this example, global variable `val` can be read both inside and outside the function.\n",
    "\n",
    "```\n",
    "val = 3;\n",
    "\n",
    "def show():\n",
    "    print(\"In function: val = {}\".format(val));\n",
    "    \n",
    "show()\n",
    "print(\"Outside function: val = {}\".format(val));\n",
    "```"
   ]
  },
  {
   "cell_type": "code",
   "execution_count": null,
   "metadata": {},
   "outputs": [],
   "source": [
    "val = 3;\n",
    "\n",
    "def show():\n",
    "    print(\"In function: val = {}\".format(val));\n",
    "\n",
    "show()\n",
    "print(\"Outside function: val = {}\".format(val));"
   ]
  },
  {
   "cell_type": "markdown",
   "metadata": {},
   "source": [
    "### Accessing Local Variable\n",
    "\n",
    "The `val` variable is a local variable. It does not exist outside the function.\n",
    "* We use globals() to remove any `val` variable from previous example\n",
    "\n",
    "```\n",
    "# Clean up any `val` variable from previous example\n",
    "if 'val' in globals(): \n",
    "    del val        \n",
    "\n",
    "def show():\n",
    "    val = 3;\n",
    "    print(\"In function: val = {}\".format(val));\n",
    "    \n",
    "show()\n",
    "print(\"Outside function: val = {}\".format(val));\n",
    "```"
   ]
  },
  {
   "cell_type": "code",
   "execution_count": null,
   "metadata": {},
   "outputs": [],
   "source": [
    "# Clean up any `val` variable from previous example\n",
    "if 'val' in globals(): \n",
    "    del val        \n",
    "\n",
    "def show():\n",
    "    val = 3;\n",
    "    print(\"In function: val = {}\".format(val));\n",
    "\n",
    "show()\n",
    "print(\"Outside function: val = {}\".format(val));"
   ]
  },
  {
   "cell_type": "code",
   "execution_count": null,
   "metadata": {},
   "outputs": [],
   "source": [
    "def fun1():\n",
    "    x = 10\n",
    "    print(locals())\n",
    "\n",
    "def fun2():\n",
    "    y = 20\n",
    "    print(locals())\n",
    "\n",
    "fun1()\n",
    "fun2()\n",
    "\n",
    "if 'x' in locals():\n",
    "    print('x')\n",
    "if 'y' in locals():\n",
    "    print('y')\n",
    "if 'x' in globals():\n",
    "    print('xg')\n",
    "if 'y' in globals():\n",
    "    print('yg')\n"
   ]
  },
  {
   "cell_type": "markdown",
   "metadata": {},
   "source": [
    "### Variable Created in Different Scope\n",
    "\n",
    "Whenever a variable is assigned, it will be automatically created if it does not exist in current scope.\n",
    "\n",
    "**Question:** Why there is an error in following code?\n",
    "\n",
    "```\n",
    "x = \"global\"\n",
    "\n",
    "def foo():\n",
    "    x = x * 2\n",
    "    print(x)\n",
    "foo()\n",
    "```\n",
    "\n",
    "Both global and local scopes have a `x` variable. In the function, x is used before initialized. "
   ]
  },
  {
   "cell_type": "code",
   "execution_count": 31,
   "metadata": {},
   "outputs": [
    {
     "ename": "UnboundLocalError",
     "evalue": "local variable 'x' referenced before assignment",
     "output_type": "error",
     "traceback": [
      "\u001b[1;31m---------------------------------------------------------------------------\u001b[0m",
      "\u001b[1;31mUnboundLocalError\u001b[0m                         Traceback (most recent call last)",
      "\u001b[1;32m<ipython-input-31-529895da442c>\u001b[0m in \u001b[0;36m<module>\u001b[1;34m\u001b[0m\n\u001b[0;32m      5\u001b[0m     \u001b[0mprint\u001b[0m\u001b[1;33m(\u001b[0m\u001b[0mx\u001b[0m\u001b[1;33m)\u001b[0m\u001b[1;33m\u001b[0m\u001b[1;33m\u001b[0m\u001b[0m\n\u001b[0;32m      6\u001b[0m \u001b[1;33m\u001b[0m\u001b[0m\n\u001b[1;32m----> 7\u001b[1;33m \u001b[0mfoo\u001b[0m\u001b[1;33m(\u001b[0m\u001b[1;33m)\u001b[0m\u001b[1;33m\u001b[0m\u001b[1;33m\u001b[0m\u001b[0m\n\u001b[0m\u001b[0;32m      8\u001b[0m \u001b[0mprint\u001b[0m\u001b[1;33m(\u001b[0m\u001b[0mx\u001b[0m\u001b[1;33m)\u001b[0m\u001b[1;33m\u001b[0m\u001b[1;33m\u001b[0m\u001b[0m\n",
      "\u001b[1;32m<ipython-input-31-529895da442c>\u001b[0m in \u001b[0;36mfoo\u001b[1;34m()\u001b[0m\n\u001b[0;32m      2\u001b[0m \u001b[1;33m\u001b[0m\u001b[0m\n\u001b[0;32m      3\u001b[0m \u001b[1;32mdef\u001b[0m \u001b[0mfoo\u001b[0m\u001b[1;33m(\u001b[0m\u001b[1;33m)\u001b[0m\u001b[1;33m:\u001b[0m\u001b[1;33m\u001b[0m\u001b[1;33m\u001b[0m\u001b[0m\n\u001b[1;32m----> 4\u001b[1;33m     \u001b[0mx\u001b[0m \u001b[1;33m=\u001b[0m \u001b[0mx\u001b[0m \u001b[1;33m*\u001b[0m \u001b[1;36m2\u001b[0m\u001b[1;33m\u001b[0m\u001b[1;33m\u001b[0m\u001b[0m\n\u001b[0m\u001b[0;32m      5\u001b[0m     \u001b[0mprint\u001b[0m\u001b[1;33m(\u001b[0m\u001b[0mx\u001b[0m\u001b[1;33m)\u001b[0m\u001b[1;33m\u001b[0m\u001b[1;33m\u001b[0m\u001b[0m\n\u001b[0;32m      6\u001b[0m \u001b[1;33m\u001b[0m\u001b[0m\n",
      "\u001b[1;31mUnboundLocalError\u001b[0m: local variable 'x' referenced before assignment"
     ]
    }
   ],
   "source": [
    "x = \"global\"\n",
    "\n",
    "def foo():\n",
    "    x = x * 2\n",
    "    print(x)\n",
    "\n",
    "foo()"
   ]
  },
  {
   "cell_type": "code",
   "execution_count": null,
   "metadata": {},
   "outputs": [],
   "source": [
    "z = 2\n",
    "print(id(z))\n",
    "def foo():\n",
    "    z = 3\n",
    "    print(id(z))\n",
    "    print(z)\n",
    "\n",
    "foo()\n",
    "print(z)"
   ]
  },
  {
   "cell_type": "markdown",
   "metadata": {},
   "source": [
    "\n",
    "In following example, global variables `list1` and `list2` are pointing to same object. Inside the function, a local variable `list1` is created during assignment operation.\n",
    "\n",
    "Global `list1` and local `list1` are different variables! \n",
    "\n",
    "\n",
    "```\n",
    "list1 = [1, 2]\n",
    "list2 = list1\n",
    "print(list1 is list2)\n",
    "print(list1 == list2)\n",
    "\n",
    "def myfun():\n",
    "    print(\"Inside function\")\n",
    "    list1 = [3, 4]\n",
    "    print(list1 is list2)\n",
    "    print(list1 == list2)\n",
    "\n",
    "myfun()\n",
    "print(\"Outside function\")\n",
    "print(list1 is list2)\n",
    "print(list1 == list2)\n",
    "```"
   ]
  },
  {
   "cell_type": "code",
   "execution_count": 32,
   "metadata": {},
   "outputs": [
    {
     "name": "stdout",
     "output_type": "stream",
     "text": [
      "True\n",
      "True\n",
      "Inside function\n",
      "False\n",
      "False\n",
      "Outside function\n",
      "True\n",
      "True\n"
     ]
    }
   ],
   "source": [
    "list1 = [1, 2]\n",
    "list2 = list1\n",
    "print(list1 is list2)\n",
    "print(list1 == list2)\n",
    "\n",
    "def myfun():\n",
    "    print(\"Inside function\")\n",
    "    list1 = [3, 4]\n",
    "    print(list1 is list2)\n",
    "    print(list1 == list2)\n",
    "\n",
    "myfun()\n",
    "print(\"Outside function\")\n",
    "print(list1 is list2)\n",
    "print(list1 == list2)"
   ]
  },
  {
   "cell_type": "markdown",
   "metadata": {},
   "source": [
    "### Keyword `global`\n",
    "\n",
    "But what if I would like to modify a global variable in the function? \n",
    "\n",
    "To access global a variable in a function, you can use the `global` keyword.\n",
    "\n",
    "```\n",
    "list1 = [1, 2]\n",
    "list2 = list1\n",
    "print(list1 is list2)\n",
    "print(list1 == list2)\n",
    "\n",
    "def myfun():\n",
    "    global list1\n",
    "    print(\"Inside function\")\n",
    "    list1.append(3)\n",
    "    print(list1 is list2)\n",
    "    print(list1 == list2)\n",
    "\n",
    "myfun()\n",
    "print(\"Outside function\")\n",
    "print(list1 is list2)\n",
    "print(list1 == list2)\n",
    "```"
   ]
  },
  {
   "cell_type": "code",
   "execution_count": 33,
   "metadata": {},
   "outputs": [
    {
     "name": "stdout",
     "output_type": "stream",
     "text": [
      "True\n",
      "True\n",
      "Inside function\n",
      "True\n",
      "True\n",
      "Outside function\n",
      "True\n",
      "True\n"
     ]
    }
   ],
   "source": [
    "list1 = [1, 2]\n",
    "list2 = list1\n",
    "print(list1 is list2)\n",
    "print(list1 == list2)\n",
    "\n",
    "def myfun():\n",
    "    global list1\n",
    "    print(\"Inside function\")\n",
    "    list1.append(3)\n",
    "    print(list1 is list2)\n",
    "    print(list1 == list2)\n",
    "\n",
    "myfun()\n",
    "print(\"Outside function\")\n",
    "print(list1 is list2)\n",
    "print(list1 == list2)"
   ]
  },
  {
   "cell_type": "markdown",
   "metadata": {},
   "source": [
    "## 8. Pass by Value or Reference\n",
    "\n",
    "All parameters (arguments) in the Python are passed by reference, i.e. only reference value of argument is copied to function parameter.\n",
    "\n",
    "It means if you change what a parameter refers to within a function, the change also reflects back in the calling function.\n",
    "\n",
    "**Question:** In following code, does modifying of list0 inside the function affects value of list1 which is defined outside the function?\n",
    "\n",
    "```\n",
    "def extend_list(list0):\n",
    "    list0.extend(list0)\n",
    "    print(\"Inside function: {}\".format(list0))\n",
    "\n",
    "list1 = [1,2,3]\n",
    "extend_list(list1)\n",
    "print(\"Outside function: {}\".format(list1))\n",
    "```"
   ]
  },
  {
   "cell_type": "code",
   "execution_count": 34,
   "metadata": {},
   "outputs": [
    {
     "name": "stdout",
     "output_type": "stream",
     "text": [
      "Inside function: [1, 2, 3, 1, 2, 3]\n",
      "Outside function: [1, 2, 3, 1, 2, 3]\n"
     ]
    }
   ],
   "source": [
    "def extend_list(list0):\n",
    "    list0.extend(list0)\n",
    "    print(\"Inside function: {}\".format(list0))\n",
    "\n",
    "list1 = [1,2,3]\n",
    "extend_list(list1)\n",
    "print(\"Outside function: {}\".format(list1))"
   ]
  },
  {
   "cell_type": "markdown",
   "metadata": {},
   "source": [
    "Actually, `list0` and `list1` are two variables. They point to same object in memory, i.e. the list object.\n",
    "Since they are different variables, either of them can be assigned to another object. In this case, the original object is not modified.\n",
    "\n",
    "**Question:** Does pointing list0 to another object affects list1 value?\n",
    "\n",
    "```\n",
    "def extend_list(list0):\n",
    "    list0 = [7,8,9]\n",
    "    print(\"Inside function: {}\".format(list0))\n",
    "\n",
    "list1 = [1,2,3]\n",
    "extend_list(list1)\n",
    "print(\"Outside function: {}\".format(list1))\n",
    "```"
   ]
  },
  {
   "cell_type": "code",
   "execution_count": 35,
   "metadata": {},
   "outputs": [
    {
     "name": "stdout",
     "output_type": "stream",
     "text": [
      "Inside function: [7, 8, 9]\n",
      "Outside function: [1, 2, 3]\n"
     ]
    }
   ],
   "source": [
    "def extend_list(list0):\n",
    "    list0 = [7,8,9]\n",
    "    print(\"Inside function: {}\".format(list0))\n",
    "\n",
    "list1 = [1,2,3]\n",
    "extend_list(list1)\n",
    "print(\"Outside function: {}\".format(list1))"
   ]
  },
  {
   "cell_type": "code",
   "execution_count": null,
   "metadata": {},
   "outputs": [],
   "source": [
    "a = 1\n",
    "print(id(a))\n",
    "\n",
    "def dup(b):\n",
    "    print(id(b))\n",
    "    b = 2\n",
    "    b = 1\n",
    "    print(id(b))\n",
    "\n",
    "dup(a)"
   ]
  },
  {
   "cell_type": "markdown",
   "metadata": {},
   "source": [
    "## 9. Lambda Function (Anonymous Functions)\n",
    "\n",
    "A lambda function is a small anonymous function, i.e. a simple function with no name.\n",
    "* Instead of declaring them with the standard `def` keyword, it is declared using `lambda` keyword.\n",
    "\n",
    "\n",
    "**Basic Syntax**\n",
    "```\n",
    "lambda arguments : expression\n",
    "```\n",
    "\n",
    "* Value(s) between `lambda` and `:` are input arguments\n",
    "* Expression after `:` is evaluated and returned"
   ]
  },
  {
   "cell_type": "code",
   "execution_count": 36,
   "metadata": {},
   "outputs": [
    {
     "name": "stdout",
     "output_type": "stream",
     "text": [
      "<class 'function'>\n",
      "10\n",
      "<class 'function'>\n",
      "10\n"
     ]
    }
   ],
   "source": [
    "#Normal function\n",
    "def times2x(a):\n",
    "    return a *2\n",
    "\n",
    "print(type(times2x))\n",
    "print(times2x(5))\n",
    "\n",
    "# Lambda function\n",
    "times2 = lambda a : a *2\n",
    "print(type(times2))\n",
    "print(times2(5))"
   ]
  },
  {
   "cell_type": "markdown",
   "metadata": {},
   "source": [
    "**Multiple Arguments**\n",
    "\n",
    "* Lambda Function can take any number of arguments, but can only have one expression."
   ]
  },
  {
   "cell_type": "code",
   "execution_count": null,
   "metadata": {},
   "outputs": [],
   "source": [
    "add_all = lambda a, b, c : a + b + c\n",
    "print(add_all(5, 6, 2))"
   ]
  },
  {
   "cell_type": "markdown",
   "metadata": {},
   "source": [
    "### When to use Lambda?\n",
    "\n",
    "Lambda functions can be used when a nameless function is needed for a short period of time.\n",
    "* Sorting of collection\n",
    "* Mapping of collection\n",
    "* Filtering of collection\n",
    "* Reducing of collection\n",
    "\n",
    "\n",
    "**Example:** How to **sort** a collection of integer (positive and negative) by their absolute values?\n",
    "* The `key` argument accepts a function which is used to determine the sort order, e.g. len()\n",
    "\n",
    "```\n",
    "list1 = [15, 5, -10, 20, -30]\n",
    "```"
   ]
  },
  {
   "cell_type": "code",
   "execution_count": null,
   "metadata": {},
   "outputs": [],
   "source": [
    "list1 = \"Hello World from Singapore\".split(' ')\n",
    "print(list1)\n",
    "sorted(list1, key=len, reverse=True)"
   ]
  },
  {
   "cell_type": "code",
   "execution_count": null,
   "metadata": {},
   "outputs": [],
   "source": [
    "list1 = [15, 5, -10, 20, -30]\n",
    "sorted(list1, key=lambda x: abs(x), reverse=True)"
   ]
  },
  {
   "cell_type": "markdown",
   "metadata": {},
   "source": [
    "### Filter Function\n",
    "\n",
    "The `filter()` method filters the given iterable with the help of a function that tests each element in the iterable to be true or not.\n",
    "* An element will be returned if it is evaluated to be True\n",
    "* Basic syntax\n",
    "\n",
    "```\n",
    "filter(function, iterable)\n",
    "```\n",
    "\n",
    "**Example:** Follwoing code filter for items which contains `'2'`."
   ]
  },
  {
   "cell_type": "code",
   "execution_count": 38,
   "metadata": {},
   "outputs": [
    {
     "name": "stdout",
     "output_type": "stream",
     "text": [
      "['a2', 'b2', 'c2']\n"
     ]
    }
   ],
   "source": [
    "list1 = ['a1', 'a2', 'a3', 'b1', 'b2', 'b3', 'c1', 'c2', 'c3']\n",
    "\n",
    "def contain2(item):\n",
    "    if '2' in item:\n",
    "        return True\n",
    "    else:\n",
    "        return False\n",
    "\n",
    "result = filter(contain2, list1)\n",
    "print(result2)"
   ]
  },
  {
   "cell_type": "markdown",
   "metadata": {},
   "source": [
    "**Challenge:** Can you convert above code using lambda?"
   ]
  },
  {
   "cell_type": "code",
   "execution_count": 39,
   "metadata": {},
   "outputs": [
    {
     "name": "stdout",
     "output_type": "stream",
     "text": [
      "['a2', 'b2', 'c2']\n"
     ]
    }
   ],
   "source": [
    "list1 = ['a1', 'a2', 'a3', 'b1', 'b2', 'b3', 'c1', 'c2', 'c3']\n",
    "result = filter(lambda x: '2' in x, list1)\n",
    "print(list(result))"
   ]
  },
  {
   "cell_type": "markdown",
   "metadata": {},
   "source": [
    "**Question**: Without running following code, what items will be printed out? "
   ]
  },
  {
   "cell_type": "code",
   "execution_count": null,
   "metadata": {},
   "outputs": [],
   "source": [
    "rlist1 = [1, -1, 'a', 0, False, True, '0', '', []]\n",
    "\n",
    "filtered = filter(None, rlist1)\n",
    "print(list(filtered))"
   ]
  },
  {
   "cell_type": "markdown",
   "metadata": {},
   "source": [
    "### Map Function\n",
    "\n",
    "The `map()` function applies a function to each item in th list, and return result as item in new list.\n",
    "* Basic syntax\n",
    "\n",
    "```\n",
    "map(function_to_apply, list_of_inputs)\n",
    "```\n",
    "\n",
    "**Example:** Follwing example applies a maths equation `a + b*x` on list items."
   ]
  },
  {
   "cell_type": "code",
   "execution_count": 40,
   "metadata": {},
   "outputs": [
    {
     "name": "stdout",
     "output_type": "stream",
     "text": [
      "[11, 15, 19, 23]\n"
     ]
    }
   ],
   "source": [
    "list1 = [2, 3, 4, 5]\n",
    "\n",
    "def trans(x):\n",
    "    return 3 + 4*x\n",
    "\n",
    "result = map(trans, list1)\n",
    "print(list(result))"
   ]
  },
  {
   "cell_type": "markdown",
   "metadata": {},
   "source": [
    "**Challenge:** Convert above example using lambda function. "
   ]
  },
  {
   "cell_type": "code",
   "execution_count": 41,
   "metadata": {},
   "outputs": [
    {
     "name": "stdout",
     "output_type": "stream",
     "text": [
      "[11, 15, 19, 23]\n"
     ]
    }
   ],
   "source": [
    "list1 = [2, 3, 4, 5]\n",
    "result = map(lambda x: 3 + 4*x, list1)\n",
    "print(list(result))"
   ]
  },
  {
   "cell_type": "markdown",
   "metadata": {},
   "source": [
    "## Reduce Function\n",
    "\n",
    "The `reduce()` function is a useful function for performing some computation on a list and returning result.\n",
    "* It applies a rolling computation to sequential pairs of values in a list.\n",
    "* It needs to be imported rom `functools` module.\n",
    "* Basic syntax\n",
    "\n",
    "    ```\n",
    "    reduce(func, sequence[, initial])\n",
    "    ```\n",
    "\n",
    "* When the initial value is missing, the function is called with first 2 items in the sequence.\n",
    "* When the initial value is provided, the function is called with the initial value and the first item from the sequence.\n",
    "* The `func` is a funtion which always takes in 2 values. \n",
    "\n",
    "**Example:** Following example multiply all items together. "
   ]
  },
  {
   "cell_type": "code",
   "execution_count": 42,
   "metadata": {},
   "outputs": [
    {
     "name": "stdout",
     "output_type": "stream",
     "text": [
      "120\n"
     ]
    }
   ],
   "source": [
    "result = 1\n",
    "list1 = [1, 2, 3, 4, 5]\n",
    "for num in list1:\n",
    "    result = result * num\n",
    "\n",
    "print(result)"
   ]
  },
  {
   "cell_type": "markdown",
   "metadata": {},
   "source": [
    "Use `reduce()` function instead of `for loop`."
   ]
  },
  {
   "cell_type": "code",
   "execution_count": 44,
   "metadata": {},
   "outputs": [
    {
     "name": "stdout",
     "output_type": "stream",
     "text": [
      "120\n"
     ]
    }
   ],
   "source": [
    "import functools\n",
    "\n",
    "list1 = [1, 2, 3, 4, 5]\n",
    "\n",
    "def multiply(x, y):\n",
    "    return x * y\n",
    "\n",
    "result = functools.reduce(multiply, list1)\n",
    "print(result)"
   ]
  },
  {
   "cell_type": "markdown",
   "metadata": {},
   "source": [
    "**Challenge:** Convert above example using lambda function. "
   ]
  },
  {
   "cell_type": "code",
   "execution_count": 45,
   "metadata": {},
   "outputs": [
    {
     "name": "stdout",
     "output_type": "stream",
     "text": [
      "120\n"
     ]
    }
   ],
   "source": [
    "from functools import reduce\n",
    "list1 = [1, 2, 3, 4, 5]\n",
    "result = reduce((lambda x, y: x * y), list1, 1)\n",
    "print(result)"
   ]
  },
  {
   "cell_type": "markdown",
   "metadata": {},
   "source": [
    "### Power of Lambda Functions\n",
    "\n",
    "The power of lambda is better shown when you use them as an anonymous function inside another function.\n",
    "\n",
    "Imaging you need to create 2 functions, which apply power of 2 and power of 3 on input argument respectively.\n",
    "* You can create 2 separate functions. \n",
    "* But what if you need functions from power 2 to power 10?\n",
    "\n",
    "```\n",
    "def mypower(n):\n",
    "  return lambda a : a ** n\n",
    "\n",
    "power2 = mypower(2)\n",
    "power3 = mypower(3)\n",
    "print(power2(10))\n",
    "print(power3(10))\n",
    "```"
   ]
  },
  {
   "cell_type": "code",
   "execution_count": 46,
   "metadata": {},
   "outputs": [
    {
     "name": "stdout",
     "output_type": "stream",
     "text": [
      "100\n",
      "1000\n"
     ]
    }
   ],
   "source": [
    "def mypower(n):\n",
    "  return lambda a : a ** n\n",
    "\n",
    "power2 = mypower(2)\n",
    "power3 = mypower(3)\n",
    "print(power2(10))\n",
    "print(power3(10))"
   ]
  }
 ],
 "metadata": {
  "kernelspec": {
   "display_name": "Python 3",
   "language": "python",
   "name": "python3"
  },
  "language_info": {
   "codemirror_mode": {
    "name": "ipython",
    "version": 3
   },
   "file_extension": ".py",
   "mimetype": "text/x-python",
   "name": "python",
   "nbconvert_exporter": "python",
   "pygments_lexer": "ipython3",
   "version": "3.7.3"
  },
  "toc": {
   "base_numbering": 1,
   "nav_menu": {},
   "number_sections": true,
   "sideBar": true,
   "skip_h1_title": false,
   "title_cell": "Table of Contents",
   "title_sidebar": "Contents",
   "toc_cell": false,
   "toc_position": {},
   "toc_section_display": true,
   "toc_window_display": true
  }
 },
 "nbformat": 4,
 "nbformat_minor": 4
}
