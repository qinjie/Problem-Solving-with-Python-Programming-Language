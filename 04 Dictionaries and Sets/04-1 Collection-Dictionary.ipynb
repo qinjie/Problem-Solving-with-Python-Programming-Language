{
 "cells": [
  {
   "cell_type": "markdown",
   "metadata": {},
   "source": [
    "# Dictionaries\n",
    "\n",
    "Dictionaries are a common feature of modern languages (often known as maps, associative arrays, or hashmaps) which let you associate pairs of values together.\n",
    "\n",
    "In Python, dictionaries are defined in **dict** data type.\n",
    "* It stores keys and their corresponding values.\n",
    "* Keys must be **unique** and **immutable**.\n",
    "* It is **mutable**, i.e. you can add and remove items from a dictionary.\n",
    "* It is **unordered**, i.e. items in a dictionary are not ordered."
   ]
  },
  {
   "cell_type": "markdown",
   "metadata": {},
   "source": [
    "## 1. How to create a dictionary?\n",
    "\n",
    "Dictionary is created with listed of items surrounded by curly brackets **\"{ }\"**, and seperated by comma **\",\"**.\n",
    "\n",
    "* To create an empty dictionary, simple use **\"{}\"**\n",
    "* Key and value are separated by colon **\":\"**\n",
    "* Key needs to be immutable type, e.g. data type like scalar, string or tuple\n",
    "\n",
    "**Try code:**\n",
    "\n",
    "```\n",
    "# empty dictionary\n",
    "d0 = {}\n",
    "\n",
    "# dictionary with mixed data type\n",
    "d1 = {'name': 'John', 1: [2, 4, 3]}\n",
    "print(d1)\n",
    "```"
   ]
  },
  {
   "cell_type": "code",
   "execution_count": null,
   "metadata": {
    "slideshow": {
     "slide_type": ""
    }
   },
   "outputs": [],
   "source": []
  },
  {
   "cell_type": "markdown",
   "metadata": {},
   "source": [
    "**Question:**\n",
    "\n",
    "Create a disctionary `fruits` which has following keys and values.\n",
    "\n",
    "| key | value    |\n",
    "|-----|----------|\n",
    "| a   | Apple    |\n",
    "| b   | Banana   |\n",
    "| c   | Cherries |\n",
    "| d   | Durian   |"
   ]
  },
  {
   "cell_type": "code",
   "execution_count": null,
   "metadata": {},
   "outputs": [],
   "source": []
  },
  {
   "cell_type": "markdown",
   "metadata": {},
   "source": [
    "### Using Constructor\n",
    "\n",
    "Dictionary can also be created using its contructor function `dict()`.\n",
    "\n",
    "**Question:**\n",
    "\n",
    "Create a dictionary `f2` by copying the `fruits` using constructor function.\n",
    "* Use `==` and `is` to check whether they are different objects but contain same value."
   ]
  },
  {
   "cell_type": "code",
   "execution_count": null,
   "metadata": {},
   "outputs": [],
   "source": []
  },
  {
   "cell_type": "markdown",
   "metadata": {},
   "source": [
    "### Create from List of Tuples\n",
    "\n",
    "New dictionary can be created from a list of tuples too, where each tuple contains a key and a value.\n",
    "\n",
    "**Question:**\n",
    "\n",
    "Construct a dictionary `f3` using list `[('a','Apple'), ('b','Banana'), ('c','Cherries'), ('d','Durian')]`. "
   ]
  },
  {
   "cell_type": "code",
   "execution_count": null,
   "metadata": {},
   "outputs": [],
   "source": []
  },
  {
   "cell_type": "markdown",
   "metadata": {},
   "source": [
    "### Copy a Dictionary\n",
    "\n",
    "We can also create dictionary by **copy()** function.\n",
    "\n",
    "**Try code:**\n",
    "\n",
    "```\n",
    "d3 = fruits.copy()\n",
    "print(d3)\n",
    "```"
   ]
  },
  {
   "cell_type": "code",
   "execution_count": null,
   "metadata": {},
   "outputs": [],
   "source": []
  },
  {
   "cell_type": "markdown",
   "metadata": {},
   "source": [
    "### Shallow Copy\n",
    "\n",
    "Note that such copy will be a **shallow copy**, i.e. it only copies first level of value, i.e. referenced objects will not be duplicated.\n",
    "\n",
    "**Try Code:**\n",
    "\n",
    "The `f1` is a copy of `fruits` with its `a` value changed to a list; `f2` is a copy of `f1` \n",
    "\n",
    "```\n",
    "f1 = fruits.copy()\n",
    "f1['a'] = ['Apple', 'Apricots', 'Avocado']\n",
    "f2 = f1.copy()\n",
    "```"
   ]
  },
  {
   "cell_type": "code",
   "execution_count": null,
   "metadata": {},
   "outputs": [],
   "source": []
  },
  {
   "cell_type": "markdown",
   "metadata": {},
   "source": [
    "**Try Code:**\n",
    "\n",
    "Update `f2[b]` value, does `f1[b]` value change?\n",
    "\n",
    "```\n",
    "f2['b'] = 'Blueberry'\n",
    "\n",
    "print(f1)\n",
    "print(f2)\n",
    "```"
   ]
  },
  {
   "cell_type": "code",
   "execution_count": null,
   "metadata": {},
   "outputs": [],
   "source": []
  },
  {
   "cell_type": "markdown",
   "metadata": {},
   "source": [
    "**Try Code:**\n",
    "\n",
    "Modify `f2[a]` value, does `f1[a]` value change?\n",
    "\n",
    "```\n",
    "f2['a'].pop()\n",
    "\n",
    "print(f1)\n",
    "print(f2)\n",
    "```"
   ]
  },
  {
   "cell_type": "code",
   "execution_count": null,
   "metadata": {},
   "outputs": [],
   "source": []
  },
  {
   "cell_type": "markdown",
   "metadata": {},
   "source": [
    "### How to do deep copy?\n",
    "\n",
    "Recap: How to perform deepcopy for a List object?\n",
    "* Use the `copy.deepcopy()` function in `copy` module."
   ]
  },
  {
   "cell_type": "code",
   "execution_count": null,
   "metadata": {},
   "outputs": [],
   "source": []
  },
  {
   "cell_type": "markdown",
   "metadata": {},
   "source": [
    "Dictionary object has a `deepcopy()` function available. \n",
    "\n",
    "**Try Code:**\n",
    "\n",
    "```\n",
    "d3 = fruits.copy()\n",
    "d3['a'] = ['Apple', 'Apricots', 'Avocado']\n",
    "d4 = d3.deepcopy()\n",
    "d3['a'].pop()\n",
    "print(d4)\n",
    "```"
   ]
  },
  {
   "cell_type": "code",
   "execution_count": null,
   "metadata": {},
   "outputs": [],
   "source": []
  },
  {
   "cell_type": "markdown",
   "metadata": {},
   "source": [
    "## 2. Access Item(s)\n",
    "\n",
    "Items in dictionary can be accessed by their respective keys. \n",
    "* Key can be used either inside square brackets or with the **get()** method.\n",
    "* The difference while using get() is that it returns `None` instead of `KeyError` Exception, if the key is not found.\n",
    "* **get()** method can take in a default value argument, which will be returned if the key is not found."
   ]
  },
  {
   "cell_type": "markdown",
   "metadata": {},
   "source": [
    "**Try Code:**\n",
    "\n",
    "What happens when you try to use a non-existance key?\n",
    "\n",
    "```\n",
    "print(fruits)\n",
    "print(fruits['a'])\n",
    "print(fruits['b'])\n",
    "print(fruits['z'])\n",
    "```"
   ]
  },
  {
   "cell_type": "code",
   "execution_count": null,
   "metadata": {},
   "outputs": [],
   "source": []
  },
  {
   "cell_type": "markdown",
   "metadata": {},
   "source": [
    "### Use `get()`\n",
    "\n",
    "By using `get()` function, you can specify a default value to be returned if key is not found.\n",
    "\n",
    "Check out the documentation of `dict.get()` function."
   ]
  },
  {
   "cell_type": "code",
   "execution_count": null,
   "metadata": {},
   "outputs": [],
   "source": []
  },
  {
   "cell_type": "markdown",
   "metadata": {},
   "source": [
    "Use `dict.get()` function to get item with key = `'z'`."
   ]
  },
  {
   "cell_type": "code",
   "execution_count": null,
   "metadata": {},
   "outputs": [],
   "source": []
  },
  {
   "cell_type": "markdown",
   "metadata": {},
   "source": [
    "### Length\n",
    "\n",
    "To find the length of the list or the number of elements in a list, **len( )** is used.\n",
    "\n",
    "**Question:**\n",
    "* Find the lengh of `fruits` dictionary."
   ]
  },
  {
   "cell_type": "code",
   "execution_count": null,
   "metadata": {},
   "outputs": [],
   "source": [
    "len(fruits)"
   ]
  },
  {
   "cell_type": "markdown",
   "metadata": {},
   "source": [
    "### keys(), values(), items()\n",
    "\n",
    "* **keys()** return a new view of the dictionary's keys.\n",
    "* **values()** return a new view of the dictionary's values.\n",
    "* **items()** return a new view of the dictionary's items (key, value).\n",
    "\n",
    "**Try Code:**\n",
    "\n",
    "```\n",
    "print(fruits.keys())\n",
    "print(fruits.values())\n",
    "print(fruits.items())\n",
    "```"
   ]
  },
  {
   "cell_type": "markdown",
   "metadata": {},
   "source": [
    "## 3. Working with Dictionary"
   ]
  },
  {
   "cell_type": "markdown",
   "metadata": {},
   "source": [
    "Dictionary is mutable. We can add new items or change the value of existing items using assignment operator.\n",
    "\n",
    "* If the key exists in the dictionary, existing value will be updated. \n",
    "* If the key doesn't exists in the dictioinary, new key:value pair is added to dictionary."
   ]
  },
  {
   "cell_type": "markdown",
   "metadata": {},
   "source": [
    "### Update an Item\n",
    "\n",
    "* Create a dictionary `mixed` by copying `fruits` object.\n",
    "* Update its key `a` value to `['Apple', 'Apricots', 'Avocado']`"
   ]
  },
  {
   "cell_type": "code",
   "execution_count": null,
   "metadata": {},
   "outputs": [],
   "source": []
  },
  {
   "cell_type": "markdown",
   "metadata": {},
   "source": [
    "### Add an Item\n",
    "\n",
    "* Add another key-value pair `{'f':'Fig'}` to fruits object"
   ]
  },
  {
   "cell_type": "code",
   "execution_count": null,
   "metadata": {},
   "outputs": [],
   "source": [
    "fruits['f']='Fig'\n",
    "print(fruits)"
   ]
  },
  {
   "cell_type": "markdown",
   "metadata": {},
   "source": [
    "### Merge Dictionaries\n",
    "\n",
    "**update()** method is used to merge items from another dictionary.\n",
    "* Adds element(s) to the dictionary if the key is not in the dictionary.\n",
    "* If the key is in the dictionary, it updates the key with the new value.\n",
    "\n",
    "**Question:**\n",
    "* Create a dictionary `fruits1` by copying `fruits` object\n",
    "* Create another dictionary `fruits2` with items `{'d':'Dates', 'e':'Eldercherry', 'f':'Fig', 'g':'Grape'}`\n",
    "* Add/update items from `fruits2` to `fruits1`"
   ]
  },
  {
   "cell_type": "code",
   "execution_count": null,
   "metadata": {},
   "outputs": [],
   "source": []
  },
  {
   "cell_type": "markdown",
   "metadata": {},
   "source": [
    "### Remove Item(s)\n",
    "\n",
    "#### pop()\n",
    "* It is used to remove an item by key and returns the value.\n",
    "* It throws exception if key is not found.\n",
    "\n",
    "**Try Code:**\n",
    "```\n",
    "mixed = dict(fruits)\n",
    "val = mixed.pop('c')\n",
    "print(val)\n",
    "print(mixed)\n",
    "```"
   ]
  },
  {
   "cell_type": "code",
   "execution_count": null,
   "metadata": {},
   "outputs": [],
   "source": []
  },
  {
   "cell_type": "markdown",
   "metadata": {},
   "source": [
    "**popitem():** removes any arbitrary item.\n",
    "\n",
    "**clear():** clears all items in a dictionary.\n",
    "\n",
    "**Try Code:**\n",
    "```\n",
    "mixed = dict(fruits)\n",
    "print(mixed.popitem())\n",
    "mixed.clear()\n",
    "print(mixed)\n",
    "```"
   ]
  },
  {
   "cell_type": "code",
   "execution_count": null,
   "metadata": {},
   "outputs": [],
   "source": []
  },
  {
   "cell_type": "markdown",
   "metadata": {},
   "source": [
    "## 4. Iterating through Dictionary"
   ]
  },
  {
   "cell_type": "markdown",
   "metadata": {},
   "source": [
    "To iterate through a dictionary, you can use **for** loop.\n",
    "by default, the iteration is done on **keys** of the dictionary."
   ]
  },
  {
   "cell_type": "code",
   "execution_count": null,
   "metadata": {},
   "outputs": [],
   "source": []
  },
  {
   "cell_type": "markdown",
   "metadata": {},
   "source": [
    "**Question:** \n",
    "\n",
    "How to iterate through values instead of keys?"
   ]
  },
  {
   "cell_type": "code",
   "execution_count": null,
   "metadata": {},
   "outputs": [],
   "source": []
  },
  {
   "cell_type": "markdown",
   "metadata": {},
   "source": [
    "**Question:**\n",
    "\n",
    "How to iterate through keys and values at the same time?"
   ]
  },
  {
   "cell_type": "code",
   "execution_count": null,
   "metadata": {},
   "outputs": [],
   "source": []
  },
  {
   "cell_type": "markdown",
   "metadata": {},
   "source": [
    "### Dictionary Comprehension\n",
    "\n",
    "Similiar to list, we can also use dictionary comprehension to easily generate a dictionary.\n",
    "\n",
    "**Try Code:**\n",
    "```\n",
    "s = [x*2 for x in range(10)]\n",
    "print(s)\n",
    "\n",
    "d = {x: x*x for x in range(1,10)}\n",
    "print(d)\n",
    "```"
   ]
  },
  {
   "cell_type": "code",
   "execution_count": null,
   "metadata": {},
   "outputs": [],
   "source": []
  },
  {
   "cell_type": "markdown",
   "metadata": {},
   "source": [
    "## 5. Membership Test\n",
    "\n",
    "We can use **`in`** statement to check membership of a **key** in a dictionary.\n",
    "\n",
    "**Question:**\n",
    "\n",
    "* Check whether key `a` and `z` are in the `fruits` dictionary."
   ]
  },
  {
   "cell_type": "code",
   "execution_count": null,
   "metadata": {},
   "outputs": [],
   "source": []
  },
  {
   "cell_type": "markdown",
   "metadata": {},
   "source": [
    "**Question:**\n",
    "* How to test if a value `Apple` is in a dictionary?\n",
    "* How to test if a key-value pair `{'a':'Apple'}` is in the dictionary?"
   ]
  },
  {
   "cell_type": "code",
   "execution_count": null,
   "metadata": {},
   "outputs": [],
   "source": []
  },
  {
   "cell_type": "markdown",
   "metadata": {},
   "source": [
    "**Question:**\n",
    "\n",
    "How to check if all key-value pairs in one dictionary `d1` are in the dictionary `fruits?\n",
    "* `d1 = {'a':'Apple', 'c':'Cherries'}`"
   ]
  },
  {
   "cell_type": "code",
   "execution_count": null,
   "metadata": {},
   "outputs": [],
   "source": []
  },
  {
   "cell_type": "markdown",
   "metadata": {},
   "source": [
    "**Question:**\n",
    "\n",
    "In a dictionary, how to find key by matching its value?\n",
    "* Option 1: use for-loop\n",
    "* Option 2: use index()"
   ]
  },
  {
   "cell_type": "code",
   "execution_count": null,
   "metadata": {},
   "outputs": [],
   "source": []
  },
  {
   "cell_type": "code",
   "execution_count": null,
   "metadata": {},
   "outputs": [],
   "source": []
  },
  {
   "cell_type": "markdown",
   "metadata": {},
   "source": [
    "## Recap\n",
    "\n",
    "* How to create a dictionary?\n",
    "* How to copy a dictionary?\n",
    "* How to retrieve an item by key? by `[]` & by `get()`\n",
    "* How to update an item?\n",
    "* How to add an item?\n",
    "* How to remove an item?\n",
    "* How to merge an dictionary to another?\n",
    "* What's the differences among `dict.keys()`, `dict.values()` and `dict.items()`"
   ]
  }
 ],
 "metadata": {
  "kernelspec": {
   "display_name": "Python 3",
   "language": "python",
   "name": "python3"
  },
  "language_info": {
   "codemirror_mode": {
    "name": "ipython",
    "version": 3
   },
   "file_extension": ".py",
   "mimetype": "text/x-python",
   "name": "python",
   "nbconvert_exporter": "python",
   "pygments_lexer": "ipython3",
   "version": "3.7.3"
  }
 },
 "nbformat": 4,
 "nbformat_minor": 2
}
